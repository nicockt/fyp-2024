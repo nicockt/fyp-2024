{
 "cells": [
  {
   "cell_type": "code",
   "execution_count": 1,
   "id": "3d9b0ff9",
   "metadata": {},
   "outputs": [],
   "source": [
    "import pandas as pd\n",
    "import numpy as np\n",
    "import matplotlib.pyplot as plt\n",
    "from matplotlib import gridspec\n",
    "from sklearn.model_selection import train_test_split\n",
    "from sklearn.preprocessing import StandardScaler\n",
    "from sklearn.linear_model import LogisticRegression\n",
    "from sklearn.metrics import classification_report, confusion_matrix, accuracy_score\n",
    "from sklearn.model_selection import GridSearchCV, cross_val_score\n",
    "from sklearn.metrics import roc_auc_score, roc_curve\n",
    "from pylab import rcParams\n",
    "from imblearn.over_sampling import SMOTE, ADASYN, RandomOverSampler\n",
    "from imblearn.combine import SMOTETomek\n",
    "from imblearn.under_sampling import RandomUnderSampler\n",
    "import pickle\n",
    "import importlib\n",
    "import sys\n",
    "import warnings\n",
    "if not sys.warnoptions:\n",
    "    warnings.simplefilter(\"ignore\")"
   ]
  },
  {
   "cell_type": "code",
   "execution_count": 2,
   "id": "8e1c1d8e",
   "metadata": {},
   "outputs": [],
   "source": [
    "# Load the labeled index data from csv\n",
    "labeled_index_df = pd.read_csv(\"./data/index/labeled_index.csv\")"
   ]
  },
  {
   "cell_type": "markdown",
   "id": "91f9d679",
   "metadata": {},
   "source": [
    "## Period Adjustment\n",
    "- To predict a crash on day t, the daily price changes from each day prior to t could be used as a feature"
   ]
  },
  {
   "cell_type": "code",
   "execution_count": 3,
   "id": "a68469ea",
   "metadata": {},
   "outputs": [],
   "source": [
    "# TODO\n",
    "month = 3"
   ]
  },
  {
   "cell_type": "markdown",
   "id": "9b6b1c57",
   "metadata": {},
   "source": [
    "## Build the model"
   ]
  },
  {
   "cell_type": "code",
   "execution_count": 4,
   "id": "851b5a90",
   "metadata": {},
   "outputs": [
    {
     "data": {
      "text/html": [
       "<div>\n",
       "<style scoped>\n",
       "    .dataframe tbody tr th:only-of-type {\n",
       "        vertical-align: middle;\n",
       "    }\n",
       "\n",
       "    .dataframe tbody tr th {\n",
       "        vertical-align: top;\n",
       "    }\n",
       "\n",
       "    .dataframe thead th {\n",
       "        text-align: right;\n",
       "    }\n",
       "</style>\n",
       "<table border=\"1\" class=\"dataframe\">\n",
       "  <thead>\n",
       "    <tr style=\"text-align: right;\">\n",
       "      <th></th>\n",
       "      <th>date</th>\n",
       "      <th>price_change</th>\n",
       "      <th>volume</th>\n",
       "      <th>volatility</th>\n",
       "      <th>index</th>\n",
       "      <th>crash_label</th>\n",
       "    </tr>\n",
       "  </thead>\n",
       "  <tbody>\n",
       "    <tr>\n",
       "      <th>0</th>\n",
       "      <td>2006-08-30</td>\n",
       "      <td>0.002526</td>\n",
       "      <td>31400.0</td>\n",
       "      <td>221.891768</td>\n",
       "      <td>000001.SS</td>\n",
       "      <td>0</td>\n",
       "    </tr>\n",
       "    <tr>\n",
       "      <th>1</th>\n",
       "      <td>2006-09-01</td>\n",
       "      <td>-0.013232</td>\n",
       "      <td>36000.0</td>\n",
       "      <td>223.289287</td>\n",
       "      <td>000001.SS</td>\n",
       "      <td>0</td>\n",
       "    </tr>\n",
       "    <tr>\n",
       "      <th>2</th>\n",
       "      <td>2006-09-05</td>\n",
       "      <td>0.016733</td>\n",
       "      <td>40600.0</td>\n",
       "      <td>224.007332</td>\n",
       "      <td>000001.SS</td>\n",
       "      <td>0</td>\n",
       "    </tr>\n",
       "    <tr>\n",
       "      <th>3</th>\n",
       "      <td>2006-09-06</td>\n",
       "      <td>0.004833</td>\n",
       "      <td>33600.0</td>\n",
       "      <td>224.702149</td>\n",
       "      <td>000001.SS</td>\n",
       "      <td>0</td>\n",
       "    </tr>\n",
       "    <tr>\n",
       "      <th>4</th>\n",
       "      <td>2006-09-08</td>\n",
       "      <td>-0.002474</td>\n",
       "      <td>26600.0</td>\n",
       "      <td>225.259732</td>\n",
       "      <td>000001.SS</td>\n",
       "      <td>0</td>\n",
       "    </tr>\n",
       "    <tr>\n",
       "      <th>...</th>\n",
       "      <td>...</td>\n",
       "      <td>...</td>\n",
       "      <td>...</td>\n",
       "      <td>...</td>\n",
       "      <td>...</td>\n",
       "      <td>...</td>\n",
       "    </tr>\n",
       "    <tr>\n",
       "      <th>25235</th>\n",
       "      <td>2023-08-23</td>\n",
       "      <td>0.009007</td>\n",
       "      <td>19656100.0</td>\n",
       "      <td>308.432642</td>\n",
       "      <td>^SSMI</td>\n",
       "      <td>0</td>\n",
       "    </tr>\n",
       "    <tr>\n",
       "      <th>25236</th>\n",
       "      <td>2023-08-24</td>\n",
       "      <td>0.000291</td>\n",
       "      <td>24410000.0</td>\n",
       "      <td>308.016775</td>\n",
       "      <td>^SSMI</td>\n",
       "      <td>0</td>\n",
       "    </tr>\n",
       "    <tr>\n",
       "      <th>25237</th>\n",
       "      <td>2023-08-25</td>\n",
       "      <td>-0.001816</td>\n",
       "      <td>18229100.0</td>\n",
       "      <td>307.616426</td>\n",
       "      <td>^SSMI</td>\n",
       "      <td>0</td>\n",
       "    </tr>\n",
       "    <tr>\n",
       "      <th>25238</th>\n",
       "      <td>2023-08-29</td>\n",
       "      <td>0.013630</td>\n",
       "      <td>20434600.0</td>\n",
       "      <td>306.483150</td>\n",
       "      <td>^SSMI</td>\n",
       "      <td>0</td>\n",
       "    </tr>\n",
       "    <tr>\n",
       "      <th>25239</th>\n",
       "      <td>2023-08-30</td>\n",
       "      <td>-0.001442</td>\n",
       "      <td>21238000.0</td>\n",
       "      <td>305.229344</td>\n",
       "      <td>^SSMI</td>\n",
       "      <td>0</td>\n",
       "    </tr>\n",
       "  </tbody>\n",
       "</table>\n",
       "<p>25240 rows × 6 columns</p>\n",
       "</div>"
      ],
      "text/plain": [
       "             date  price_change      volume  volatility      index  \\\n",
       "0      2006-08-30      0.002526     31400.0  221.891768  000001.SS   \n",
       "1      2006-09-01     -0.013232     36000.0  223.289287  000001.SS   \n",
       "2      2006-09-05      0.016733     40600.0  224.007332  000001.SS   \n",
       "3      2006-09-06      0.004833     33600.0  224.702149  000001.SS   \n",
       "4      2006-09-08     -0.002474     26600.0  225.259732  000001.SS   \n",
       "...           ...           ...         ...         ...        ...   \n",
       "25235  2023-08-23      0.009007  19656100.0  308.432642      ^SSMI   \n",
       "25236  2023-08-24      0.000291  24410000.0  308.016775      ^SSMI   \n",
       "25237  2023-08-25     -0.001816  18229100.0  307.616426      ^SSMI   \n",
       "25238  2023-08-29      0.013630  20434600.0  306.483150      ^SSMI   \n",
       "25239  2023-08-30     -0.001442  21238000.0  305.229344      ^SSMI   \n",
       "\n",
       "       crash_label  \n",
       "0                0  \n",
       "1                0  \n",
       "2                0  \n",
       "3                0  \n",
       "4                0  \n",
       "...            ...  \n",
       "25235            0  \n",
       "25236            0  \n",
       "25237            0  \n",
       "25238            0  \n",
       "25239            0  \n",
       "\n",
       "[25240 rows x 6 columns]"
      ]
     },
     "execution_count": 4,
     "metadata": {},
     "output_type": "execute_result"
    }
   ],
   "source": [
    "labeled_index_df"
   ]
  },
  {
   "cell_type": "code",
   "execution_count": 5,
   "id": "381bd465",
   "metadata": {},
   "outputs": [],
   "source": [
    "labeled_index_df['volume'] = labeled_index_df.loc[:, 'volume'].pct_change(1)\n",
    "labeled_index_df['volatility'] = labeled_index_df.loc[:, 'volatility'].pct_change(1)"
   ]
  },
  {
   "cell_type": "code",
   "execution_count": 6,
   "id": "0f55bd83",
   "metadata": {},
   "outputs": [],
   "source": [
    "# Set up the training and testing sets\n",
    "labeled_index_df = labeled_index_df.iloc[1:]\n",
    "X = labeled_index_df[['price_change', 'volume', 'volatility']]\n",
    "y = labeled_index_df['crash_label']\n",
    "X_train, X_test, y_train, y_test = train_test_split(X, y, test_size=0.2, random_state=0)"
   ]
  },
  {
   "cell_type": "code",
   "execution_count": 7,
   "id": "8241565b",
   "metadata": {},
   "outputs": [],
   "source": [
    "# Resampling\n",
    "#smote = SMOTE(sampling_strategy='auto')\n",
    "# under_sampler = RandomUnderSampler(sampling_strategy='auto')\n",
    "# smote = SMOTETomek(sampling_strategy='auto')\n",
    "\n",
    "# X_train, y_train = smote.fit_resample(X_train, y_train)\n",
    "#X_train, y_train = under_sampler.fit_resample(X_train_res, y_train_res)\n",
    "\n",
    "smote = SMOTE(sampling_strategy='auto')\n",
    "over_sampler = RandomOverSampler(sampling_strategy='minority')\n",
    "X_train, y_train = over_sampler.fit_resample(X_train, y_train)"
   ]
  },
  {
   "cell_type": "code",
   "execution_count": 8,
   "id": "336ca963",
   "metadata": {},
   "outputs": [],
   "source": [
    "# Hyperparameter Tuning\n",
    "param_grid = {'C': [0.1, 1, 10], 'solver': ['liblinear', 'sag', 'saga']}\n",
    "grid_search = GridSearchCV(LogisticRegression(), param_grid, cv=5)\n",
    "grid_search.fit(X_train, y_train)\n",
    "best_params = grid_search.best_params_"
   ]
  },
  {
   "cell_type": "code",
   "execution_count": 9,
   "id": "17b55a84",
   "metadata": {
    "scrolled": true
   },
   "outputs": [
    {
     "data": {
      "text/html": [
       "<style>#sk-container-id-1 {color: black;background-color: white;}#sk-container-id-1 pre{padding: 0;}#sk-container-id-1 div.sk-toggleable {background-color: white;}#sk-container-id-1 label.sk-toggleable__label {cursor: pointer;display: block;width: 100%;margin-bottom: 0;padding: 0.3em;box-sizing: border-box;text-align: center;}#sk-container-id-1 label.sk-toggleable__label-arrow:before {content: \"▸\";float: left;margin-right: 0.25em;color: #696969;}#sk-container-id-1 label.sk-toggleable__label-arrow:hover:before {color: black;}#sk-container-id-1 div.sk-estimator:hover label.sk-toggleable__label-arrow:before {color: black;}#sk-container-id-1 div.sk-toggleable__content {max-height: 0;max-width: 0;overflow: hidden;text-align: left;background-color: #f0f8ff;}#sk-container-id-1 div.sk-toggleable__content pre {margin: 0.2em;color: black;border-radius: 0.25em;background-color: #f0f8ff;}#sk-container-id-1 input.sk-toggleable__control:checked~div.sk-toggleable__content {max-height: 200px;max-width: 100%;overflow: auto;}#sk-container-id-1 input.sk-toggleable__control:checked~label.sk-toggleable__label-arrow:before {content: \"▾\";}#sk-container-id-1 div.sk-estimator input.sk-toggleable__control:checked~label.sk-toggleable__label {background-color: #d4ebff;}#sk-container-id-1 div.sk-label input.sk-toggleable__control:checked~label.sk-toggleable__label {background-color: #d4ebff;}#sk-container-id-1 input.sk-hidden--visually {border: 0;clip: rect(1px 1px 1px 1px);clip: rect(1px, 1px, 1px, 1px);height: 1px;margin: -1px;overflow: hidden;padding: 0;position: absolute;width: 1px;}#sk-container-id-1 div.sk-estimator {font-family: monospace;background-color: #f0f8ff;border: 1px dotted black;border-radius: 0.25em;box-sizing: border-box;margin-bottom: 0.5em;}#sk-container-id-1 div.sk-estimator:hover {background-color: #d4ebff;}#sk-container-id-1 div.sk-parallel-item::after {content: \"\";width: 100%;border-bottom: 1px solid gray;flex-grow: 1;}#sk-container-id-1 div.sk-label:hover label.sk-toggleable__label {background-color: #d4ebff;}#sk-container-id-1 div.sk-serial::before {content: \"\";position: absolute;border-left: 1px solid gray;box-sizing: border-box;top: 0;bottom: 0;left: 50%;z-index: 0;}#sk-container-id-1 div.sk-serial {display: flex;flex-direction: column;align-items: center;background-color: white;padding-right: 0.2em;padding-left: 0.2em;position: relative;}#sk-container-id-1 div.sk-item {position: relative;z-index: 1;}#sk-container-id-1 div.sk-parallel {display: flex;align-items: stretch;justify-content: center;background-color: white;position: relative;}#sk-container-id-1 div.sk-item::before, #sk-container-id-1 div.sk-parallel-item::before {content: \"\";position: absolute;border-left: 1px solid gray;box-sizing: border-box;top: 0;bottom: 0;left: 50%;z-index: -1;}#sk-container-id-1 div.sk-parallel-item {display: flex;flex-direction: column;z-index: 1;position: relative;background-color: white;}#sk-container-id-1 div.sk-parallel-item:first-child::after {align-self: flex-end;width: 50%;}#sk-container-id-1 div.sk-parallel-item:last-child::after {align-self: flex-start;width: 50%;}#sk-container-id-1 div.sk-parallel-item:only-child::after {width: 0;}#sk-container-id-1 div.sk-dashed-wrapped {border: 1px dashed gray;margin: 0 0.4em 0.5em 0.4em;box-sizing: border-box;padding-bottom: 0.4em;background-color: white;}#sk-container-id-1 div.sk-label label {font-family: monospace;font-weight: bold;display: inline-block;line-height: 1.2em;}#sk-container-id-1 div.sk-label-container {text-align: center;}#sk-container-id-1 div.sk-container {/* jupyter's `normalize.less` sets `[hidden] { display: none; }` but bootstrap.min.css set `[hidden] { display: none !important; }` so we also need the `!important` here to be able to override the default hidden behavior on the sphinx rendered scikit-learn.org. See: https://github.com/scikit-learn/scikit-learn/issues/21755 */display: inline-block !important;position: relative;}#sk-container-id-1 div.sk-text-repr-fallback {display: none;}</style><div id=\"sk-container-id-1\" class=\"sk-top-container\"><div class=\"sk-text-repr-fallback\"><pre>LogisticRegression(C=1, solver=&#x27;liblinear&#x27;)</pre><b>In a Jupyter environment, please rerun this cell to show the HTML representation or trust the notebook. <br />On GitHub, the HTML representation is unable to render, please try loading this page with nbviewer.org.</b></div><div class=\"sk-container\" hidden><div class=\"sk-item\"><div class=\"sk-estimator sk-toggleable\"><input class=\"sk-toggleable__control sk-hidden--visually\" id=\"sk-estimator-id-1\" type=\"checkbox\" checked><label for=\"sk-estimator-id-1\" class=\"sk-toggleable__label sk-toggleable__label-arrow\">LogisticRegression</label><div class=\"sk-toggleable__content\"><pre>LogisticRegression(C=1, solver=&#x27;liblinear&#x27;)</pre></div></div></div></div></div>"
      ],
      "text/plain": [
       "LogisticRegression(C=1, solver='liblinear')"
      ]
     },
     "execution_count": 9,
     "metadata": {},
     "output_type": "execute_result"
    }
   ],
   "source": [
    "# Train the model\n",
    "model = LogisticRegression(C=best_params['C'], solver=best_params['solver'])\n",
    "model.fit(X_train, y_train)"
   ]
  },
  {
   "cell_type": "markdown",
   "id": "fc58e341",
   "metadata": {},
   "source": [
    "## Model Evaluation \n",
    "- Precision: number of True Positives / (number of True Positives + number of False Positives)\n",
    "- Recall: number of True Positives / (number of True Positives + number of False Negatives)\n",
    "- F1 score: A weighted average of precision and recall, F1 = 2*((precision*recall)/(precision+recall))"
   ]
  },
  {
   "cell_type": "code",
   "execution_count": 10,
   "id": "127f1639",
   "metadata": {
    "scrolled": true
   },
   "outputs": [
    {
     "name": "stdout",
     "output_type": "stream",
     "text": [
      "Accuracy: 0.893621236133122\n",
      "Confusion Matrix:\n",
      "[[4483  526]\n",
      " [  11   28]]\n",
      "\n",
      "Classification Report:\n",
      "              precision    recall  f1-score   support\n",
      "\n",
      "           0       1.00      0.89      0.94      5009\n",
      "           1       0.05      0.72      0.09        39\n",
      "\n",
      "    accuracy                           0.89      5048\n",
      "   macro avg       0.52      0.81      0.52      5048\n",
      "weighted avg       0.99      0.89      0.94      5048\n",
      "\n"
     ]
    }
   ],
   "source": [
    "# Evaluate the model\n",
    "y_pred = model.predict(X_test)\n",
    "\n",
    "accuracy = accuracy_score(y_test, y_pred)\n",
    "print(f\"Accuracy: {accuracy}\")\n",
    "print(\"Confusion Matrix:\")\n",
    "print(confusion_matrix(y_test, y_pred))\n",
    "print(\"\\nClassification Report:\")\n",
    "print(classification_report(y_test, y_pred))"
   ]
  },
  {
   "cell_type": "markdown",
   "id": "f31108a2",
   "metadata": {},
   "source": [
    "Problem: low recall and f1 score for crash label 1"
   ]
  },
  {
   "cell_type": "markdown",
   "id": "b0aaf12e",
   "metadata": {},
   "source": [
    "## K-fold Validation"
   ]
  },
  {
   "cell_type": "code",
   "execution_count": 11,
   "id": "c5da1a64",
   "metadata": {},
   "outputs": [
    {
     "name": "stdout",
     "output_type": "stream",
     "text": [
      "Cross-validation scores: [0.99167987 0.99128368 0.99167987 0.99167987 0.99167987 0.99128368\n",
      " 0.99128368 0.99128368 0.99128368 0.99167658]\n",
      "Average cross-validation score: 0.99\n"
     ]
    }
   ],
   "source": [
    "# Perform 10-fold cross-validation\n",
    "scores = cross_val_score(model, X, y, cv=10)\n",
    "\n",
    "# Print the cross-validation scores\n",
    "print(\"Cross-validation scores: {}\".format(scores))\n",
    "print(\"Average cross-validation score: {:.2f}\".format(scores.mean()))"
   ]
  },
  {
   "cell_type": "markdown",
   "id": "60595505",
   "metadata": {},
   "source": [
    "## Prediction Result"
   ]
  },
  {
   "cell_type": "code",
   "execution_count": 12,
   "id": "3a2eea70",
   "metadata": {},
   "outputs": [
    {
     "name": "stdout",
     "output_type": "stream",
     "text": [
      "Crash Probability: 0.38931292997094175\n"
     ]
    }
   ],
   "source": [
    "y_prob = model.predict_proba(X_test)\n",
    "crash_prob = y_prob[:, 1]\n",
    "print(f\"Crash Probability: {crash_prob.mean()}\")"
   ]
  },
  {
   "cell_type": "markdown",
   "id": "d4527e87",
   "metadata": {},
   "source": [
    "## AUC-ROC"
   ]
  },
  {
   "cell_type": "code",
   "execution_count": 13,
   "id": "b291e573",
   "metadata": {},
   "outputs": [
    {
     "name": "stdout",
     "output_type": "stream",
     "text": [
      "AUC-ROC Score: 0.8544414924929998\n"
     ]
    },
    {
     "data": {
      "image/png": "[encoded data removed]",
      "text/plain": [
       "<Figure size 432x288 with 1 Axes>"
      ]
     },
     "metadata": {
      "needs_background": "light"
     },
     "output_type": "display_data"
    }
   ],
   "source": [
    "auc_roc = roc_auc_score(y_test, y_prob[:, 1])\n",
    "\n",
    "print(\"AUC-ROC Score:\", auc_roc)\n",
    "\n",
    "fpr, tpr, thresholds = roc_curve(y_test, y_prob[:, -1])\n",
    "plt.plot(fpr, tpr, label='ROC curve (area = %0.2f)' % auc_roc)\n",
    "plt.plot([0, 1], [0, 1], 'k--')  # Diagonal line\n",
    "plt.xlabel('False Positive Rate')\n",
    "plt.ylabel('True Positive Rate')\n",
    "plt.title('Receiver Operating Characteristic (ROC) Curve')\n",
    "plt.legend(loc=\"lower right\")\n",
    "plt.show()"
   ]
  },
  {
   "cell_type": "code",
   "execution_count": null,
   "id": "d9595acd",
   "metadata": {},
   "outputs": [],
   "source": []
  }
 ],
 "metadata": {
  "interpreter": {
   "hash": "31f2aee4e71d21fbe5cf8b01ff0e069b9275f58929596ceb00d14d90e3e16cd6"
  },
  "kernelspec": {
   "display_name": "Python 3.8.2 64-bit",
   "language": "python",
   "name": "python3"
  },
  "language_info": {
   "codemirror_mode": {
    "name": "ipython",
    "version": 3
   },
   "file_extension": ".py",
   "mimetype": "text/x-python",
   "name": "python",
   "nbconvert_exporter": "python",
   "pygments_lexer": "ipython3",
   "version": "3.8.2"
  }
 },
 "nbformat": 4,
 "nbformat_minor": 5
}
