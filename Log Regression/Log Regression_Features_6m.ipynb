{
 "cells": [
  {
   "cell_type": "code",
   "execution_count": 1,
   "id": "f65cc283",
   "metadata": {},
   "outputs": [
    {
     "name": "stdout",
     "output_type": "stream",
     "text": [
      "Requirement already satisfied: imbalanced-learn in /Users/nico/miniforge3/envs/tf/lib/python3.10/site-packages (0.11.0)\n",
      "Requirement already satisfied: threadpoolctl>=2.0.0 in /Users/nico/miniforge3/envs/tf/lib/python3.10/site-packages (from imbalanced-learn) (3.1.0)\n",
      "Requirement already satisfied: numpy>=1.17.3 in /Users/nico/miniforge3/envs/tf/lib/python3.10/site-packages (from imbalanced-learn) (1.23.1)\n",
      "Requirement already satisfied: scikit-learn>=1.0.2 in /Users/nico/miniforge3/envs/tf/lib/python3.10/site-packages (from imbalanced-learn) (1.1.1)\n",
      "Requirement already satisfied: scipy>=1.5.0 in /Users/nico/miniforge3/envs/tf/lib/python3.10/site-packages (from imbalanced-learn) (1.9.0)\n",
      "Requirement already satisfied: joblib>=1.1.1 in /Users/nico/miniforge3/envs/tf/lib/python3.10/site-packages (from imbalanced-learn) (1.3.2)\n",
      "Note: you may need to restart the kernel to use updated packages.\n"
     ]
    }
   ],
   "source": [
    "pip install imbalanced-learn"
   ]
  },
  {
   "cell_type": "code",
   "execution_count": 21,
   "id": "3d9b0ff9",
   "metadata": {},
   "outputs": [],
   "source": [
    "import pandas as pd\n",
    "import numpy as np\n",
    "import matplotlib.pyplot as plt\n",
    "from matplotlib import gridspec\n",
    "from sklearn.model_selection import train_test_split\n",
    "from sklearn.preprocessing import StandardScaler\n",
    "from sklearn.linear_model import LogisticRegression\n",
    "from sklearn.metrics import classification_report, confusion_matrix, accuracy_score\n",
    "from sklearn.model_selection import GridSearchCV, cross_val_score\n",
    "from sklearn.metrics import roc_auc_score, roc_curve\n",
    "from pylab import rcParams\n",
    "from imblearn.over_sampling import SMOTE, ADASYN\n",
    "from sklearn.impute import SimpleImputer\n",
    "from imblearn.combine import SMOTETomek\n",
    "from imblearn.over_sampling import RandomOverSampler\n",
    "from imblearn.under_sampling import RandomUnderSampler\n",
    "import pickle\n",
    "import importlib\n",
    "import sys\n",
    "import warnings\n",
    "if not sys.warnoptions:\n",
    "    warnings.simplefilter(\"ignore\")\n",
    "from sklearn.feature_selection import SelectKBest, chi2\n",
    "from sklearn.preprocessing import MinMaxScaler\n",
    "from imblearn.over_sampling import SMOTE\n",
    "from sklearn.metrics import mean_squared_error"
   ]
  },
  {
   "cell_type": "code",
   "execution_count": 6,
   "id": "8e1c1d8e",
   "metadata": {},
   "outputs": [],
   "source": [
    "# Load the labeled index data from csv\n",
    "labeled_index_df = pd.read_csv(\"../data/merge_file_6m.csv\")"
   ]
  },
  {
   "cell_type": "markdown",
   "id": "9b6b1c57",
   "metadata": {},
   "source": [
    "## Build the model"
   ]
  },
  {
   "cell_type": "code",
   "execution_count": 7,
   "id": "0f55bd83",
   "metadata": {},
   "outputs": [
    {
     "name": "stdout",
     "output_type": "stream",
     "text": [
      "['price_change', 'volume_change', 'volatility', 'Total_Equity_Risk_Premium_US', 'Population_US', 'Unemployment_US', 'Inflation_Rate_US', 'housing_US', 'Long-Term_Government_Bond Yields_US', 'turnover_US', 'Recession_Indicators_US', 'GDP_US', 'Recession_Indicators_UK', 'FX_Rate_UK', 'GDP_UK', 'housing_UK', 'Long-Term_Government_Bond Yields_UK', 'turnover_UK', 'Inflation_Rate_UK', 'Unemployment_UK', 'Total_Equity_Risk_Premium_UK', 'Population_UK', 'Unemployment_HK', 'Total_Equity_Risk_Premium_HK', 'Population_HK', 'Recession_Indicators_HK', 'FX_Rate_HK', 'GDP_HK', 'housing_HK', 'Long-Term_Government_Bond Yields_HK', 'turnover_HK', 'Inflation_Rate_HK', 'FX_Rate_Japan', 'Inflation_Rate_Japan', 'Recession_Indicators_Japan', 'Unemployment_Japan', 'Total_Equity_Risk_Premium_Japan', 'turnover_Japan', 'GDP_Japan', 'housing_Japan', 'Population_Japan', 'Long-Term_Government_Bond Yields_Japan', 'Long-Term_Government_Bond Yields_China', 'Population_China', 'housing_China', 'GDP_China', 'turnover_China', 'Total_Equity_Risk_Premium_China', 'Unemployment_China', 'Recession_Indicators_China', 'Inflation_Rate_China', 'FX_Rate_China', 'Population_Switzerland', 'housing_Switzerland', 'Total_Equity_Risk_Premium_Switzerland', 'Recession_Indicators_Switzerland', 'Long-Term_Government_Bond Yields_Switzerland', 'turnover_Switzerland', 'Unemployment_Switzerland', 'GDP_Switzerland', 'FX_Rate_Switzerland', 'Inflation_Rate_Switzerland', 'Recession_Indicators_India', 'FX_Rate_India', 'Inflation_Rate_India', 'Total_Equity_Risk_Premium_India', 'Unemployment_India', 'turnover_India', 'Long-Term_Government_Bond Yields_India', 'GDP_India', 'Population_India', 'housing_India', 'Inflation_Rate_Germany', 'turnover_Germany', 'GDP_Germany', 'Recession_Indicators_Germany', 'Total_Equity_Risk_Premium_Germany', 'FX_Rate_Germany', 'Population_Germany', 'Long-Term_Government_Bond Yields_Germany', 'Unemployment_Germany', 'housing_Germany', 'Population_France', 'housing_France', 'Long-Term_Government_Bond Yields_France', 'turnover_France', 'Unemployment_France', 'Total_Equity_Risk_Premium_France', 'Recession_Indicators_France', 'FX_Rate_France', 'Inflation_Rate_France', 'GDP_France', 'GDP_Brazil', 'Inflation_Rate_Brazil', 'Recession_Indicators_Brazil', 'FX_Rate_Brazil', 'Unemployment_Brazil', 'Total_Equity_Risk_Premium_Brazil', 'turnover_Brazil', 'Population_Brazil', 'housing_Brazil', 'Crude_Oil_Index_Excess_Return_All', 'Goldprice_Monthly', 'TEDRATE_All', 'Federal_Funds_Effective_Rate_All', '10-Year_Treasury_Constant_Maturity_Rate_All']\n"
     ]
    }
   ],
   "source": [
    "# Set up datasets\n",
    "exclude_col = ['Date_modified','index','price','volume','date','crash_label', 'Date_y', 'Date_x','Date']\n",
    "X = labeled_index_df.drop(exclude_col, axis=1)\n",
    "y = labeled_index_df['crash_label']\n",
    "\n",
    "feature_names = list(X.columns)\n",
    "print(feature_names)\n",
    "# Determine non-numeric attribute names\n",
    "for feature in feature_names:\n",
    "    X[feature] = X[feature].astype('float64')"
   ]
  },
  {
   "cell_type": "code",
   "execution_count": 8,
   "id": "0df865da",
   "metadata": {},
   "outputs": [],
   "source": [
    "# Handle extreme value\n",
    "X[~np.isfinite(X)] = np.finfo(np.float64).max\n",
    "X = np.clip(X, -1e6, 1e6) \n",
    "\n",
    "# Handle NaN\n",
    "imputer = SimpleImputer(strategy='mean')\n",
    "X = imputer.fit_transform(X)"
   ]
  },
  {
   "cell_type": "code",
   "execution_count": 9,
   "id": "c3ec7aab",
   "metadata": {},
   "outputs": [],
   "source": [
    "# Split the training and testing data\n",
    "X_train, X_test, y_train, y_test = train_test_split(X, y, test_size=0.2, random_state=0)"
   ]
  },
  {
   "cell_type": "code",
   "execution_count": 10,
   "id": "b6f9efb0",
   "metadata": {},
   "outputs": [],
   "source": [
    "# Oversample the minority class (1) using SMOTE\n",
    "oversampler = SMOTE(sampling_strategy=0.5, random_state=42)\n",
    "X_train_oversampled, y_train_oversampled = oversampler.fit_resample(X_train, y_train)\n",
    "\n",
    "# Undersample the majority class (0) using RandomUnderSampler\n",
    "undersampler = RandomUnderSampler(sampling_strategy=1.0, random_state=42)\n",
    "X_train_resampled, y_train_resampled = undersampler.fit_resample(X_train_oversampled, y_train_oversampled)"
   ]
  },
  {
   "cell_type": "code",
   "execution_count": 11,
   "id": "336ca963",
   "metadata": {},
   "outputs": [
    {
     "name": "stdout",
     "output_type": "stream",
     "text": [
      "Fitting 5 folds for each of 20 candidates, totalling 100 fits\n",
      "[CV] END ...................C=0.0001, penalty=l1, solver=sag; total time=   1.8s\n",
      "[CV] END ...................C=0.0001, penalty=l1, solver=sag; total time=   0.5s\n",
      "[CV] END ...................C=0.0001, penalty=l1, solver=sag; total time=   0.5s\n",
      "[CV] END ...................C=0.0001, penalty=l1, solver=sag; total time=   1.1s\n",
      "[CV] END ...................C=0.0001, penalty=l1, solver=sag; total time=   1.4s\n",
      "[CV] END ..................C=0.0001, penalty=l1, solver=saga; total time= 6.9min\n",
      "[CV] END ..................C=0.0001, penalty=l1, solver=saga; total time=10.9min\n",
      "[CV] END ..................C=0.0001, penalty=l1, solver=saga; total time= 7.7min\n",
      "[CV] END ..................C=0.0001, penalty=l1, solver=saga; total time= 5.5min\n",
      "[CV] END ..................C=0.0001, penalty=l1, solver=saga; total time= 5.5min\n",
      "[CV] END ...................C=0.0001, penalty=l2, solver=sag; total time=  38.8s\n",
      "[CV] END ...................C=0.0001, penalty=l2, solver=sag; total time=  39.2s\n",
      "[CV] END ...................C=0.0001, penalty=l2, solver=sag; total time=  37.5s\n",
      "[CV] END ...................C=0.0001, penalty=l2, solver=sag; total time=  37.7s\n",
      "[CV] END ...................C=0.0001, penalty=l2, solver=sag; total time=  38.4s\n",
      "[CV] END ..................C=0.0001, penalty=l2, solver=saga; total time= 1.5min\n",
      "[CV] END ..................C=0.0001, penalty=l2, solver=saga; total time= 1.4min\n",
      "[CV] END ..................C=0.0001, penalty=l2, solver=saga; total time= 1.5min\n",
      "[CV] END ..................C=0.0001, penalty=l2, solver=saga; total time= 1.4min\n",
      "[CV] END ..................C=0.0001, penalty=l2, solver=saga; total time= 1.5min\n",
      "[CV] END ....................C=0.001, penalty=l1, solver=sag; total time=   0.9s\n",
      "[CV] END ....................C=0.001, penalty=l1, solver=sag; total time=   0.3s\n",
      "[CV] END ....................C=0.001, penalty=l1, solver=sag; total time=   0.3s\n",
      "[CV] END ....................C=0.001, penalty=l1, solver=sag; total time=   0.3s\n",
      "[CV] END ....................C=0.001, penalty=l1, solver=sag; total time=   0.3s\n",
      "[CV] END ...................C=0.001, penalty=l1, solver=saga; total time= 5.5min\n",
      "[CV] END ...................C=0.001, penalty=l1, solver=saga; total time= 5.5min\n",
      "[CV] END ...................C=0.001, penalty=l1, solver=saga; total time= 5.4min\n",
      "[CV] END ...................C=0.001, penalty=l1, solver=saga; total time= 5.8min\n",
      "[CV] END ...................C=0.001, penalty=l1, solver=saga; total time= 5.7min\n",
      "[CV] END ....................C=0.001, penalty=l2, solver=sag; total time= 4.0min\n",
      "[CV] END ....................C=0.001, penalty=l2, solver=sag; total time= 4.0min\n",
      "[CV] END ....................C=0.001, penalty=l2, solver=sag; total time= 4.0min\n",
      "[CV] END ....................C=0.001, penalty=l2, solver=sag; total time= 4.0min\n",
      "[CV] END ....................C=0.001, penalty=l2, solver=sag; total time= 4.0min\n",
      "[CV] END ...................C=0.001, penalty=l2, solver=saga; total time= 4.5min\n",
      "[CV] END ...................C=0.001, penalty=l2, solver=saga; total time= 4.5min\n",
      "[CV] END ...................C=0.001, penalty=l2, solver=saga; total time= 4.5min\n",
      "[CV] END ...................C=0.001, penalty=l2, solver=saga; total time= 4.5min\n",
      "[CV] END ...................C=0.001, penalty=l2, solver=saga; total time= 4.5min\n",
      "[CV] END .....................C=0.01, penalty=l1, solver=sag; total time=   0.9s\n",
      "[CV] END .....................C=0.01, penalty=l1, solver=sag; total time=   0.3s\n",
      "[CV] END .....................C=0.01, penalty=l1, solver=sag; total time=   0.3s\n",
      "[CV] END .....................C=0.01, penalty=l1, solver=sag; total time=   0.3s\n",
      "[CV] END .....................C=0.01, penalty=l1, solver=sag; total time=   0.3s\n",
      "[CV] END ....................C=0.01, penalty=l1, solver=saga; total time= 6.0min\n",
      "[CV] END ....................C=0.01, penalty=l1, solver=saga; total time= 6.0min\n",
      "[CV] END ....................C=0.01, penalty=l1, solver=saga; total time= 6.0min\n",
      "[CV] END ....................C=0.01, penalty=l1, solver=saga; total time= 5.9min\n",
      "[CV] END ....................C=0.01, penalty=l1, solver=saga; total time= 6.0min\n",
      "[CV] END .....................C=0.01, penalty=l2, solver=sag; total time= 4.6min\n",
      "[CV] END .....................C=0.01, penalty=l2, solver=sag; total time= 4.6min\n",
      "[CV] END .....................C=0.01, penalty=l2, solver=sag; total time= 4.4min\n",
      "[CV] END .....................C=0.01, penalty=l2, solver=sag; total time= 4.2min\n",
      "[CV] END .....................C=0.01, penalty=l2, solver=sag; total time= 4.2min\n",
      "[CV] END ....................C=0.01, penalty=l2, solver=saga; total time= 4.3min\n",
      "[CV] END ....................C=0.01, penalty=l2, solver=saga; total time= 4.3min\n",
      "[CV] END ....................C=0.01, penalty=l2, solver=saga; total time= 4.3min\n",
      "[CV] END ....................C=0.01, penalty=l2, solver=saga; total time= 4.3min\n",
      "[CV] END ....................C=0.01, penalty=l2, solver=saga; total time= 4.3min\n",
      "[CV] END ......................C=0.1, penalty=l1, solver=sag; total time=   0.9s\n",
      "[CV] END ......................C=0.1, penalty=l1, solver=sag; total time=   0.3s\n",
      "[CV] END ......................C=0.1, penalty=l1, solver=sag; total time=   0.3s\n",
      "[CV] END ......................C=0.1, penalty=l1, solver=sag; total time=   0.3s\n",
      "[CV] END ......................C=0.1, penalty=l1, solver=sag; total time=   0.3s\n",
      "[CV] END .....................C=0.1, penalty=l1, solver=saga; total time= 5.7min\n",
      "[CV] END .....................C=0.1, penalty=l1, solver=saga; total time= 5.8min\n",
      "[CV] END .....................C=0.1, penalty=l1, solver=saga; total time= 5.8min\n",
      "[CV] END .....................C=0.1, penalty=l1, solver=saga; total time= 5.8min\n",
      "[CV] END .....................C=0.1, penalty=l1, solver=saga; total time= 5.8min\n",
      "[CV] END ......................C=0.1, penalty=l2, solver=sag; total time= 4.3min\n",
      "[CV] END ......................C=0.1, penalty=l2, solver=sag; total time= 4.2min\n",
      "[CV] END ......................C=0.1, penalty=l2, solver=sag; total time= 4.2min\n",
      "[CV] END ......................C=0.1, penalty=l2, solver=sag; total time= 4.2min\n",
      "[CV] END ......................C=0.1, penalty=l2, solver=sag; total time= 4.2min\n",
      "[CV] END .....................C=0.1, penalty=l2, solver=saga; total time= 4.3min\n",
      "[CV] END .....................C=0.1, penalty=l2, solver=saga; total time= 4.3min\n",
      "[CV] END .....................C=0.1, penalty=l2, solver=saga; total time= 4.3min\n",
      "[CV] END .....................C=0.1, penalty=l2, solver=saga; total time= 4.3min\n",
      "[CV] END .....................C=0.1, penalty=l2, solver=saga; total time= 4.3min\n",
      "[CV] END ........................C=1, penalty=l1, solver=sag; total time=   0.9s\n",
      "[CV] END ........................C=1, penalty=l1, solver=sag; total time=   0.3s\n",
      "[CV] END ........................C=1, penalty=l1, solver=sag; total time=   0.3s\n",
      "[CV] END ........................C=1, penalty=l1, solver=sag; total time=   0.3s\n",
      "[CV] END ........................C=1, penalty=l1, solver=sag; total time=   0.3s\n",
      "[CV] END .......................C=1, penalty=l1, solver=saga; total time= 5.7min\n",
      "[CV] END .......................C=1, penalty=l1, solver=saga; total time= 5.7min\n",
      "[CV] END .......................C=1, penalty=l1, solver=saga; total time= 5.8min\n",
      "[CV] END .......................C=1, penalty=l1, solver=saga; total time= 5.8min\n",
      "[CV] END .......................C=1, penalty=l1, solver=saga; total time= 5.8min\n",
      "[CV] END ........................C=1, penalty=l2, solver=sag; total time= 4.2min\n",
      "[CV] END ........................C=1, penalty=l2, solver=sag; total time= 4.2min\n",
      "[CV] END ........................C=1, penalty=l2, solver=sag; total time= 4.2min\n",
      "[CV] END ........................C=1, penalty=l2, solver=sag; total time= 4.2min\n",
      "[CV] END ........................C=1, penalty=l2, solver=sag; total time= 4.3min\n",
      "[CV] END .......................C=1, penalty=l2, solver=saga; total time= 4.3min\n",
      "[CV] END .......................C=1, penalty=l2, solver=saga; total time= 4.3min\n",
      "[CV] END .......................C=1, penalty=l2, solver=saga; total time= 4.3min\n",
      "[CV] END .......................C=1, penalty=l2, solver=saga; total time= 4.3min\n",
      "[CV] END .......................C=1, penalty=l2, solver=saga; total time= 4.3min\n",
      "Best Score: 0.9580332598281844\n",
      "Grid search completed successfully.\n"
     ]
    }
   ],
   "source": [
    "scaler = StandardScaler()\n",
    "X_train_scaled = scaler.fit_transform(X_train_resampled)\n",
    "\n",
    "param_grid = {\n",
    "    \"penalty\": ['l1','l2'],\n",
    "    'C': [0.0001,0.001,0.01, 0.1, 1],\n",
    "    'solver': ['sag', 'saga']\n",
    "}\n",
    "\n",
    "grid_search = GridSearchCV(LogisticRegression(), param_grid, cv=5,verbose=2)\n",
    "\n",
    "try:\n",
    "    grid_search.fit(X_train_scaled, y_train_resampled)\n",
    "    best_params = grid_search.best_params_\n",
    "    best_score = grid_search.best_score_\n",
    "    print(f\"Best Score: {best_score}\")\n",
    "    print(\"Grid search completed successfully.\")\n",
    "except Exception as e:\n",
    "    print(\"Error occurred during grid search:\")\n",
    "    print(e)"
   ]
  },
  {
   "cell_type": "code",
   "execution_count": 12,
   "id": "dcf2503f",
   "metadata": {
    "scrolled": true
   },
   "outputs": [
    {
     "data": {
      "text/html": [
       "<style>#sk-container-id-1 {color: black;background-color: white;}#sk-container-id-1 pre{padding: 0;}#sk-container-id-1 div.sk-toggleable {background-color: white;}#sk-container-id-1 label.sk-toggleable__label {cursor: pointer;display: block;width: 100%;margin-bottom: 0;padding: 0.3em;box-sizing: border-box;text-align: center;}#sk-container-id-1 label.sk-toggleable__label-arrow:before {content: \"▸\";float: left;margin-right: 0.25em;color: #696969;}#sk-container-id-1 label.sk-toggleable__label-arrow:hover:before {color: black;}#sk-container-id-1 div.sk-estimator:hover label.sk-toggleable__label-arrow:before {color: black;}#sk-container-id-1 div.sk-toggleable__content {max-height: 0;max-width: 0;overflow: hidden;text-align: left;background-color: #f0f8ff;}#sk-container-id-1 div.sk-toggleable__content pre {margin: 0.2em;color: black;border-radius: 0.25em;background-color: #f0f8ff;}#sk-container-id-1 input.sk-toggleable__control:checked~div.sk-toggleable__content {max-height: 200px;max-width: 100%;overflow: auto;}#sk-container-id-1 input.sk-toggleable__control:checked~label.sk-toggleable__label-arrow:before {content: \"▾\";}#sk-container-id-1 div.sk-estimator input.sk-toggleable__control:checked~label.sk-toggleable__label {background-color: #d4ebff;}#sk-container-id-1 div.sk-label input.sk-toggleable__control:checked~label.sk-toggleable__label {background-color: #d4ebff;}#sk-container-id-1 input.sk-hidden--visually {border: 0;clip: rect(1px 1px 1px 1px);clip: rect(1px, 1px, 1px, 1px);height: 1px;margin: -1px;overflow: hidden;padding: 0;position: absolute;width: 1px;}#sk-container-id-1 div.sk-estimator {font-family: monospace;background-color: #f0f8ff;border: 1px dotted black;border-radius: 0.25em;box-sizing: border-box;margin-bottom: 0.5em;}#sk-container-id-1 div.sk-estimator:hover {background-color: #d4ebff;}#sk-container-id-1 div.sk-parallel-item::after {content: \"\";width: 100%;border-bottom: 1px solid gray;flex-grow: 1;}#sk-container-id-1 div.sk-label:hover label.sk-toggleable__label {background-color: #d4ebff;}#sk-container-id-1 div.sk-serial::before {content: \"\";position: absolute;border-left: 1px solid gray;box-sizing: border-box;top: 0;bottom: 0;left: 50%;z-index: 0;}#sk-container-id-1 div.sk-serial {display: flex;flex-direction: column;align-items: center;background-color: white;padding-right: 0.2em;padding-left: 0.2em;position: relative;}#sk-container-id-1 div.sk-item {position: relative;z-index: 1;}#sk-container-id-1 div.sk-parallel {display: flex;align-items: stretch;justify-content: center;background-color: white;position: relative;}#sk-container-id-1 div.sk-item::before, #sk-container-id-1 div.sk-parallel-item::before {content: \"\";position: absolute;border-left: 1px solid gray;box-sizing: border-box;top: 0;bottom: 0;left: 50%;z-index: -1;}#sk-container-id-1 div.sk-parallel-item {display: flex;flex-direction: column;z-index: 1;position: relative;background-color: white;}#sk-container-id-1 div.sk-parallel-item:first-child::after {align-self: flex-end;width: 50%;}#sk-container-id-1 div.sk-parallel-item:last-child::after {align-self: flex-start;width: 50%;}#sk-container-id-1 div.sk-parallel-item:only-child::after {width: 0;}#sk-container-id-1 div.sk-dashed-wrapped {border: 1px dashed gray;margin: 0 0.4em 0.5em 0.4em;box-sizing: border-box;padding-bottom: 0.4em;background-color: white;}#sk-container-id-1 div.sk-label label {font-family: monospace;font-weight: bold;display: inline-block;line-height: 1.2em;}#sk-container-id-1 div.sk-label-container {text-align: center;}#sk-container-id-1 div.sk-container {/* jupyter's `normalize.less` sets `[hidden] { display: none; }` but bootstrap.min.css set `[hidden] { display: none !important; }` so we also need the `!important` here to be able to override the default hidden behavior on the sphinx rendered scikit-learn.org. See: https://github.com/scikit-learn/scikit-learn/issues/21755 */display: inline-block !important;position: relative;}#sk-container-id-1 div.sk-text-repr-fallback {display: none;}</style><div id=\"sk-container-id-1\" class=\"sk-top-container\"><div class=\"sk-text-repr-fallback\"><pre>LogisticRegression(C=1, solver=&#x27;sag&#x27;)</pre><b>In a Jupyter environment, please rerun this cell to show the HTML representation or trust the notebook. <br />On GitHub, the HTML representation is unable to render, please try loading this page with nbviewer.org.</b></div><div class=\"sk-container\" hidden><div class=\"sk-item\"><div class=\"sk-estimator sk-toggleable\"><input class=\"sk-toggleable__control sk-hidden--visually\" id=\"sk-estimator-id-1\" type=\"checkbox\" checked><label for=\"sk-estimator-id-1\" class=\"sk-toggleable__label sk-toggleable__label-arrow\">LogisticRegression</label><div class=\"sk-toggleable__content\"><pre>LogisticRegression(C=1, solver=&#x27;sag&#x27;)</pre></div></div></div></div></div>"
      ],
      "text/plain": [
       "LogisticRegression(C=1, solver='sag')"
      ]
     },
     "execution_count": 12,
     "metadata": {},
     "output_type": "execute_result"
    }
   ],
   "source": [
    "# Train the model\n",
    "model = LogisticRegression(C=best_params['C'], solver=best_params['solver'])\n",
    "model.fit(X_train_scaled, y_train_resampled)"
   ]
  },
  {
   "cell_type": "markdown",
   "id": "18063ac8",
   "metadata": {},
   "source": [
    "## Model Evaluation \n",
    "- Precision: number of True Positives / (number of True Positives + number of False Positives)\n",
    "- Recall: number of True Positives / (number of True Positives + number of False Negatives)\n",
    "- F1 score: A weighted average of precision and recall, F1 = 2*((precision*recall)/(precision+recall))"
   ]
  },
  {
   "cell_type": "code",
   "execution_count": 13,
   "id": "127f1639",
   "metadata": {
    "scrolled": true
   },
   "outputs": [
    {
     "name": "stdout",
     "output_type": "stream",
     "text": [
      "Accuracy: 0.9164651218468673\n",
      "Confusion Matrix:\n",
      "[[818415  31550]\n",
      " [ 43815   8418]]\n",
      "\n",
      "Classification Report:\n",
      "              precision    recall  f1-score   support\n",
      "\n",
      "         0.0       0.95      0.96      0.96    849965\n",
      "         1.0       0.21      0.16      0.18     52233\n",
      "\n",
      "    accuracy                           0.92    902198\n",
      "   macro avg       0.58      0.56      0.57    902198\n",
      "weighted avg       0.91      0.92      0.91    902198\n",
      "\n"
     ]
    }
   ],
   "source": [
    "# Evaluate the model\n",
    "y_pred = model.predict(X_test)\n",
    "\n",
    "accuracy = accuracy_score(y_test, y_pred)\n",
    "print(f\"Accuracy: {accuracy}\")\n",
    "print(\"Confusion Matrix:\")\n",
    "print(confusion_matrix(y_test, y_pred))\n",
    "print(\"\\nClassification Report:\")\n",
    "print(classification_report(y_test, y_pred))"
   ]
  },
  {
   "cell_type": "markdown",
   "id": "f31108a2",
   "metadata": {},
   "source": [
    "Problem: low recall and f1 score for crash label 1"
   ]
  },
  {
   "cell_type": "markdown",
   "id": "d19aadfc",
   "metadata": {},
   "source": [
    "## Feature Importance"
   ]
  },
  {
   "cell_type": "code",
   "execution_count": 36,
   "id": "abb33faf",
   "metadata": {
    "scrolled": true
   },
   "outputs": [
    {
     "name": "stdout",
     "output_type": "stream",
     "text": [
      "Feature: price_change, Importance: -0.44615541664589675\n",
      "Feature: volume_change, Importance: -0.13189862078500958\n",
      "Feature: volatility, Importance: -1.563492917281028\n",
      "Feature: Total_Equity_Risk_Premium_US, Importance: -0.7750825405867154\n",
      "Feature: Population_US, Importance: -3.1340654847533957\n",
      "Feature: Unemployment_US, Importance: 3.3514119579009796\n",
      "Feature: Inflation_Rate_US, Importance: -0.10529343882386702\n",
      "Feature: housing_US, Importance: 0.21116012153222458\n",
      "Feature: Long-Term_Government_Bond Yields_US, Importance: 0.8886338608453518\n",
      "Feature: turnover_US, Importance: 0.05862250306798565\n",
      "Feature: Recession_Indicators_US, Importance: -0.09585287853272953\n",
      "Feature: GDP_US, Importance: 0.3693343949999617\n",
      "Feature: Recession_Indicators_UK, Importance: -0.05172157193096675\n",
      "Feature: FX_Rate_UK, Importance: -0.8929183343520598\n",
      "Feature: GDP_UK, Importance: -2.9909178989226266\n",
      "Feature: housing_UK, Importance: -0.05731503749771467\n",
      "Feature: Long-Term_Government_Bond Yields_UK, Importance: -0.7091283813200102\n",
      "Feature: turnover_UK, Importance: -2.069697415866825\n",
      "Feature: Inflation_Rate_UK, Importance: 0.29498365412218036\n",
      "Feature: Unemployment_UK, Importance: 0.339438322445364\n",
      "Feature: Total_Equity_Risk_Premium_UK, Importance: -4.140634283598487\n",
      "Feature: Population_UK, Importance: -2.578819332489336\n",
      "Feature: Unemployment_HK, Importance: 0.5245350394611462\n",
      "Feature: Total_Equity_Risk_Premium_HK, Importance: 0.13930744215828664\n",
      "Feature: Population_HK, Importance: -0.18419003342237883\n",
      "Feature: Recession_Indicators_HK, Importance: -0.04454968584417954\n",
      "Feature: FX_Rate_HK, Importance: 0.41533492211688744\n",
      "Feature: GDP_HK, Importance: 0.15012426703479675\n",
      "Feature: housing_HK, Importance: -0.043697479328066696\n",
      "Feature: Long-Term_Government_Bond Yields_HK, Importance: 0.20293420489144498\n",
      "Feature: turnover_HK, Importance: 0.08864744404123721\n",
      "Feature: Inflation_Rate_HK, Importance: 0.13985311857006538\n",
      "Feature: FX_Rate_Japan, Importance: 1.0419543464338201\n",
      "Feature: Inflation_Rate_Japan, Importance: 0.36085951023259877\n",
      "Feature: Recession_Indicators_Japan, Importance: 0.4712741762366967\n",
      "Feature: Unemployment_Japan, Importance: -0.8470759379927822\n",
      "Feature: Total_Equity_Risk_Premium_Japan, Importance: 0.3318982481443955\n",
      "Feature: turnover_Japan, Importance: 0.04766920653878902\n",
      "Feature: GDP_Japan, Importance: 0.9443805596176517\n",
      "Feature: housing_Japan, Importance: 0.13234261438897463\n",
      "Feature: Population_Japan, Importance: -0.367925318512021\n",
      "Feature: Long-Term_Government_Bond Yields_Japan, Importance: -1.2003192546268813\n",
      "Feature: Long-Term_Government_Bond Yields_China, Importance: 0.2542069750222248\n",
      "Feature: Population_China, Importance: -2.8634740219389165\n",
      "Feature: housing_China, Importance: -0.05600750861516464\n",
      "Feature: GDP_China, Importance: 1.0138274820066038\n",
      "Feature: turnover_China, Importance: 0.6632474713086338\n",
      "Feature: Total_Equity_Risk_Premium_China, Importance: 0.3619352320951855\n",
      "Feature: Unemployment_China, Importance: 0.7798428033678595\n",
      "Feature: Recession_Indicators_China, Importance: -0.23225193238198813\n",
      "Feature: Inflation_Rate_China, Importance: -0.1576614507061955\n",
      "Feature: FX_Rate_China, Importance: -0.5372867223981275\n",
      "Feature: Population_Switzerland, Importance: -0.23795512487376383\n",
      "Feature: housing_Switzerland, Importance: -0.004642613062012188\n",
      "Feature: Total_Equity_Risk_Premium_Switzerland, Importance: -0.2842289009064425\n",
      "Feature: Recession_Indicators_Switzerland, Importance: 0.17220323640990592\n",
      "Feature: Long-Term_Government_Bond Yields_Switzerland, Importance: -0.6100875376632573\n",
      "Feature: turnover_Switzerland, Importance: 0.014269038084283953\n",
      "Feature: Unemployment_Switzerland, Importance: 0.054257128881681424\n",
      "Feature: GDP_Switzerland, Importance: 0.3457591993137638\n",
      "Feature: FX_Rate_Switzerland, Importance: -0.2983940290603002\n",
      "Feature: Inflation_Rate_Switzerland, Importance: -0.29704954241936704\n",
      "Feature: Recession_Indicators_India, Importance: 1.2907378450056912\n",
      "Feature: FX_Rate_India, Importance: 0.1190042350182459\n",
      "Feature: Inflation_Rate_India, Importance: -0.9328463521070874\n",
      "Feature: Total_Equity_Risk_Premium_India, Importance: -2.8308542955327503\n",
      "Feature: Unemployment_India, Importance: 0.9245433285860402\n",
      "Feature: turnover_India, Importance: -0.22113519173066293\n",
      "Feature: Long-Term_Government_Bond Yields_India, Importance: -0.4152594209660676\n",
      "Feature: GDP_India, Importance: -1.3390867583168105\n",
      "Feature: Population_India, Importance: -0.6343721373166085\n",
      "Feature: housing_India, Importance: -1.7075672080229387\n",
      "Feature: Inflation_Rate_Germany, Importance: 0.157779979199488\n",
      "Feature: turnover_Germany, Importance: 0.004482337622857123\n",
      "Feature: GDP_Germany, Importance: -0.5456072153076809\n",
      "Feature: Recession_Indicators_Germany, Importance: -0.3520702369633089\n",
      "Feature: Total_Equity_Risk_Premium_Germany, Importance: -0.23327080583870594\n",
      "Feature: FX_Rate_Germany, Importance: -0.6658509257210111\n",
      "Feature: Population_Germany, Importance: -0.4076608536029819\n",
      "Feature: Long-Term_Government_Bond Yields_Germany, Importance: -1.286110204021782\n",
      "Feature: Unemployment_Germany, Importance: -0.1662804631006667\n",
      "Feature: housing_Germany, Importance: -0.1998019012139735\n",
      "Feature: Population_France, Importance: -0.1912085967629541\n",
      "Feature: housing_France, Importance: -0.09625905596012821\n",
      "Feature: Long-Term_Government_Bond Yields_France, Importance: 0.18254315506240004\n",
      "Feature: turnover_France, Importance: -0.34599975494676116\n",
      "Feature: Unemployment_France, Importance: 0.23869941073997564\n",
      "Feature: Total_Equity_Risk_Premium_France, Importance: -1.2329661799743659\n",
      "Feature: Recession_Indicators_France, Importance: 0.05871498932379\n",
      "Feature: FX_Rate_France, Importance: -0.10435197316989776\n",
      "Feature: Inflation_Rate_France, Importance: -0.04113630812313545\n",
      "Feature: GDP_France, Importance: 0.02235757263992174\n",
      "Feature: GDP_Brazil, Importance: 0.1959506866377008\n",
      "Feature: Inflation_Rate_Brazil, Importance: -0.5698110025211599\n",
      "Feature: Recession_Indicators_Brazil, Importance: -0.13833446055562157\n",
      "Feature: FX_Rate_Brazil, Importance: 0.5900716920923191\n",
      "Feature: Unemployment_Brazil, Importance: -0.6956988354845292\n",
      "Feature: Total_Equity_Risk_Premium_Brazil, Importance: 0.4981107206793328\n",
      "Feature: turnover_Brazil, Importance: 1.2554537567811892\n",
      "Feature: Population_Brazil, Importance: 0.14298999494642792\n",
      "Feature: housing_Brazil, Importance: -2.221465894927226\n",
      "Feature: Crude_Oil_Index_Excess_Return_All, Importance: -0.06910109786919869\n",
      "Feature: Goldprice_Monthly, Importance: 0.8374851588149369\n",
      "Feature: TEDRATE_All, Importance: 0.5617783312288561\n",
      "Feature: Federal_Funds_Effective_Rate_All, Importance: 0.5200980058321947\n",
      "Feature: 10-Year_Treasury_Constant_Maturity_Rate_All, Importance: -1.512696888798987\n"
     ]
    },
    {
     "data": {
      "image/png": "[encoded data removed]",
      "text/plain": [
       "<Figure size 576x432 with 1 Axes>"
      ]
     },
     "metadata": {
      "needs_background": "light"
     },
     "output_type": "display_data"
    }
   ],
   "source": [
    "feature_importance = model.coef_[0]\n",
    "feature_dict = {}\n",
    "for name, importance in zip(feature_names, feature_importance):\n",
    "    print(f\"Feature: {name}, Importance: {importance}\")\n",
    "    feature_dict[name] = importance\n",
    "\n",
    "plt.figure(figsize=(8, 6))\n",
    "plt.bar(feature_names, feature_importance)\n",
    "plt.title('Feature Importances in Logistic Regression Model')\n",
    "plt.xlabel('Features')\n",
    "plt.ylabel('Importance')\n",
    "plt.show()"
   ]
  },
  {
   "cell_type": "code",
   "execution_count": 37,
   "id": "e3a8477e",
   "metadata": {},
   "outputs": [
    {
     "data": {
      "text/plain": [
       "[('Unemployment_US', 3.3514119579009796),\n",
       " ('Recession_Indicators_India', 1.2907378450056912),\n",
       " ('turnover_Brazil', 1.2554537567811892),\n",
       " ('FX_Rate_Japan', 1.0419543464338201),\n",
       " ('GDP_China', 1.0138274820066038),\n",
       " ('GDP_Japan', 0.9443805596176517),\n",
       " ('Unemployment_India', 0.9245433285860402),\n",
       " ('Long-Term_Government_Bond Yields_US', 0.8886338608453518),\n",
       " ('Goldprice_Monthly', 0.8374851588149369),\n",
       " ('Unemployment_China', 0.7798428033678595),\n",
       " ('turnover_China', 0.6632474713086338),\n",
       " ('FX_Rate_Brazil', 0.5900716920923191),\n",
       " ('TEDRATE_All', 0.5617783312288561),\n",
       " ('Unemployment_HK', 0.5245350394611462),\n",
       " ('Federal_Funds_Effective_Rate_All', 0.5200980058321947),\n",
       " ('Total_Equity_Risk_Premium_Brazil', 0.4981107206793328),\n",
       " ('Recession_Indicators_Japan', 0.4712741762366967),\n",
       " ('FX_Rate_HK', 0.41533492211688744),\n",
       " ('GDP_US', 0.3693343949999617),\n",
       " ('Total_Equity_Risk_Premium_China', 0.3619352320951855),\n",
       " ('Inflation_Rate_Japan', 0.36085951023259877),\n",
       " ('GDP_Switzerland', 0.3457591993137638),\n",
       " ('Unemployment_UK', 0.339438322445364),\n",
       " ('Total_Equity_Risk_Premium_Japan', 0.3318982481443955),\n",
       " ('Inflation_Rate_UK', 0.29498365412218036),\n",
       " ('Long-Term_Government_Bond Yields_China', 0.2542069750222248),\n",
       " ('Unemployment_France', 0.23869941073997564),\n",
       " ('housing_US', 0.21116012153222458),\n",
       " ('Long-Term_Government_Bond Yields_HK', 0.20293420489144498),\n",
       " ('GDP_Brazil', 0.1959506866377008),\n",
       " ('Long-Term_Government_Bond Yields_France', 0.18254315506240004),\n",
       " ('Recession_Indicators_Switzerland', 0.17220323640990592),\n",
       " ('Inflation_Rate_Germany', 0.157779979199488),\n",
       " ('GDP_HK', 0.15012426703479675),\n",
       " ('Population_Brazil', 0.14298999494642792),\n",
       " ('Inflation_Rate_HK', 0.13985311857006538),\n",
       " ('Total_Equity_Risk_Premium_HK', 0.13930744215828664),\n",
       " ('housing_Japan', 0.13234261438897463),\n",
       " ('FX_Rate_India', 0.1190042350182459),\n",
       " ('turnover_HK', 0.08864744404123721),\n",
       " ('Recession_Indicators_France', 0.05871498932379),\n",
       " ('turnover_US', 0.05862250306798565),\n",
       " ('Unemployment_Switzerland', 0.054257128881681424),\n",
       " ('turnover_Japan', 0.04766920653878902),\n",
       " ('GDP_France', 0.02235757263992174),\n",
       " ('turnover_Switzerland', 0.014269038084283953),\n",
       " ('turnover_Germany', 0.004482337622857123),\n",
       " ('housing_Switzerland', -0.004642613062012188),\n",
       " ('Inflation_Rate_France', -0.04113630812313545),\n",
       " ('housing_HK', -0.043697479328066696),\n",
       " ('Recession_Indicators_HK', -0.04454968584417954),\n",
       " ('Recession_Indicators_UK', -0.05172157193096675),\n",
       " ('housing_China', -0.05600750861516464),\n",
       " ('housing_UK', -0.05731503749771467),\n",
       " ('Crude_Oil_Index_Excess_Return_All', -0.06910109786919869),\n",
       " ('Recession_Indicators_US', -0.09585287853272953),\n",
       " ('housing_France', -0.09625905596012821),\n",
       " ('FX_Rate_France', -0.10435197316989776),\n",
       " ('Inflation_Rate_US', -0.10529343882386702),\n",
       " ('volume_change', -0.13189862078500958),\n",
       " ('Recession_Indicators_Brazil', -0.13833446055562157),\n",
       " ('Inflation_Rate_China', -0.1576614507061955),\n",
       " ('Unemployment_Germany', -0.1662804631006667),\n",
       " ('Population_HK', -0.18419003342237883),\n",
       " ('Population_France', -0.1912085967629541),\n",
       " ('housing_Germany', -0.1998019012139735),\n",
       " ('turnover_India', -0.22113519173066293),\n",
       " ('Recession_Indicators_China', -0.23225193238198813),\n",
       " ('Total_Equity_Risk_Premium_Germany', -0.23327080583870594),\n",
       " ('Population_Switzerland', -0.23795512487376383),\n",
       " ('Total_Equity_Risk_Premium_Switzerland', -0.2842289009064425),\n",
       " ('Inflation_Rate_Switzerland', -0.29704954241936704),\n",
       " ('FX_Rate_Switzerland', -0.2983940290603002),\n",
       " ('turnover_France', -0.34599975494676116),\n",
       " ('Recession_Indicators_Germany', -0.3520702369633089),\n",
       " ('Population_Japan', -0.367925318512021),\n",
       " ('Population_Germany', -0.4076608536029819),\n",
       " ('Long-Term_Government_Bond Yields_India', -0.4152594209660676),\n",
       " ('price_change', -0.44615541664589675),\n",
       " ('FX_Rate_China', -0.5372867223981275),\n",
       " ('GDP_Germany', -0.5456072153076809),\n",
       " ('Inflation_Rate_Brazil', -0.5698110025211599),\n",
       " ('Long-Term_Government_Bond Yields_Switzerland', -0.6100875376632573),\n",
       " ('Population_India', -0.6343721373166085),\n",
       " ('FX_Rate_Germany', -0.6658509257210111),\n",
       " ('Unemployment_Brazil', -0.6956988354845292),\n",
       " ('Long-Term_Government_Bond Yields_UK', -0.7091283813200102),\n",
       " ('Total_Equity_Risk_Premium_US', -0.7750825405867154),\n",
       " ('Unemployment_Japan', -0.8470759379927822),\n",
       " ('FX_Rate_UK', -0.8929183343520598),\n",
       " ('Inflation_Rate_India', -0.9328463521070874),\n",
       " ('Long-Term_Government_Bond Yields_Japan', -1.2003192546268813),\n",
       " ('Total_Equity_Risk_Premium_France', -1.2329661799743659),\n",
       " ('Long-Term_Government_Bond Yields_Germany', -1.286110204021782),\n",
       " ('GDP_India', -1.3390867583168105),\n",
       " ('10-Year_Treasury_Constant_Maturity_Rate_All', -1.512696888798987),\n",
       " ('volatility', -1.563492917281028),\n",
       " ('housing_India', -1.7075672080229387),\n",
       " ('turnover_UK', -2.069697415866825),\n",
       " ('housing_Brazil', -2.221465894927226),\n",
       " ('Population_UK', -2.578819332489336),\n",
       " ('Total_Equity_Risk_Premium_India', -2.8308542955327503),\n",
       " ('Population_China', -2.8634740219389165),\n",
       " ('GDP_UK', -2.9909178989226266),\n",
       " ('Population_US', -3.1340654847533957),\n",
       " ('Total_Equity_Risk_Premium_UK', -4.140634283598487)]"
      ]
     },
     "execution_count": 37,
     "metadata": {},
     "output_type": "execute_result"
    }
   ],
   "source": [
    "# Sort by feature importance\n",
    "feature_dict = sorted(feature_dict.items(), key=lambda x:x[1], reverse=True)\n",
    "feature_dict"
   ]
  },
  {
   "cell_type": "markdown",
   "id": "b0aaf12e",
   "metadata": {},
   "source": [
    "## K-fold Validation"
   ]
  },
  {
   "cell_type": "code",
   "execution_count": 15,
   "id": "c5da1a64",
   "metadata": {},
   "outputs": [
    {
     "name": "stdout",
     "output_type": "stream",
     "text": [
      "Cross-validation scores: [0.93011734 0.93894245 0.93894245 0.94174228 0.76344882 0.86494317\n",
      " 0.94176666 0.92061166 0.93953877 0.94122785]\n",
      "Average cross-validation score: 0.91\n"
     ]
    }
   ],
   "source": [
    "# Perform 10-fold cross-validation\n",
    "scores = cross_val_score(model, X, y, cv=10)\n",
    "\n",
    "# Print the cross-validation scores\n",
    "print(\"Cross-validation scores: {}\".format(scores))\n",
    "print(\"Average cross-validation score: {:.2f}\".format(scores.mean()))"
   ]
  },
  {
   "cell_type": "markdown",
   "id": "60595505",
   "metadata": {},
   "source": [
    "## Prediction Result"
   ]
  },
  {
   "cell_type": "code",
   "execution_count": 16,
   "id": "3a2eea70",
   "metadata": {},
   "outputs": [
    {
     "name": "stdout",
     "output_type": "stream",
     "text": [
      "Crash Probability: 0.043664367188168185\n"
     ]
    }
   ],
   "source": [
    "y_prob = model.predict_proba(X_test)\n",
    "crash_prob = y_prob[:, 1]\n",
    "print(f\"Crash Probability: {crash_prob.mean()}\")"
   ]
  },
  {
   "cell_type": "markdown",
   "id": "122734b4",
   "metadata": {},
   "source": [
    "## AUC-ROC"
   ]
  },
  {
   "cell_type": "code",
   "execution_count": 17,
   "id": "402603a7",
   "metadata": {
    "scrolled": true
   },
   "outputs": [
    {
     "name": "stdout",
     "output_type": "stream",
     "text": [
      "AUC-ROC Score: 0.44531785497478293\n"
     ]
    },
    {
     "data": {
      "image/png": "[encoded data removed]",
      "text/plain": [
       "<Figure size 432x288 with 1 Axes>"
      ]
     },
     "metadata": {
      "needs_background": "light"
     },
     "output_type": "display_data"
    }
   ],
   "source": [
    "auc_roc = roc_auc_score(y_test, y_prob[:, 1])\n",
    "\n",
    "print(\"AUC-ROC Score:\", auc_roc)\n",
    "\n",
    "fpr, tpr, thresholds = roc_curve(y_test, y_prob[:, -1])\n",
    "plt.plot(fpr, tpr, label='ROC curve (area = %0.2f)' % auc_roc)\n",
    "plt.plot([0, 1], [0, 1], 'k--')  # Diagonal line\n",
    "plt.xlabel('False Positive Rate')\n",
    "plt.ylabel('True Positive Rate')\n",
    "plt.title('Receiver Operating Characteristic (ROC) Curve')\n",
    "plt.legend(loc=\"lower right\")\n",
    "plt.show()"
   ]
  },
  {
   "cell_type": "code",
   "execution_count": 22,
   "id": "75f20196",
   "metadata": {},
   "outputs": [
    {
     "name": "stdout",
     "output_type": "stream",
     "text": [
      "prediction model:\n",
      "Accuracy: 0.9164651218468673\n",
      "RMSE: 0.28902400964821706\n",
      "MAPE: inf%\n"
     ]
    }
   ],
   "source": [
    "print(\"prediction model:\")\n",
    "y_pred = model.predict(X_test)\n",
    "\n",
    "accuracy = accuracy_score(y_test, y_pred)\n",
    "rmse = np.sqrt(mean_squared_error(y_test, y_pred))\n",
    "mape = np.mean(np.abs((y_test - y_pred) / y_test)) * 100\n",
    "\n",
    "print(f\"Accuracy: {accuracy}\")\n",
    "print(f\"RMSE: {rmse}\")\n",
    "print(f'MAPE: {mape}%') "
   ]
  },
  {
   "cell_type": "code",
   "execution_count": null,
   "id": "da8b5bed",
   "metadata": {},
   "outputs": [],
   "source": []
  }
 ],
 "metadata": {
  "kernelspec": {
   "display_name": "Python 3 (ipykernel)",
   "language": "python",
   "name": "python3"
  },
  "language_info": {
   "codemirror_mode": {
    "name": "ipython",
    "version": 3
   },
   "file_extension": ".py",
   "mimetype": "text/x-python",
   "name": "python",
   "nbconvert_exporter": "python",
   "pygments_lexer": "ipython3",
   "version": "3.10.5"
  }
 },
 "nbformat": 4,
 "nbformat_minor": 5
}
