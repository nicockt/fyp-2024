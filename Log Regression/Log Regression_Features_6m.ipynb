{
 "cells": [
  {
   "cell_type": "code",
   "execution_count": 1,
   "id": "f65cc283",
   "metadata": {},
   "outputs": [
    {
     "name": "stdout",
     "output_type": "stream",
     "text": [
      "Requirement already satisfied: imbalanced-learn in /Users/elroylo/anaconda3/lib/python3.11/site-packages (0.11.0)\n",
      "Requirement already satisfied: numpy>=1.17.3 in /Users/elroylo/anaconda3/lib/python3.11/site-packages (from imbalanced-learn) (1.24.3)\n",
      "Requirement already satisfied: scipy>=1.5.0 in /Users/elroylo/anaconda3/lib/python3.11/site-packages (from imbalanced-learn) (1.10.1)\n",
      "Requirement already satisfied: scikit-learn>=1.0.2 in /Users/elroylo/anaconda3/lib/python3.11/site-packages (from imbalanced-learn) (1.3.2)\n",
      "Requirement already satisfied: joblib>=1.1.1 in /Users/elroylo/anaconda3/lib/python3.11/site-packages (from imbalanced-learn) (1.2.0)\n",
      "Requirement already satisfied: threadpoolctl>=2.0.0 in /Users/elroylo/anaconda3/lib/python3.11/site-packages (from imbalanced-learn) (2.2.0)\n",
      "Note: you may need to restart the kernel to use updated packages.\n"
     ]
    }
   ],
   "source": [
    "pip install imbalanced-learn"
   ]
  },
  {
   "cell_type": "code",
   "execution_count": 2,
   "id": "3d9b0ff9",
   "metadata": {},
   "outputs": [],
   "source": [
    "import pandas as pd\n",
    "import numpy as np\n",
    "import matplotlib.pyplot as plt\n",
    "from matplotlib import gridspec\n",
    "from sklearn.model_selection import train_test_split\n",
    "from sklearn.preprocessing import StandardScaler\n",
    "from sklearn.linear_model import LogisticRegression\n",
    "from sklearn.metrics import classification_report, confusion_matrix, accuracy_score\n",
    "from sklearn.model_selection import GridSearchCV, cross_val_score\n",
    "from sklearn.metrics import roc_auc_score, roc_curve\n",
    "from pylab import rcParams\n",
    "from imblearn.over_sampling import SMOTE, ADASYN\n",
    "from sklearn.impute import SimpleImputer\n",
    "from imblearn.combine import SMOTETomek\n",
    "from imblearn.over_sampling import RandomOverSampler\n",
    "from imblearn.under_sampling import RandomUnderSampler\n",
    "import pickle\n",
    "import importlib\n",
    "import sys\n",
    "import warnings\n",
    "if not sys.warnoptions:\n",
    "    warnings.simplefilter(\"ignore\")\n",
    "from sklearn.feature_selection import SelectKBest, chi2\n",
    "from sklearn.preprocessing import MinMaxScaler\n",
    "from imblearn.over_sampling import SMOTE"
   ]
  },
  {
   "cell_type": "code",
   "execution_count": 3,
   "id": "8e1c1d8e",
   "metadata": {},
   "outputs": [],
   "source": [
    "# Load the labeled index data from csv\n",
    "labeled_index_df = pd.read_csv(\"/Users/elroylo/Documents/GitHub/fyp-2024/data/merge_file_6m.csv\")"
   ]
  },
  {
   "cell_type": "markdown",
   "id": "9b6b1c57",
   "metadata": {},
   "source": [
    "## Build the model"
   ]
  },
  {
   "cell_type": "code",
   "execution_count": 4,
   "id": "0f55bd83",
   "metadata": {},
   "outputs": [
    {
     "name": "stdout",
     "output_type": "stream",
     "text": [
      "['price_change', 'volume_change', 'volatility', 'Total_Equity_Risk_Premium_US', 'Population_US', 'Unemployment_US', 'Inflation_Rate_US', 'housing_US', 'Long-Term_Government_Bond Yields_US', 'turnover_US', 'Recession_Indicators_US', 'GDP_US', 'Recession_Indicators_UK', 'FX_Rate_UK', 'GDP_UK', 'housing_UK', 'Long-Term_Government_Bond Yields_UK', 'turnover_UK', 'Inflation_Rate_UK', 'Unemployment_UK', 'Total_Equity_Risk_Premium_UK', 'Population_UK', 'Unemployment_HK', 'Total_Equity_Risk_Premium_HK', 'Population_HK', 'Recession_Indicators_HK', 'FX_Rate_HK', 'GDP_HK', 'housing_HK', 'Long-Term_Government_Bond Yields_HK', 'turnover_HK', 'Inflation_Rate_HK', 'FX_Rate_Japan', 'Inflation_Rate_Japan', 'Recession_Indicators_Japan', 'Unemployment_Japan', 'Total_Equity_Risk_Premium_Japan', 'turnover_Japan', 'GDP_Japan', 'housing_Japan', 'Population_Japan', 'Long-Term_Government_Bond Yields_Japan', 'Long-Term_Government_Bond Yields_China', 'Population_China', 'housing_China', 'GDP_China', 'turnover_China', 'Total_Equity_Risk_Premium_China', 'Unemployment_China', 'Recession_Indicators_China', 'Inflation_Rate_China', 'FX_Rate_China', 'Population_Switzerland', 'housing_Switzerland', 'Total_Equity_Risk_Premium_Switzerland', 'Recession_Indicators_Switzerland', 'Long-Term_Government_Bond Yields_Switzerland', 'turnover_Switzerland', 'Unemployment_Switzerland', 'GDP_Switzerland', 'FX_Rate_Switzerland', 'Inflation_Rate_Switzerland', 'Recession_Indicators_India', 'FX_Rate_India', 'Inflation_Rate_India', 'Total_Equity_Risk_Premium_India', 'Unemployment_India', 'turnover_India', 'Long-Term_Government_Bond Yields_India', 'GDP_India', 'Population_India', 'housing_India', 'Inflation_Rate_Germany', 'turnover_Germany', 'GDP_Germany', 'Recession_Indicators_Germany', 'Total_Equity_Risk_Premium_Germany', 'FX_Rate_Germany', 'Population_Germany', 'Long-Term_Government_Bond Yields_Germany', 'Unemployment_Germany', 'housing_Germany', 'Population_France', 'housing_France', 'Long-Term_Government_Bond Yields_France', 'turnover_France', 'Unemployment_France', 'Total_Equity_Risk_Premium_France', 'Recession_Indicators_France', 'FX_Rate_France', 'Inflation_Rate_France', 'GDP_France', 'GDP_Brazil', 'Inflation_Rate_Brazil', 'Recession_Indicators_Brazil', 'FX_Rate_Brazil', 'Unemployment_Brazil', 'Total_Equity_Risk_Premium_Brazil', 'turnover_Brazil', 'Population_Brazil', 'housing_Brazil', 'Crude_Oil_Index_Excess_Return_All', 'Goldprice_Monthly', 'TEDRATE_All', 'Federal_Funds_Effective_Rate_All', '10-Year_Treasury_Constant_Maturity_Rate_All']\n"
     ]
    }
   ],
   "source": [
    "# Set up datasets\n",
    "exclude_col = ['Date_modified','index','price','volume','date','crash_label', 'Date_y', 'Date_x','Date']\n",
    "X = labeled_index_df.drop(exclude_col, axis=1)\n",
    "y = labeled_index_df['crash_label']\n",
    "\n",
    "feature_names = list(X.columns)\n",
    "print(feature_names)\n",
    "# Determine non-numeric attribute names\n",
    "for feature in feature_names:\n",
    "    X[feature] = X[feature].astype('float64')"
   ]
  },
  {
   "cell_type": "code",
   "execution_count": 5,
   "id": "0df865da",
   "metadata": {},
   "outputs": [],
   "source": [
    "# Handle extreme value\n",
    "X[~np.isfinite(X)] = np.finfo(np.float64).max\n",
    "X = np.clip(X, -1e6, 1e6) \n",
    "\n",
    "# Handle NaN\n",
    "imputer = SimpleImputer(strategy='mean')\n",
    "X = imputer.fit_transform(X)"
   ]
  },
  {
   "cell_type": "code",
   "execution_count": 6,
   "id": "c3ec7aab",
   "metadata": {},
   "outputs": [],
   "source": [
    "# Split the training and testing data\n",
    "X_train, X_test, y_train, y_test = train_test_split(X, y, test_size=0.2, random_state=0)"
   ]
  },
  {
   "cell_type": "code",
   "execution_count": 7,
   "id": "b6f9efb0",
   "metadata": {},
   "outputs": [],
   "source": [
    "# Oversample the minority class (1) using SMOTE\n",
    "oversampler = SMOTE(sampling_strategy=0.5, random_state=42)\n",
    "X_train_oversampled, y_train_oversampled = oversampler.fit_resample(X_train, y_train)\n",
    "\n",
    "# Undersample the majority class (0) using RandomUnderSampler\n",
    "undersampler = RandomUnderSampler(sampling_strategy=1.0, random_state=42)\n",
    "X_train_resampled, y_train_resampled = undersampler.fit_resample(X_train_oversampled, y_train_oversampled)"
   ]
  },
  {
   "cell_type": "code",
   "execution_count": 8,
   "id": "336ca963",
   "metadata": {},
   "outputs": [
    {
     "name": "stdout",
     "output_type": "stream",
     "text": [
      "Fitting 5 folds for each of 20 candidates, totalling 100 fits\n",
      "[CV] END ...................C=0.0001, penalty=l1, solver=sag; total time=   5.1s\n",
      "[CV] END ...................C=0.0001, penalty=l1, solver=sag; total time=   8.1s\n",
      "[CV] END ...................C=0.0001, penalty=l1, solver=sag; total time=   8.8s\n",
      "[CV] END ...................C=0.0001, penalty=l1, solver=sag; total time=   8.8s\n",
      "[CV] END ...................C=0.0001, penalty=l1, solver=sag; total time=   7.2s\n",
      "[CV] END ..................C=0.0001, penalty=l1, solver=saga; total time= 2.5min\n",
      "[CV] END ..................C=0.0001, penalty=l1, solver=saga; total time= 2.2min\n",
      "[CV] END ..................C=0.0001, penalty=l1, solver=saga; total time= 2.0min\n",
      "[CV] END ..................C=0.0001, penalty=l1, solver=saga; total time= 2.2min\n",
      "[CV] END ..................C=0.0001, penalty=l1, solver=saga; total time= 2.2min\n",
      "[CV] END ...................C=0.0001, penalty=l2, solver=sag; total time= 1.6min\n",
      "[CV] END ...................C=0.0001, penalty=l2, solver=sag; total time= 1.5min\n",
      "[CV] END ...................C=0.0001, penalty=l2, solver=sag; total time= 1.5min\n",
      "[CV] END ...................C=0.0001, penalty=l2, solver=sag; total time= 1.5min\n",
      "[CV] END ...................C=0.0001, penalty=l2, solver=sag; total time= 1.4min\n",
      "[CV] END ..................C=0.0001, penalty=l2, solver=saga; total time= 2.7min\n",
      "[CV] END ..................C=0.0001, penalty=l2, solver=saga; total time= 2.7min\n",
      "[CV] END ..................C=0.0001, penalty=l2, solver=saga; total time= 2.8min\n",
      "[CV] END ..................C=0.0001, penalty=l2, solver=saga; total time= 2.7min\n",
      "[CV] END ..................C=0.0001, penalty=l2, solver=saga; total time= 2.4min\n",
      "[CV] END ....................C=0.001, penalty=l1, solver=sag; total time=  11.3s\n",
      "[CV] END ....................C=0.001, penalty=l1, solver=sag; total time=   7.5s\n",
      "[CV] END ....................C=0.001, penalty=l1, solver=sag; total time=   9.3s\n",
      "[CV] END ....................C=0.001, penalty=l1, solver=sag; total time=  12.3s\n",
      "[CV] END ....................C=0.001, penalty=l1, solver=sag; total time=   5.6s\n",
      "[CV] END ...................C=0.001, penalty=l1, solver=saga; total time= 9.6min\n",
      "[CV] END ...................C=0.001, penalty=l1, solver=saga; total time= 9.7min\n",
      "[CV] END ...................C=0.001, penalty=l1, solver=saga; total time=12.0min\n",
      "[CV] END ...................C=0.001, penalty=l1, solver=saga; total time= 9.7min\n",
      "[CV] END ...................C=0.001, penalty=l1, solver=saga; total time= 9.7min\n",
      "[CV] END ....................C=0.001, penalty=l2, solver=sag; total time= 7.6min\n",
      "[CV] END ....................C=0.001, penalty=l2, solver=sag; total time= 6.5min\n",
      "[CV] END ....................C=0.001, penalty=l2, solver=sag; total time= 7.3min\n",
      "[CV] END ....................C=0.001, penalty=l2, solver=sag; total time= 6.6min\n",
      "[CV] END ....................C=0.001, penalty=l2, solver=sag; total time= 6.7min\n",
      "[CV] END ...................C=0.001, penalty=l2, solver=saga; total time= 8.6min\n",
      "[CV] END ...................C=0.001, penalty=l2, solver=saga; total time= 8.0min\n",
      "[CV] END ...................C=0.001, penalty=l2, solver=saga; total time= 8.6min\n",
      "[CV] END ...................C=0.001, penalty=l2, solver=saga; total time= 8.5min\n",
      "[CV] END ...................C=0.001, penalty=l2, solver=saga; total time= 8.5min\n",
      "[CV] END .....................C=0.01, penalty=l1, solver=sag; total time=  18.3s\n",
      "[CV] END .....................C=0.01, penalty=l1, solver=sag; total time=  14.5s\n",
      "[CV] END .....................C=0.01, penalty=l1, solver=sag; total time=   6.0s\n",
      "[CV] END .....................C=0.01, penalty=l1, solver=sag; total time=  12.0s\n",
      "[CV] END .....................C=0.01, penalty=l1, solver=sag; total time=   8.7s\n",
      "[CV] END ....................C=0.01, penalty=l1, solver=saga; total time= 9.9min\n",
      "[CV] END ....................C=0.01, penalty=l1, solver=saga; total time= 9.6min\n",
      "[CV] END ....................C=0.01, penalty=l1, solver=saga; total time= 9.9min\n",
      "[CV] END ....................C=0.01, penalty=l1, solver=saga; total time=10.1min\n",
      "[CV] END ....................C=0.01, penalty=l1, solver=saga; total time= 9.8min\n",
      "[CV] END .....................C=0.01, penalty=l2, solver=sag; total time= 7.9min\n",
      "[CV] END .....................C=0.01, penalty=l2, solver=sag; total time= 7.9min\n",
      "[CV] END .....................C=0.01, penalty=l2, solver=sag; total time= 8.1min\n",
      "[CV] END .....................C=0.01, penalty=l2, solver=sag; total time= 8.0min\n",
      "[CV] END .....................C=0.01, penalty=l2, solver=sag; total time= 7.7min\n",
      "[CV] END ....................C=0.01, penalty=l2, solver=saga; total time=10.3min\n",
      "[CV] END ....................C=0.01, penalty=l2, solver=saga; total time= 8.4min\n",
      "[CV] END ....................C=0.01, penalty=l2, solver=saga; total time= 8.5min\n",
      "[CV] END ....................C=0.01, penalty=l2, solver=saga; total time= 8.6min\n",
      "[CV] END ....................C=0.01, penalty=l2, solver=saga; total time= 8.6min\n",
      "[CV] END ......................C=0.1, penalty=l1, solver=sag; total time=  19.8s\n",
      "[CV] END ......................C=0.1, penalty=l1, solver=sag; total time=   7.8s\n",
      "[CV] END ......................C=0.1, penalty=l1, solver=sag; total time=  13.2s\n",
      "[CV] END ......................C=0.1, penalty=l1, solver=sag; total time=  11.9s\n",
      "[CV] END ......................C=0.1, penalty=l1, solver=sag; total time=   9.6s\n",
      "[CV] END .....................C=0.1, penalty=l1, solver=saga; total time= 9.9min\n",
      "[CV] END .....................C=0.1, penalty=l1, solver=saga; total time=10.3min\n",
      "[CV] END .....................C=0.1, penalty=l1, solver=saga; total time=10.3min\n",
      "[CV] END .....................C=0.1, penalty=l1, solver=saga; total time=10.0min\n",
      "[CV] END .....................C=0.1, penalty=l1, solver=saga; total time= 9.9min\n",
      "[CV] END ......................C=0.1, penalty=l2, solver=sag; total time= 8.1min\n",
      "[CV] END ......................C=0.1, penalty=l2, solver=sag; total time= 8.0min\n",
      "[CV] END ......................C=0.1, penalty=l2, solver=sag; total time= 7.8min\n",
      "[CV] END ......................C=0.1, penalty=l2, solver=sag; total time= 7.7min\n",
      "[CV] END ......................C=0.1, penalty=l2, solver=sag; total time= 7.9min\n",
      "[CV] END .....................C=0.1, penalty=l2, solver=saga; total time= 8.5min\n",
      "[CV] END .....................C=0.1, penalty=l2, solver=saga; total time= 8.2min\n",
      "[CV] END .....................C=0.1, penalty=l2, solver=saga; total time= 8.4min\n",
      "[CV] END .....................C=0.1, penalty=l2, solver=saga; total time= 8.5min\n",
      "[CV] END .....................C=0.1, penalty=l2, solver=saga; total time=10.5min\n",
      "[CV] END ........................C=1, penalty=l1, solver=sag; total time=  18.5s\n",
      "[CV] END ........................C=1, penalty=l1, solver=sag; total time=  12.8s\n",
      "[CV] END ........................C=1, penalty=l1, solver=sag; total time=  11.8s\n",
      "[CV] END ........................C=1, penalty=l1, solver=sag; total time=  10.3s\n",
      "[CV] END ........................C=1, penalty=l1, solver=sag; total time=  12.5s\n",
      "[CV] END .......................C=1, penalty=l1, solver=saga; total time=12.3min\n",
      "[CV] END .......................C=1, penalty=l1, solver=saga; total time=11.1min\n",
      "[CV] END .......................C=1, penalty=l1, solver=saga; total time= 9.5min\n",
      "[CV] END .......................C=1, penalty=l1, solver=saga; total time= 9.9min\n",
      "[CV] END .......................C=1, penalty=l1, solver=saga; total time= 9.9min\n",
      "[CV] END ........................C=1, penalty=l2, solver=sag; total time= 7.9min\n",
      "[CV] END ........................C=1, penalty=l2, solver=sag; total time= 8.0min\n",
      "[CV] END ........................C=1, penalty=l2, solver=sag; total time= 8.4min\n",
      "[CV] END ........................C=1, penalty=l2, solver=sag; total time= 8.1min\n",
      "[CV] END ........................C=1, penalty=l2, solver=sag; total time= 8.4min\n",
      "[CV] END .......................C=1, penalty=l2, solver=saga; total time= 8.6min\n",
      "[CV] END .......................C=1, penalty=l2, solver=saga; total time= 9.0min\n",
      "[CV] END .......................C=1, penalty=l2, solver=saga; total time= 8.4min\n",
      "[CV] END .......................C=1, penalty=l2, solver=saga; total time= 8.3min\n",
      "[CV] END .......................C=1, penalty=l2, solver=saga; total time= 8.3min\n",
      "Best Score: 0.966652851178248\n",
      "Grid search completed successfully.\n"
     ]
    }
   ],
   "source": [
    "scaler = StandardScaler()\n",
    "X_train_scaled = scaler.fit_transform(X_train_resampled)\n",
    "\n",
    "param_grid = {\n",
    "    \"penalty\": ['l1','l2'],\n",
    "    'C': [0.0001,0.001,0.01, 0.1, 1],\n",
    "    'solver': ['sag', 'saga']\n",
    "}\n",
    "\n",
    "grid_search = GridSearchCV(LogisticRegression(), param_grid, cv=5,verbose=2)\n",
    "\n",
    "try:\n",
    "    grid_search.fit(X_train_scaled, y_train_resampled)\n",
    "    best_params = grid_search.best_params_\n",
    "    best_score = grid_search.best_score_\n",
    "    print(f\"Best Score: {best_score}\")\n",
    "    print(\"Grid search completed successfully.\")\n",
    "except Exception as e:\n",
    "    print(\"Error occurred during grid search:\")\n",
    "    print(e)"
   ]
  },
  {
   "cell_type": "code",
   "execution_count": 9,
   "id": "dcf2503f",
   "metadata": {
    "scrolled": true
   },
   "outputs": [
    {
     "data": {
      "text/html": [
       "<style>#sk-container-id-1 {color: black;}#sk-container-id-1 pre{padding: 0;}#sk-container-id-1 div.sk-toggleable {background-color: white;}#sk-container-id-1 label.sk-toggleable__label {cursor: pointer;display: block;width: 100%;margin-bottom: 0;padding: 0.3em;box-sizing: border-box;text-align: center;}#sk-container-id-1 label.sk-toggleable__label-arrow:before {content: \"▸\";float: left;margin-right: 0.25em;color: #696969;}#sk-container-id-1 label.sk-toggleable__label-arrow:hover:before {color: black;}#sk-container-id-1 div.sk-estimator:hover label.sk-toggleable__label-arrow:before {color: black;}#sk-container-id-1 div.sk-toggleable__content {max-height: 0;max-width: 0;overflow: hidden;text-align: left;background-color: #f0f8ff;}#sk-container-id-1 div.sk-toggleable__content pre {margin: 0.2em;color: black;border-radius: 0.25em;background-color: #f0f8ff;}#sk-container-id-1 input.sk-toggleable__control:checked~div.sk-toggleable__content {max-height: 200px;max-width: 100%;overflow: auto;}#sk-container-id-1 input.sk-toggleable__control:checked~label.sk-toggleable__label-arrow:before {content: \"▾\";}#sk-container-id-1 div.sk-estimator input.sk-toggleable__control:checked~label.sk-toggleable__label {background-color: #d4ebff;}#sk-container-id-1 div.sk-label input.sk-toggleable__control:checked~label.sk-toggleable__label {background-color: #d4ebff;}#sk-container-id-1 input.sk-hidden--visually {border: 0;clip: rect(1px 1px 1px 1px);clip: rect(1px, 1px, 1px, 1px);height: 1px;margin: -1px;overflow: hidden;padding: 0;position: absolute;width: 1px;}#sk-container-id-1 div.sk-estimator {font-family: monospace;background-color: #f0f8ff;border: 1px dotted black;border-radius: 0.25em;box-sizing: border-box;margin-bottom: 0.5em;}#sk-container-id-1 div.sk-estimator:hover {background-color: #d4ebff;}#sk-container-id-1 div.sk-parallel-item::after {content: \"\";width: 100%;border-bottom: 1px solid gray;flex-grow: 1;}#sk-container-id-1 div.sk-label:hover label.sk-toggleable__label {background-color: #d4ebff;}#sk-container-id-1 div.sk-serial::before {content: \"\";position: absolute;border-left: 1px solid gray;box-sizing: border-box;top: 0;bottom: 0;left: 50%;z-index: 0;}#sk-container-id-1 div.sk-serial {display: flex;flex-direction: column;align-items: center;background-color: white;padding-right: 0.2em;padding-left: 0.2em;position: relative;}#sk-container-id-1 div.sk-item {position: relative;z-index: 1;}#sk-container-id-1 div.sk-parallel {display: flex;align-items: stretch;justify-content: center;background-color: white;position: relative;}#sk-container-id-1 div.sk-item::before, #sk-container-id-1 div.sk-parallel-item::before {content: \"\";position: absolute;border-left: 1px solid gray;box-sizing: border-box;top: 0;bottom: 0;left: 50%;z-index: -1;}#sk-container-id-1 div.sk-parallel-item {display: flex;flex-direction: column;z-index: 1;position: relative;background-color: white;}#sk-container-id-1 div.sk-parallel-item:first-child::after {align-self: flex-end;width: 50%;}#sk-container-id-1 div.sk-parallel-item:last-child::after {align-self: flex-start;width: 50%;}#sk-container-id-1 div.sk-parallel-item:only-child::after {width: 0;}#sk-container-id-1 div.sk-dashed-wrapped {border: 1px dashed gray;margin: 0 0.4em 0.5em 0.4em;box-sizing: border-box;padding-bottom: 0.4em;background-color: white;}#sk-container-id-1 div.sk-label label {font-family: monospace;font-weight: bold;display: inline-block;line-height: 1.2em;}#sk-container-id-1 div.sk-label-container {text-align: center;}#sk-container-id-1 div.sk-container {/* jupyter's `normalize.less` sets `[hidden] { display: none; }` but bootstrap.min.css set `[hidden] { display: none !important; }` so we also need the `!important` here to be able to override the default hidden behavior on the sphinx rendered scikit-learn.org. See: https://github.com/scikit-learn/scikit-learn/issues/21755 */display: inline-block !important;position: relative;}#sk-container-id-1 div.sk-text-repr-fallback {display: none;}</style><div id=\"sk-container-id-1\" class=\"sk-top-container\"><div class=\"sk-text-repr-fallback\"><pre>LogisticRegression(C=1, solver=&#x27;sag&#x27;)</pre><b>In a Jupyter environment, please rerun this cell to show the HTML representation or trust the notebook. <br />On GitHub, the HTML representation is unable to render, please try loading this page with nbviewer.org.</b></div><div class=\"sk-container\" hidden><div class=\"sk-item\"><div class=\"sk-estimator sk-toggleable\"><input class=\"sk-toggleable__control sk-hidden--visually\" id=\"sk-estimator-id-1\" type=\"checkbox\" checked><label for=\"sk-estimator-id-1\" class=\"sk-toggleable__label sk-toggleable__label-arrow\">LogisticRegression</label><div class=\"sk-toggleable__content\"><pre>LogisticRegression(C=1, solver=&#x27;sag&#x27;)</pre></div></div></div></div></div>"
      ],
      "text/plain": [
       "LogisticRegression(C=1, solver='sag')"
      ]
     },
     "execution_count": 9,
     "metadata": {},
     "output_type": "execute_result"
    }
   ],
   "source": [
    "# Train the model\n",
    "model = LogisticRegression(C=best_params['C'], solver=best_params['solver'])\n",
    "model.fit(X_train_scaled, y_train_resampled)"
   ]
  },
  {
   "cell_type": "markdown",
   "id": "18063ac8",
   "metadata": {},
   "source": [
    "## Model Evaluation \n",
    "- Precision: number of True Positives / (number of True Positives + number of False Positives)\n",
    "- Recall: number of True Positives / (number of True Positives + number of False Negatives)\n",
    "- F1 score: A weighted average of precision and recall, F1 = 2*((precision*recall)/(precision+recall))"
   ]
  },
  {
   "cell_type": "code",
   "execution_count": 10,
   "id": "127f1639",
   "metadata": {
    "scrolled": true
   },
   "outputs": [
    {
     "name": "stdout",
     "output_type": "stream",
     "text": [
      "Accuracy: 0.1723424141597473\n",
      "Confusion Matrix:\n",
      "[[148549 746487]\n",
      " [     8   6893]]\n",
      "\n",
      "Classification Report:\n",
      "              precision    recall  f1-score   support\n",
      "\n",
      "         0.0       1.00      0.17      0.28    895036\n",
      "         1.0       0.01      1.00      0.02      6901\n",
      "\n",
      "    accuracy                           0.17    901937\n",
      "   macro avg       0.50      0.58      0.15    901937\n",
      "weighted avg       0.99      0.17      0.28    901937\n",
      "\n"
     ]
    }
   ],
   "source": [
    "# Evaluate the model\n",
    "y_pred = model.predict(X_test)\n",
    "\n",
    "accuracy = accuracy_score(y_test, y_pred)\n",
    "print(f\"Accuracy: {accuracy}\")\n",
    "print(\"Confusion Matrix:\")\n",
    "print(confusion_matrix(y_test, y_pred))\n",
    "print(\"\\nClassification Report:\")\n",
    "print(classification_report(y_test, y_pred))"
   ]
  },
  {
   "cell_type": "markdown",
   "id": "f31108a2",
   "metadata": {},
   "source": [
    "Problem: low recall and f1 score for crash label 1"
   ]
  },
  {
   "cell_type": "markdown",
   "id": "d19aadfc",
   "metadata": {},
   "source": [
    "## Feature Importance"
   ]
  },
  {
   "cell_type": "code",
   "execution_count": 11,
   "id": "abb33faf",
   "metadata": {},
   "outputs": [
    {
     "name": "stdout",
     "output_type": "stream",
     "text": [
      "Feature: price_change, Importance: -0.14677439394166109\n",
      "Feature: volume_change, Importance: -0.027992665394179998\n",
      "Feature: volatility, Importance: 1.4603469798977566\n",
      "Feature: Total_Equity_Risk_Premium_US, Importance: 0.4790381448218391\n",
      "Feature: Population_US, Importance: -1.6777848058045837\n",
      "Feature: Unemployment_US, Importance: 1.1347814437539148\n",
      "Feature: Inflation_Rate_US, Importance: -9.946859626149491\n",
      "Feature: housing_US, Importance: 0.19433323533558786\n",
      "Feature: Long-Term_Government_Bond Yields_US, Importance: 0.8972370218395372\n",
      "Feature: turnover_US, Importance: 0.20781547779179876\n",
      "Feature: Recession_Indicators_US, Importance: 1.9939252452297909\n",
      "Feature: GDP_US, Importance: 0.48058374606184806\n",
      "Feature: Recession_Indicators_UK, Importance: 0.0760028741555562\n",
      "Feature: FX_Rate_UK, Importance: -0.40757137900831325\n",
      "Feature: GDP_UK, Importance: 0.34962080418047203\n",
      "Feature: housing_UK, Importance: 0.09898295534665018\n",
      "Feature: Long-Term_Government_Bond Yields_UK, Importance: 0.019996438850499027\n",
      "Feature: turnover_UK, Importance: -1.6685166415470651\n",
      "Feature: Inflation_Rate_UK, Importance: 0.6310029614407668\n",
      "Feature: Unemployment_UK, Importance: 1.024598499182916\n",
      "Feature: Total_Equity_Risk_Premium_UK, Importance: 0.46037560119884774\n",
      "Feature: Population_UK, Importance: -0.6252379016422387\n",
      "Feature: Unemployment_HK, Importance: -1.2528499845114471\n",
      "Feature: Total_Equity_Risk_Premium_HK, Importance: 0.24691500797306903\n",
      "Feature: Population_HK, Importance: -0.2590956539831247\n",
      "Feature: Recession_Indicators_HK, Importance: -0.6343751844500037\n",
      "Feature: FX_Rate_HK, Importance: -0.4097318996174896\n",
      "Feature: GDP_HK, Importance: -2.4562310920748023\n",
      "Feature: housing_HK, Importance: -0.1088526757437145\n",
      "Feature: Long-Term_Government_Bond Yields_HK, Importance: -0.11158610500529408\n",
      "Feature: turnover_HK, Importance: 0.5493030854599605\n",
      "Feature: Inflation_Rate_HK, Importance: 0.15959598381585388\n",
      "Feature: FX_Rate_Japan, Importance: 0.08950275997291511\n",
      "Feature: Inflation_Rate_Japan, Importance: 0.32775375765601944\n",
      "Feature: Recession_Indicators_Japan, Importance: -1.2416045400205669\n",
      "Feature: Unemployment_Japan, Importance: 0.025787097879333688\n",
      "Feature: Total_Equity_Risk_Premium_Japan, Importance: 0.237430607088166\n",
      "Feature: turnover_Japan, Importance: 0.013794087833476713\n",
      "Feature: GDP_Japan, Importance: -0.08451016937074655\n",
      "Feature: housing_Japan, Importance: -0.039761643176101036\n",
      "Feature: Population_Japan, Importance: -0.010325894397307155\n",
      "Feature: Long-Term_Government_Bond Yields_Japan, Importance: -0.019465033635061395\n",
      "Feature: Long-Term_Government_Bond Yields_China, Importance: 0.24665433359707345\n",
      "Feature: Population_China, Importance: -0.4390779971817992\n",
      "Feature: housing_China, Importance: -0.0067714056124607725\n",
      "Feature: GDP_China, Importance: -0.7145144391635045\n",
      "Feature: turnover_China, Importance: 0.046720099667934084\n",
      "Feature: Total_Equity_Risk_Premium_China, Importance: 0.1723310614007799\n",
      "Feature: Unemployment_China, Importance: -0.0699417312689558\n",
      "Feature: Recession_Indicators_China, Importance: -0.5122251011715229\n",
      "Feature: Inflation_Rate_China, Importance: 0.11282024580256007\n",
      "Feature: FX_Rate_China, Importance: -0.45908705989600695\n",
      "Feature: Population_Switzerland, Importance: -2.21801373324573\n",
      "Feature: housing_Switzerland, Importance: -0.1665707523874979\n",
      "Feature: Total_Equity_Risk_Premium_Switzerland, Importance: 0.43223257972216655\n",
      "Feature: Recession_Indicators_Switzerland, Importance: 1.0656182086788741\n",
      "Feature: Long-Term_Government_Bond Yields_Switzerland, Importance: -0.02064085779567213\n",
      "Feature: turnover_Switzerland, Importance: -1.3223902681827604\n",
      "Feature: Unemployment_Switzerland, Importance: 0.0857180370510512\n",
      "Feature: GDP_Switzerland, Importance: 3.384302433927465\n",
      "Feature: FX_Rate_Switzerland, Importance: 0.8151251387773036\n",
      "Feature: Inflation_Rate_Switzerland, Importance: 0.06384382103884416\n",
      "Feature: Recession_Indicators_India, Importance: -0.05879670528424915\n",
      "Feature: FX_Rate_India, Importance: -0.6826977546742619\n",
      "Feature: Inflation_Rate_India, Importance: -0.6711953207376634\n",
      "Feature: Total_Equity_Risk_Premium_India, Importance: 0.06737318672531198\n",
      "Feature: Unemployment_India, Importance: -0.1011041795193432\n",
      "Feature: turnover_India, Importance: -0.24782484970960847\n",
      "Feature: Long-Term_Government_Bond Yields_India, Importance: -0.036755311886916005\n",
      "Feature: GDP_India, Importance: -1.0709489638117102\n",
      "Feature: Population_India, Importance: -0.7394232019399933\n",
      "Feature: housing_India, Importance: -0.19762726901601602\n",
      "Feature: Inflation_Rate_Germany, Importance: 0.03933103667835122\n",
      "Feature: turnover_Germany, Importance: -0.008711217815839124\n",
      "Feature: GDP_Germany, Importance: 0.40039188221831706\n",
      "Feature: Recession_Indicators_Germany, Importance: 0.15063384725784085\n",
      "Feature: Total_Equity_Risk_Premium_Germany, Importance: 0.13500609116056744\n",
      "Feature: FX_Rate_Germany, Importance: 0.7512816203696914\n",
      "Feature: Population_Germany, Importance: -0.5607768340856865\n",
      "Feature: Long-Term_Government_Bond Yields_Germany, Importance: -0.01196970697746271\n",
      "Feature: Unemployment_Germany, Importance: 0.7604404407996056\n",
      "Feature: housing_Germany, Importance: -0.44279657966684377\n",
      "Feature: Population_France, Importance: -0.424087664396872\n",
      "Feature: housing_France, Importance: 0.19783843818056795\n",
      "Feature: Long-Term_Government_Bond Yields_France, Importance: 0.10230974074236499\n",
      "Feature: turnover_France, Importance: 0.06707749758585521\n",
      "Feature: Unemployment_France, Importance: 0.1132190706528724\n",
      "Feature: Total_Equity_Risk_Premium_France, Importance: 0.03069593543790631\n",
      "Feature: Recession_Indicators_France, Importance: 0.2360074669106862\n",
      "Feature: FX_Rate_France, Importance: 0.8990010706876229\n",
      "Feature: Inflation_Rate_France, Importance: 0.09633488936480163\n",
      "Feature: GDP_France, Importance: 1.0143687698013002\n",
      "Feature: GDP_Brazil, Importance: -0.8817367095192461\n",
      "Feature: Inflation_Rate_Brazil, Importance: -0.2595388554458933\n",
      "Feature: Recession_Indicators_Brazil, Importance: -0.8353858826248509\n",
      "Feature: FX_Rate_Brazil, Importance: 0.18237013500553417\n",
      "Feature: Unemployment_Brazil, Importance: 0.727565646811261\n",
      "Feature: Total_Equity_Risk_Premium_Brazil, Importance: -0.5045275079771205\n",
      "Feature: turnover_Brazil, Importance: -0.7606163463602604\n",
      "Feature: Population_Brazil, Importance: -3.396830461335359\n",
      "Feature: housing_Brazil, Importance: -1.4576158384923203\n",
      "Feature: Crude_Oil_Index_Excess_Return_All, Importance: 0.16610354248141662\n",
      "Feature: Goldprice_Monthly, Importance: -0.714110871051045\n",
      "Feature: TEDRATE_All, Importance: -1.4048368813284597\n",
      "Feature: Federal_Funds_Effective_Rate_All, Importance: -0.2281044890899065\n",
      "Feature: 10-Year_Treasury_Constant_Maturity_Rate_All, Importance: -0.4534940655042158\n"
     ]
    },
    {
     "data": {
      "image/png": "[encoded data removed]",
      "text/plain": [
       "<Figure size 800x600 with 1 Axes>"
      ]
     },
     "metadata": {},
     "output_type": "display_data"
    }
   ],
   "source": [
    "feature_importance = model.coef_[0]\n",
    "for name, importance in zip(feature_names, feature_importance):\n",
    "    print(f\"Feature: {name}, Importance: {importance}\")\n",
    "\n",
    "plt.figure(figsize=(8, 6))\n",
    "plt.bar(feature_names, feature_importance)\n",
    "plt.title('Feature Importances in Logistic Regression Model')\n",
    "plt.xlabel('Features')\n",
    "plt.ylabel('Importance')\n",
    "plt.show()"
   ]
  },
  {
   "cell_type": "markdown",
   "id": "b0aaf12e",
   "metadata": {},
   "source": [
    "## K-fold Validation"
   ]
  },
  {
   "cell_type": "code",
   "execution_count": 12,
   "id": "c5da1a64",
   "metadata": {},
   "outputs": [
    {
     "name": "stdout",
     "output_type": "stream",
     "text": [
      "Cross-validation scores: [0.99236311 0.99236755 0.99242298 0.96649215 0.97733764 0.99252497\n",
      " 0.99243184 0.98845373 0.99242962 0.99243184]\n",
      "Average cross-validation score: 0.99\n"
     ]
    }
   ],
   "source": [
    "# Perform 10-fold cross-validation\n",
    "scores = cross_val_score(model, X, y, cv=10)\n",
    "\n",
    "# Print the cross-validation scores\n",
    "print(\"Cross-validation scores: {}\".format(scores))\n",
    "print(\"Average cross-validation score: {:.2f}\".format(scores.mean()))"
   ]
  },
  {
   "cell_type": "markdown",
   "id": "60595505",
   "metadata": {},
   "source": [
    "## Prediction Result"
   ]
  },
  {
   "cell_type": "code",
   "execution_count": 13,
   "id": "3a2eea70",
   "metadata": {},
   "outputs": [
    {
     "name": "stdout",
     "output_type": "stream",
     "text": [
      "Crash Probability: 0.8351972566678764\n"
     ]
    }
   ],
   "source": [
    "y_prob = model.predict_proba(X_test)\n",
    "crash_prob = y_prob[:, 1]\n",
    "print(f\"Crash Probability: {crash_prob.mean()}\")"
   ]
  },
  {
   "cell_type": "markdown",
   "id": "122734b4",
   "metadata": {},
   "source": [
    "## AUC-ROC"
   ]
  },
  {
   "cell_type": "code",
   "execution_count": 14,
   "id": "402603a7",
   "metadata": {
    "scrolled": true
   },
   "outputs": [
    {
     "name": "stdout",
     "output_type": "stream",
     "text": [
      "AUC-ROC Score: 0.5865015511314678\n"
     ]
    },
    {
     "data": {
      "image/png": "[encoded data removed]",
      "text/plain": [
       "<Figure size 640x480 with 1 Axes>"
      ]
     },
     "metadata": {},
     "output_type": "display_data"
    }
   ],
   "source": [
    "auc_roc = roc_auc_score(y_test, y_prob[:, 1])\n",
    "\n",
    "print(\"AUC-ROC Score:\", auc_roc)\n",
    "\n",
    "fpr, tpr, thresholds = roc_curve(y_test, y_prob[:, -1])\n",
    "plt.plot(fpr, tpr, label='ROC curve (area = %0.2f)' % auc_roc)\n",
    "plt.plot([0, 1], [0, 1], 'k--')  # Diagonal line\n",
    "plt.xlabel('False Positive Rate')\n",
    "plt.ylabel('True Positive Rate')\n",
    "plt.title('Receiver Operating Characteristic (ROC) Curve')\n",
    "plt.legend(loc=\"lower right\")\n",
    "plt.show()"
   ]
  },
  {
   "cell_type": "code",
   "execution_count": null,
   "id": "75f20196",
   "metadata": {},
   "outputs": [],
   "source": []
  }
 ],
 "metadata": {
  "kernelspec": {
   "display_name": "Python 3 (ipykernel)",
   "language": "python",
   "name": "python3"
  },
  "language_info": {
   "codemirror_mode": {
    "name": "ipython",
    "version": 3
   },
   "file_extension": ".py",
   "mimetype": "text/x-python",
   "name": "python",
   "nbconvert_exporter": "python",
   "pygments_lexer": "ipython3",
   "version": "3.11.4"
  }
 },
 "nbformat": 4,
 "nbformat_minor": 5
}
