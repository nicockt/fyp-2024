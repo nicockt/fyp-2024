{
 "cells": [
  {
   "cell_type": "code",
   "execution_count": 1,
   "id": "f65cc283",
   "metadata": {},
   "outputs": [
    {
     "name": "stdout",
     "output_type": "stream",
     "text": [
      "Requirement already satisfied: imbalanced-learn in /Users/elroylo/anaconda3/lib/python3.11/site-packages (0.11.0)\n",
      "Requirement already satisfied: numpy>=1.17.3 in /Users/elroylo/anaconda3/lib/python3.11/site-packages (from imbalanced-learn) (1.24.3)\n",
      "Requirement already satisfied: scipy>=1.5.0 in /Users/elroylo/anaconda3/lib/python3.11/site-packages (from imbalanced-learn) (1.10.1)\n",
      "Requirement already satisfied: scikit-learn>=1.0.2 in /Users/elroylo/anaconda3/lib/python3.11/site-packages (from imbalanced-learn) (1.3.2)\n",
      "Requirement already satisfied: joblib>=1.1.1 in /Users/elroylo/anaconda3/lib/python3.11/site-packages (from imbalanced-learn) (1.2.0)\n",
      "Requirement already satisfied: threadpoolctl>=2.0.0 in /Users/elroylo/anaconda3/lib/python3.11/site-packages (from imbalanced-learn) (2.2.0)\n",
      "Note: you may need to restart the kernel to use updated packages.\n"
     ]
    }
   ],
   "source": [
    "pip install imbalanced-learn"
   ]
  },
  {
   "cell_type": "code",
   "execution_count": 1,
   "id": "3d9b0ff9",
   "metadata": {},
   "outputs": [],
   "source": [
    "import pandas as pd\n",
    "import numpy as np\n",
    "import matplotlib.pyplot as plt\n",
    "from matplotlib import gridspec\n",
    "from sklearn.model_selection import train_test_split\n",
    "from sklearn.preprocessing import StandardScaler\n",
    "from sklearn.linear_model import LogisticRegression\n",
    "from sklearn.metrics import classification_report, confusion_matrix, accuracy_score\n",
    "from sklearn.model_selection import GridSearchCV, cross_val_score\n",
    "from sklearn.metrics import roc_auc_score, roc_curve\n",
    "from pylab import rcParams\n",
    "from imblearn.over_sampling import SMOTE, ADASYN\n",
    "from sklearn.impute import SimpleImputer\n",
    "from imblearn.combine import SMOTETomek\n",
    "from imblearn.over_sampling import RandomOverSampler\n",
    "from imblearn.under_sampling import RandomUnderSampler\n",
    "import pickle\n",
    "import importlib\n",
    "import sys\n",
    "import warnings\n",
    "if not sys.warnoptions:\n",
    "    warnings.simplefilter(\"ignore\")\n",
    "from sklearn.feature_selection import SelectKBest, chi2\n",
    "from sklearn.preprocessing import MinMaxScaler\n",
    "from imblearn.over_sampling import SMOTE"
   ]
  },
  {
   "cell_type": "code",
   "execution_count": 2,
   "id": "8e1c1d8e",
   "metadata": {},
   "outputs": [],
   "source": [
    "# Load the labeled index data from csv\n",
    "labeled_index_df = pd.read_csv(\"/Users/elroylo/Documents/GitHub/fyp-2024/data/merge_file_1m.csv\")"
   ]
  },
  {
   "cell_type": "markdown",
   "id": "9b6b1c57",
   "metadata": {},
   "source": [
    "## Build the model"
   ]
  },
  {
   "cell_type": "code",
   "execution_count": 3,
   "id": "0f55bd83",
   "metadata": {},
   "outputs": [
    {
     "name": "stdout",
     "output_type": "stream",
     "text": [
      "['price_change', 'volume_change', 'volatility', 'Total_Equity_Risk_Premium_US', 'Population_US', 'Unemployment_US', 'Inflation_Rate_US', 'housing_US', 'Long-Term_Government_Bond Yields_US', 'turnover_US', 'Recession_Indicators_US', 'GDP_US', 'Recession_Indicators_UK', 'FX_Rate_UK', 'GDP_UK', 'housing_UK', 'Long-Term_Government_Bond Yields_UK', 'turnover_UK', 'Inflation_Rate_UK', 'Unemployment_UK', 'Total_Equity_Risk_Premium_UK', 'Population_UK', 'Unemployment_HK', 'Total_Equity_Risk_Premium_HK', 'Population_HK', 'Recession_Indicators_HK', 'FX_Rate_HK', 'GDP_HK', 'housing_HK', 'Long-Term_Government_Bond Yields_HK', 'turnover_HK', 'Inflation_Rate_HK', 'FX_Rate_Japan', 'Inflation_Rate_Japan', 'Recession_Indicators_Japan', 'Unemployment_Japan', 'Total_Equity_Risk_Premium_Japan', 'turnover_Japan', 'GDP_Japan', 'housing_Japan', 'Population_Japan', 'Long-Term_Government_Bond Yields_Japan', 'Long-Term_Government_Bond Yields_China', 'Population_China', 'housing_China', 'GDP_China', 'turnover_China', 'Total_Equity_Risk_Premium_China', 'Unemployment_China', 'Recession_Indicators_China', 'Inflation_Rate_China', 'FX_Rate_China', 'Population_Switzerland', 'housing_Switzerland', 'Total_Equity_Risk_Premium_Switzerland', 'Recession_Indicators_Switzerland', 'Long-Term_Government_Bond Yields_Switzerland', 'turnover_Switzerland', 'Unemployment_Switzerland', 'GDP_Switzerland', 'FX_Rate_Switzerland', 'Inflation_Rate_Switzerland', 'Recession_Indicators_India', 'FX_Rate_India', 'Inflation_Rate_India', 'Total_Equity_Risk_Premium_India', 'Unemployment_India', 'turnover_India', 'Long-Term_Government_Bond Yields_India', 'GDP_India', 'Population_India', 'housing_India', 'Inflation_Rate_Germany', 'turnover_Germany', 'GDP_Germany', 'Recession_Indicators_Germany', 'Total_Equity_Risk_Premium_Germany', 'FX_Rate_Germany', 'Population_Germany', 'Long-Term_Government_Bond Yields_Germany', 'Unemployment_Germany', 'housing_Germany', 'Population_France', 'housing_France', 'Long-Term_Government_Bond Yields_France', 'turnover_France', 'Unemployment_France', 'Total_Equity_Risk_Premium_France', 'Recession_Indicators_France', 'FX_Rate_France', 'Inflation_Rate_France', 'GDP_France', 'GDP_Brazil', 'Inflation_Rate_Brazil', 'Recession_Indicators_Brazil', 'FX_Rate_Brazil', 'Unemployment_Brazil', 'Total_Equity_Risk_Premium_Brazil', 'turnover_Brazil', 'Population_Brazil', 'housing_Brazil', 'Crude_Oil_Index_Excess_Return_All', 'Goldprice_Monthly', 'TEDRATE_All', 'Federal_Funds_Effective_Rate_All', '10-Year_Treasury_Constant_Maturity_Rate_All']\n"
     ]
    }
   ],
   "source": [
    "# Set up datasets\n",
    "exclude_col = ['Date_modified','index','price','volume','date','crash_label', 'Date_y', 'Date_x','Date']\n",
    "X = labeled_index_df.drop(exclude_col, axis=1)\n",
    "y = labeled_index_df['crash_label']\n",
    "\n",
    "feature_names = list(X.columns)\n",
    "print(feature_names)\n",
    "# Determine non-numeric attribute names\n",
    "for feature in feature_names:\n",
    "    X[feature] = X[feature].astype('float64')"
   ]
  },
  {
   "cell_type": "code",
   "execution_count": 4,
   "id": "0df865da",
   "metadata": {},
   "outputs": [],
   "source": [
    "# Handle extreme value\n",
    "X[~np.isfinite(X)] = np.finfo(np.float64).max\n",
    "X = np.clip(X, -1e6, 1e6) \n",
    "\n",
    "# Handle NaN\n",
    "imputer = SimpleImputer(strategy='mean')\n",
    "X = imputer.fit_transform(X)"
   ]
  },
  {
   "cell_type": "code",
   "execution_count": 5,
   "id": "c3ec7aab",
   "metadata": {},
   "outputs": [],
   "source": [
    "# Split the training and testing data\n",
    "X_train, X_test, y_train, y_test = train_test_split(X, y, test_size=0.2, random_state=0)"
   ]
  },
  {
   "cell_type": "code",
   "execution_count": 6,
   "id": "b6f9efb0",
   "metadata": {},
   "outputs": [],
   "source": [
    "# Oversample the minority class (1) using SMOTE\n",
    "oversampler = SMOTE(sampling_strategy=0.5, random_state=42)\n",
    "X_train_oversampled, y_train_oversampled = oversampler.fit_resample(X_train, y_train)\n",
    "\n",
    "# Undersample the majority class (0) using RandomUnderSampler\n",
    "undersampler = RandomUnderSampler(sampling_strategy=1.0, random_state=42)\n",
    "X_train_resampled, y_train_resampled = undersampler.fit_resample(X_train_oversampled, y_train_oversampled)"
   ]
  },
  {
   "cell_type": "code",
   "execution_count": 7,
   "id": "336ca963",
   "metadata": {},
   "outputs": [
    {
     "name": "stdout",
     "output_type": "stream",
     "text": [
      "Fitting 5 folds for each of 20 candidates, totalling 100 fits\n",
      "[CV] END ...................C=0.0001, penalty=l1, solver=sag; total time=  20.0s\n",
      "[CV] END ...................C=0.0001, penalty=l1, solver=sag; total time=  17.1s\n",
      "[CV] END ...................C=0.0001, penalty=l1, solver=sag; total time=  13.9s\n",
      "[CV] END ...................C=0.0001, penalty=l1, solver=sag; total time=  15.5s\n",
      "[CV] END ...................C=0.0001, penalty=l1, solver=sag; total time=  38.4s\n",
      "[CV] END ..................C=0.0001, penalty=l1, solver=saga; total time=28.9min\n",
      "[CV] END ..................C=0.0001, penalty=l1, solver=saga; total time=13.2min\n",
      "[CV] END ..................C=0.0001, penalty=l1, solver=saga; total time=37.9min\n",
      "[CV] END ..................C=0.0001, penalty=l1, solver=saga; total time=13.1min\n",
      "[CV] END ..................C=0.0001, penalty=l1, solver=saga; total time=10.0min\n",
      "[CV] END ...................C=0.0001, penalty=l2, solver=sag; total time= 2.0min\n",
      "[CV] END ...................C=0.0001, penalty=l2, solver=sag; total time= 1.9min\n",
      "[CV] END ...................C=0.0001, penalty=l2, solver=sag; total time= 2.0min\n",
      "[CV] END ...................C=0.0001, penalty=l2, solver=sag; total time= 2.0min\n",
      "[CV] END ...................C=0.0001, penalty=l2, solver=sag; total time= 2.2min\n",
      "[CV] END ..................C=0.0001, penalty=l2, solver=saga; total time= 3.2min\n",
      "[CV] END ..................C=0.0001, penalty=l2, solver=saga; total time= 3.3min\n",
      "[CV] END ..................C=0.0001, penalty=l2, solver=saga; total time= 3.3min\n",
      "[CV] END ..................C=0.0001, penalty=l2, solver=saga; total time= 3.2min\n",
      "[CV] END ..................C=0.0001, penalty=l2, solver=saga; total time= 3.9min\n",
      "[CV] END ....................C=0.001, penalty=l1, solver=sag; total time=  24.4s\n",
      "[CV] END ....................C=0.001, penalty=l1, solver=sag; total time=  18.3s\n",
      "[CV] END ....................C=0.001, penalty=l1, solver=sag; total time=  17.8s\n",
      "[CV] END ....................C=0.001, penalty=l1, solver=sag; total time=  24.7s\n",
      "[CV] END ....................C=0.001, penalty=l1, solver=sag; total time=  39.9s\n",
      "[CV] END ...................C=0.001, penalty=l1, solver=saga; total time=13.4min\n",
      "[CV] END ...................C=0.001, penalty=l1, solver=saga; total time=10.0min\n",
      "[CV] END ...................C=0.001, penalty=l1, solver=saga; total time= 9.8min\n",
      "[CV] END ...................C=0.001, penalty=l1, solver=saga; total time= 9.5min\n",
      "[CV] END ...................C=0.001, penalty=l1, solver=saga; total time= 9.6min\n",
      "[CV] END ....................C=0.001, penalty=l2, solver=sag; total time= 8.2min\n",
      "[CV] END ....................C=0.001, penalty=l2, solver=sag; total time= 9.1min\n",
      "[CV] END ....................C=0.001, penalty=l2, solver=sag; total time= 8.1min\n",
      "[CV] END ....................C=0.001, penalty=l2, solver=sag; total time= 7.8min\n",
      "[CV] END ....................C=0.001, penalty=l2, solver=sag; total time= 7.7min\n",
      "[CV] END ...................C=0.001, penalty=l2, solver=saga; total time= 8.1min\n",
      "[CV] END ...................C=0.001, penalty=l2, solver=saga; total time= 8.3min\n",
      "[CV] END ...................C=0.001, penalty=l2, solver=saga; total time= 8.3min\n",
      "[CV] END ...................C=0.001, penalty=l2, solver=saga; total time= 9.6min\n",
      "[CV] END ...................C=0.001, penalty=l2, solver=saga; total time= 8.3min\n",
      "[CV] END .....................C=0.01, penalty=l1, solver=sag; total time=  23.0s\n",
      "[CV] END .....................C=0.01, penalty=l1, solver=sag; total time=  18.4s\n",
      "[CV] END .....................C=0.01, penalty=l1, solver=sag; total time=  18.0s\n",
      "[CV] END .....................C=0.01, penalty=l1, solver=sag; total time=  19.2s\n",
      "[CV] END .....................C=0.01, penalty=l1, solver=sag; total time=  19.6s\n",
      "[CV] END ....................C=0.01, penalty=l1, solver=saga; total time= 9.9min\n",
      "[CV] END ....................C=0.01, penalty=l1, solver=saga; total time=10.3min\n",
      "[CV] END ....................C=0.01, penalty=l1, solver=saga; total time= 9.8min\n",
      "[CV] END ....................C=0.01, penalty=l1, solver=saga; total time= 9.9min\n",
      "[CV] END ....................C=0.01, penalty=l1, solver=saga; total time= 9.8min\n",
      "[CV] END .....................C=0.01, penalty=l2, solver=sag; total time= 8.6min\n",
      "[CV] END .....................C=0.01, penalty=l2, solver=sag; total time= 8.0min\n",
      "[CV] END .....................C=0.01, penalty=l2, solver=sag; total time= 7.6min\n",
      "[CV] END .....................C=0.01, penalty=l2, solver=sag; total time= 8.0min\n",
      "[CV] END .....................C=0.01, penalty=l2, solver=sag; total time= 8.2min\n",
      "[CV] END ....................C=0.01, penalty=l2, solver=saga; total time= 8.3min\n",
      "[CV] END ....................C=0.01, penalty=l2, solver=saga; total time= 8.4min\n",
      "[CV] END ....................C=0.01, penalty=l2, solver=saga; total time= 8.4min\n",
      "[CV] END ....................C=0.01, penalty=l2, solver=saga; total time= 8.3min\n",
      "[CV] END ....................C=0.01, penalty=l2, solver=saga; total time= 8.3min\n",
      "[CV] END ......................C=0.1, penalty=l1, solver=sag; total time=  21.5s\n",
      "[CV] END ......................C=0.1, penalty=l1, solver=sag; total time=  17.3s\n",
      "[CV] END ......................C=0.1, penalty=l1, solver=sag; total time=  14.6s\n",
      "[CV] END ......................C=0.1, penalty=l1, solver=sag; total time=  19.5s\n",
      "[CV] END ......................C=0.1, penalty=l1, solver=sag; total time=  14.9s\n",
      "[CV] END .....................C=0.1, penalty=l1, solver=saga; total time=10.5min\n",
      "[CV] END .....................C=0.1, penalty=l1, solver=saga; total time=10.6min\n",
      "[CV] END .....................C=0.1, penalty=l1, solver=saga; total time=11.4min\n",
      "[CV] END .....................C=0.1, penalty=l1, solver=saga; total time=12.9min\n",
      "[CV] END .....................C=0.1, penalty=l1, solver=saga; total time=10.4min\n",
      "[CV] END ......................C=0.1, penalty=l2, solver=sag; total time= 8.4min\n",
      "[CV] END ......................C=0.1, penalty=l2, solver=sag; total time= 9.6min\n",
      "[CV] END ......................C=0.1, penalty=l2, solver=sag; total time= 9.4min\n",
      "[CV] END ......................C=0.1, penalty=l2, solver=sag; total time= 9.4min\n",
      "[CV] END ......................C=0.1, penalty=l2, solver=sag; total time= 8.8min\n",
      "[CV] END .....................C=0.1, penalty=l2, solver=saga; total time= 8.5min\n",
      "[CV] END .....................C=0.1, penalty=l2, solver=saga; total time= 8.1min\n",
      "[CV] END .....................C=0.1, penalty=l2, solver=saga; total time= 8.2min\n",
      "[CV] END .....................C=0.1, penalty=l2, solver=saga; total time= 8.4min\n",
      "[CV] END .....................C=0.1, penalty=l2, solver=saga; total time= 8.3min\n",
      "[CV] END ........................C=1, penalty=l1, solver=sag; total time=  21.7s\n",
      "[CV] END ........................C=1, penalty=l1, solver=sag; total time=  17.1s\n",
      "[CV] END ........................C=1, penalty=l1, solver=sag; total time=  18.4s\n",
      "[CV] END ........................C=1, penalty=l1, solver=sag; total time=  16.7s\n",
      "[CV] END ........................C=1, penalty=l1, solver=sag; total time=  20.8s\n",
      "[CV] END .......................C=1, penalty=l1, solver=saga; total time=10.0min\n",
      "[CV] END .......................C=1, penalty=l1, solver=saga; total time=12.1min\n",
      "[CV] END .......................C=1, penalty=l1, solver=saga; total time=10.1min\n",
      "[CV] END .......................C=1, penalty=l1, solver=saga; total time= 9.9min\n",
      "[CV] END .......................C=1, penalty=l1, solver=saga; total time=10.1min\n",
      "[CV] END ........................C=1, penalty=l2, solver=sag; total time= 8.1min\n",
      "[CV] END ........................C=1, penalty=l2, solver=sag; total time= 9.2min\n",
      "[CV] END ........................C=1, penalty=l2, solver=sag; total time= 8.3min\n",
      "[CV] END ........................C=1, penalty=l2, solver=sag; total time= 8.4min\n",
      "[CV] END ........................C=1, penalty=l2, solver=sag; total time= 8.2min\n",
      "[CV] END .......................C=1, penalty=l2, solver=saga; total time= 8.7min\n",
      "[CV] END .......................C=1, penalty=l2, solver=saga; total time= 8.5min\n",
      "[CV] END .......................C=1, penalty=l2, solver=saga; total time= 8.4min\n",
      "[CV] END .......................C=1, penalty=l2, solver=saga; total time= 8.4min\n",
      "[CV] END .......................C=1, penalty=l2, solver=saga; total time= 8.6min\n",
      "Best Score: 0.9822097352204919\n",
      "Grid search completed successfully.\n"
     ]
    }
   ],
   "source": [
    "scaler = StandardScaler()\n",
    "X_train_scaled = scaler.fit_transform(X_train_resampled)\n",
    "\n",
    "param_grid = {\n",
    "    \"penalty\": ['l1','l2'],\n",
    "    'C': [0.0001,0.001,0.01, 0.1, 1],\n",
    "    'solver': ['sag', 'saga']\n",
    "}\n",
    "\n",
    "grid_search = GridSearchCV(LogisticRegression(), param_grid, cv=5,verbose=2)\n",
    "\n",
    "try:\n",
    "    grid_search.fit(X_train_scaled, y_train_resampled)\n",
    "    best_params = grid_search.best_params_\n",
    "    best_score = grid_search.best_score_\n",
    "    print(f\"Best Score: {best_score}\")\n",
    "    print(\"Grid search completed successfully.\")\n",
    "except Exception as e:\n",
    "    print(\"Error occurred during grid search:\")\n",
    "    print(e)"
   ]
  },
  {
   "cell_type": "code",
   "execution_count": 8,
   "id": "dcf2503f",
   "metadata": {
    "scrolled": true
   },
   "outputs": [
    {
     "data": {
      "text/html": [
       "<style>#sk-container-id-1 {color: black;}#sk-container-id-1 pre{padding: 0;}#sk-container-id-1 div.sk-toggleable {background-color: white;}#sk-container-id-1 label.sk-toggleable__label {cursor: pointer;display: block;width: 100%;margin-bottom: 0;padding: 0.3em;box-sizing: border-box;text-align: center;}#sk-container-id-1 label.sk-toggleable__label-arrow:before {content: \"▸\";float: left;margin-right: 0.25em;color: #696969;}#sk-container-id-1 label.sk-toggleable__label-arrow:hover:before {color: black;}#sk-container-id-1 div.sk-estimator:hover label.sk-toggleable__label-arrow:before {color: black;}#sk-container-id-1 div.sk-toggleable__content {max-height: 0;max-width: 0;overflow: hidden;text-align: left;background-color: #f0f8ff;}#sk-container-id-1 div.sk-toggleable__content pre {margin: 0.2em;color: black;border-radius: 0.25em;background-color: #f0f8ff;}#sk-container-id-1 input.sk-toggleable__control:checked~div.sk-toggleable__content {max-height: 200px;max-width: 100%;overflow: auto;}#sk-container-id-1 input.sk-toggleable__control:checked~label.sk-toggleable__label-arrow:before {content: \"▾\";}#sk-container-id-1 div.sk-estimator input.sk-toggleable__control:checked~label.sk-toggleable__label {background-color: #d4ebff;}#sk-container-id-1 div.sk-label input.sk-toggleable__control:checked~label.sk-toggleable__label {background-color: #d4ebff;}#sk-container-id-1 input.sk-hidden--visually {border: 0;clip: rect(1px 1px 1px 1px);clip: rect(1px, 1px, 1px, 1px);height: 1px;margin: -1px;overflow: hidden;padding: 0;position: absolute;width: 1px;}#sk-container-id-1 div.sk-estimator {font-family: monospace;background-color: #f0f8ff;border: 1px dotted black;border-radius: 0.25em;box-sizing: border-box;margin-bottom: 0.5em;}#sk-container-id-1 div.sk-estimator:hover {background-color: #d4ebff;}#sk-container-id-1 div.sk-parallel-item::after {content: \"\";width: 100%;border-bottom: 1px solid gray;flex-grow: 1;}#sk-container-id-1 div.sk-label:hover label.sk-toggleable__label {background-color: #d4ebff;}#sk-container-id-1 div.sk-serial::before {content: \"\";position: absolute;border-left: 1px solid gray;box-sizing: border-box;top: 0;bottom: 0;left: 50%;z-index: 0;}#sk-container-id-1 div.sk-serial {display: flex;flex-direction: column;align-items: center;background-color: white;padding-right: 0.2em;padding-left: 0.2em;position: relative;}#sk-container-id-1 div.sk-item {position: relative;z-index: 1;}#sk-container-id-1 div.sk-parallel {display: flex;align-items: stretch;justify-content: center;background-color: white;position: relative;}#sk-container-id-1 div.sk-item::before, #sk-container-id-1 div.sk-parallel-item::before {content: \"\";position: absolute;border-left: 1px solid gray;box-sizing: border-box;top: 0;bottom: 0;left: 50%;z-index: -1;}#sk-container-id-1 div.sk-parallel-item {display: flex;flex-direction: column;z-index: 1;position: relative;background-color: white;}#sk-container-id-1 div.sk-parallel-item:first-child::after {align-self: flex-end;width: 50%;}#sk-container-id-1 div.sk-parallel-item:last-child::after {align-self: flex-start;width: 50%;}#sk-container-id-1 div.sk-parallel-item:only-child::after {width: 0;}#sk-container-id-1 div.sk-dashed-wrapped {border: 1px dashed gray;margin: 0 0.4em 0.5em 0.4em;box-sizing: border-box;padding-bottom: 0.4em;background-color: white;}#sk-container-id-1 div.sk-label label {font-family: monospace;font-weight: bold;display: inline-block;line-height: 1.2em;}#sk-container-id-1 div.sk-label-container {text-align: center;}#sk-container-id-1 div.sk-container {/* jupyter's `normalize.less` sets `[hidden] { display: none; }` but bootstrap.min.css set `[hidden] { display: none !important; }` so we also need the `!important` here to be able to override the default hidden behavior on the sphinx rendered scikit-learn.org. See: https://github.com/scikit-learn/scikit-learn/issues/21755 */display: inline-block !important;position: relative;}#sk-container-id-1 div.sk-text-repr-fallback {display: none;}</style><div id=\"sk-container-id-1\" class=\"sk-top-container\"><div class=\"sk-text-repr-fallback\"><pre>LogisticRegression(C=1, solver=&#x27;sag&#x27;)</pre><b>In a Jupyter environment, please rerun this cell to show the HTML representation or trust the notebook. <br />On GitHub, the HTML representation is unable to render, please try loading this page with nbviewer.org.</b></div><div class=\"sk-container\" hidden><div class=\"sk-item\"><div class=\"sk-estimator sk-toggleable\"><input class=\"sk-toggleable__control sk-hidden--visually\" id=\"sk-estimator-id-1\" type=\"checkbox\" checked><label for=\"sk-estimator-id-1\" class=\"sk-toggleable__label sk-toggleable__label-arrow\">LogisticRegression</label><div class=\"sk-toggleable__content\"><pre>LogisticRegression(C=1, solver=&#x27;sag&#x27;)</pre></div></div></div></div></div>"
      ],
      "text/plain": [
       "LogisticRegression(C=1, solver='sag')"
      ]
     },
     "execution_count": 8,
     "metadata": {},
     "output_type": "execute_result"
    }
   ],
   "source": [
    "# Train the model\n",
    "model = LogisticRegression(C=best_params['C'], solver=best_params['solver'])\n",
    "model.fit(X_train_scaled, y_train_resampled)"
   ]
  },
  {
   "cell_type": "markdown",
   "id": "18063ac8",
   "metadata": {},
   "source": [
    "## Model Evaluation \n",
    "- Precision: number of True Positives / (number of True Positives + number of False Positives)\n",
    "- Recall: number of True Positives / (number of True Positives + number of False Negatives)\n",
    "- F1 score: A weighted average of precision and recall, F1 = 2*((precision*recall)/(precision+recall))"
   ]
  },
  {
   "cell_type": "code",
   "execution_count": 9,
   "id": "127f1639",
   "metadata": {
    "scrolled": true
   },
   "outputs": [
    {
     "name": "stdout",
     "output_type": "stream",
     "text": [
      "Accuracy: 0.9326251708424459\n",
      "Confusion Matrix:\n",
      "[[837728  60083]\n",
      " [   699   3637]]\n",
      "\n",
      "Classification Report:\n",
      "              precision    recall  f1-score   support\n",
      "\n",
      "         0.0       1.00      0.93      0.96    897811\n",
      "         1.0       0.06      0.84      0.11      4336\n",
      "\n",
      "    accuracy                           0.93    902147\n",
      "   macro avg       0.53      0.89      0.54    902147\n",
      "weighted avg       0.99      0.93      0.96    902147\n",
      "\n"
     ]
    }
   ],
   "source": [
    "# Evaluate the model\n",
    "y_pred = model.predict(X_test)\n",
    "\n",
    "accuracy = accuracy_score(y_test, y_pred)\n",
    "print(f\"Accuracy: {accuracy}\")\n",
    "print(\"Confusion Matrix:\")\n",
    "print(confusion_matrix(y_test, y_pred))\n",
    "print(\"\\nClassification Report:\")\n",
    "print(classification_report(y_test, y_pred))"
   ]
  },
  {
   "cell_type": "markdown",
   "id": "f31108a2",
   "metadata": {},
   "source": [
    "Problem: low recall and f1 score for crash label 1"
   ]
  },
  {
   "cell_type": "markdown",
   "id": "d19aadfc",
   "metadata": {},
   "source": [
    "## Feature Importance"
   ]
  },
  {
   "cell_type": "code",
   "execution_count": 10,
   "id": "abb33faf",
   "metadata": {},
   "outputs": [
    {
     "name": "stdout",
     "output_type": "stream",
     "text": [
      "Feature: price_change, Importance: -0.1847245298797013\n",
      "Feature: volume_change, Importance: -0.1615561257754137\n",
      "Feature: volatility, Importance: -0.4232405065559552\n",
      "Feature: Total_Equity_Risk_Premium_US, Importance: -3.2582867251820793\n",
      "Feature: Population_US, Importance: -3.615767745468302\n",
      "Feature: Unemployment_US, Importance: 1.896590134496471\n",
      "Feature: Inflation_Rate_US, Importance: 0.22421314278774102\n",
      "Feature: housing_US, Importance: 0.10928843006141592\n",
      "Feature: Long-Term_Government_Bond Yields_US, Importance: -0.6236711234787627\n",
      "Feature: turnover_US, Importance: 0.2759949587367035\n",
      "Feature: Recession_Indicators_US, Importance: -0.027007323016188904\n",
      "Feature: GDP_US, Importance: -3.09099925332077\n",
      "Feature: Recession_Indicators_UK, Importance: -0.4820243501647803\n",
      "Feature: FX_Rate_UK, Importance: -0.2223816978274331\n",
      "Feature: GDP_UK, Importance: -0.7382901259213459\n",
      "Feature: housing_UK, Importance: -0.37125731009503293\n",
      "Feature: Long-Term_Government_Bond Yields_UK, Importance: -0.6133803780904274\n",
      "Feature: turnover_UK, Importance: -0.13509865497969373\n",
      "Feature: Inflation_Rate_UK, Importance: 0.2961873329039644\n",
      "Feature: Unemployment_UK, Importance: -0.3013150681101529\n",
      "Feature: Total_Equity_Risk_Premium_UK, Importance: 0.2851889558631777\n",
      "Feature: Population_UK, Importance: -2.0386614176976523\n",
      "Feature: Unemployment_HK, Importance: -0.8842568321889201\n",
      "Feature: Total_Equity_Risk_Premium_HK, Importance: 0.21354152854956462\n",
      "Feature: Population_HK, Importance: -0.44807782186984696\n",
      "Feature: Recession_Indicators_HK, Importance: -0.60907564327066\n",
      "Feature: FX_Rate_HK, Importance: -0.19271532497276866\n",
      "Feature: GDP_HK, Importance: -1.4814682163124262\n",
      "Feature: housing_HK, Importance: -0.04608233621399284\n",
      "Feature: Long-Term_Government_Bond Yields_HK, Importance: -0.05174186330729022\n",
      "Feature: turnover_HK, Importance: 0.25290627311779573\n",
      "Feature: Inflation_Rate_HK, Importance: 0.0638975051283156\n",
      "Feature: FX_Rate_Japan, Importance: 0.6435649472061324\n",
      "Feature: Inflation_Rate_Japan, Importance: 0.053832202885196814\n",
      "Feature: Recession_Indicators_Japan, Importance: -0.822640270712599\n",
      "Feature: Unemployment_Japan, Importance: -0.3233803294868871\n",
      "Feature: Total_Equity_Risk_Premium_Japan, Importance: 0.2915448729489454\n",
      "Feature: turnover_Japan, Importance: -0.20719155068151748\n",
      "Feature: GDP_Japan, Importance: 1.4477974507842655\n",
      "Feature: housing_Japan, Importance: -0.07215013403465398\n",
      "Feature: Population_Japan, Importance: -0.8611841899559932\n",
      "Feature: Long-Term_Government_Bond Yields_Japan, Importance: -0.08982629305032498\n",
      "Feature: Long-Term_Government_Bond Yields_China, Importance: -0.13488738176701487\n",
      "Feature: Population_China, Importance: -0.5624033370233048\n",
      "Feature: housing_China, Importance: -0.06764541110983181\n",
      "Feature: GDP_China, Importance: -0.7556807138815672\n",
      "Feature: turnover_China, Importance: -0.10800078512384567\n",
      "Feature: Total_Equity_Risk_Premium_China, Importance: -0.1408200355094204\n",
      "Feature: Unemployment_China, Importance: -0.1945360942017171\n",
      "Feature: Recession_Indicators_China, Importance: -0.49675746456103254\n",
      "Feature: Inflation_Rate_China, Importance: -0.06260502311977043\n",
      "Feature: FX_Rate_China, Importance: -0.2625386716235583\n",
      "Feature: Population_Switzerland, Importance: -2.2105651616363344\n",
      "Feature: housing_Switzerland, Importance: 0.08123550435936851\n",
      "Feature: Total_Equity_Risk_Premium_Switzerland, Importance: -0.015377476365794153\n",
      "Feature: Recession_Indicators_Switzerland, Importance: -0.21327609240668058\n",
      "Feature: Long-Term_Government_Bond Yields_Switzerland, Importance: -0.01499135367933264\n",
      "Feature: turnover_Switzerland, Importance: 0.019668348832637073\n",
      "Feature: Unemployment_Switzerland, Importance: -0.05475669505946111\n",
      "Feature: GDP_Switzerland, Importance: 0.026223030149158184\n",
      "Feature: FX_Rate_Switzerland, Importance: -0.3624070949122268\n",
      "Feature: Inflation_Rate_Switzerland, Importance: -0.05421377444438785\n",
      "Feature: Recession_Indicators_India, Importance: -0.13849172000776983\n",
      "Feature: FX_Rate_India, Importance: 0.10220705214205347\n",
      "Feature: Inflation_Rate_India, Importance: -0.1729550494999574\n",
      "Feature: Total_Equity_Risk_Premium_India, Importance: -0.14511297312794072\n",
      "Feature: Unemployment_India, Importance: -0.22220480357949315\n",
      "Feature: turnover_India, Importance: -0.06692010670818375\n",
      "Feature: Long-Term_Government_Bond Yields_India, Importance: -0.21166134687444807\n",
      "Feature: GDP_India, Importance: -0.46950542762784636\n",
      "Feature: Population_India, Importance: -0.7547689929637257\n",
      "Feature: housing_India, Importance: -0.21403255093517481\n",
      "Feature: Inflation_Rate_Germany, Importance: 0.054509590961028226\n",
      "Feature: turnover_Germany, Importance: -0.1310420782783432\n",
      "Feature: GDP_Germany, Importance: -0.36166493715231685\n",
      "Feature: Recession_Indicators_Germany, Importance: -0.4667763426913927\n",
      "Feature: Total_Equity_Risk_Premium_Germany, Importance: -0.2821206591497564\n",
      "Feature: FX_Rate_Germany, Importance: -0.2967039749237523\n",
      "Feature: Population_Germany, Importance: -0.33379900590711\n",
      "Feature: Long-Term_Government_Bond Yields_Germany, Importance: -1.8001222447092542\n",
      "Feature: Unemployment_Germany, Importance: 0.6447750793121018\n",
      "Feature: housing_Germany, Importance: -0.09509636563334552\n",
      "Feature: Population_France, Importance: -1.7271943501056624\n",
      "Feature: housing_France, Importance: -0.07583736991815732\n",
      "Feature: Long-Term_Government_Bond Yields_France, Importance: -0.0874947490712587\n",
      "Feature: turnover_France, Importance: -0.13442704956765072\n",
      "Feature: Unemployment_France, Importance: 0.006136792433944429\n",
      "Feature: Total_Equity_Risk_Premium_France, Importance: 0.10218033491368171\n",
      "Feature: Recession_Indicators_France, Importance: -0.2780248448236489\n",
      "Feature: FX_Rate_France, Importance: -0.2575124121077069\n",
      "Feature: Inflation_Rate_France, Importance: -0.15766216012550172\n",
      "Feature: GDP_France, Importance: -0.31549857489673866\n",
      "Feature: GDP_Brazil, Importance: 1.3263426232312798\n",
      "Feature: Inflation_Rate_Brazil, Importance: -0.26661524581893276\n",
      "Feature: Recession_Indicators_Brazil, Importance: -0.4880202707513826\n",
      "Feature: FX_Rate_Brazil, Importance: 0.2645139616174092\n",
      "Feature: Unemployment_Brazil, Importance: -0.0844882891658872\n",
      "Feature: Total_Equity_Risk_Premium_Brazil, Importance: 0.10831637800076244\n",
      "Feature: turnover_Brazil, Importance: 0.5465374320083847\n",
      "Feature: Population_Brazil, Importance: -0.9171368843861614\n",
      "Feature: housing_Brazil, Importance: -1.60027447314717\n",
      "Feature: Crude_Oil_Index_Excess_Return_All, Importance: -0.061860657141962094\n",
      "Feature: Goldprice_Monthly, Importance: -0.18315680919472407\n",
      "Feature: TEDRATE_All, Importance: 0.4466524485669641\n",
      "Feature: Federal_Funds_Effective_Rate_All, Importance: -0.09253409690552519\n",
      "Feature: 10-Year_Treasury_Constant_Maturity_Rate_All, Importance: -0.26758861261165773\n"
     ]
    },
    {
     "data": {
      "image/png": "[encoded data removed]",
      "text/plain": [
       "<Figure size 800x600 with 1 Axes>"
      ]
     },
     "metadata": {},
     "output_type": "display_data"
    }
   ],
   "source": [
    "feature_importance = model.coef_[0]\n",
    "for name, importance in zip(feature_names, feature_importance):\n",
    "    print(f\"Feature: {name}, Importance: {importance}\")\n",
    "\n",
    "plt.figure(figsize=(8, 6))\n",
    "plt.bar(feature_names, feature_importance)\n",
    "plt.title('Feature Importances in Logistic Regression Model')\n",
    "plt.xlabel('Features')\n",
    "plt.ylabel('Importance')\n",
    "plt.show()"
   ]
  },
  {
   "cell_type": "markdown",
   "id": "b0aaf12e",
   "metadata": {},
   "source": [
    "## K-fold Validation"
   ]
  },
  {
   "cell_type": "code",
   "execution_count": 11,
   "id": "c5da1a64",
   "metadata": {},
   "outputs": [
    {
     "name": "stdout",
     "output_type": "stream",
     "text": [
      "Cross-validation scores: [0.99516931 0.99515379 0.99503851 0.98607989 0.98110505 0.99520477\n",
      " 0.99520477 0.99520477 0.99435346 0.99520477]\n",
      "Average cross-validation score: 0.99\n"
     ]
    }
   ],
   "source": [
    "# Perform 10-fold cross-validation\n",
    "scores = cross_val_score(model, X, y, cv=10)\n",
    "\n",
    "# Print the cross-validation scores\n",
    "print(\"Cross-validation scores: {}\".format(scores))\n",
    "print(\"Average cross-validation score: {:.2f}\".format(scores.mean()))"
   ]
  },
  {
   "cell_type": "markdown",
   "id": "60595505",
   "metadata": {},
   "source": [
    "## Prediction Result"
   ]
  },
  {
   "cell_type": "code",
   "execution_count": 12,
   "id": "3a2eea70",
   "metadata": {},
   "outputs": [
    {
     "name": "stdout",
     "output_type": "stream",
     "text": [
      "Crash Probability: 0.06996950491395892\n"
     ]
    }
   ],
   "source": [
    "y_prob = model.predict_proba(X_test)\n",
    "crash_prob = y_prob[:, 1]\n",
    "print(f\"Crash Probability: {crash_prob.mean()}\")"
   ]
  },
  {
   "cell_type": "markdown",
   "id": "122734b4",
   "metadata": {},
   "source": [
    "## AUC-ROC"
   ]
  },
  {
   "cell_type": "code",
   "execution_count": 13,
   "id": "402603a7",
   "metadata": {
    "scrolled": true
   },
   "outputs": [
    {
     "name": "stdout",
     "output_type": "stream",
     "text": [
      "AUC-ROC Score: 0.8645613469872834\n"
     ]
    },
    {
     "data": {
      "image/png": "[encoded data removed]",
      "text/plain": [
       "<Figure size 640x480 with 1 Axes>"
      ]
     },
     "metadata": {},
     "output_type": "display_data"
    }
   ],
   "source": [
    "auc_roc = roc_auc_score(y_test, y_prob[:, 1])\n",
    "\n",
    "print(\"AUC-ROC Score:\", auc_roc)\n",
    "\n",
    "fpr, tpr, thresholds = roc_curve(y_test, y_prob[:, -1])\n",
    "plt.plot(fpr, tpr, label='ROC curve (area = %0.2f)' % auc_roc)\n",
    "plt.plot([0, 1], [0, 1], 'k--')  # Diagonal line\n",
    "plt.xlabel('False Positive Rate')\n",
    "plt.ylabel('True Positive Rate')\n",
    "plt.title('Receiver Operating Characteristic (ROC) Curve')\n",
    "plt.legend(loc=\"lower right\")\n",
    "plt.show()"
   ]
  },
  {
   "cell_type": "code",
   "execution_count": null,
   "id": "75f20196",
   "metadata": {},
   "outputs": [],
   "source": []
  }
 ],
 "metadata": {
  "kernelspec": {
   "display_name": "Python 3 (ipykernel)",
   "language": "python",
   "name": "python3"
  },
  "language_info": {
   "codemirror_mode": {
    "name": "ipython",
    "version": 3
   },
   "file_extension": ".py",
   "mimetype": "text/x-python",
   "name": "python",
   "nbconvert_exporter": "python",
   "pygments_lexer": "ipython3",
   "version": "3.11.4"
  }
 },
 "nbformat": 4,
 "nbformat_minor": 5
}
