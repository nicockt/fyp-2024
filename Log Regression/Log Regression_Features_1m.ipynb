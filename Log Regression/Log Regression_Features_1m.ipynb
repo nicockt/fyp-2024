{
 "cells": [
  {
   "cell_type": "code",
   "execution_count": 1,
   "id": "f65cc283",
   "metadata": {},
   "outputs": [
    {
     "name": "stdout",
     "output_type": "stream",
     "text": [
      "Defaulting to user installation because normal site-packages is not writeable\n",
      "Requirement already satisfied: imbalanced-learn in /Users/me/Library/Python/3.8/lib/python/site-packages (0.11.0)\n",
      "Requirement already satisfied: numpy>=1.17.3 in /Users/me/Library/Python/3.8/lib/python/site-packages (from imbalanced-learn) (1.22.4)\n",
      "Requirement already satisfied: scikit-learn>=1.0.2 in /Users/me/Library/Python/3.8/lib/python/site-packages (from imbalanced-learn) (1.1.2)\n",
      "Requirement already satisfied: threadpoolctl>=2.0.0 in /Users/me/Library/Python/3.8/lib/python/site-packages (from imbalanced-learn) (3.1.0)\n",
      "Requirement already satisfied: joblib>=1.1.1 in /Users/me/Library/Python/3.8/lib/python/site-packages (from imbalanced-learn) (1.3.2)\n",
      "Requirement already satisfied: scipy>=1.5.0 in /Users/me/Library/Python/3.8/lib/python/site-packages (from imbalanced-learn) (1.8.1)\n",
      "\n",
      "\u001b[1m[\u001b[0m\u001b[34;49mnotice\u001b[0m\u001b[1;39;49m]\u001b[0m\u001b[39;49m A new release of pip available: \u001b[0m\u001b[31;49m22.2.2\u001b[0m\u001b[39;49m -> \u001b[0m\u001b[32;49m23.3.1\u001b[0m\n",
      "\u001b[1m[\u001b[0m\u001b[34;49mnotice\u001b[0m\u001b[1;39;49m]\u001b[0m\u001b[39;49m To update, run: \u001b[0m\u001b[32;49m/Library/Developer/CommandLineTools/usr/bin/python3 -m pip install --upgrade pip\u001b[0m\n",
      "Note: you may need to restart the kernel to use updated packages.\n"
     ]
    }
   ],
   "source": [
    "pip install imbalanced-learn"
   ]
  },
  {
   "cell_type": "code",
   "execution_count": 2,
   "id": "3d9b0ff9",
   "metadata": {},
   "outputs": [],
   "source": [
    "import pandas as pd\n",
    "import numpy as np\n",
    "import matplotlib.pyplot as plt\n",
    "from matplotlib import gridspec\n",
    "from sklearn.model_selection import train_test_split\n",
    "from sklearn.preprocessing import StandardScaler\n",
    "from sklearn.linear_model import LogisticRegression\n",
    "from sklearn.metrics import classification_report, confusion_matrix, accuracy_score\n",
    "from sklearn.model_selection import GridSearchCV, cross_val_score\n",
    "from sklearn.metrics import roc_auc_score, roc_curve\n",
    "from pylab import rcParams\n",
    "from imblearn.over_sampling import SMOTE, ADASYN\n",
    "from sklearn.impute import SimpleImputer\n",
    "from imblearn.combine import SMOTETomek\n",
    "from imblearn.over_sampling import RandomOverSampler\n",
    "from imblearn.under_sampling import RandomUnderSampler\n",
    "import pickle\n",
    "import importlib\n",
    "import sys\n",
    "import warnings\n",
    "if not sys.warnoptions:\n",
    "    warnings.simplefilter(\"ignore\")\n",
    "from sklearn.feature_selection import SelectKBest, chi2\n",
    "from sklearn.preprocessing import MinMaxScaler\n",
    "from imblearn.over_sampling import SMOTE"
   ]
  },
  {
   "cell_type": "code",
   "execution_count": 3,
   "id": "8e1c1d8e",
   "metadata": {},
   "outputs": [],
   "source": [
    "# Load the labeled index data from csv\n",
    "labeled_index_df = pd.read_csv(\"../data/merge_file_1m.csv\")"
   ]
  },
  {
   "cell_type": "markdown",
   "id": "9b6b1c57",
   "metadata": {},
   "source": [
    "## Build the model"
   ]
  },
  {
   "cell_type": "code",
   "execution_count": 4,
   "id": "0f55bd83",
   "metadata": {},
   "outputs": [
    {
     "name": "stdout",
     "output_type": "stream",
     "text": [
      "['price_change', 'volume_change', 'volatility', 'Total_Equity_Risk_Premium_US', 'Population_US', 'Unemployment_US', 'Inflation_Rate_US', 'housing_US', 'Long-Term_Government_Bond Yields_US', 'turnover_US', 'Recession_Indicators_US', 'GDP_US', 'Recession_Indicators_UK', 'FX_Rate_UK', 'GDP_UK', 'housing_UK', 'Long-Term_Government_Bond Yields_UK', 'turnover_UK', 'Inflation_Rate_UK', 'Unemployment_UK', 'Total_Equity_Risk_Premium_UK', 'Population_UK', 'Unemployment_HK', 'Total_Equity_Risk_Premium_HK', 'Population_HK', 'Recession_Indicators_HK', 'FX_Rate_HK', 'GDP_HK', 'housing_HK', 'Long-Term_Government_Bond Yields_HK', 'turnover_HK', 'Inflation_Rate_HK', 'FX_Rate_Japan', 'Inflation_Rate_Japan', 'Recession_Indicators_Japan', 'Unemployment_Japan', 'Total_Equity_Risk_Premium_Japan', 'turnover_Japan', 'GDP_Japan', 'housing_Japan', 'Population_Japan', 'Long-Term_Government_Bond Yields_Japan', 'Long-Term_Government_Bond Yields_China', 'Population_China', 'housing_China', 'GDP_China', 'turnover_China', 'Total_Equity_Risk_Premium_China', 'Unemployment_China', 'Recession_Indicators_China', 'Inflation_Rate_China', 'FX_Rate_China', 'Population_Switzerland', 'housing_Switzerland', 'Total_Equity_Risk_Premium_Switzerland', 'Recession_Indicators_Switzerland', 'Long-Term_Government_Bond Yields_Switzerland', 'turnover_Switzerland', 'Unemployment_Switzerland', 'GDP_Switzerland', 'FX_Rate_Switzerland', 'Inflation_Rate_Switzerland', 'Recession_Indicators_India', 'FX_Rate_India', 'Inflation_Rate_India', 'Total_Equity_Risk_Premium_India', 'Unemployment_India', 'turnover_India', 'Long-Term_Government_Bond Yields_India', 'GDP_India', 'Population_India', 'housing_India', 'Inflation_Rate_Germany', 'turnover_Germany', 'GDP_Germany', 'Recession_Indicators_Germany', 'Total_Equity_Risk_Premium_Germany', 'FX_Rate_Germany', 'Population_Germany', 'Long-Term_Government_Bond Yields_Germany', 'Unemployment_Germany', 'housing_Germany', 'Population_France', 'housing_France', 'Long-Term_Government_Bond Yields_France', 'turnover_France', 'Unemployment_France', 'Total_Equity_Risk_Premium_France', 'Recession_Indicators_France', 'FX_Rate_France', 'Inflation_Rate_France', 'GDP_France', 'GDP_Brazil', 'Inflation_Rate_Brazil', 'Recession_Indicators_Brazil', 'FX_Rate_Brazil', 'Unemployment_Brazil', 'Total_Equity_Risk_Premium_Brazil', 'turnover_Brazil', 'Population_Brazil', 'housing_Brazil', 'Crude_Oil_Index_Excess_Return_All', 'Goldprice_Monthly', 'TEDRATE_All', 'Federal_Funds_Effective_Rate_All', '10-Year_Treasury_Constant_Maturity_Rate_All']\n"
     ]
    }
   ],
   "source": [
    "# Set up datasets\n",
    "exclude_col = ['Date_modified','index','price','volume','date','crash_label', 'Date_y', 'Date_x','Date']\n",
    "X = labeled_index_df.drop(exclude_col, axis=1)\n",
    "y = labeled_index_df['crash_label']\n",
    "\n",
    "feature_names = list(X.columns)\n",
    "print(feature_names)\n",
    "# Determine non-numeric attribute names\n",
    "for feature in feature_names:\n",
    "    X[feature] = X[feature].astype('float64')"
   ]
  },
  {
   "cell_type": "code",
   "execution_count": 5,
   "id": "0df865da",
   "metadata": {},
   "outputs": [],
   "source": [
    "# Handle extreme value\n",
    "X[~np.isfinite(X)] = np.finfo(np.float64).max\n",
    "X = np.clip(X, -1e6, 1e6) \n",
    "\n",
    "# Handle NaN\n",
    "imputer = SimpleImputer(strategy='mean')\n",
    "X = imputer.fit_transform(X)"
   ]
  },
  {
   "cell_type": "code",
   "execution_count": 6,
   "id": "c3ec7aab",
   "metadata": {},
   "outputs": [],
   "source": [
    "# Split the training and testing data\n",
    "X_train, X_test, y_train, y_test = train_test_split(X, y, test_size=0.2, random_state=0)"
   ]
  },
  {
   "cell_type": "code",
   "execution_count": 7,
   "id": "b6f9efb0",
   "metadata": {},
   "outputs": [],
   "source": [
    "# Oversample the minority class (1) using SMOTE\n",
    "oversampler = SMOTE(sampling_strategy=0.5, random_state=42)\n",
    "X_train_oversampled, y_train_oversampled = oversampler.fit_resample(X_train, y_train)\n",
    "\n",
    "# Undersample the majority class (0) using RandomUnderSampler\n",
    "undersampler = RandomUnderSampler(sampling_strategy=1.0, random_state=42)\n",
    "X_train_resampled, y_train_resampled = undersampler.fit_resample(X_train_oversampled, y_train_oversampled)"
   ]
  },
  {
   "cell_type": "code",
   "execution_count": 8,
   "id": "336ca963",
   "metadata": {},
   "outputs": [
    {
     "name": "stdout",
     "output_type": "stream",
     "text": [
      "Fitting 5 folds for each of 20 candidates, totalling 100 fits\n",
      "[CV] END ...................C=0.0001, penalty=l1, solver=sag; total time=   8.9s\n",
      "[CV] END ...................C=0.0001, penalty=l1, solver=sag; total time=   8.7s\n",
      "[CV] END ...................C=0.0001, penalty=l1, solver=sag; total time=   7.6s\n",
      "[CV] END ...................C=0.0001, penalty=l1, solver=sag; total time=   7.1s\n",
      "[CV] END ...................C=0.0001, penalty=l1, solver=sag; total time=   9.2s\n",
      "[CV] END ..................C=0.0001, penalty=l1, solver=saga; total time= 9.8min\n",
      "[CV] END ..................C=0.0001, penalty=l1, solver=saga; total time= 8.4min\n",
      "[CV] END ..................C=0.0001, penalty=l1, solver=saga; total time= 8.4min\n",
      "[CV] END ..................C=0.0001, penalty=l1, solver=saga; total time= 8.6min\n",
      "[CV] END ..................C=0.0001, penalty=l1, solver=saga; total time= 8.3min\n",
      "[CV] END ...................C=0.0001, penalty=l2, solver=sag; total time= 1.5min\n",
      "[CV] END ...................C=0.0001, penalty=l2, solver=sag; total time= 1.4min\n",
      "[CV] END ...................C=0.0001, penalty=l2, solver=sag; total time= 1.3min\n",
      "[CV] END ...................C=0.0001, penalty=l2, solver=sag; total time= 1.5min\n",
      "[CV] END ...................C=0.0001, penalty=l2, solver=sag; total time= 1.4min\n",
      "[CV] END ..................C=0.0001, penalty=l2, solver=saga; total time= 2.5min\n",
      "[CV] END ..................C=0.0001, penalty=l2, solver=saga; total time= 2.5min\n",
      "[CV] END ..................C=0.0001, penalty=l2, solver=saga; total time= 2.6min\n",
      "[CV] END ..................C=0.0001, penalty=l2, solver=saga; total time= 2.5min\n",
      "[CV] END ..................C=0.0001, penalty=l2, solver=saga; total time= 2.4min\n",
      "[CV] END ....................C=0.001, penalty=l1, solver=sag; total time=  15.7s\n",
      "[CV] END ....................C=0.001, penalty=l1, solver=sag; total time=   7.2s\n",
      "[CV] END ....................C=0.001, penalty=l1, solver=sag; total time=   7.1s\n",
      "[CV] END ....................C=0.001, penalty=l1, solver=sag; total time=  10.6s\n",
      "[CV] END ....................C=0.001, penalty=l1, solver=sag; total time=   7.5s\n",
      "[CV] END ...................C=0.001, penalty=l1, solver=saga; total time= 9.2min\n",
      "[CV] END ...................C=0.001, penalty=l1, solver=saga; total time= 9.3min\n",
      "[CV] END ...................C=0.001, penalty=l1, solver=saga; total time= 9.3min\n",
      "[CV] END ...................C=0.001, penalty=l1, solver=saga; total time= 9.3min\n",
      "[CV] END ...................C=0.001, penalty=l1, solver=saga; total time= 9.4min\n",
      "[CV] END ....................C=0.001, penalty=l2, solver=sag; total time= 5.5min\n",
      "[CV] END ....................C=0.001, penalty=l2, solver=sag; total time= 5.5min\n",
      "[CV] END ....................C=0.001, penalty=l2, solver=sag; total time= 5.5min\n",
      "[CV] END ....................C=0.001, penalty=l2, solver=sag; total time= 5.5min\n",
      "[CV] END ....................C=0.001, penalty=l2, solver=sag; total time= 5.5min\n",
      "[CV] END ...................C=0.001, penalty=l2, solver=saga; total time= 8.1min\n",
      "[CV] END ...................C=0.001, penalty=l2, solver=saga; total time= 8.1min\n",
      "[CV] END ...................C=0.001, penalty=l2, solver=saga; total time= 8.1min\n",
      "[CV] END ...................C=0.001, penalty=l2, solver=saga; total time= 8.1min\n",
      "[CV] END ...................C=0.001, penalty=l2, solver=saga; total time= 8.1min\n",
      "[CV] END .....................C=0.01, penalty=l1, solver=sag; total time=  16.9s\n",
      "[CV] END .....................C=0.01, penalty=l1, solver=sag; total time=   6.7s\n",
      "[CV] END .....................C=0.01, penalty=l1, solver=sag; total time=   7.4s\n",
      "[CV] END .....................C=0.01, penalty=l1, solver=sag; total time=   9.3s\n",
      "[CV] END .....................C=0.01, penalty=l1, solver=sag; total time=   9.1s\n",
      "[CV] END ....................C=0.01, penalty=l1, solver=saga; total time= 9.5min\n",
      "[CV] END ....................C=0.01, penalty=l1, solver=saga; total time= 9.5min\n",
      "[CV] END ....................C=0.01, penalty=l1, solver=saga; total time= 9.5min\n",
      "[CV] END ....................C=0.01, penalty=l1, solver=saga; total time= 9.5min\n",
      "[CV] END ....................C=0.01, penalty=l1, solver=saga; total time= 9.6min\n",
      "[CV] END .....................C=0.01, penalty=l2, solver=sag; total time= 8.5min\n",
      "[CV] END .....................C=0.01, penalty=l2, solver=sag; total time= 8.5min\n",
      "[CV] END .....................C=0.01, penalty=l2, solver=sag; total time= 8.5min\n",
      "[CV] END .....................C=0.01, penalty=l2, solver=sag; total time= 8.5min\n",
      "[CV] END .....................C=0.01, penalty=l2, solver=sag; total time= 8.5min\n",
      "[CV] END ....................C=0.01, penalty=l2, solver=saga; total time= 8.5min\n",
      "[CV] END ....................C=0.01, penalty=l2, solver=saga; total time= 8.5min\n",
      "[CV] END ....................C=0.01, penalty=l2, solver=saga; total time= 8.5min\n",
      "[CV] END ....................C=0.01, penalty=l2, solver=saga; total time= 8.5min\n",
      "[CV] END ....................C=0.01, penalty=l2, solver=saga; total time= 8.5min\n",
      "[CV] END ......................C=0.1, penalty=l1, solver=sag; total time=  15.7s\n",
      "[CV] END ......................C=0.1, penalty=l1, solver=sag; total time=   7.2s\n",
      "[CV] END ......................C=0.1, penalty=l1, solver=sag; total time=   8.7s\n",
      "[CV] END ......................C=0.1, penalty=l1, solver=sag; total time=   9.4s\n",
      "[CV] END ......................C=0.1, penalty=l1, solver=sag; total time=   8.8s\n",
      "[CV] END .....................C=0.1, penalty=l1, solver=saga; total time= 9.7min\n",
      "[CV] END .....................C=0.1, penalty=l1, solver=saga; total time=10.3min\n",
      "[CV] END .....................C=0.1, penalty=l1, solver=saga; total time= 9.9min\n",
      "[CV] END .....................C=0.1, penalty=l1, solver=saga; total time= 9.9min\n",
      "[CV] END .....................C=0.1, penalty=l1, solver=saga; total time=10.3min\n",
      "[CV] END ......................C=0.1, penalty=l2, solver=sag; total time= 8.2min\n",
      "[CV] END ......................C=0.1, penalty=l2, solver=sag; total time= 8.2min\n",
      "[CV] END ......................C=0.1, penalty=l2, solver=sag; total time= 8.3min\n",
      "[CV] END ......................C=0.1, penalty=l2, solver=sag; total time= 8.4min\n",
      "[CV] END ......................C=0.1, penalty=l2, solver=sag; total time= 8.4min\n",
      "[CV] END .....................C=0.1, penalty=l2, solver=saga; total time= 8.2min\n",
      "[CV] END .....................C=0.1, penalty=l2, solver=saga; total time= 8.3min\n",
      "[CV] END .....................C=0.1, penalty=l2, solver=saga; total time= 8.3min\n",
      "[CV] END .....................C=0.1, penalty=l2, solver=saga; total time= 8.3min\n",
      "[CV] END .....................C=0.1, penalty=l2, solver=saga; total time= 8.4min\n",
      "[CV] END ........................C=1, penalty=l1, solver=sag; total time=  14.6s\n",
      "[CV] END ........................C=1, penalty=l1, solver=sag; total time=   7.1s\n",
      "[CV] END ........................C=1, penalty=l1, solver=sag; total time=   9.2s\n",
      "[CV] END ........................C=1, penalty=l1, solver=sag; total time=   9.6s\n",
      "[CV] END ........................C=1, penalty=l1, solver=sag; total time=   9.0s\n",
      "[CV] END .......................C=1, penalty=l1, solver=saga; total time=10.1min\n",
      "[CV] END .......................C=1, penalty=l1, solver=saga; total time= 9.8min\n",
      "[CV] END .......................C=1, penalty=l1, solver=saga; total time= 9.8min\n",
      "[CV] END .......................C=1, penalty=l1, solver=saga; total time= 9.7min\n",
      "[CV] END .......................C=1, penalty=l1, solver=saga; total time= 9.8min\n",
      "[CV] END ........................C=1, penalty=l2, solver=sag; total time= 8.4min\n",
      "[CV] END ........................C=1, penalty=l2, solver=sag; total time= 8.4min\n",
      "[CV] END ........................C=1, penalty=l2, solver=sag; total time= 8.5min\n",
      "[CV] END ........................C=1, penalty=l2, solver=sag; total time= 8.5min\n",
      "[CV] END ........................C=1, penalty=l2, solver=sag; total time= 8.5min\n",
      "[CV] END .......................C=1, penalty=l2, solver=saga; total time= 8.2min\n",
      "[CV] END .......................C=1, penalty=l2, solver=saga; total time= 8.8min\n",
      "[CV] END .......................C=1, penalty=l2, solver=saga; total time= 8.5min\n",
      "[CV] END .......................C=1, penalty=l2, solver=saga; total time= 8.5min\n",
      "[CV] END .......................C=1, penalty=l2, solver=saga; total time= 8.5min\n",
      "Best Score: 0.9617817510312431\n",
      "Grid search completed successfully.\n"
     ]
    }
   ],
   "source": [
    "scaler = StandardScaler()\n",
    "X_train_scaled = scaler.fit_transform(X_train_resampled)\n",
    "\n",
    "param_grid = {\n",
    "    \"penalty\": ['l1','l2'],\n",
    "    'C': [0.0001,0.001,0.01, 0.1, 1],\n",
    "    'solver': ['sag', 'saga']\n",
    "}\n",
    "\n",
    "grid_search = GridSearchCV(LogisticRegression(), param_grid, cv=5,verbose=2)\n",
    "\n",
    "try:\n",
    "    grid_search.fit(X_train_scaled, y_train_resampled)\n",
    "    best_params = grid_search.best_params_\n",
    "    best_score = grid_search.best_score_\n",
    "    print(f\"Best Score: {best_score}\")\n",
    "    print(\"Grid search completed successfully.\")\n",
    "except Exception as e:\n",
    "    print(\"Error occurred during grid search:\")\n",
    "    print(e)"
   ]
  },
  {
   "cell_type": "code",
   "execution_count": 9,
   "id": "dcf2503f",
   "metadata": {
    "scrolled": true
   },
   "outputs": [
    {
     "data": {
      "text/html": [
       "<style>#sk-container-id-1 {color: black;background-color: white;}#sk-container-id-1 pre{padding: 0;}#sk-container-id-1 div.sk-toggleable {background-color: white;}#sk-container-id-1 label.sk-toggleable__label {cursor: pointer;display: block;width: 100%;margin-bottom: 0;padding: 0.3em;box-sizing: border-box;text-align: center;}#sk-container-id-1 label.sk-toggleable__label-arrow:before {content: \"▸\";float: left;margin-right: 0.25em;color: #696969;}#sk-container-id-1 label.sk-toggleable__label-arrow:hover:before {color: black;}#sk-container-id-1 div.sk-estimator:hover label.sk-toggleable__label-arrow:before {color: black;}#sk-container-id-1 div.sk-toggleable__content {max-height: 0;max-width: 0;overflow: hidden;text-align: left;background-color: #f0f8ff;}#sk-container-id-1 div.sk-toggleable__content pre {margin: 0.2em;color: black;border-radius: 0.25em;background-color: #f0f8ff;}#sk-container-id-1 input.sk-toggleable__control:checked~div.sk-toggleable__content {max-height: 200px;max-width: 100%;overflow: auto;}#sk-container-id-1 input.sk-toggleable__control:checked~label.sk-toggleable__label-arrow:before {content: \"▾\";}#sk-container-id-1 div.sk-estimator input.sk-toggleable__control:checked~label.sk-toggleable__label {background-color: #d4ebff;}#sk-container-id-1 div.sk-label input.sk-toggleable__control:checked~label.sk-toggleable__label {background-color: #d4ebff;}#sk-container-id-1 input.sk-hidden--visually {border: 0;clip: rect(1px 1px 1px 1px);clip: rect(1px, 1px, 1px, 1px);height: 1px;margin: -1px;overflow: hidden;padding: 0;position: absolute;width: 1px;}#sk-container-id-1 div.sk-estimator {font-family: monospace;background-color: #f0f8ff;border: 1px dotted black;border-radius: 0.25em;box-sizing: border-box;margin-bottom: 0.5em;}#sk-container-id-1 div.sk-estimator:hover {background-color: #d4ebff;}#sk-container-id-1 div.sk-parallel-item::after {content: \"\";width: 100%;border-bottom: 1px solid gray;flex-grow: 1;}#sk-container-id-1 div.sk-label:hover label.sk-toggleable__label {background-color: #d4ebff;}#sk-container-id-1 div.sk-serial::before {content: \"\";position: absolute;border-left: 1px solid gray;box-sizing: border-box;top: 0;bottom: 0;left: 50%;z-index: 0;}#sk-container-id-1 div.sk-serial {display: flex;flex-direction: column;align-items: center;background-color: white;padding-right: 0.2em;padding-left: 0.2em;position: relative;}#sk-container-id-1 div.sk-item {position: relative;z-index: 1;}#sk-container-id-1 div.sk-parallel {display: flex;align-items: stretch;justify-content: center;background-color: white;position: relative;}#sk-container-id-1 div.sk-item::before, #sk-container-id-1 div.sk-parallel-item::before {content: \"\";position: absolute;border-left: 1px solid gray;box-sizing: border-box;top: 0;bottom: 0;left: 50%;z-index: -1;}#sk-container-id-1 div.sk-parallel-item {display: flex;flex-direction: column;z-index: 1;position: relative;background-color: white;}#sk-container-id-1 div.sk-parallel-item:first-child::after {align-self: flex-end;width: 50%;}#sk-container-id-1 div.sk-parallel-item:last-child::after {align-self: flex-start;width: 50%;}#sk-container-id-1 div.sk-parallel-item:only-child::after {width: 0;}#sk-container-id-1 div.sk-dashed-wrapped {border: 1px dashed gray;margin: 0 0.4em 0.5em 0.4em;box-sizing: border-box;padding-bottom: 0.4em;background-color: white;}#sk-container-id-1 div.sk-label label {font-family: monospace;font-weight: bold;display: inline-block;line-height: 1.2em;}#sk-container-id-1 div.sk-label-container {text-align: center;}#sk-container-id-1 div.sk-container {/* jupyter's `normalize.less` sets `[hidden] { display: none; }` but bootstrap.min.css set `[hidden] { display: none !important; }` so we also need the `!important` here to be able to override the default hidden behavior on the sphinx rendered scikit-learn.org. See: https://github.com/scikit-learn/scikit-learn/issues/21755 */display: inline-block !important;position: relative;}#sk-container-id-1 div.sk-text-repr-fallback {display: none;}</style><div id=\"sk-container-id-1\" class=\"sk-top-container\"><div class=\"sk-text-repr-fallback\"><pre>LogisticRegression(C=0.1, solver=&#x27;sag&#x27;)</pre><b>In a Jupyter environment, please rerun this cell to show the HTML representation or trust the notebook. <br />On GitHub, the HTML representation is unable to render, please try loading this page with nbviewer.org.</b></div><div class=\"sk-container\" hidden><div class=\"sk-item\"><div class=\"sk-estimator sk-toggleable\"><input class=\"sk-toggleable__control sk-hidden--visually\" id=\"sk-estimator-id-1\" type=\"checkbox\" checked><label for=\"sk-estimator-id-1\" class=\"sk-toggleable__label sk-toggleable__label-arrow\">LogisticRegression</label><div class=\"sk-toggleable__content\"><pre>LogisticRegression(C=0.1, solver=&#x27;sag&#x27;)</pre></div></div></div></div></div>"
      ],
      "text/plain": [
       "LogisticRegression(C=0.1, solver='sag')"
      ]
     },
     "execution_count": 9,
     "metadata": {},
     "output_type": "execute_result"
    }
   ],
   "source": [
    "# Train the model\n",
    "model = LogisticRegression(C=best_params['C'], solver=best_params['solver'])\n",
    "model.fit(X_train_scaled, y_train_resampled)"
   ]
  },
  {
   "cell_type": "markdown",
   "id": "18063ac8",
   "metadata": {},
   "source": [
    "## Model Evaluation \n",
    "- Precision: number of True Positives / (number of True Positives + number of False Positives)\n",
    "- Recall: number of True Positives / (number of True Positives + number of False Negatives)\n",
    "- F1 score: A weighted average of precision and recall, F1 = 2*((precision*recall)/(precision+recall))"
   ]
  },
  {
   "cell_type": "code",
   "execution_count": 10,
   "id": "127f1639",
   "metadata": {
    "scrolled": true
   },
   "outputs": [
    {
     "name": "stdout",
     "output_type": "stream",
     "text": [
      "Accuracy: 0.9538515935526348\n",
      "Confusion Matrix:\n",
      "[[860523  24995]\n",
      " [ 16640     40]]\n",
      "\n",
      "Classification Report:\n",
      "              precision    recall  f1-score   support\n",
      "\n",
      "         0.0       0.98      0.97      0.98    885518\n",
      "         1.0       0.00      0.00      0.00     16680\n",
      "\n",
      "    accuracy                           0.95    902198\n",
      "   macro avg       0.49      0.49      0.49    902198\n",
      "weighted avg       0.96      0.95      0.96    902198\n",
      "\n"
     ]
    }
   ],
   "source": [
    "# Evaluate the model\n",
    "y_pred = model.predict(X_test)\n",
    "\n",
    "accuracy = accuracy_score(y_test, y_pred)\n",
    "print(f\"Accuracy: {accuracy}\")\n",
    "print(\"Confusion Matrix:\")\n",
    "print(confusion_matrix(y_test, y_pred))\n",
    "print(\"\\nClassification Report:\")\n",
    "print(classification_report(y_test, y_pred))"
   ]
  },
  {
   "cell_type": "markdown",
   "id": "f31108a2",
   "metadata": {},
   "source": [
    "Problem: low recall and f1 score for crash label 1"
   ]
  },
  {
   "cell_type": "markdown",
   "id": "d19aadfc",
   "metadata": {},
   "source": [
    "## Feature Importance"
   ]
  },
  {
   "cell_type": "code",
   "execution_count": 11,
   "id": "abb33faf",
   "metadata": {},
   "outputs": [
    {
     "name": "stdout",
     "output_type": "stream",
     "text": [
      "Feature: price_change, Importance: -0.8563204796504172\n",
      "Feature: volume_change, Importance: -0.2310906047821133\n",
      "Feature: volatility, Importance: -1.7454087906541746\n",
      "Feature: Total_Equity_Risk_Premium_US, Importance: -1.8456782271087946\n",
      "Feature: Population_US, Importance: -4.471110629138053\n",
      "Feature: Unemployment_US, Importance: 0.7462793108672438\n",
      "Feature: Inflation_Rate_US, Importance: 0.45758433194183123\n",
      "Feature: housing_US, Importance: 0.016512432979410793\n",
      "Feature: Long-Term_Government_Bond Yields_US, Importance: -0.49835005015009604\n",
      "Feature: turnover_US, Importance: 0.10340295140037968\n",
      "Feature: Recession_Indicators_US, Importance: -0.0013258815339877608\n",
      "Feature: GDP_US, Importance: -1.9439585118931684\n",
      "Feature: Recession_Indicators_UK, Importance: -0.1479457762877336\n",
      "Feature: FX_Rate_UK, Importance: 1.3418462960177702\n",
      "Feature: GDP_UK, Importance: 0.08413420835960127\n",
      "Feature: housing_UK, Importance: -0.10602837804199144\n",
      "Feature: Long-Term_Government_Bond Yields_UK, Importance: 0.32404911343732856\n",
      "Feature: turnover_UK, Importance: -0.9809805388390096\n",
      "Feature: Inflation_Rate_UK, Importance: -0.41614114407419994\n",
      "Feature: Unemployment_UK, Importance: -0.3077988986781108\n",
      "Feature: Total_Equity_Risk_Premium_UK, Importance: -2.1780117124031055\n",
      "Feature: Population_UK, Importance: -0.7810011397782193\n",
      "Feature: Unemployment_HK, Importance: 0.5918910807220213\n",
      "Feature: Total_Equity_Risk_Premium_HK, Importance: 0.10143038658014829\n",
      "Feature: Population_HK, Importance: 0.12455228896629365\n",
      "Feature: Recession_Indicators_HK, Importance: -0.8502731720560145\n",
      "Feature: FX_Rate_HK, Importance: 0.19392246469068222\n",
      "Feature: GDP_HK, Importance: -0.6912057137081359\n",
      "Feature: housing_HK, Importance: -0.22263997647540876\n",
      "Feature: Long-Term_Government_Bond Yields_HK, Importance: 0.1552618862588642\n",
      "Feature: turnover_HK, Importance: -0.2931917747573039\n",
      "Feature: Inflation_Rate_HK, Importance: 0.11683806269968042\n",
      "Feature: FX_Rate_Japan, Importance: 1.1364948414069644\n",
      "Feature: Inflation_Rate_Japan, Importance: 0.1359994157927297\n",
      "Feature: Recession_Indicators_Japan, Importance: 0.32651884591527003\n",
      "Feature: Unemployment_Japan, Importance: -0.5674935590129204\n",
      "Feature: Total_Equity_Risk_Premium_Japan, Importance: 0.40197746703220555\n",
      "Feature: turnover_Japan, Importance: 0.10671895980088474\n",
      "Feature: GDP_Japan, Importance: 0.7147484424653321\n",
      "Feature: housing_Japan, Importance: -0.18968056774144662\n",
      "Feature: Population_Japan, Importance: 0.07338567224216898\n",
      "Feature: Long-Term_Government_Bond Yields_Japan, Importance: -0.279498101490661\n",
      "Feature: Long-Term_Government_Bond Yields_China, Importance: 0.5236699938325571\n",
      "Feature: Population_China, Importance: -2.767568700522602\n",
      "Feature: housing_China, Importance: -0.057771162686762065\n",
      "Feature: GDP_China, Importance: 1.30603751243139\n",
      "Feature: turnover_China, Importance: 0.6685149274035181\n",
      "Feature: Total_Equity_Risk_Premium_China, Importance: 0.20220240350269736\n",
      "Feature: Unemployment_China, Importance: 0.9613489231808604\n",
      "Feature: Recession_Indicators_China, Importance: -0.1363216944019323\n",
      "Feature: Inflation_Rate_China, Importance: -0.42232032699466815\n",
      "Feature: FX_Rate_China, Importance: -0.529964194223246\n",
      "Feature: Population_Switzerland, Importance: 0.31218930757507396\n",
      "Feature: housing_Switzerland, Importance: -0.12251225870954438\n",
      "Feature: Total_Equity_Risk_Premium_Switzerland, Importance: 0.3410920853730447\n",
      "Feature: Recession_Indicators_Switzerland, Importance: 0.08243461093204137\n",
      "Feature: Long-Term_Government_Bond Yields_Switzerland, Importance: 0.03678778091147896\n",
      "Feature: turnover_Switzerland, Importance: 0.02354577510001232\n",
      "Feature: Unemployment_Switzerland, Importance: -0.5574287358144677\n",
      "Feature: GDP_Switzerland, Importance: -0.1780417443578543\n",
      "Feature: FX_Rate_Switzerland, Importance: -0.1478994835595762\n",
      "Feature: Inflation_Rate_Switzerland, Importance: -0.10906223870957583\n",
      "Feature: Recession_Indicators_India, Importance: 0.08488485655753848\n",
      "Feature: FX_Rate_India, Importance: 0.5838671514384056\n",
      "Feature: Inflation_Rate_India, Importance: -0.5832004675938282\n",
      "Feature: Total_Equity_Risk_Premium_India, Importance: -0.3431448679776043\n",
      "Feature: Unemployment_India, Importance: -0.4604937577278465\n",
      "Feature: turnover_India, Importance: 1.3984007819614326\n",
      "Feature: Long-Term_Government_Bond Yields_India, Importance: -0.19560888231998888\n",
      "Feature: GDP_India, Importance: -0.5901496475360968\n",
      "Feature: Population_India, Importance: -0.9488413877662405\n",
      "Feature: housing_India, Importance: -0.45450248255729286\n",
      "Feature: Inflation_Rate_Germany, Importance: 0.07121678204137864\n",
      "Feature: turnover_Germany, Importance: 0.05614910591141544\n",
      "Feature: GDP_Germany, Importance: -0.6580630360796847\n",
      "Feature: Recession_Indicators_Germany, Importance: -0.26992963469311093\n",
      "Feature: Total_Equity_Risk_Premium_Germany, Importance: -0.02325718833820062\n",
      "Feature: FX_Rate_Germany, Importance: -1.1275740791142868\n",
      "Feature: Population_Germany, Importance: -0.34826265754929187\n",
      "Feature: Long-Term_Government_Bond Yields_Germany, Importance: -0.8301918405986116\n",
      "Feature: Unemployment_Germany, Importance: -0.16988552847156374\n",
      "Feature: housing_Germany, Importance: -0.0605628625051348\n",
      "Feature: Population_France, Importance: -0.17739492628945025\n",
      "Feature: housing_France, Importance: -0.19472846384601752\n",
      "Feature: Long-Term_Government_Bond Yields_France, Importance: 0.07125961140335213\n",
      "Feature: turnover_France, Importance: 0.036977345762407715\n",
      "Feature: Unemployment_France, Importance: 0.8061616634952121\n",
      "Feature: Total_Equity_Risk_Premium_France, Importance: -0.013559866920452794\n",
      "Feature: Recession_Indicators_France, Importance: 0.09756361195527911\n",
      "Feature: FX_Rate_France, Importance: -0.6984450878161931\n",
      "Feature: Inflation_Rate_France, Importance: 0.1275675547058431\n",
      "Feature: GDP_France, Importance: -0.14808110791060686\n",
      "Feature: GDP_Brazil, Importance: 0.23644046768016352\n",
      "Feature: Inflation_Rate_Brazil, Importance: -0.799464391915228\n",
      "Feature: Recession_Indicators_Brazil, Importance: -0.1092481480425355\n",
      "Feature: FX_Rate_Brazil, Importance: 1.1059104100289348\n",
      "Feature: Unemployment_Brazil, Importance: -1.045253404884614\n",
      "Feature: Total_Equity_Risk_Premium_Brazil, Importance: 0.41420107809525686\n",
      "Feature: turnover_Brazil, Importance: 1.18498187140738\n",
      "Feature: Population_Brazil, Importance: 0.11443952486277942\n",
      "Feature: housing_Brazil, Importance: -2.0457402094140527\n",
      "Feature: Crude_Oil_Index_Excess_Return_All, Importance: -0.05320661761889322\n",
      "Feature: Goldprice_Monthly, Importance: 1.2971317385224088\n",
      "Feature: TEDRATE_All, Importance: 1.4820088565208078\n",
      "Feature: Federal_Funds_Effective_Rate_All, Importance: -0.2652891843486355\n",
      "Feature: 10-Year_Treasury_Constant_Maturity_Rate_All, Importance: -0.6398721796118084\n"
     ]
    },
    {
     "data": {
      "image/png": "[encoded data removed]",
      "text/plain": [
       "<Figure size 576x432 with 1 Axes>"
      ]
     },
     "metadata": {
      "needs_background": "light"
     },
     "output_type": "display_data"
    }
   ],
   "source": [
    "feature_importance = model.coef_[0]\n",
    "for name, importance in zip(feature_names, feature_importance):\n",
    "    print(f\"Feature: {name}, Importance: {importance}\")\n",
    "\n",
    "plt.figure(figsize=(8, 6))\n",
    "plt.bar(feature_names, feature_importance)\n",
    "plt.title('Feature Importances in Logistic Regression Model')\n",
    "plt.xlabel('Features')\n",
    "plt.ylabel('Importance')\n",
    "plt.show()"
   ]
  },
  {
   "cell_type": "markdown",
   "id": "b0aaf12e",
   "metadata": {},
   "source": [
    "## K-fold Validation"
   ]
  },
  {
   "cell_type": "code",
   "execution_count": 12,
   "id": "c5da1a64",
   "metadata": {},
   "outputs": [
    {
     "name": "stdout",
     "output_type": "stream",
     "text": [
      "Cross-validation scores: [0.98153177 0.98139433 0.98107067 0.95548206 0.89032341 0.98152955\n",
      " 0.9817867  0.98152955 0.97930831 0.9236729 ]\n",
      "Average cross-validation score: 0.96\n"
     ]
    }
   ],
   "source": [
    "# Perform 10-fold cross-validation\n",
    "scores = cross_val_score(model, X, y, cv=10)\n",
    "\n",
    "# Print the cross-validation scores\n",
    "print(\"Cross-validation scores: {}\".format(scores))\n",
    "print(\"Average cross-validation score: {:.2f}\".format(scores.mean()))"
   ]
  },
  {
   "cell_type": "markdown",
   "id": "60595505",
   "metadata": {},
   "source": [
    "## Prediction Result"
   ]
  },
  {
   "cell_type": "code",
   "execution_count": 13,
   "id": "3a2eea70",
   "metadata": {},
   "outputs": [
    {
     "name": "stdout",
     "output_type": "stream",
     "text": [
      "Crash Probability: 0.027712325180388058\n"
     ]
    }
   ],
   "source": [
    "y_prob = model.predict_proba(X_test)\n",
    "crash_prob = y_prob[:, 1]\n",
    "print(f\"Crash Probability: {crash_prob.mean()}\")"
   ]
  },
  {
   "cell_type": "markdown",
   "id": "122734b4",
   "metadata": {},
   "source": [
    "## AUC-ROC"
   ]
  },
  {
   "cell_type": "code",
   "execution_count": 14,
   "id": "402603a7",
   "metadata": {
    "scrolled": true
   },
   "outputs": [
    {
     "name": "stdout",
     "output_type": "stream",
     "text": [
      "AUC-ROC Score: 0.3326947878433716\n"
     ]
    },
    {
     "data": {
      "image/png": "[encoded data removed]",
      "text/plain": [
       "<Figure size 432x288 with 1 Axes>"
      ]
     },
     "metadata": {
      "needs_background": "light"
     },
     "output_type": "display_data"
    }
   ],
   "source": [
    "auc_roc = roc_auc_score(y_test, y_prob[:, 1])\n",
    "\n",
    "print(\"AUC-ROC Score:\", auc_roc)\n",
    "\n",
    "fpr, tpr, thresholds = roc_curve(y_test, y_prob[:, -1])\n",
    "plt.plot(fpr, tpr, label='ROC curve (area = %0.2f)' % auc_roc)\n",
    "plt.plot([0, 1], [0, 1], 'k--')  # Diagonal line\n",
    "plt.xlabel('False Positive Rate')\n",
    "plt.ylabel('True Positive Rate')\n",
    "plt.title('Receiver Operating Characteristic (ROC) Curve')\n",
    "plt.legend(loc=\"lower right\")\n",
    "plt.show()"
   ]
  },
  {
   "cell_type": "code",
   "execution_count": 15,
   "id": "75f20196",
   "metadata": {},
   "outputs": [
    {
     "ename": "NameError",
     "evalue": "name 'model_dict' is not defined",
     "output_type": "error",
     "traceback": [
      "\u001b[0;31m---------------------------------------------------------------------------\u001b[0m",
      "\u001b[0;31mNameError\u001b[0m                                 Traceback (most recent call last)",
      "\u001b[1;32m/Users/me/Desktop/from_git/Log Regression/Log Regression_Features_1m.ipynb Cell 22'\u001b[0m in \u001b[0;36m<cell line: 1>\u001b[0;34m()\u001b[0m\n\u001b[0;32m----> <a href='vscode-notebook-cell:/Users/me/Desktop/from_git/Log%20Regression/Log%20Regression_Features_1m.ipynb#ch0000021?line=0'>1</a>\u001b[0m \u001b[39mfor\u001b[39;00m month, model \u001b[39min\u001b[39;00m model_dict\u001b[39m.\u001b[39mitems():\n\u001b[1;32m      <a href='vscode-notebook-cell:/Users/me/Desktop/from_git/Log%20Regression/Log%20Regression_Features_1m.ipynb#ch0000021?line=1'>2</a>\u001b[0m     \u001b[39mprint\u001b[39m(month, \u001b[39m\"\u001b[39m\u001b[39mprediction model:\u001b[39m\u001b[39m\"\u001b[39m)\n\u001b[1;32m      <a href='vscode-notebook-cell:/Users/me/Desktop/from_git/Log%20Regression/Log%20Regression_Features_1m.ipynb#ch0000021?line=2'>3</a>\u001b[0m     y_pred \u001b[39m=\u001b[39m model\u001b[39m.\u001b[39mpredict(X_test)\n",
      "\u001b[0;31mNameError\u001b[0m: name 'model_dict' is not defined"
     ]
    }
   ],
   "source": [
    "for month, model in model_dict.items():\n",
    "    print(month, \"prediction model:\")\n",
    "    y_pred = model.predict(X_test)\n",
    "\n",
    "    accuracy = accuracy_score(y_test, y_pred)\n",
    "    rmse = np.sqrt(mean_squared_error(y_test, y_pred))\n",
    "    mape = np.mean(np.abs((y_test - y_pred) / y_test)) * 100\n",
    "\n",
    "    print(f\"Accuracy: {accuracy}\")\n",
    "    print(f\"RMSE: {rmse}\")\n",
    "    print(f'MAPE: {mape}%') "
   ]
  },
  {
   "cell_type": "code",
   "execution_count": null,
   "id": "d0445b3d",
   "metadata": {},
   "outputs": [],
   "source": []
  }
 ],
 "metadata": {
  "interpreter": {
   "hash": "31f2aee4e71d21fbe5cf8b01ff0e069b9275f58929596ceb00d14d90e3e16cd6"
  },
  "kernelspec": {
   "display_name": "Python 3.8.2 64-bit",
   "language": "python",
   "name": "python3"
  },
  "language_info": {
   "codemirror_mode": {
    "name": "ipython",
    "version": 3
   },
   "file_extension": ".py",
   "mimetype": "text/x-python",
   "name": "python",
   "nbconvert_exporter": "python",
   "pygments_lexer": "ipython3",
   "version": "3.8.2"
  }
 },
 "nbformat": 4,
 "nbformat_minor": 5
}
