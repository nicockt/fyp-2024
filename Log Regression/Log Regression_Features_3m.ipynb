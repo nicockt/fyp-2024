{
 "cells": [
  {
   "cell_type": "code",
   "execution_count": 1,
   "id": "f65cc283",
   "metadata": {},
   "outputs": [
    {
     "name": "stdout",
     "output_type": "stream",
     "text": [
      "Requirement already satisfied: imbalanced-learn in /Users/elroylo/anaconda3/lib/python3.11/site-packages (0.11.0)\n",
      "Requirement already satisfied: numpy>=1.17.3 in /Users/elroylo/anaconda3/lib/python3.11/site-packages (from imbalanced-learn) (1.24.3)\n",
      "Requirement already satisfied: scipy>=1.5.0 in /Users/elroylo/anaconda3/lib/python3.11/site-packages (from imbalanced-learn) (1.10.1)\n",
      "Requirement already satisfied: scikit-learn>=1.0.2 in /Users/elroylo/anaconda3/lib/python3.11/site-packages (from imbalanced-learn) (1.3.2)\n",
      "Requirement already satisfied: joblib>=1.1.1 in /Users/elroylo/anaconda3/lib/python3.11/site-packages (from imbalanced-learn) (1.2.0)\n",
      "Requirement already satisfied: threadpoolctl>=2.0.0 in /Users/elroylo/anaconda3/lib/python3.11/site-packages (from imbalanced-learn) (2.2.0)\n",
      "Note: you may need to restart the kernel to use updated packages.\n"
     ]
    }
   ],
   "source": [
    "pip install imbalanced-learn"
   ]
  },
  {
   "cell_type": "code",
   "execution_count": 1,
   "id": "3d9b0ff9",
   "metadata": {},
   "outputs": [],
   "source": [
    "import pandas as pd\n",
    "import numpy as np\n",
    "import matplotlib.pyplot as plt\n",
    "from matplotlib import gridspec\n",
    "from sklearn.model_selection import train_test_split\n",
    "from sklearn.preprocessing import StandardScaler\n",
    "from sklearn.linear_model import LogisticRegression\n",
    "from sklearn.metrics import classification_report, confusion_matrix, accuracy_score\n",
    "from sklearn.model_selection import GridSearchCV, cross_val_score\n",
    "from sklearn.metrics import roc_auc_score, roc_curve\n",
    "from pylab import rcParams\n",
    "from imblearn.over_sampling import SMOTE, ADASYN\n",
    "from sklearn.impute import SimpleImputer\n",
    "from imblearn.combine import SMOTETomek\n",
    "from imblearn.over_sampling import RandomOverSampler\n",
    "from imblearn.under_sampling import RandomUnderSampler\n",
    "import pickle\n",
    "import importlib\n",
    "import sys\n",
    "import warnings\n",
    "if not sys.warnoptions:\n",
    "    warnings.simplefilter(\"ignore\")\n",
    "from sklearn.feature_selection import SelectKBest, chi2\n",
    "from sklearn.preprocessing import MinMaxScaler\n",
    "from imblearn.over_sampling import SMOTE\n",
    "from sklearn.metrics import mean_squared_error"
   ]
  },
  {
   "cell_type": "code",
   "execution_count": 2,
   "id": "8e1c1d8e",
   "metadata": {},
   "outputs": [],
   "source": [
    "# Load the labeled index data from csv\n",
    "labeled_index_df = pd.read_csv(\"../data/merge_file_3m.csv\")"
   ]
  },
  {
   "cell_type": "markdown",
   "id": "9b6b1c57",
   "metadata": {},
   "source": [
    "## Build the model"
   ]
  },
  {
   "cell_type": "code",
   "execution_count": 3,
   "id": "0f55bd83",
   "metadata": {},
   "outputs": [
    {
     "name": "stdout",
     "output_type": "stream",
     "text": [
      "['price_change', 'volume_change', 'volatility', 'Total_Equity_Risk_Premium_US', 'Population_US', 'Unemployment_US', 'Inflation_Rate_US', 'housing_US', 'Long-Term_Government_Bond Yields_US', 'turnover_US', 'Recession_Indicators_US', 'GDP_US', 'Recession_Indicators_UK', 'FX_Rate_UK', 'GDP_UK', 'housing_UK', 'Long-Term_Government_Bond Yields_UK', 'turnover_UK', 'Inflation_Rate_UK', 'Unemployment_UK', 'Total_Equity_Risk_Premium_UK', 'Population_UK', 'Unemployment_HK', 'Total_Equity_Risk_Premium_HK', 'Population_HK', 'Recession_Indicators_HK', 'FX_Rate_HK', 'GDP_HK', 'housing_HK', 'Long-Term_Government_Bond Yields_HK', 'turnover_HK', 'Inflation_Rate_HK', 'FX_Rate_Japan', 'Inflation_Rate_Japan', 'Recession_Indicators_Japan', 'Unemployment_Japan', 'Total_Equity_Risk_Premium_Japan', 'turnover_Japan', 'GDP_Japan', 'housing_Japan', 'Population_Japan', 'Long-Term_Government_Bond Yields_Japan', 'Long-Term_Government_Bond Yields_China', 'Population_China', 'housing_China', 'GDP_China', 'turnover_China', 'Total_Equity_Risk_Premium_China', 'Unemployment_China', 'Recession_Indicators_China', 'Inflation_Rate_China', 'FX_Rate_China', 'Population_Switzerland', 'housing_Switzerland', 'Total_Equity_Risk_Premium_Switzerland', 'Recession_Indicators_Switzerland', 'Long-Term_Government_Bond Yields_Switzerland', 'turnover_Switzerland', 'Unemployment_Switzerland', 'GDP_Switzerland', 'FX_Rate_Switzerland', 'Inflation_Rate_Switzerland', 'Recession_Indicators_India', 'FX_Rate_India', 'Inflation_Rate_India', 'Total_Equity_Risk_Premium_India', 'Unemployment_India', 'turnover_India', 'Long-Term_Government_Bond Yields_India', 'GDP_India', 'Population_India', 'housing_India', 'Inflation_Rate_Germany', 'turnover_Germany', 'GDP_Germany', 'Recession_Indicators_Germany', 'Total_Equity_Risk_Premium_Germany', 'FX_Rate_Germany', 'Population_Germany', 'Long-Term_Government_Bond Yields_Germany', 'Unemployment_Germany', 'housing_Germany', 'Population_France', 'housing_France', 'Long-Term_Government_Bond Yields_France', 'turnover_France', 'Unemployment_France', 'Total_Equity_Risk_Premium_France', 'Recession_Indicators_France', 'FX_Rate_France', 'Inflation_Rate_France', 'GDP_France', 'GDP_Brazil', 'Inflation_Rate_Brazil', 'Recession_Indicators_Brazil', 'FX_Rate_Brazil', 'Unemployment_Brazil', 'Total_Equity_Risk_Premium_Brazil', 'turnover_Brazil', 'Population_Brazil', 'housing_Brazil', 'Crude_Oil_Index_Excess_Return_All', 'Goldprice_Monthly', 'TEDRATE_All', 'Federal_Funds_Effective_Rate_All', '10-Year_Treasury_Constant_Maturity_Rate_All']\n"
     ]
    }
   ],
   "source": [
    "# Set up datasets\n",
    "exclude_col = ['Date_modified','index','price','volume','date','crash_label', 'Date_y', 'Date_x','Date']\n",
    "X = labeled_index_df.drop(exclude_col, axis=1)\n",
    "y = labeled_index_df['crash_label']\n",
    "\n",
    "feature_names = list(X.columns)\n",
    "print(feature_names)\n",
    "# Determine non-numeric attribute names\n",
    "for feature in feature_names:\n",
    "    X[feature] = X[feature].astype('float64')"
   ]
  },
  {
   "cell_type": "code",
   "execution_count": 4,
   "id": "0df865da",
   "metadata": {},
   "outputs": [],
   "source": [
    "# Handle extreme value\n",
    "X[~np.isfinite(X)] = np.finfo(np.float64).max\n",
    "X = np.clip(X, -1e6, 1e6) \n",
    "\n",
    "# Handle NaN\n",
    "imputer = SimpleImputer(strategy='mean')\n",
    "X = imputer.fit_transform(X)"
   ]
  },
  {
   "cell_type": "code",
   "execution_count": 5,
   "id": "c3ec7aab",
   "metadata": {},
   "outputs": [],
   "source": [
    "# Split the training and testing data\n",
    "X_train, X_test, y_train, y_test = train_test_split(X, y, test_size=0.2, random_state=0)"
   ]
  },
  {
   "cell_type": "code",
   "execution_count": 6,
   "id": "b6f9efb0",
   "metadata": {},
   "outputs": [],
   "source": [
    "# Oversample the minority class (1) using SMOTE\n",
    "oversampler = SMOTE(sampling_strategy=0.5, random_state=42)\n",
    "X_train_oversampled, y_train_oversampled = oversampler.fit_resample(X_train, y_train)\n",
    "\n",
    "# Undersample the majority class (0) using RandomUnderSampler\n",
    "undersampler = RandomUnderSampler(sampling_strategy=1.0, random_state=42)\n",
    "X_train_resampled, y_train_resampled = undersampler.fit_resample(X_train_oversampled, y_train_oversampled)"
   ]
  },
  {
   "cell_type": "code",
   "execution_count": 7,
   "id": "336ca963",
   "metadata": {},
   "outputs": [
    {
     "name": "stdout",
     "output_type": "stream",
     "text": [
      "Fitting 5 folds for each of 20 candidates, totalling 100 fits\n",
      "[CV] END ...................C=0.0001, penalty=l1, solver=sag; total time=   8.7s\n",
      "[CV] END ...................C=0.0001, penalty=l1, solver=sag; total time=   9.2s\n",
      "[CV] END ...................C=0.0001, penalty=l1, solver=sag; total time=   9.2s\n",
      "[CV] END ...................C=0.0001, penalty=l1, solver=sag; total time=   8.0s\n",
      "[CV] END ...................C=0.0001, penalty=l1, solver=sag; total time=   6.6s\n",
      "[CV] END ..................C=0.0001, penalty=l1, solver=saga; total time= 5.5min\n",
      "[CV] END ..................C=0.0001, penalty=l1, solver=saga; total time= 4.5min\n",
      "[CV] END ..................C=0.0001, penalty=l1, solver=saga; total time= 4.7min\n",
      "[CV] END ..................C=0.0001, penalty=l1, solver=saga; total time= 4.8min\n",
      "[CV] END ..................C=0.0001, penalty=l1, solver=saga; total time= 4.8min\n",
      "[CV] END ...................C=0.0001, penalty=l2, solver=sag; total time=28.6min\n",
      "[CV] END ...................C=0.0001, penalty=l2, solver=sag; total time=35.7min\n",
      "[CV] END ...................C=0.0001, penalty=l2, solver=sag; total time= 1.5min\n",
      "[CV] END ...................C=0.0001, penalty=l2, solver=sag; total time= 1.6min\n",
      "[CV] END ...................C=0.0001, penalty=l2, solver=sag; total time= 1.4min\n",
      "[CV] END ..................C=0.0001, penalty=l2, solver=saga; total time= 2.8min\n",
      "[CV] END ..................C=0.0001, penalty=l2, solver=saga; total time= 2.9min\n",
      "[CV] END ..................C=0.0001, penalty=l2, solver=saga; total time= 2.8min\n",
      "[CV] END ..................C=0.0001, penalty=l2, solver=saga; total time= 2.8min\n",
      "[CV] END ..................C=0.0001, penalty=l2, solver=saga; total time= 2.8min\n",
      "[CV] END ....................C=0.001, penalty=l1, solver=sag; total time=  14.6s\n",
      "[CV] END ....................C=0.001, penalty=l1, solver=sag; total time=   8.0s\n",
      "[CV] END ....................C=0.001, penalty=l1, solver=sag; total time=   8.5s\n",
      "[CV] END ....................C=0.001, penalty=l1, solver=sag; total time=   8.5s\n",
      "[CV] END ....................C=0.001, penalty=l1, solver=sag; total time=   6.7s\n",
      "[CV] END ...................C=0.001, penalty=l1, solver=saga; total time= 9.8min\n",
      "[CV] END ...................C=0.001, penalty=l1, solver=saga; total time=10.0min\n",
      "[CV] END ...................C=0.001, penalty=l1, solver=saga; total time= 9.7min\n",
      "[CV] END ...................C=0.001, penalty=l1, solver=saga; total time= 9.9min\n",
      "[CV] END ...................C=0.001, penalty=l1, solver=saga; total time= 9.8min\n",
      "[CV] END ....................C=0.001, penalty=l2, solver=sag; total time= 7.8min\n",
      "[CV] END ....................C=0.001, penalty=l2, solver=sag; total time= 8.3min\n",
      "[CV] END ....................C=0.001, penalty=l2, solver=sag; total time= 8.2min\n",
      "[CV] END ....................C=0.001, penalty=l2, solver=sag; total time= 8.2min\n",
      "[CV] END ....................C=0.001, penalty=l2, solver=sag; total time= 8.1min\n",
      "[CV] END ...................C=0.001, penalty=l2, solver=saga; total time= 8.4min\n",
      "[CV] END ...................C=0.001, penalty=l2, solver=saga; total time= 8.6min\n",
      "[CV] END ...................C=0.001, penalty=l2, solver=saga; total time= 8.6min\n",
      "[CV] END ...................C=0.001, penalty=l2, solver=saga; total time= 8.3min\n",
      "[CV] END ...................C=0.001, penalty=l2, solver=saga; total time= 8.5min\n",
      "[CV] END .....................C=0.01, penalty=l1, solver=sag; total time=  12.0s\n",
      "[CV] END .....................C=0.01, penalty=l1, solver=sag; total time=   8.0s\n",
      "[CV] END .....................C=0.01, penalty=l1, solver=sag; total time=   8.3s\n",
      "[CV] END .....................C=0.01, penalty=l1, solver=sag; total time=   8.8s\n",
      "[CV] END .....................C=0.01, penalty=l1, solver=sag; total time=   6.5s\n",
      "[CV] END ....................C=0.01, penalty=l1, solver=saga; total time=10.0min\n",
      "[CV] END ....................C=0.01, penalty=l1, solver=saga; total time=10.0min\n",
      "[CV] END ....................C=0.01, penalty=l1, solver=saga; total time=10.0min\n",
      "[CV] END ....................C=0.01, penalty=l1, solver=saga; total time=10.0min\n",
      "[CV] END ....................C=0.01, penalty=l1, solver=saga; total time= 9.9min\n",
      "[CV] END .....................C=0.01, penalty=l2, solver=sag; total time= 8.3min\n",
      "[CV] END .....................C=0.01, penalty=l2, solver=sag; total time= 8.4min\n",
      "[CV] END .....................C=0.01, penalty=l2, solver=sag; total time= 8.4min\n",
      "[CV] END .....................C=0.01, penalty=l2, solver=sag; total time= 8.5min\n",
      "[CV] END .....................C=0.01, penalty=l2, solver=sag; total time= 8.5min\n",
      "[CV] END ....................C=0.01, penalty=l2, solver=saga; total time= 8.3min\n",
      "[CV] END ....................C=0.01, penalty=l2, solver=saga; total time= 8.5min\n",
      "[CV] END ....................C=0.01, penalty=l2, solver=saga; total time= 8.5min\n",
      "[CV] END ....................C=0.01, penalty=l2, solver=saga; total time= 8.5min\n",
      "[CV] END ....................C=0.01, penalty=l2, solver=saga; total time= 8.5min\n",
      "[CV] END ......................C=0.1, penalty=l1, solver=sag; total time=  11.6s\n",
      "[CV] END ......................C=0.1, penalty=l1, solver=sag; total time=   8.2s\n",
      "[CV] END ......................C=0.1, penalty=l1, solver=sag; total time=   8.0s\n",
      "[CV] END ......................C=0.1, penalty=l1, solver=sag; total time=   7.9s\n",
      "[CV] END ......................C=0.1, penalty=l1, solver=sag; total time=   6.7s\n",
      "[CV] END .....................C=0.1, penalty=l1, solver=saga; total time=10.2min\n",
      "[CV] END .....................C=0.1, penalty=l1, solver=saga; total time=10.4min\n",
      "[CV] END .....................C=0.1, penalty=l1, solver=saga; total time=10.1min\n",
      "[CV] END .....................C=0.1, penalty=l1, solver=saga; total time=10.3min\n",
      "[CV] END .....................C=0.1, penalty=l1, solver=saga; total time=10.2min\n",
      "[CV] END ......................C=0.1, penalty=l2, solver=sag; total time= 8.4min\n",
      "[CV] END ......................C=0.1, penalty=l2, solver=sag; total time= 7.7min\n",
      "[CV] END ......................C=0.1, penalty=l2, solver=sag; total time= 8.5min\n",
      "[CV] END ......................C=0.1, penalty=l2, solver=sag; total time= 8.3min\n",
      "[CV] END ......................C=0.1, penalty=l2, solver=sag; total time= 8.5min\n",
      "[CV] END .....................C=0.1, penalty=l2, solver=saga; total time= 8.5min\n",
      "[CV] END .....................C=0.1, penalty=l2, solver=saga; total time= 8.5min\n",
      "[CV] END .....................C=0.1, penalty=l2, solver=saga; total time= 8.3min\n",
      "[CV] END .....................C=0.1, penalty=l2, solver=saga; total time= 8.5min\n",
      "[CV] END .....................C=0.1, penalty=l2, solver=saga; total time= 8.6min\n",
      "[CV] END ........................C=1, penalty=l1, solver=sag; total time=  11.6s\n",
      "[CV] END ........................C=1, penalty=l1, solver=sag; total time=   7.7s\n",
      "[CV] END ........................C=1, penalty=l1, solver=sag; total time=   6.8s\n",
      "[CV] END ........................C=1, penalty=l1, solver=sag; total time=   7.1s\n",
      "[CV] END ........................C=1, penalty=l1, solver=sag; total time=   6.2s\n",
      "[CV] END .......................C=1, penalty=l1, solver=saga; total time=10.0min\n",
      "[CV] END .......................C=1, penalty=l1, solver=saga; total time= 9.6min\n",
      "[CV] END .......................C=1, penalty=l1, solver=saga; total time=10.1min\n",
      "[CV] END .......................C=1, penalty=l1, solver=saga; total time= 9.8min\n",
      "[CV] END .......................C=1, penalty=l1, solver=saga; total time=10.1min\n",
      "[CV] END ........................C=1, penalty=l2, solver=sag; total time= 8.4min\n",
      "[CV] END ........................C=1, penalty=l2, solver=sag; total time= 8.4min\n",
      "[CV] END ........................C=1, penalty=l2, solver=sag; total time= 8.0min\n",
      "[CV] END ........................C=1, penalty=l2, solver=sag; total time= 8.0min\n",
      "[CV] END ........................C=1, penalty=l2, solver=sag; total time= 8.5min\n",
      "[CV] END .......................C=1, penalty=l2, solver=saga; total time= 8.6min\n",
      "[CV] END .......................C=1, penalty=l2, solver=saga; total time= 8.1min\n",
      "[CV] END .......................C=1, penalty=l2, solver=saga; total time= 8.5min\n",
      "[CV] END .......................C=1, penalty=l2, solver=saga; total time= 8.5min\n",
      "[CV] END .......................C=1, penalty=l2, solver=saga; total time= 8.6min\n",
      "Best Score: 0.9606602749135711\n",
      "Grid search completed successfully.\n"
     ]
    }
   ],
   "source": [
    "scaler = StandardScaler()\n",
    "X_train_scaled = scaler.fit_transform(X_train_resampled)\n",
    "\n",
    "param_grid = {\n",
    "    \"penalty\": ['l1','l2'],\n",
    "    'C': [0.0001,0.001,0.01, 0.1, 1],\n",
    "    'solver': ['sag', 'saga']\n",
    "}\n",
    "\n",
    "grid_search = GridSearchCV(LogisticRegression(), param_grid, cv=5,verbose=2)\n",
    "\n",
    "try:\n",
    "    grid_search.fit(X_train_scaled, y_train_resampled)\n",
    "    best_params = grid_search.best_params_\n",
    "    best_score = grid_search.best_score_\n",
    "    print(f\"Best Score: {best_score}\")\n",
    "    print(\"Grid search completed successfully.\")\n",
    "except Exception as e:\n",
    "    print(\"Error occurred during grid search:\")\n",
    "    print(e)"
   ]
  },
  {
   "cell_type": "code",
   "execution_count": 8,
   "id": "dcf2503f",
   "metadata": {
    "scrolled": true
   },
   "outputs": [
    {
     "data": {
      "text/html": [
       "<style>#sk-container-id-1 {color: black;}#sk-container-id-1 pre{padding: 0;}#sk-container-id-1 div.sk-toggleable {background-color: white;}#sk-container-id-1 label.sk-toggleable__label {cursor: pointer;display: block;width: 100%;margin-bottom: 0;padding: 0.3em;box-sizing: border-box;text-align: center;}#sk-container-id-1 label.sk-toggleable__label-arrow:before {content: \"▸\";float: left;margin-right: 0.25em;color: #696969;}#sk-container-id-1 label.sk-toggleable__label-arrow:hover:before {color: black;}#sk-container-id-1 div.sk-estimator:hover label.sk-toggleable__label-arrow:before {color: black;}#sk-container-id-1 div.sk-toggleable__content {max-height: 0;max-width: 0;overflow: hidden;text-align: left;background-color: #f0f8ff;}#sk-container-id-1 div.sk-toggleable__content pre {margin: 0.2em;color: black;border-radius: 0.25em;background-color: #f0f8ff;}#sk-container-id-1 input.sk-toggleable__control:checked~div.sk-toggleable__content {max-height: 200px;max-width: 100%;overflow: auto;}#sk-container-id-1 input.sk-toggleable__control:checked~label.sk-toggleable__label-arrow:before {content: \"▾\";}#sk-container-id-1 div.sk-estimator input.sk-toggleable__control:checked~label.sk-toggleable__label {background-color: #d4ebff;}#sk-container-id-1 div.sk-label input.sk-toggleable__control:checked~label.sk-toggleable__label {background-color: #d4ebff;}#sk-container-id-1 input.sk-hidden--visually {border: 0;clip: rect(1px 1px 1px 1px);clip: rect(1px, 1px, 1px, 1px);height: 1px;margin: -1px;overflow: hidden;padding: 0;position: absolute;width: 1px;}#sk-container-id-1 div.sk-estimator {font-family: monospace;background-color: #f0f8ff;border: 1px dotted black;border-radius: 0.25em;box-sizing: border-box;margin-bottom: 0.5em;}#sk-container-id-1 div.sk-estimator:hover {background-color: #d4ebff;}#sk-container-id-1 div.sk-parallel-item::after {content: \"\";width: 100%;border-bottom: 1px solid gray;flex-grow: 1;}#sk-container-id-1 div.sk-label:hover label.sk-toggleable__label {background-color: #d4ebff;}#sk-container-id-1 div.sk-serial::before {content: \"\";position: absolute;border-left: 1px solid gray;box-sizing: border-box;top: 0;bottom: 0;left: 50%;z-index: 0;}#sk-container-id-1 div.sk-serial {display: flex;flex-direction: column;align-items: center;background-color: white;padding-right: 0.2em;padding-left: 0.2em;position: relative;}#sk-container-id-1 div.sk-item {position: relative;z-index: 1;}#sk-container-id-1 div.sk-parallel {display: flex;align-items: stretch;justify-content: center;background-color: white;position: relative;}#sk-container-id-1 div.sk-item::before, #sk-container-id-1 div.sk-parallel-item::before {content: \"\";position: absolute;border-left: 1px solid gray;box-sizing: border-box;top: 0;bottom: 0;left: 50%;z-index: -1;}#sk-container-id-1 div.sk-parallel-item {display: flex;flex-direction: column;z-index: 1;position: relative;background-color: white;}#sk-container-id-1 div.sk-parallel-item:first-child::after {align-self: flex-end;width: 50%;}#sk-container-id-1 div.sk-parallel-item:last-child::after {align-self: flex-start;width: 50%;}#sk-container-id-1 div.sk-parallel-item:only-child::after {width: 0;}#sk-container-id-1 div.sk-dashed-wrapped {border: 1px dashed gray;margin: 0 0.4em 0.5em 0.4em;box-sizing: border-box;padding-bottom: 0.4em;background-color: white;}#sk-container-id-1 div.sk-label label {font-family: monospace;font-weight: bold;display: inline-block;line-height: 1.2em;}#sk-container-id-1 div.sk-label-container {text-align: center;}#sk-container-id-1 div.sk-container {/* jupyter's `normalize.less` sets `[hidden] { display: none; }` but bootstrap.min.css set `[hidden] { display: none !important; }` so we also need the `!important` here to be able to override the default hidden behavior on the sphinx rendered scikit-learn.org. See: https://github.com/scikit-learn/scikit-learn/issues/21755 */display: inline-block !important;position: relative;}#sk-container-id-1 div.sk-text-repr-fallback {display: none;}</style><div id=\"sk-container-id-1\" class=\"sk-top-container\"><div class=\"sk-text-repr-fallback\"><pre>LogisticRegression(C=1, solver=&#x27;sag&#x27;)</pre><b>In a Jupyter environment, please rerun this cell to show the HTML representation or trust the notebook. <br />On GitHub, the HTML representation is unable to render, please try loading this page with nbviewer.org.</b></div><div class=\"sk-container\" hidden><div class=\"sk-item\"><div class=\"sk-estimator sk-toggleable\"><input class=\"sk-toggleable__control sk-hidden--visually\" id=\"sk-estimator-id-1\" type=\"checkbox\" checked><label for=\"sk-estimator-id-1\" class=\"sk-toggleable__label sk-toggleable__label-arrow\">LogisticRegression</label><div class=\"sk-toggleable__content\"><pre>LogisticRegression(C=1, solver=&#x27;sag&#x27;)</pre></div></div></div></div></div>"
      ],
      "text/plain": [
       "LogisticRegression(C=1, solver='sag')"
      ]
     },
     "execution_count": 8,
     "metadata": {},
     "output_type": "execute_result"
    }
   ],
   "source": [
    "# Train the model\n",
    "model = LogisticRegression(C=best_params['C'], solver=best_params['solver'])\n",
    "model.fit(X_train_scaled, y_train_resampled)"
   ]
  },
  {
   "cell_type": "markdown",
   "id": "18063ac8",
   "metadata": {},
   "source": [
    "## Model Evaluation \n",
    "- Precision: number of True Positives / (number of True Positives + number of False Positives)\n",
    "- Recall: number of True Positives / (number of True Positives + number of False Negatives)\n",
    "- F1 score: A weighted average of precision and recall, F1 = 2*((precision*recall)/(precision+recall))"
   ]
  },
  {
   "cell_type": "code",
   "execution_count": 9,
   "id": "127f1639",
   "metadata": {
    "scrolled": true
   },
   "outputs": [
    {
     "name": "stdout",
     "output_type": "stream",
     "text": [
      "Accuracy: 0.9346797285777158\n",
      "Confusion Matrix:\n",
      "[[843130  58522]\n",
      " [   401     10]]\n",
      "\n",
      "Classification Report:\n",
      "              precision    recall  f1-score   support\n",
      "\n",
      "         0.0       1.00      0.94      0.97    901652\n",
      "         1.0       0.00      0.02      0.00       411\n",
      "\n",
      "    accuracy                           0.93    902063\n",
      "   macro avg       0.50      0.48      0.48    902063\n",
      "weighted avg       1.00      0.93      0.97    902063\n",
      "\n"
     ]
    }
   ],
   "source": [
    "# Evaluate the model\n",
    "y_pred = model.predict(X_test)\n",
    "\n",
    "accuracy = accuracy_score(y_test, y_pred)\n",
    "print(f\"Accuracy: {accuracy}\")\n",
    "print(\"Confusion Matrix:\")\n",
    "print(confusion_matrix(y_test, y_pred))\n",
    "print(\"\\nClassification Report:\")\n",
    "print(classification_report(y_test, y_pred))"
   ]
  },
  {
   "cell_type": "markdown",
   "id": "f31108a2",
   "metadata": {},
   "source": [
    "Problem: low recall and f1 score for crash label 1"
   ]
  },
  {
   "cell_type": "markdown",
   "id": "d19aadfc",
   "metadata": {},
   "source": [
    "## Feature Importance"
   ]
  },
  {
   "cell_type": "code",
   "execution_count": 10,
   "id": "abb33faf",
   "metadata": {},
   "outputs": [
    {
     "name": "stdout",
     "output_type": "stream",
     "text": [
      "Feature: price_change, Importance: 0.028756460330933556\n",
      "Feature: volume_change, Importance: 0.005749165245331519\n",
      "Feature: volatility, Importance: -0.5024965242203031\n",
      "Feature: Total_Equity_Risk_Premium_US, Importance: 0.020491746819262226\n",
      "Feature: Population_US, Importance: -2.7000881732786834\n",
      "Feature: Unemployment_US, Importance: -0.6827299895075746\n",
      "Feature: Inflation_Rate_US, Importance: 0.5211222340299554\n",
      "Feature: housing_US, Importance: 0.09580219725238721\n",
      "Feature: Long-Term_Government_Bond Yields_US, Importance: -0.3222816044919328\n",
      "Feature: turnover_US, Importance: 0.473926278929238\n",
      "Feature: Recession_Indicators_US, Importance: -1.1000299753223934\n",
      "Feature: GDP_US, Importance: -2.392759634283777\n",
      "Feature: Recession_Indicators_UK, Importance: -0.6296367533460537\n",
      "Feature: FX_Rate_UK, Importance: -0.3364335196482783\n",
      "Feature: GDP_UK, Importance: -0.9613503273194667\n",
      "Feature: housing_UK, Importance: -0.544475444459078\n",
      "Feature: Long-Term_Government_Bond Yields_UK, Importance: -0.5331727454846448\n",
      "Feature: turnover_UK, Importance: -0.3909427471336606\n",
      "Feature: Inflation_Rate_UK, Importance: 0.43410865734092946\n",
      "Feature: Unemployment_UK, Importance: -0.04158027372857562\n",
      "Feature: Total_Equity_Risk_Premium_UK, Importance: 0.3472191032618914\n",
      "Feature: Population_UK, Importance: -3.0937139003748655\n",
      "Feature: Unemployment_HK, Importance: -1.4298557890912889\n",
      "Feature: Total_Equity_Risk_Premium_HK, Importance: 0.5076025911863173\n",
      "Feature: Population_HK, Importance: -1.0002772992720452\n",
      "Feature: Recession_Indicators_HK, Importance: -0.8503324077612002\n",
      "Feature: FX_Rate_HK, Importance: -0.4141588995533351\n",
      "Feature: GDP_HK, Importance: -2.587854256711759\n",
      "Feature: housing_HK, Importance: -0.08005645880275511\n",
      "Feature: Long-Term_Government_Bond Yields_HK, Importance: -0.08921933262511066\n",
      "Feature: turnover_HK, Importance: 0.6148405074005463\n",
      "Feature: Inflation_Rate_HK, Importance: 0.07944398728693704\n",
      "Feature: FX_Rate_Japan, Importance: 0.4138215108495575\n",
      "Feature: Inflation_Rate_Japan, Importance: 0.2503125300700275\n",
      "Feature: Recession_Indicators_Japan, Importance: -0.8838188998451098\n",
      "Feature: Unemployment_Japan, Importance: -0.024089947150527764\n",
      "Feature: Total_Equity_Risk_Premium_Japan, Importance: 0.09117343786524065\n",
      "Feature: turnover_Japan, Importance: -0.219526640810197\n",
      "Feature: GDP_Japan, Importance: 0.7414234075794957\n",
      "Feature: housing_Japan, Importance: 0.40637434622046026\n",
      "Feature: Population_Japan, Importance: -0.029245372748182823\n",
      "Feature: Long-Term_Government_Bond Yields_Japan, Importance: 0.08153486555777957\n",
      "Feature: Long-Term_Government_Bond Yields_China, Importance: -0.2627790512846758\n",
      "Feature: Population_China, Importance: -0.8287513347386865\n",
      "Feature: housing_China, Importance: -0.05754655383178335\n",
      "Feature: GDP_China, Importance: -1.140862051047186\n",
      "Feature: turnover_China, Importance: -0.11895464337159167\n",
      "Feature: Total_Equity_Risk_Premium_China, Importance: -0.10311473885822128\n",
      "Feature: Unemployment_China, Importance: -0.41461338060913494\n",
      "Feature: Recession_Indicators_China, Importance: -0.7565876194806528\n",
      "Feature: Inflation_Rate_China, Importance: 0.029864654451207045\n",
      "Feature: FX_Rate_China, Importance: -0.463114290366934\n",
      "Feature: Population_Switzerland, Importance: -3.2710879564809554\n",
      "Feature: housing_Switzerland, Importance: 0.07080850293219892\n",
      "Feature: Total_Equity_Risk_Premium_Switzerland, Importance: -0.04074597594432917\n",
      "Feature: Recession_Indicators_Switzerland, Importance: -0.33356447948507884\n",
      "Feature: Long-Term_Government_Bond Yields_Switzerland, Importance: -0.042920122368075866\n",
      "Feature: turnover_Switzerland, Importance: -0.045395084414392856\n",
      "Feature: Unemployment_Switzerland, Importance: 0.10955582932078692\n",
      "Feature: GDP_Switzerland, Importance: 0.2400585900989735\n",
      "Feature: FX_Rate_Switzerland, Importance: -0.25443454159273615\n",
      "Feature: Inflation_Rate_Switzerland, Importance: 0.013157152250018159\n",
      "Feature: Recession_Indicators_India, Importance: 4.093087405529543\n",
      "Feature: FX_Rate_India, Importance: 0.1097833504312043\n",
      "Feature: Inflation_Rate_India, Importance: -0.9623997100932797\n",
      "Feature: Total_Equity_Risk_Premium_India, Importance: -0.5823167995269212\n",
      "Feature: Unemployment_India, Importance: -1.7589868200342402\n",
      "Feature: turnover_India, Importance: -0.4294628173174134\n",
      "Feature: Long-Term_Government_Bond Yields_India, Importance: -0.4563321564491517\n",
      "Feature: GDP_India, Importance: -5.096375096915586\n",
      "Feature: Population_India, Importance: -0.2816063145642908\n",
      "Feature: housing_India, Importance: -2.8296711208317977\n",
      "Feature: Inflation_Rate_Germany, Importance: -0.12354361137766615\n",
      "Feature: turnover_Germany, Importance: -0.2351451059471426\n",
      "Feature: GDP_Germany, Importance: -0.3718407543836554\n",
      "Feature: Recession_Indicators_Germany, Importance: -1.5462879329246606\n",
      "Feature: Total_Equity_Risk_Premium_Germany, Importance: 0.11569983037012717\n",
      "Feature: FX_Rate_Germany, Importance: -0.33714888235180507\n",
      "Feature: Population_Germany, Importance: -0.28405752925823924\n",
      "Feature: Long-Term_Government_Bond Yields_Germany, Importance: -0.03731424411890948\n",
      "Feature: Unemployment_Germany, Importance: 0.16625605492022047\n",
      "Feature: housing_Germany, Importance: -0.3406304232259806\n",
      "Feature: Population_France, Importance: -2.746266029669208\n",
      "Feature: housing_France, Importance: -0.11195044457775429\n",
      "Feature: Long-Term_Government_Bond Yields_France, Importance: -0.08624318028380987\n",
      "Feature: turnover_France, Importance: -0.21445096624982374\n",
      "Feature: Unemployment_France, Importance: 0.23643972928624682\n",
      "Feature: Total_Equity_Risk_Premium_France, Importance: -0.019691587809608016\n",
      "Feature: Recession_Indicators_France, Importance: -0.30458605209497774\n",
      "Feature: FX_Rate_France, Importance: -0.13906498421078844\n",
      "Feature: Inflation_Rate_France, Importance: -0.0033408932660385815\n",
      "Feature: GDP_France, Importance: -0.2793417923320208\n",
      "Feature: GDP_Brazil, Importance: 0.027631388686457377\n",
      "Feature: Inflation_Rate_Brazil, Importance: -0.014797688533585195\n",
      "Feature: Recession_Indicators_Brazil, Importance: -0.2255705990727412\n",
      "Feature: FX_Rate_Brazil, Importance: -0.05563722028670888\n",
      "Feature: Unemployment_Brazil, Importance: 0.03053765106610866\n",
      "Feature: Total_Equity_Risk_Premium_Brazil, Importance: -0.1265091622301979\n",
      "Feature: turnover_Brazil, Importance: -0.23427344952360146\n",
      "Feature: Population_Brazil, Importance: -1.15887872491408\n",
      "Feature: housing_Brazil, Importance: -0.2886277864249728\n",
      "Feature: Crude_Oil_Index_Excess_Return_All, Importance: -0.41651860038789623\n",
      "Feature: Goldprice_Monthly, Importance: -0.1309518140125038\n",
      "Feature: TEDRATE_All, Importance: 0.2695139105408878\n",
      "Feature: Federal_Funds_Effective_Rate_All, Importance: 0.1944097039038675\n",
      "Feature: 10-Year_Treasury_Constant_Maturity_Rate_All, Importance: -0.4774598653446788\n"
     ]
    },
    {
     "data": {
      "image/png": "[encoded data removed]",
      "text/plain": [
       "<Figure size 800x600 with 1 Axes>"
      ]
     },
     "metadata": {},
     "output_type": "display_data"
    }
   ],
   "source": [
    "feature_importance = model.coef_[0]\n",
    "for name, importance in zip(feature_names, feature_importance):\n",
    "    print(f\"Feature: {name}, Importance: {importance}\")\n",
    "\n",
    "plt.figure(figsize=(8, 6))\n",
    "plt.bar(feature_names, feature_importance)\n",
    "plt.title('Feature Importances in Logistic Regression Model')\n",
    "plt.xlabel('Features')\n",
    "plt.ylabel('Importance')\n",
    "plt.show()"
   ]
  },
  {
   "cell_type": "markdown",
   "id": "b0aaf12e",
   "metadata": {},
   "source": [
    "## K-fold Validation"
   ]
  },
  {
   "cell_type": "code",
   "execution_count": 11,
   "id": "c5da1a64",
   "metadata": {},
   "outputs": [
    {
     "name": "stdout",
     "output_type": "stream",
     "text": [
      "Cross-validation scores: [0.99945902 0.99940581 0.99951666 0.99186976 0.98550211 0.9995344\n",
      " 0.9995344  0.99430194 0.99887591 0.9995344 ]\n",
      "Average cross-validation score: 1.00\n"
     ]
    }
   ],
   "source": [
    "# Perform 10-fold cross-validation\n",
    "scores = cross_val_score(model, X, y, cv=10)\n",
    "\n",
    "# Print the cross-validation scores\n",
    "print(\"Cross-validation scores: {}\".format(scores))\n",
    "print(\"Average cross-validation score: {:.2f}\".format(scores.mean()))"
   ]
  },
  {
   "cell_type": "markdown",
   "id": "60595505",
   "metadata": {},
   "source": [
    "## Prediction Result"
   ]
  },
  {
   "cell_type": "code",
   "execution_count": 12,
   "id": "3a2eea70",
   "metadata": {},
   "outputs": [
    {
     "name": "stdout",
     "output_type": "stream",
     "text": [
      "Crash Probability: 0.06600151278894759\n"
     ]
    }
   ],
   "source": [
    "y_prob = model.predict_proba(X_test)\n",
    "crash_prob = y_prob[:, 1]\n",
    "print(f\"Crash Probability: {crash_prob.mean()}\")"
   ]
  },
  {
   "cell_type": "markdown",
   "id": "122734b4",
   "metadata": {},
   "source": [
    "## AUC-ROC"
   ]
  },
  {
   "cell_type": "code",
   "execution_count": 13,
   "id": "402603a7",
   "metadata": {
    "scrolled": true
   },
   "outputs": [
    {
     "name": "stdout",
     "output_type": "stream",
     "text": [
      "AUC-ROC Score: 0.4146205467913058\n"
     ]
    },
    {
     "data": {
      "image/png": "[encoded data removed]",
      "text/plain": [
       "<Figure size 640x480 with 1 Axes>"
      ]
     },
     "metadata": {},
     "output_type": "display_data"
    }
   ],
   "source": [
    "auc_roc = roc_auc_score(y_test, y_prob[:, 1])\n",
    "\n",
    "print(\"AUC-ROC Score:\", auc_roc)\n",
    "\n",
    "fpr, tpr, thresholds = roc_curve(y_test, y_prob[:, -1])\n",
    "plt.plot(fpr, tpr, label='ROC curve (area = %0.2f)' % auc_roc)\n",
    "plt.plot([0, 1], [0, 1], 'k--')  # Diagonal line\n",
    "plt.xlabel('False Positive Rate')\n",
    "plt.ylabel('True Positive Rate')\n",
    "plt.title('Receiver Operating Characteristic (ROC) Curve')\n",
    "plt.legend(loc=\"lower right\")\n",
    "plt.show()"
   ]
  },
  {
   "cell_type": "code",
   "execution_count": null,
   "id": "75f20196",
   "metadata": {},
   "outputs": [],
   "source": [
    "print(month, \"prediction model:\")\n",
    "y_pred = model.predict(X_test)\n",
    "\n",
    "accuracy = accuracy_score(y_test, y_pred)\n",
    "rmse = np.sqrt(mean_squared_error(y_test, y_pred))\n",
    "mape = np.mean(np.abs((y_test - y_pred) / y_test)) * 100\n",
    "\n",
    "print(f\"Accuracy: {accuracy}\")\n",
    "print(f\"RMSE: {rmse}\")\n",
    "print(f'MAPE: {mape}%') "
   ]
  }
 ],
 "metadata": {
  "kernelspec": {
   "display_name": "Python 3 (ipykernel)",
   "language": "python",
   "name": "python3"
  },
  "language_info": {
   "codemirror_mode": {
    "name": "ipython",
    "version": 3
   },
   "file_extension": ".py",
   "mimetype": "text/x-python",
   "name": "python",
   "nbconvert_exporter": "python",
   "pygments_lexer": "ipython3",
   "version": "3.10.5"
  }
 },
 "nbformat": 4,
 "nbformat_minor": 5
}
