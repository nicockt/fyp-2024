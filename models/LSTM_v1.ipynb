{
 "cells": [
  {
   "cell_type": "code",
   "execution_count": 17,
   "id": "e2146b0b",
   "metadata": {},
   "outputs": [],
   "source": [
    "import pandas as pd\n",
    "import numpy as np\n",
    "import matplotlib.pyplot as plt\n",
    "from util_visualization import plot_feature_importances, plot_roc_curve\n",
    "from sklearn.model_selection import TimeSeriesSplit\n",
    "from sklearn.metrics import mean_squared_error\n",
    "from sklearn.preprocessing import StandardScaler\n",
    "from sklearn.linear_model import LogisticRegression\n",
    "from sklearn.metrics import classification_report, confusion_matrix, accuracy_score, mean_absolute_percentage_error, precision_score, recall_score, f1_score\n",
    "from sklearn.model_selection import GridSearchCV, cross_val_score\n",
    "from sklearn.metrics import roc_auc_score, roc_curve\n",
    "from pylab import rcParams\n",
    "from imblearn.over_sampling import SMOTE\n",
    "from sklearn.impute import SimpleImputer\n",
    "from imblearn.over_sampling import RandomOverSampler\n",
    "from imblearn.under_sampling import RandomUnderSampler\n",
    "import pickle\n",
    "import importlib\n",
    "import sys\n",
    "import joblib\n",
    "import warnings\n",
    "if not sys.warnoptions:\n",
    "    warnings.simplefilter(\"ignore\")\n",
    "import glob\n",
    "import math\n",
    "\n",
    "#For NN\n",
    "from keras.models import Sequential\n",
    "from keras.layers import Dense, LSTM, BatchNormalization, RepeatVector, TimeDistributed\n",
    "from keras.optimizers import Adam\n",
    "from keras.callbacks import ReduceLROnPlateau, EarlyStopping\n",
    "from keras.regularizers import l2\n",
    "from time import time\n",
    "from sklearn.preprocessing import LabelEncoder\n",
    "from keras.utils import to_categorical"
   ]
  },
  {
   "cell_type": "code",
   "execution_count": 2,
   "id": "9520ec8c",
   "metadata": {},
   "outputs": [
    {
     "name": "stdout",
     "output_type": "stream",
     "text": [
      "['volatility', 'price_change', 'volume_change', 'date', '000001.SS', '^BSESN', '^BVSP', '^FCHI', '^FTLC', '^GDAXI', '^GSPC', '^HSI', '^N225', '^SSMI', 'Crude_Oil_Index_Excess_Return', 'Ted_Rate', 'Gold_Price', 'housing', 'reserve', '10YGov_BondYield', 'current_acct', 'FX_Rate', 'turnover', 'Population', 'npl', 'Recession_Indicators', 'inflation', 'Unemployment', 'GDP']\n"
     ]
    }
   ],
   "source": [
    "#Import Dataset\n",
    "labeled_index = pd.read_csv(\"../data/labeled_data/quarterly_labeled_features_standardized.csv\")\n",
    "\n",
    "\n",
    "#Features Columns\n",
    "features_columns = list(labeled_index.columns)\n",
    "columns_to_remove = ['index', 'crash_label', 'Quarter']\n",
    "features_columns = [column for column in features_columns if column not in columns_to_remove]\n",
    "print(features_columns)"
   ]
  },
  {
   "cell_type": "code",
   "execution_count": 3,
   "id": "d45812e4",
   "metadata": {},
   "outputs": [],
   "source": [
    "# Oversample the minority class (1) using SMOTE\n",
    "oversampler = SMOTE()\n",
    "X_train_resampled, y_train_resampled = oversampler.fit_resample(X_train, y_train)"
   ]
  },
  {
   "cell_type": "code",
   "execution_count": 4,
   "id": "71a923aa",
   "metadata": {},
   "outputs": [
    {
     "name": "stdout",
     "output_type": "stream",
     "text": [
      "(616, 28) (616, 1) (132, 28) (132, 1) (132, 28) (132, 1)\n"
     ]
    }
   ],
   "source": [
    "training_data_len = math.ceil(len(labeled_index) * .7)\n",
    "val_index = math.ceil(len(labeled_index) * .85)\n",
    "X_train = labeled_index[features_columns].iloc[:training_data_len]\n",
    "y_train = labeled_index[['date', 'crash_label']].iloc[:training_data_len]\n",
    "X_val = labeled_index[features_columns].iloc[training_data_len:val_index]\n",
    "y_val = labeled_index[['date', 'crash_label']].iloc[training_data_len:val_index]\n",
    "X_test = labeled_index[features_columns].iloc[val_index:]\n",
    "y_test = labeled_index[['date', 'crash_label']].iloc[val_index:]\n",
    "\n",
    "\n",
    "X_train.set_index('date', inplace=True)\n",
    "y_train.set_index('date', inplace=True)\n",
    "X_val.set_index('date', inplace=True)\n",
    "y_val.set_index('date', inplace=True)\n",
    "X_test.set_index('date', inplace=True)\n",
    "y_test.set_index('date', inplace=True)\n",
    "\n",
    "print(X_train.shape, y_train.shape, X_val.shape, y_val.shape, X_test.shape, y_test.shape)"
   ]
  },
  {
   "cell_type": "code",
   "execution_count": 5,
   "id": "aa40a8df",
   "metadata": {},
   "outputs": [
    {
     "name": "stdout",
     "output_type": "stream",
     "text": [
      "(616, 28, 1) (616, 1) (132, 28, 1) (132, 1) (132, 28, 1) (132, 1)\n"
     ]
    }
   ],
   "source": [
    "X_train_reshaped = np.reshape(X_train, (X_train.shape[0], X_train.shape[1], 1))\n",
    "\n",
    "y_train_reshaped = np.reshape(y_train, (y_train.shape[0], 1))\n",
    "\n",
    "X_val_reshaped = np.reshape(X_val, (X_val.shape[0], X_val.shape[1], 1))\n",
    "\n",
    "y_val_reshaped = np.reshape(y_val, (y_val.shape[0], 1))\n",
    "\n",
    "X_test_reshaped = np.reshape(X_test, (X_test.shape[0], X_test.shape[1], 1))\n",
    "\n",
    "y_test_reshaped = np.reshape(y_test, (y_test.shape[0], 1))\n",
    "\n",
    "\n",
    "print(X_train_reshaped.shape, y_train_reshaped.shape, X_val_reshaped.shape, y_val_reshaped.shape, X_test_reshaped.shape, y_test_reshaped.shape)\n"
   ]
  },
  {
   "cell_type": "code",
   "execution_count": 6,
   "id": "f1eea062",
   "metadata": {},
   "outputs": [
    {
     "name": "stderr",
     "output_type": "stream",
     "text": [
      "2024-03-26 13:41:58.573298: I tensorflow/core/common_runtime/pluggable_device/pluggable_device_factory.cc:305] Could not identify NUMA node of platform GPU ID 0, defaulting to 0. Your kernel may not have been built with NUMA support.\n",
      "2024-03-26 13:41:58.574799: I tensorflow/core/common_runtime/pluggable_device/pluggable_device_factory.cc:271] Created TensorFlow device (/job:localhost/replica:0/task:0/device:GPU:0 with 0 MB memory) -> physical PluggableDevice (device: 0, name: METAL, pci bus id: <undefined>)\n"
     ]
    },
    {
     "name": "stdout",
     "output_type": "stream",
     "text": [
      "Metal device set to: Apple M1 Pro\n"
     ]
    }
   ],
   "source": [
    "model = Sequential()\n",
    "model.add(LSTM(64, dropout=0.1, input_shape=(28,\n",
    "1)))\n",
    "# model.add(Dense(64, activation='relu'))\n",
    "model.add(Dense(1, activation='sigmoid'))\n",
    "model.compile(optimizer='adam', loss='binary_crossentropy', metrics=['AUC'])"
   ]
  },
  {
   "cell_type": "code",
   "execution_count": 7,
   "id": "a4712f66",
   "metadata": {},
   "outputs": [
    {
     "name": "stdout",
     "output_type": "stream",
     "text": [
      "Model: \"sequential\"\n",
      "_________________________________________________________________\n",
      " Layer (type)                Output Shape              Param #   \n",
      "=================================================================\n",
      " lstm (LSTM)                 (None, 64)                16896     \n",
      "                                                                 \n",
      " dense (Dense)               (None, 1)                 65        \n",
      "                                                                 \n",
      "=================================================================\n",
      "Total params: 16,961\n",
      "Trainable params: 16,961\n",
      "Non-trainable params: 0\n",
      "_________________________________________________________________\n"
     ]
    }
   ],
   "source": [
    "model.summary()"
   ]
  },
  {
   "cell_type": "code",
   "execution_count": 8,
   "id": "3c19fe94",
   "metadata": {
    "scrolled": true
   },
   "outputs": [
    {
     "name": "stdout",
     "output_type": "stream",
     "text": [
      "Epoch 1/50\n"
     ]
    },
    {
     "name": "stderr",
     "output_type": "stream",
     "text": [
      "2024-03-26 13:42:04.537839: W tensorflow/core/platform/profile_utils/cpu_utils.cc:128] Failed to get CPU frequency: 0 Hz\n",
      "2024-03-26 13:42:05.592880: I tensorflow/core/grappler/optimizers/custom_graph_optimizer_registry.cc:113] Plugin optimizer for device_type GPU is enabled.\n",
      "2024-03-26 13:42:05.838865: I tensorflow/core/grappler/optimizers/custom_graph_optimizer_registry.cc:113] Plugin optimizer for device_type GPU is enabled.\n",
      "loc(\"mps_select\"(\"(mpsFileLoc): /AppleInternal/Library/BuildRoots/0032d1ee-80fd-11ee-8227-6aecfccc70fe/Library/Caches/com.apple.xbs/Sources/MetalPerformanceShadersGraph/mpsgraph/MetalPerformanceShadersGraph/Core/Files/MPSGraphUtilities.mm\":294:0)): error: 'anec.gain_offset_control' op result #0 must be 4D/5D memref of 16-bit float or 8-bit signed integer or 8-bit unsigned integer values, but got 'memref<1x32x1x1xi1>'\n",
      "loc(\"mps_select\"(\"(mpsFileLoc): /AppleInternal/Library/BuildRoots/0032d1ee-80fd-11ee-8227-6aecfccc70fe/Library/Caches/com.apple.xbs/Sources/MetalPerformanceShadersGraph/mpsgraph/MetalPerformanceShadersGraph/Core/Files/MPSGraphUtilities.mm\":294:0)): error: 'anec.gain_offset_control' op result #0 must be 4D/5D memref of 16-bit float or 8-bit signed integer or 8-bit unsigned integer values, but got 'memref<1x32x1x1xi1>'\n",
      "loc(\"mps_select\"(\"(mpsFileLoc): /AppleInternal/Library/BuildRoots/0032d1ee-80fd-11ee-8227-6aecfccc70fe/Library/Caches/com.apple.xbs/Sources/MetalPerformanceShadersGraph/mpsgraph/MetalPerformanceShadersGraph/Core/Files/MPSGraphUtilities.mm\":294:0)): error: 'anec.gain_offset_control' op result #0 must be 4D/5D memref of 16-bit float or 8-bit signed integer or 8-bit unsigned integer values, but got 'memref<1x32x1x1xi1>'\n",
      "loc(\"mps_select\"(\"(mpsFileLoc): /AppleInternal/Library/BuildRoots/0032d1ee-80fd-11ee-8227-6aecfccc70fe/Library/Caches/com.apple.xbs/Sources/MetalPerformanceShadersGraph/mpsgraph/MetalPerformanceShadersGraph/Core/Files/MPSGraphUtilities.mm\":294:0)): error: 'anec.gain_offset_control' op result #0 must be 4D/5D memref of 16-bit float or 8-bit signed integer or 8-bit unsigned integer values, but got 'memref<1x32x1x1xi1>'\n",
      "loc(\"mps_select\"(\"(mpsFileLoc): /AppleInternal/Library/BuildRoots/0032d1ee-80fd-11ee-8227-6aecfccc70fe/Library/Caches/com.apple.xbs/Sources/MetalPerformanceShadersGraph/mpsgraph/MetalPerformanceShadersGraph/Core/Files/MPSGraphUtilities.mm\":294:0)): error: 'anec.gain_offset_control' op result #0 must be 4D/5D memref of 16-bit float or 8-bit signed integer or 8-bit unsigned integer values, but got 'memref<1x32x1x1xi1>'\n",
      "2024-03-26 13:42:06.529854: I tensorflow/core/grappler/optimizers/custom_graph_optimizer_registry.cc:113] Plugin optimizer for device_type GPU is enabled.\n"
     ]
    },
    {
     "name": "stdout",
     "output_type": "stream",
     "text": [
      "18/20 [==========================>...] - ETA: 0s - loss: 0.6125 - auc: 0.4208"
     ]
    },
    {
     "name": "stderr",
     "output_type": "stream",
     "text": [
      "loc(\"mps_select\"(\"(mpsFileLoc): /AppleInternal/Library/BuildRoots/0032d1ee-80fd-11ee-8227-6aecfccc70fe/Library/Caches/com.apple.xbs/Sources/MetalPerformanceShadersGraph/mpsgraph/MetalPerformanceShadersGraph/Core/Files/MPSGraphUtilities.mm\":294:0)): error: 'anec.gain_offset_control' op result #0 must be 4D/5D memref of 16-bit float or 8-bit signed integer or 8-bit unsigned integer values, but got 'memref<1x8x1x1xi1>'\n",
      "loc(\"mps_select\"(\"(mpsFileLoc): /AppleInternal/Library/BuildRoots/0032d1ee-80fd-11ee-8227-6aecfccc70fe/Library/Caches/com.apple.xbs/Sources/MetalPerformanceShadersGraph/mpsgraph/MetalPerformanceShadersGraph/Core/Files/MPSGraphUtilities.mm\":294:0)): error: 'anec.gain_offset_control' op result #0 must be 4D/5D memref of 16-bit float or 8-bit signed integer or 8-bit unsigned integer values, but got 'memref<1x8x1x1xi1>'\n",
      "loc(\"mps_select\"(\"(mpsFileLoc): /AppleInternal/Library/BuildRoots/0032d1ee-80fd-11ee-8227-6aecfccc70fe/Library/Caches/com.apple.xbs/Sources/MetalPerformanceShadersGraph/mpsgraph/MetalPerformanceShadersGraph/Core/Files/MPSGraphUtilities.mm\":294:0)): error: 'anec.gain_offset_control' op result #0 must be 4D/5D memref of 16-bit float or 8-bit signed integer or 8-bit unsigned integer values, but got 'memref<1x8x1x1xi1>'\n",
      "loc(\"mps_select\"(\"(mpsFileLoc): /AppleInternal/Library/BuildRoots/0032d1ee-80fd-11ee-8227-6aecfccc70fe/Library/Caches/com.apple.xbs/Sources/MetalPerformanceShadersGraph/mpsgraph/MetalPerformanceShadersGraph/Core/Files/MPSGraphUtilities.mm\":294:0)): error: 'anec.gain_offset_control' op result #0 must be 4D/5D memref of 16-bit float or 8-bit signed integer or 8-bit unsigned integer values, but got 'memref<1x8x1x1xi1>'\n",
      "loc(\"mps_select\"(\"(mpsFileLoc): /AppleInternal/Library/BuildRoots/0032d1ee-80fd-11ee-8227-6aecfccc70fe/Library/Caches/com.apple.xbs/Sources/MetalPerformanceShadersGraph/mpsgraph/MetalPerformanceShadersGraph/Core/Files/MPSGraphUtilities.mm\":294:0)): error: 'anec.gain_offset_control' op result #0 must be 4D/5D memref of 16-bit float or 8-bit signed integer or 8-bit unsigned integer values, but got 'memref<1x8x1x1xi1>'\n"
     ]
    },
    {
     "name": "stdout",
     "output_type": "stream",
     "text": [
      "\b\b\b\b\b\b\b\b\b\b\b\b\b\b\b\b\b\b\b\b\b\b\b\b\b\b\b\b\b\b\b\b\b\b\b\b\b\b\b\b\b\b\b\b\b\b\b\b\b\b\b\b\b\b\b\b\b\b\b\b\b\b\b\b\b\b\b\b\b\b\b\b\b\b\b\b\b\r",
      "20/20 [==============================] - ETA: 0s - loss: 0.6005 - auc: 0.4254"
     ]
    },
    {
     "name": "stderr",
     "output_type": "stream",
     "text": [
      "2024-03-26 13:42:08.350059: I tensorflow/core/grappler/optimizers/custom_graph_optimizer_registry.cc:113] Plugin optimizer for device_type GPU is enabled.\n",
      "2024-03-26 13:42:08.427811: I tensorflow/core/grappler/optimizers/custom_graph_optimizer_registry.cc:113] Plugin optimizer for device_type GPU is enabled.\n",
      "loc(\"mps_select\"(\"(mpsFileLoc): /AppleInternal/Library/BuildRoots/0032d1ee-80fd-11ee-8227-6aecfccc70fe/Library/Caches/com.apple.xbs/Sources/MetalPerformanceShadersGraph/mpsgraph/MetalPerformanceShadersGraph/Core/Files/MPSGraphUtilities.mm\":294:0)): error: 'anec.gain_offset_control' op result #0 must be 4D/5D memref of 16-bit float or 8-bit signed integer or 8-bit unsigned integer values, but got 'memref<1x32x1x1xi1>'\n",
      "loc(\"mps_select\"(\"(mpsFileLoc): /AppleInternal/Library/BuildRoots/0032d1ee-80fd-11ee-8227-6aecfccc70fe/Library/Caches/com.apple.xbs/Sources/MetalPerformanceShadersGraph/mpsgraph/MetalPerformanceShadersGraph/Core/Files/MPSGraphUtilities.mm\":294:0)): error: 'anec.gain_offset_control' op result #0 must be 4D/5D memref of 16-bit float or 8-bit signed integer or 8-bit unsigned integer values, but got 'memref<1x32x1x1xi1>'\n"
     ]
    },
    {
     "name": "stdout",
     "output_type": "stream",
     "text": [
      "20/20 [==============================] - 4s 100ms/step - loss: 0.6005 - auc: 0.4254 - val_loss: 0.3590 - val_auc: 0.7163\n",
      "Epoch 2/50\n",
      " 4/20 [=====>........................] - ETA: 0s - loss: 0.2435 - auc: 0.6867"
     ]
    },
    {
     "name": "stderr",
     "output_type": "stream",
     "text": [
      "loc(\"mps_select\"(\"(mpsFileLoc): /AppleInternal/Library/BuildRoots/0032d1ee-80fd-11ee-8227-6aecfccc70fe/Library/Caches/com.apple.xbs/Sources/MetalPerformanceShadersGraph/mpsgraph/MetalPerformanceShadersGraph/Core/Files/MPSGraphUtilities.mm\":294:0)): error: 'anec.gain_offset_control' op result #0 must be 4D/5D memref of 16-bit float or 8-bit signed integer or 8-bit unsigned integer values, but got 'memref<1x4x1x1xi1>'\n",
      "loc(\"mps_select\"(\"(mpsFileLoc): /AppleInternal/Library/BuildRoots/0032d1ee-80fd-11ee-8227-6aecfccc70fe/Library/Caches/com.apple.xbs/Sources/MetalPerformanceShadersGraph/mpsgraph/MetalPerformanceShadersGraph/Core/Files/MPSGraphUtilities.mm\":294:0)): error: 'anec.gain_offset_control' op result #0 must be 4D/5D memref of 16-bit float or 8-bit signed integer or 8-bit unsigned integer values, but got 'memref<1x4x1x1xi1>'\n"
     ]
    },
    {
     "name": "stdout",
     "output_type": "stream",
     "text": [
      "20/20 [==============================] - 1s 27ms/step - loss: 0.3439 - auc: 0.6045 - val_loss: 0.3721 - val_auc: 0.7214\n",
      "Epoch 3/50\n",
      "20/20 [==============================] - 1s 26ms/step - loss: 0.3084 - auc: 0.7269 - val_loss: 0.3484 - val_auc: 0.7683\n",
      "Epoch 4/50\n",
      "20/20 [==============================] - 1s 26ms/step - loss: 0.2585 - auc: 0.7567 - val_loss: 0.3988 - val_auc: 0.7309\n",
      "Epoch 5/50\n",
      "20/20 [==============================] - 1s 27ms/step - loss: 0.2288 - auc: 0.8199 - val_loss: 0.4074 - val_auc: 0.6708\n",
      "Epoch 6/50\n",
      "20/20 [==============================] - 1s 28ms/step - loss: 0.2298 - auc: 0.8099 - val_loss: 0.3927 - val_auc: 0.7522\n",
      "Epoch 7/50\n",
      "20/20 [==============================] - 1s 27ms/step - loss: 0.2405 - auc: 0.8311 - val_loss: 0.4023 - val_auc: 0.7893\n",
      "Epoch 8/50\n",
      "20/20 [==============================] - 1s 27ms/step - loss: 0.2654 - auc: 0.8014 - val_loss: 0.3646 - val_auc: 0.7627\n",
      "Epoch 9/50\n",
      "20/20 [==============================] - 1s 27ms/step - loss: 0.2394 - auc: 0.8355 - val_loss: 0.4141 - val_auc: 0.7656\n",
      "Epoch 10/50\n",
      "20/20 [==============================] - 1s 27ms/step - loss: 0.2522 - auc: 0.8100 - val_loss: 0.3378 - val_auc: 0.7893\n",
      "Epoch 11/50\n",
      "20/20 [==============================] - 1s 27ms/step - loss: 0.2240 - auc: 0.8592 - val_loss: 0.4201 - val_auc: 0.7101\n",
      "Epoch 12/50\n",
      "20/20 [==============================] - 1s 30ms/step - loss: 0.2252 - auc: 0.8567 - val_loss: 0.3665 - val_auc: 0.7724\n",
      "Epoch 13/50\n",
      "20/20 [==============================] - 1s 29ms/step - loss: 0.2368 - auc: 0.8393 - val_loss: 0.3455 - val_auc: 0.7861\n",
      "Epoch 14/50\n",
      "20/20 [==============================] - 1s 30ms/step - loss: 0.2252 - auc: 0.8267 - val_loss: 0.3808 - val_auc: 0.7656\n",
      "Epoch 15/50\n",
      "20/20 [==============================] - 1s 27ms/step - loss: 0.2156 - auc: 0.8543 - val_loss: 0.3749 - val_auc: 0.7519\n",
      "Epoch 16/50\n",
      "20/20 [==============================] - 1s 28ms/step - loss: 0.2401 - auc: 0.8162 - val_loss: 0.3395 - val_auc: 0.7888\n",
      "Epoch 17/50\n",
      "20/20 [==============================] - 1s 27ms/step - loss: 0.2308 - auc: 0.8533 - val_loss: 0.3948 - val_auc: 0.7761\n",
      "Epoch 18/50\n",
      "20/20 [==============================] - 1s 27ms/step - loss: 0.2094 - auc: 0.8768 - val_loss: 0.3652 - val_auc: 0.7721\n",
      "Epoch 19/50\n",
      "20/20 [==============================] - 1s 27ms/step - loss: 0.2282 - auc: 0.8523 - val_loss: 0.3757 - val_auc: 0.7613\n",
      "Epoch 20/50\n",
      "20/20 [==============================] - 1s 26ms/step - loss: 0.2188 - auc: 0.8775 - val_loss: 0.3585 - val_auc: 0.7791\n",
      "Epoch 21/50\n",
      "20/20 [==============================] - 1s 27ms/step - loss: 0.2116 - auc: 0.8761 - val_loss: 0.3708 - val_auc: 0.7990\n",
      "Epoch 22/50\n",
      "20/20 [==============================] - 1s 29ms/step - loss: 0.2098 - auc: 0.8698 - val_loss: 0.3519 - val_auc: 0.8125\n",
      "Epoch 23/50\n",
      "20/20 [==============================] - 1s 28ms/step - loss: 0.2107 - auc: 0.8837 - val_loss: 0.3513 - val_auc: 0.7850\n",
      "Epoch 24/50\n",
      "20/20 [==============================] - 1s 27ms/step - loss: 0.2114 - auc: 0.8749 - val_loss: 0.3426 - val_auc: 0.7998\n",
      "Epoch 25/50\n",
      "20/20 [==============================] - 1s 29ms/step - loss: 0.2106 - auc: 0.8905 - val_loss: 0.3674 - val_auc: 0.7907\n",
      "Epoch 26/50\n",
      "20/20 [==============================] - 1s 29ms/step - loss: 0.2103 - auc: 0.8799 - val_loss: 0.3746 - val_auc: 0.7729\n",
      "Epoch 27/50\n",
      "20/20 [==============================] - 1s 27ms/step - loss: 0.2175 - auc: 0.8881 - val_loss: 0.3234 - val_auc: 0.8082\n",
      "Epoch 28/50\n",
      "20/20 [==============================] - 1s 28ms/step - loss: 0.2168 - auc: 0.8816 - val_loss: 0.3233 - val_auc: 0.8004\n",
      "Epoch 29/50\n",
      "20/20 [==============================] - 1s 28ms/step - loss: 0.2003 - auc: 0.8895 - val_loss: 0.3712 - val_auc: 0.7764\n",
      "Epoch 30/50\n",
      "20/20 [==============================] - 1s 28ms/step - loss: 0.1986 - auc: 0.9044 - val_loss: 0.3391 - val_auc: 0.7963\n",
      "Epoch 31/50\n",
      "20/20 [==============================] - 1s 34ms/step - loss: 0.2058 - auc: 0.8763 - val_loss: 0.4042 - val_auc: 0.7500\n",
      "Epoch 32/50\n",
      "20/20 [==============================] - 1s 27ms/step - loss: 0.2238 - auc: 0.8645 - val_loss: 0.3340 - val_auc: 0.7942\n",
      "Epoch 33/50\n",
      "20/20 [==============================] - 1s 28ms/step - loss: 0.2222 - auc: 0.8735 - val_loss: 0.3302 - val_auc: 0.7866\n",
      "Epoch 34/50\n",
      "20/20 [==============================] - 1s 27ms/step - loss: 0.2126 - auc: 0.8688 - val_loss: 0.3398 - val_auc: 0.8095\n",
      "Epoch 35/50\n",
      "20/20 [==============================] - 1s 29ms/step - loss: 0.2274 - auc: 0.8677 - val_loss: 0.3257 - val_auc: 0.7893\n",
      "Epoch 36/50\n",
      "20/20 [==============================] - 1s 28ms/step - loss: 0.2103 - auc: 0.8634 - val_loss: 0.3745 - val_auc: 0.7670\n",
      "Epoch 37/50\n",
      "20/20 [==============================] - 1s 28ms/step - loss: 0.1969 - auc: 0.8976 - val_loss: 0.3421 - val_auc: 0.7772\n",
      "Epoch 38/50\n",
      "20/20 [==============================] - 1s 28ms/step - loss: 0.2195 - auc: 0.8533 - val_loss: 0.3246 - val_auc: 0.7904\n",
      "Epoch 39/50\n",
      "20/20 [==============================] - 1s 28ms/step - loss: 0.2121 - auc: 0.8640 - val_loss: 0.3667 - val_auc: 0.7753\n",
      "Epoch 40/50\n",
      "20/20 [==============================] - 1s 40ms/step - loss: 0.1958 - auc: 0.8992 - val_loss: 0.3544 - val_auc: 0.8006\n",
      "Epoch 41/50\n",
      "20/20 [==============================] - 1s 28ms/step - loss: 0.2134 - auc: 0.8666 - val_loss: 0.3569 - val_auc: 0.7904\n",
      "Epoch 42/50\n",
      "20/20 [==============================] - 1s 28ms/step - loss: 0.1959 - auc: 0.9095 - val_loss: 0.3503 - val_auc: 0.8047\n",
      "Epoch 43/50\n",
      "20/20 [==============================] - 1s 27ms/step - loss: 0.2061 - auc: 0.8960 - val_loss: 0.3802 - val_auc: 0.7554\n",
      "Epoch 44/50\n",
      "20/20 [==============================] - 1s 28ms/step - loss: 0.2256 - auc: 0.8321 - val_loss: 0.3530 - val_auc: 0.7837\n",
      "Epoch 45/50\n",
      "20/20 [==============================] - 1s 27ms/step - loss: 0.2207 - auc: 0.8592 - val_loss: 0.3565 - val_auc: 0.7891\n",
      "Epoch 46/50\n",
      "20/20 [==============================] - 1s 27ms/step - loss: 0.2116 - auc: 0.8788 - val_loss: 0.3518 - val_auc: 0.7791\n",
      "Epoch 47/50\n",
      "20/20 [==============================] - 1s 27ms/step - loss: 0.1974 - auc: 0.8957 - val_loss: 0.3551 - val_auc: 0.7802\n",
      "Epoch 48/50\n",
      "20/20 [==============================] - 1s 27ms/step - loss: 0.1906 - auc: 0.8993 - val_loss: 0.3633 - val_auc: 0.8023\n",
      "Epoch 49/50\n",
      "20/20 [==============================] - 1s 28ms/step - loss: 0.2170 - auc: 0.8787 - val_loss: 0.3531 - val_auc: 0.7751\n",
      "Epoch 50/50\n",
      "20/20 [==============================] - 1s 29ms/step - loss: 0.2056 - auc: 0.8672 - val_loss: 0.3593 - val_auc: 0.7740\n"
     ]
    },
    {
     "name": "stderr",
     "output_type": "stream",
     "text": [
      "2024-03-26 13:42:36.790675: I tensorflow/core/grappler/optimizers/custom_graph_optimizer_registry.cc:113] Plugin optimizer for device_type GPU is enabled.\n",
      "2024-03-26 13:42:36.892126: I tensorflow/core/grappler/optimizers/custom_graph_optimizer_registry.cc:113] Plugin optimizer for device_type GPU is enabled.\n"
     ]
    },
    {
     "name": "stdout",
     "output_type": "stream",
     "text": [
      "4/5 [=======================>......] - ETA: 0s - loss: 0.2405 - auc: 0.8518"
     ]
    },
    {
     "name": "stderr",
     "output_type": "stream",
     "text": [
      "loc(\"mps_select\"(\"(mpsFileLoc): /AppleInternal/Library/BuildRoots/0032d1ee-80fd-11ee-8227-6aecfccc70fe/Library/Caches/com.apple.xbs/Sources/MetalPerformanceShadersGraph/mpsgraph/MetalPerformanceShadersGraph/Core/Files/MPSGraphUtilities.mm\":294:0)): error: 'anec.gain_offset_control' op result #0 must be 4D/5D memref of 16-bit float or 8-bit signed integer or 8-bit unsigned integer values, but got 'memref<1x32x1x1xi1>'\n",
      "loc(\"mps_select\"(\"(mpsFileLoc): /AppleInternal/Library/BuildRoots/0032d1ee-80fd-11ee-8227-6aecfccc70fe/Library/Caches/com.apple.xbs/Sources/MetalPerformanceShadersGraph/mpsgraph/MetalPerformanceShadersGraph/Core/Files/MPSGraphUtilities.mm\":294:0)): error: 'anec.gain_offset_control' op result #0 must be 4D/5D memref of 16-bit float or 8-bit signed integer or 8-bit unsigned integer values, but got 'memref<1x32x1x1xi1>'\n"
     ]
    },
    {
     "name": "stdout",
     "output_type": "stream",
     "text": [
      "5/5 [==============================] - 1s 66ms/step - loss: 0.2359 - auc: 0.8472\n"
     ]
    },
    {
     "name": "stderr",
     "output_type": "stream",
     "text": [
      "loc(\"mps_select\"(\"(mpsFileLoc): /AppleInternal/Library/BuildRoots/0032d1ee-80fd-11ee-8227-6aecfccc70fe/Library/Caches/com.apple.xbs/Sources/MetalPerformanceShadersGraph/mpsgraph/MetalPerformanceShadersGraph/Core/Files/MPSGraphUtilities.mm\":294:0)): error: 'anec.gain_offset_control' op result #0 must be 4D/5D memref of 16-bit float or 8-bit signed integer or 8-bit unsigned integer values, but got 'memref<1x4x1x1xi1>'\n",
      "loc(\"mps_select\"(\"(mpsFileLoc): /AppleInternal/Library/BuildRoots/0032d1ee-80fd-11ee-8227-6aecfccc70fe/Library/Caches/com.apple.xbs/Sources/MetalPerformanceShadersGraph/mpsgraph/MetalPerformanceShadersGraph/Core/Files/MPSGraphUtilities.mm\":294:0)): error: 'anec.gain_offset_control' op result #0 must be 4D/5D memref of 16-bit float or 8-bit signed integer or 8-bit unsigned integer values, but got 'memref<1x4x1x1xi1>'\n"
     ]
    }
   ],
   "source": [
    "model_result = model.fit(X_train_reshaped, y_train_reshaped, batch_size=32, epochs=50, validation_data=(X_val_reshaped, y_val_reshaped))\n",
    "loss, auc = model.evaluate(X_test, y_test)"
   ]
  },
  {
   "cell_type": "code",
   "execution_count": 16,
   "id": "779832b4",
   "metadata": {},
   "outputs": [
    {
     "ename": "AttributeError",
     "evalue": "'History' object has no attribute 'summary'",
     "output_type": "error",
     "traceback": [
      "\u001b[0;31m---------------------------------------------------------------------------\u001b[0m",
      "\u001b[0;31mAttributeError\u001b[0m                            Traceback (most recent call last)",
      "Input \u001b[0;32mIn [16]\u001b[0m, in \u001b[0;36m<cell line: 1>\u001b[0;34m()\u001b[0m\n\u001b[0;32m----> 1\u001b[0m \u001b[43mmodel_result\u001b[49m\u001b[38;5;241;43m.\u001b[39;49m\u001b[43msummary\u001b[49m()\n",
      "\u001b[0;31mAttributeError\u001b[0m: 'History' object has no attribute 'summary'"
     ]
    }
   ],
   "source": [
    "model_result.summary()"
   ]
  },
  {
   "cell_type": "code",
   "execution_count": 21,
   "id": "a85aa083",
   "metadata": {},
   "outputs": [
    {
     "name": "stdout",
     "output_type": "stream",
     "text": [
      "5/5 [==============================] - 0s 12ms/step\n"
     ]
    }
   ],
   "source": [
    "y_prob = model.predict(X_test)\n",
    "y_pred = np.where(y_prob > 0.5, 1, 0) # Adjust the threshold as needed\n",
    "accuracy = accuracy_score(y_test, y_pred)\n",
    "rmse = np.sqrt(mean_squared_error(y_test, y_pred))\n",
    "mape = np.mean(np.abs((y_test - y_pred) / y_test)) * 100\n",
    "\n",
    "conf_matrix = confusion_matrix(y_test, y_pred, labels=[0, 1])\n",
    "\n",
    "precision = precision_score(y_test, y_pred)\n",
    "recall = recall_score(y_test, y_pred)\n",
    "f1 = f1_score(y_test, y_pred)\n",
    "auc_roc = roc_auc_score(y_test, y_prob)\n",
    "fpr, tpr, thresholds = roc_curve(y_test, y_prob)"
   ]
  },
  {
   "cell_type": "code",
   "execution_count": 23,
   "id": "2c637dd9",
   "metadata": {},
   "outputs": [
    {
     "data": {
      "text/plain": [
       "0.5"
      ]
     },
     "execution_count": 23,
     "metadata": {},
     "output_type": "execute_result"
    }
   ],
   "source": [
    "f1"
   ]
  },
  {
   "cell_type": "code",
   "execution_count": 11,
   "id": "5a06e021",
   "metadata": {},
   "outputs": [
    {
     "data": {
      "text/plain": [
       "0.847154974937439"
      ]
     },
     "execution_count": 11,
     "metadata": {},
     "output_type": "execute_result"
    }
   ],
   "source": [
    "auc"
   ]
  },
  {
   "cell_type": "code",
   "execution_count": 12,
   "id": "5d652fbd",
   "metadata": {},
   "outputs": [
    {
     "data": {
      "text/plain": [
       "0.23591922223567963"
      ]
     },
     "execution_count": 12,
     "metadata": {},
     "output_type": "execute_result"
    }
   ],
   "source": [
    "loss"
   ]
  },
  {
   "cell_type": "code",
   "execution_count": 13,
   "id": "c08ea42b",
   "metadata": {},
   "outputs": [],
   "source": [
    "def f1_score(y_true, y_pred):\n",
    "    true_positives = K.sum(K.round(K.clip(y_true * y_pred, 0, 1)))\n",
    "    predicted_positives = K.sum(K.round(K.clip(y_pred, 0, 1)))\n",
    "    possible_positives = K.sum(K.round(K.clip(y_true, 0, 1)))\n",
    "    \n",
    "    precision = true_positives / (predicted_positives + K.epsilon())\n",
    "    recall = true_positives / (possible_positives + K.epsilon())\n",
    "    \n",
    "    f1 = 2 * (precision * recall) / (precision + recall + K.epsilon())\n",
    "    \n",
    "    return f1"
   ]
  },
  {
   "cell_type": "code",
   "execution_count": 147,
   "id": "403e120f",
   "metadata": {
    "scrolled": true
   },
   "outputs": [
    {
     "ename": "AttributeError",
     "evalue": "'History' object has no attribute 'summary'",
     "output_type": "error",
     "traceback": [
      "\u001b[0;31m---------------------------------------------------------------------------\u001b[0m",
      "\u001b[0;31mAttributeError\u001b[0m                            Traceback (most recent call last)",
      "Input \u001b[0;32mIn [147]\u001b[0m, in \u001b[0;36m<cell line: 1>\u001b[0;34m()\u001b[0m\n\u001b[0;32m----> 1\u001b[0m \u001b[38;5;28mprint\u001b[39m(\u001b[43mhistory\u001b[49m\u001b[38;5;241;43m.\u001b[39;49m\u001b[43msummary\u001b[49m())\n",
      "\u001b[0;31mAttributeError\u001b[0m: 'History' object has no attribute 'summary'"
     ]
    }
   ],
   "source": []
  },
  {
   "cell_type": "code",
   "execution_count": 142,
   "id": "91060b2b",
   "metadata": {},
   "outputs": [
    {
     "data": {
      "text/plain": [
       "<keras.callbacks.History at 0x2a3ab1fc0>"
      ]
     },
     "execution_count": 142,
     "metadata": {},
     "output_type": "execute_result"
    }
   ],
   "source": []
  },
  {
   "cell_type": "code",
   "execution_count": null,
   "id": "7592d199",
   "metadata": {},
   "outputs": [],
   "source": []
  }
 ],
 "metadata": {
  "kernelspec": {
   "display_name": "Python 3 (ipykernel)",
   "language": "python",
   "name": "python3"
  },
  "language_info": {
   "codemirror_mode": {
    "name": "ipython",
    "version": 3
   },
   "file_extension": ".py",
   "mimetype": "text/x-python",
   "name": "python",
   "nbconvert_exporter": "python",
   "pygments_lexer": "ipython3",
   "version": "3.10.5"
  }
 },
 "nbformat": 4,
 "nbformat_minor": 5
}
