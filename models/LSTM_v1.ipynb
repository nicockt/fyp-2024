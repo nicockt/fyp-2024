{
 "cells": [
  {
   "cell_type": "code",
   "execution_count": 75,
   "id": "ed4a3bf9",
   "metadata": {},
   "outputs": [],
   "source": [
    "import pandas as pd\n",
    "import numpy as np\n",
    "import matplotlib.pyplot as plt\n",
    "from util_visualization import plot_feature_importances, plot_roc_curve\n",
    "from sklearn.model_selection import TimeSeriesSplit\n",
    "from sklearn.metrics import mean_squared_error\n",
    "from sklearn.preprocessing import StandardScaler\n",
    "from sklearn.linear_model import LogisticRegression\n",
    "from sklearn.metrics import classification_report, confusion_matrix, accuracy_score, mean_absolute_percentage_error, precision_score, recall_score, f1_score\n",
    "from sklearn.model_selection import GridSearchCV, cross_val_score\n",
    "from sklearn.metrics import roc_auc_score, roc_curve\n",
    "from pylab import rcParams\n",
    "from imblearn.over_sampling import SMOTE\n",
    "from sklearn.impute import SimpleImputer\n",
    "from imblearn.over_sampling import RandomOverSampler\n",
    "from imblearn.under_sampling import RandomUnderSampler\n",
    "import pickle\n",
    "import importlib\n",
    "import sys\n",
    "import joblib\n",
    "import warnings\n",
    "if not sys.warnoptions:\n",
    "    warnings.simplefilter(\"ignore\")\n",
    "import glob\n",
    "import math\n",
    "\n",
    "#For NN\n",
    "from keras.models import Sequential\n",
    "from keras.layers import Dense, LSTM, BatchNormalization, RepeatVector, TimeDistributed\n",
    "from keras.optimizers import Adam\n",
    "from keras.callbacks import ReduceLROnPlateau, EarlyStopping\n",
    "from keras.regularizers import l2\n",
    "from time import time\n",
    "from sklearn.preprocessing import LabelEncoder\n",
    "from keras.utils import to_categorical"
   ]
  },
  {
   "cell_type": "code",
   "execution_count": 76,
   "id": "1279b00e",
   "metadata": {
    "scrolled": true
   },
   "outputs": [
    {
     "name": "stdout",
     "output_type": "stream",
     "text": [
      "['volatility', 'price_change', 'volume_change', 'date', '000001.SS', '^BSESN', '^BVSP', '^FCHI', '^FTLC', '^GDAXI', '^GSPC', '^HSI', '^N225', '^SSMI', 'Crude_Oil_Index_Excess_Return', 'Ted_Rate', 'Gold_Price', 'housing', 'reserve', '10YGov_BondYield', 'current_acct', 'FX_Rate', 'turnover', 'Population', 'npl', 'Recession_Indicators', 'inflation', 'Unemployment', 'GDP']\n"
     ]
    }
   ],
   "source": [
    "#Import Dataset\n",
    "labeled_index = pd.read_csv(\"../data/labeled_data/quarterly_labeled_features_standardized.csv\")\n",
    "\n",
    "\n",
    "#Features Columns\n",
    "features_columns = list(labeled_index.columns)\n",
    "columns_to_remove = ['index', 'crash_label', 'Quarter']\n",
    "features_columns = [column for column in features_columns if column not in columns_to_remove]\n",
    "print(features_columns)"
   ]
  },
  {
   "cell_type": "markdown",
   "id": "bb0766b7",
   "metadata": {},
   "source": [
    "## Split data"
   ]
  },
  {
   "cell_type": "code",
   "execution_count": 62,
   "id": "d19f35a8",
   "metadata": {},
   "outputs": [
    {
     "name": "stdout",
     "output_type": "stream",
     "text": [
      "(616, 28) (616, 1) (132, 28) (132, 1) (132, 28) (132, 1)\n"
     ]
    }
   ],
   "source": [
    "training_data_len = math.ceil(len(labeled_index) * .7)\n",
    "val_index = math.ceil(len(labeled_index) * .85)\n",
    "X_train = labeled_index[features_columns].iloc[:training_data_len]\n",
    "y_train = labeled_index[['date', 'crash_label']].iloc[:training_data_len]\n",
    "X_val = labeled_index[features_columns].iloc[training_data_len:val_index]\n",
    "y_val = labeled_index[['date', 'crash_label']].iloc[training_data_len:val_index]\n",
    "X_test = labeled_index[features_columns].iloc[val_index:]\n",
    "y_test = labeled_index[['date', 'crash_label']].iloc[val_index:]\n",
    "\n",
    "\n",
    "X_train.set_index('date', inplace=True)\n",
    "y_train.set_index('date', inplace=True)\n",
    "X_val.set_index('date', inplace=True)\n",
    "y_val.set_index('date', inplace=True)\n",
    "X_test.set_index('date', inplace=True)\n",
    "y_test.set_index('date', inplace=True)\n",
    "\n",
    "print(X_train.shape, y_train.shape, X_val.shape, y_val.shape, X_test.shape, y_test.shape)"
   ]
  },
  {
   "cell_type": "markdown",
   "id": "566c422c",
   "metadata": {},
   "source": [
    "## Oversampling"
   ]
  },
  {
   "cell_type": "code",
   "execution_count": 89,
   "id": "a454e01a",
   "metadata": {},
   "outputs": [],
   "source": [
    "# Oversample the minority class (1) using SMOTE\n",
    "oversampler = SMOTE()\n",
    "X_train_resampled, y_train_resampled = oversampler.fit_resample(X_train, y_train)"
   ]
  },
  {
   "cell_type": "code",
   "execution_count": 90,
   "id": "ecd4ebca",
   "metadata": {},
   "outputs": [
    {
     "name": "stdout",
     "output_type": "stream",
     "text": [
      "(1102, 28, 1) (1102, 1) (132, 28, 1) (132, 1) (132, 28, 1) (132, 1)\n"
     ]
    }
   ],
   "source": [
    "X_train_reshaped = np.reshape(X_train_resampled, (X_train_resampled.shape[0], X_train_resampled.shape[1], 1))\n",
    "\n",
    "y_train_reshaped = np.reshape(y_train_resampled, (y_train_resampled.shape[0], 1))\n",
    "\n",
    "X_val_reshaped = np.reshape(X_val, (X_val.shape[0], X_val.shape[1], 1))\n",
    "\n",
    "y_val_reshaped = np.reshape(y_val, (y_val.shape[0], 1))\n",
    "\n",
    "X_test_reshaped = np.reshape(X_test, (X_test.shape[0], X_test.shape[1], 1))\n",
    "\n",
    "y_test_reshaped = np.reshape(y_test, (y_test.shape[0], 1))\n",
    "\n",
    "\n",
    "print(X_train_reshaped.shape, y_train_reshaped.shape, X_val_reshaped.shape, y_val_reshaped.shape, X_test_reshaped.shape, y_test_reshaped.shape)\n"
   ]
  },
  {
   "cell_type": "code",
   "execution_count": 87,
   "id": "2c8a1bae",
   "metadata": {},
   "outputs": [],
   "source": [
    "model = Sequential()\n",
    "model.add(LSTM(64, dropout=0.1, input_shape=(28,1)))\n",
    "# model.add(Dense(64, activation='relu'))\n",
    "model.add(Dense(1, activation='sigmoid'))\n",
    "model.compile(optimizer='adam', loss='binary_crossentropy', metrics=['AUC'])"
   ]
  },
  {
   "cell_type": "code",
   "execution_count": 88,
   "id": "118e509e",
   "metadata": {},
   "outputs": [
    {
     "name": "stdout",
     "output_type": "stream",
     "text": [
      "Model: \"sequential_8\"\n",
      "_________________________________________________________________\n",
      " Layer (type)                Output Shape              Param #   \n",
      "=================================================================\n",
      " lstm_8 (LSTM)               (None, 64)                16896     \n",
      "                                                                 \n",
      " dense_7 (Dense)             (None, 1)                 65        \n",
      "                                                                 \n",
      "=================================================================\n",
      "Total params: 16,961\n",
      "Trainable params: 16,961\n",
      "Non-trainable params: 0\n",
      "_________________________________________________________________\n"
     ]
    }
   ],
   "source": [
    "model.summary()"
   ]
  },
  {
   "cell_type": "code",
   "execution_count": 80,
   "id": "2f2e4f24",
   "metadata": {
    "scrolled": true
   },
   "outputs": [
    {
     "name": "stdout",
     "output_type": "stream",
     "text": [
      "Epoch 1/50\n"
     ]
    },
    {
     "name": "stderr",
     "output_type": "stream",
     "text": [
      "2024-03-26 13:58:22.500820: I tensorflow/core/grappler/optimizers/custom_graph_optimizer_registry.cc:113] Plugin optimizer for device_type GPU is enabled.\n",
      "2024-03-26 13:58:22.716062: I tensorflow/core/grappler/optimizers/custom_graph_optimizer_registry.cc:113] Plugin optimizer for device_type GPU is enabled.\n",
      "loc(\"mps_select\"(\"(mpsFileLoc): /AppleInternal/Library/BuildRoots/0032d1ee-80fd-11ee-8227-6aecfccc70fe/Library/Caches/com.apple.xbs/Sources/MetalPerformanceShadersGraph/mpsgraph/MetalPerformanceShadersGraph/Core/Files/MPSGraphUtilities.mm\":294:0)): error: 'anec.gain_offset_control' op result #0 must be 4D/5D memref of 16-bit float or 8-bit signed integer or 8-bit unsigned integer values, but got 'memref<1x32x1x1xi1>'\n",
      "loc(\"mps_select\"(\"(mpsFileLoc): /AppleInternal/Library/BuildRoots/0032d1ee-80fd-11ee-8227-6aecfccc70fe/Library/Caches/com.apple.xbs/Sources/MetalPerformanceShadersGraph/mpsgraph/MetalPerformanceShadersGraph/Core/Files/MPSGraphUtilities.mm\":294:0)): error: 'anec.gain_offset_control' op result #0 must be 4D/5D memref of 16-bit float or 8-bit signed integer or 8-bit unsigned integer values, but got 'memref<1x32x1x1xi1>'\n",
      "loc(\"mps_select\"(\"(mpsFileLoc): /AppleInternal/Library/BuildRoots/0032d1ee-80fd-11ee-8227-6aecfccc70fe/Library/Caches/com.apple.xbs/Sources/MetalPerformanceShadersGraph/mpsgraph/MetalPerformanceShadersGraph/Core/Files/MPSGraphUtilities.mm\":294:0)): error: 'anec.gain_offset_control' op result #0 must be 4D/5D memref of 16-bit float or 8-bit signed integer or 8-bit unsigned integer values, but got 'memref<1x32x1x1xi1>'\n",
      "loc(\"mps_select\"(\"(mpsFileLoc): /AppleInternal/Library/BuildRoots/0032d1ee-80fd-11ee-8227-6aecfccc70fe/Library/Caches/com.apple.xbs/Sources/MetalPerformanceShadersGraph/mpsgraph/MetalPerformanceShadersGraph/Core/Files/MPSGraphUtilities.mm\":294:0)): error: 'anec.gain_offset_control' op result #0 must be 4D/5D memref of 16-bit float or 8-bit signed integer or 8-bit unsigned integer values, but got 'memref<1x32x1x1xi1>'\n",
      "loc(\"mps_select\"(\"(mpsFileLoc): /AppleInternal/Library/BuildRoots/0032d1ee-80fd-11ee-8227-6aecfccc70fe/Library/Caches/com.apple.xbs/Sources/MetalPerformanceShadersGraph/mpsgraph/MetalPerformanceShadersGraph/Core/Files/MPSGraphUtilities.mm\":294:0)): error: 'anec.gain_offset_control' op result #0 must be 4D/5D memref of 16-bit float or 8-bit signed integer or 8-bit unsigned integer values, but got 'memref<1x32x1x1xi1>'\n",
      "2024-03-26 13:58:23.095252: I tensorflow/core/grappler/optimizers/custom_graph_optimizer_registry.cc:113] Plugin optimizer for device_type GPU is enabled.\n"
     ]
    },
    {
     "name": "stdout",
     "output_type": "stream",
     "text": [
      "34/35 [============================>.] - ETA: 0s - loss: 0.6680 - auc: 0.6622"
     ]
    },
    {
     "name": "stderr",
     "output_type": "stream",
     "text": [
      "loc(\"mps_select\"(\"(mpsFileLoc): /AppleInternal/Library/BuildRoots/0032d1ee-80fd-11ee-8227-6aecfccc70fe/Library/Caches/com.apple.xbs/Sources/MetalPerformanceShadersGraph/mpsgraph/MetalPerformanceShadersGraph/Core/Files/MPSGraphUtilities.mm\":294:0)): error: 'anec.gain_offset_control' op result #0 must be 4D/5D memref of 16-bit float or 8-bit signed integer or 8-bit unsigned integer values, but got 'memref<1x14x1x1xi1>'\n",
      "loc(\"mps_select\"(\"(mpsFileLoc): /AppleInternal/Library/BuildRoots/0032d1ee-80fd-11ee-8227-6aecfccc70fe/Library/Caches/com.apple.xbs/Sources/MetalPerformanceShadersGraph/mpsgraph/MetalPerformanceShadersGraph/Core/Files/MPSGraphUtilities.mm\":294:0)): error: 'anec.gain_offset_control' op result #0 must be 4D/5D memref of 16-bit float or 8-bit signed integer or 8-bit unsigned integer values, but got 'memref<1x14x1x1xi1>'\n",
      "loc(\"mps_select\"(\"(mpsFileLoc): /AppleInternal/Library/BuildRoots/0032d1ee-80fd-11ee-8227-6aecfccc70fe/Library/Caches/com.apple.xbs/Sources/MetalPerformanceShadersGraph/mpsgraph/MetalPerformanceShadersGraph/Core/Files/MPSGraphUtilities.mm\":294:0)): error: 'anec.gain_offset_control' op result #0 must be 4D/5D memref of 16-bit float or 8-bit signed integer or 8-bit unsigned integer values, but got 'memref<1x14x1x1xi1>'\n",
      "loc(\"mps_select\"(\"(mpsFileLoc): /AppleInternal/Library/BuildRoots/0032d1ee-80fd-11ee-8227-6aecfccc70fe/Library/Caches/com.apple.xbs/Sources/MetalPerformanceShadersGraph/mpsgraph/MetalPerformanceShadersGraph/Core/Files/MPSGraphUtilities.mm\":294:0)): error: 'anec.gain_offset_control' op result #0 must be 4D/5D memref of 16-bit float or 8-bit signed integer or 8-bit unsigned integer values, but got 'memref<1x14x1x1xi1>'\n",
      "loc(\"mps_select\"(\"(mpsFileLoc): /AppleInternal/Library/BuildRoots/0032d1ee-80fd-11ee-8227-6aecfccc70fe/Library/Caches/com.apple.xbs/Sources/MetalPerformanceShadersGraph/mpsgraph/MetalPerformanceShadersGraph/Core/Files/MPSGraphUtilities.mm\":294:0)): error: 'anec.gain_offset_control' op result #0 must be 4D/5D memref of 16-bit float or 8-bit signed integer or 8-bit unsigned integer values, but got 'memref<1x14x1x1xi1>'\n"
     ]
    },
    {
     "name": "stdout",
     "output_type": "stream",
     "text": [
      "\b\b\b\b\b\b\b\b\b\b\b\b\b\b\b\b\b\b\b\b\b\b\b\b\b\b\b\b\b\b\b\b\b\b\b\b\b\b\b\b\b\b\b\b\b\b\b\b\b\b\b\b\b\b\b\b\b\b\b\b\b\b\b\b\b\b\b\b\b\b\b\b\b\b\b\b\b\r",
      "35/35 [==============================] - ETA: 0s - loss: 0.6678 - auc: 0.6596"
     ]
    },
    {
     "name": "stderr",
     "output_type": "stream",
     "text": [
      "2024-03-26 13:58:25.450074: I tensorflow/core/grappler/optimizers/custom_graph_optimizer_registry.cc:113] Plugin optimizer for device_type GPU is enabled.\n",
      "2024-03-26 13:58:25.529590: I tensorflow/core/grappler/optimizers/custom_graph_optimizer_registry.cc:113] Plugin optimizer for device_type GPU is enabled.\n",
      "loc(\"mps_select\"(\"(mpsFileLoc): /AppleInternal/Library/BuildRoots/0032d1ee-80fd-11ee-8227-6aecfccc70fe/Library/Caches/com.apple.xbs/Sources/MetalPerformanceShadersGraph/mpsgraph/MetalPerformanceShadersGraph/Core/Files/MPSGraphUtilities.mm\":294:0)): error: 'anec.gain_offset_control' op result #0 must be 4D/5D memref of 16-bit float or 8-bit signed integer or 8-bit unsigned integer values, but got 'memref<1x32x1x1xi1>'\n",
      "loc(\"mps_select\"(\"(mpsFileLoc): /AppleInternal/Library/BuildRoots/0032d1ee-80fd-11ee-8227-6aecfccc70fe/Library/Caches/com.apple.xbs/Sources/MetalPerformanceShadersGraph/mpsgraph/MetalPerformanceShadersGraph/Core/Files/MPSGraphUtilities.mm\":294:0)): error: 'anec.gain_offset_control' op result #0 must be 4D/5D memref of 16-bit float or 8-bit signed integer or 8-bit unsigned integer values, but got 'memref<1x32x1x1xi1>'\n"
     ]
    },
    {
     "name": "stdout",
     "output_type": "stream",
     "text": [
      "35/35 [==============================] - 5s 78ms/step - loss: 0.6678 - auc: 0.6596 - val_loss: 0.6087 - val_auc: 0.6627\n",
      "Epoch 2/50\n",
      " 1/35 [..............................] - ETA: 1s - loss: 0.6290 - auc: 0.7146"
     ]
    },
    {
     "name": "stderr",
     "output_type": "stream",
     "text": [
      "loc(\"mps_select\"(\"(mpsFileLoc): /AppleInternal/Library/BuildRoots/0032d1ee-80fd-11ee-8227-6aecfccc70fe/Library/Caches/com.apple.xbs/Sources/MetalPerformanceShadersGraph/mpsgraph/MetalPerformanceShadersGraph/Core/Files/MPSGraphUtilities.mm\":294:0)): error: 'anec.gain_offset_control' op result #0 must be 4D/5D memref of 16-bit float or 8-bit signed integer or 8-bit unsigned integer values, but got 'memref<1x4x1x1xi1>'\n",
      "loc(\"mps_select\"(\"(mpsFileLoc): /AppleInternal/Library/BuildRoots/0032d1ee-80fd-11ee-8227-6aecfccc70fe/Library/Caches/com.apple.xbs/Sources/MetalPerformanceShadersGraph/mpsgraph/MetalPerformanceShadersGraph/Core/Files/MPSGraphUtilities.mm\":294:0)): error: 'anec.gain_offset_control' op result #0 must be 4D/5D memref of 16-bit float or 8-bit signed integer or 8-bit unsigned integer values, but got 'memref<1x4x1x1xi1>'\n"
     ]
    },
    {
     "name": "stdout",
     "output_type": "stream",
     "text": [
      "35/35 [==============================] - 1s 34ms/step - loss: 0.4874 - auc: 0.8406 - val_loss: 0.4091 - val_auc: 0.8031\n",
      "Epoch 3/50\n",
      "35/35 [==============================] - 1s 36ms/step - loss: 0.4370 - auc: 0.8832 - val_loss: 0.4129 - val_auc: 0.7993\n",
      "Epoch 4/50\n",
      "35/35 [==============================] - 1s 36ms/step - loss: 0.4181 - auc: 0.8878 - val_loss: 0.3746 - val_auc: 0.7788\n",
      "Epoch 5/50\n",
      "35/35 [==============================] - 1s 29ms/step - loss: 0.4267 - auc: 0.8835 - val_loss: 0.4247 - val_auc: 0.7858\n",
      "Epoch 6/50\n",
      "35/35 [==============================] - 1s 28ms/step - loss: 0.4136 - auc: 0.8889 - val_loss: 0.4013 - val_auc: 0.7694\n",
      "Epoch 7/50\n",
      "35/35 [==============================] - 1s 27ms/step - loss: 0.4137 - auc: 0.8889 - val_loss: 0.4156 - val_auc: 0.7675\n",
      "Epoch 8/50\n",
      "35/35 [==============================] - 1s 25ms/step - loss: 0.4067 - auc: 0.8900 - val_loss: 0.4255 - val_auc: 0.7721\n",
      "Epoch 9/50\n",
      "35/35 [==============================] - 1s 26ms/step - loss: 0.4181 - auc: 0.8838 - val_loss: 0.4188 - val_auc: 0.7398\n",
      "Epoch 10/50\n",
      "35/35 [==============================] - 1s 27ms/step - loss: 0.3995 - auc: 0.8972 - val_loss: 0.4231 - val_auc: 0.7848\n",
      "Epoch 11/50\n",
      "35/35 [==============================] - 1s 31ms/step - loss: 0.4230 - auc: 0.8821 - val_loss: 0.4174 - val_auc: 0.7637\n",
      "Epoch 12/50\n",
      "35/35 [==============================] - 1s 42ms/step - loss: 0.4167 - auc: 0.8897 - val_loss: 0.4629 - val_auc: 0.7656\n",
      "Epoch 13/50\n",
      "35/35 [==============================] - 1s 35ms/step - loss: 0.4123 - auc: 0.8907 - val_loss: 0.4049 - val_auc: 0.7697\n",
      "Epoch 14/50\n",
      "35/35 [==============================] - 1s 26ms/step - loss: 0.3853 - auc: 0.9048 - val_loss: 0.4336 - val_auc: 0.7662\n",
      "Epoch 15/50\n",
      "35/35 [==============================] - 1s 29ms/step - loss: 0.3930 - auc: 0.8965 - val_loss: 0.4185 - val_auc: 0.7452\n",
      "Epoch 16/50\n",
      "35/35 [==============================] - 1s 26ms/step - loss: 0.3848 - auc: 0.9068 - val_loss: 0.4548 - val_auc: 0.7635\n",
      "Epoch 17/50\n",
      "35/35 [==============================] - 1s 25ms/step - loss: 0.3900 - auc: 0.9029 - val_loss: 0.4462 - val_auc: 0.7279\n",
      "Epoch 18/50\n",
      "35/35 [==============================] - 1s 26ms/step - loss: 0.3893 - auc: 0.9029 - val_loss: 0.4715 - val_auc: 0.7438\n",
      "Epoch 19/50\n",
      "35/35 [==============================] - 1s 26ms/step - loss: 0.3777 - auc: 0.9130 - val_loss: 0.4734 - val_auc: 0.7648\n",
      "Epoch 20/50\n",
      "35/35 [==============================] - 1s 26ms/step - loss: 0.3940 - auc: 0.8995 - val_loss: 0.4528 - val_auc: 0.6697\n",
      "Epoch 21/50\n",
      "35/35 [==============================] - 1s 28ms/step - loss: 0.3869 - auc: 0.9051 - val_loss: 0.4403 - val_auc: 0.7454\n",
      "Epoch 22/50\n",
      "35/35 [==============================] - 1s 26ms/step - loss: 0.3631 - auc: 0.9180 - val_loss: 0.4820 - val_auc: 0.7398\n",
      "Epoch 23/50\n",
      "35/35 [==============================] - 1s 25ms/step - loss: 0.3962 - auc: 0.9016 - val_loss: 0.4833 - val_auc: 0.7532\n",
      "Epoch 24/50\n",
      "35/35 [==============================] - 1s 26ms/step - loss: 0.3817 - auc: 0.9077 - val_loss: 0.4515 - val_auc: 0.7228\n",
      "Epoch 25/50\n",
      "35/35 [==============================] - 1s 25ms/step - loss: 0.3831 - auc: 0.9073 - val_loss: 0.4864 - val_auc: 0.7322\n",
      "Epoch 26/50\n",
      "35/35 [==============================] - 1s 26ms/step - loss: 0.3775 - auc: 0.9107 - val_loss: 0.4846 - val_auc: 0.7411\n",
      "Epoch 27/50\n",
      "35/35 [==============================] - 1s 26ms/step - loss: 0.3594 - auc: 0.9181 - val_loss: 0.4926 - val_auc: 0.7136\n",
      "Epoch 28/50\n",
      "35/35 [==============================] - 1s 26ms/step - loss: 0.3781 - auc: 0.9093 - val_loss: 0.4508 - val_auc: 0.7201\n",
      "Epoch 29/50\n",
      "35/35 [==============================] - 1s 25ms/step - loss: 0.3700 - auc: 0.9132 - val_loss: 0.4912 - val_auc: 0.7252\n",
      "Epoch 30/50\n",
      "35/35 [==============================] - 1s 35ms/step - loss: 0.3671 - auc: 0.9138 - val_loss: 0.4967 - val_auc: 0.7206\n",
      "Epoch 31/50\n",
      "35/35 [==============================] - 1s 27ms/step - loss: 0.3603 - auc: 0.9171 - val_loss: 0.4699 - val_auc: 0.7212\n",
      "Epoch 32/50\n",
      "35/35 [==============================] - 1s 27ms/step - loss: 0.3677 - auc: 0.9154 - val_loss: 0.5205 - val_auc: 0.7519\n",
      "Epoch 33/50\n",
      "35/35 [==============================] - 1s 26ms/step - loss: 0.3579 - auc: 0.9203 - val_loss: 0.5130 - val_auc: 0.7489\n",
      "Epoch 34/50\n",
      "35/35 [==============================] - 1s 27ms/step - loss: 0.3829 - auc: 0.9042 - val_loss: 0.4652 - val_auc: 0.7266\n",
      "Epoch 35/50\n",
      "35/35 [==============================] - 1s 27ms/step - loss: 0.3697 - auc: 0.9152 - val_loss: 0.4658 - val_auc: 0.7276\n",
      "Epoch 36/50\n",
      "35/35 [==============================] - 1s 32ms/step - loss: 0.3543 - auc: 0.9216 - val_loss: 0.4675 - val_auc: 0.7150\n",
      "Epoch 37/50\n",
      "35/35 [==============================] - 1s 32ms/step - loss: 0.3660 - auc: 0.9146 - val_loss: 0.4755 - val_auc: 0.7314\n",
      "Epoch 38/50\n",
      "35/35 [==============================] - 1s 32ms/step - loss: 0.3543 - auc: 0.9228 - val_loss: 0.4636 - val_auc: 0.7446\n",
      "Epoch 39/50\n",
      "35/35 [==============================] - 1s 30ms/step - loss: 0.3516 - auc: 0.9225 - val_loss: 0.4502 - val_auc: 0.7126\n",
      "Epoch 40/50\n",
      "35/35 [==============================] - 1s 29ms/step - loss: 0.3627 - auc: 0.9176 - val_loss: 0.5211 - val_auc: 0.7363\n",
      "Epoch 41/50\n",
      "35/35 [==============================] - 1s 27ms/step - loss: 0.3616 - auc: 0.9184 - val_loss: 0.4688 - val_auc: 0.7659\n",
      "Epoch 42/50\n",
      "35/35 [==============================] - 1s 27ms/step - loss: 0.3517 - auc: 0.9213 - val_loss: 0.4971 - val_auc: 0.7365\n",
      "Epoch 43/50\n",
      "35/35 [==============================] - 1s 29ms/step - loss: 0.3396 - auc: 0.9274 - val_loss: 0.4678 - val_auc: 0.7495\n",
      "Epoch 44/50\n",
      "35/35 [==============================] - 1s 28ms/step - loss: 0.3625 - auc: 0.9186 - val_loss: 0.4338 - val_auc: 0.7287\n",
      "Epoch 45/50\n",
      "35/35 [==============================] - 1s 29ms/step - loss: 0.3480 - auc: 0.9237 - val_loss: 0.4882 - val_auc: 0.7478\n",
      "Epoch 46/50\n",
      "35/35 [==============================] - 1s 29ms/step - loss: 0.3425 - auc: 0.9265 - val_loss: 0.5043 - val_auc: 0.7524\n",
      "Epoch 47/50\n",
      "35/35 [==============================] - 1s 29ms/step - loss: 0.3347 - auc: 0.9292 - val_loss: 0.5085 - val_auc: 0.7441\n",
      "Epoch 48/50\n",
      "35/35 [==============================] - 1s 29ms/step - loss: 0.3464 - auc: 0.9251 - val_loss: 0.4792 - val_auc: 0.7540\n",
      "Epoch 49/50\n",
      "35/35 [==============================] - 1s 27ms/step - loss: 0.3348 - auc: 0.9306 - val_loss: 0.4593 - val_auc: 0.7311\n",
      "Epoch 50/50\n",
      "35/35 [==============================] - 1s 28ms/step - loss: 0.3307 - auc: 0.9317 - val_loss: 0.4800 - val_auc: 0.7481\n"
     ]
    },
    {
     "name": "stderr",
     "output_type": "stream",
     "text": [
      "2024-03-26 13:59:15.964235: I tensorflow/core/grappler/optimizers/custom_graph_optimizer_registry.cc:113] Plugin optimizer for device_type GPU is enabled.\n",
      "2024-03-26 13:59:16.077284: I tensorflow/core/grappler/optimizers/custom_graph_optimizer_registry.cc:113] Plugin optimizer for device_type GPU is enabled.\n"
     ]
    },
    {
     "name": "stdout",
     "output_type": "stream",
     "text": [
      "3/5 [=================>............] - ETA: 0s - loss: 0.2390 - auc: 0.8652"
     ]
    },
    {
     "name": "stderr",
     "output_type": "stream",
     "text": [
      "loc(\"mps_select\"(\"(mpsFileLoc): /AppleInternal/Library/BuildRoots/0032d1ee-80fd-11ee-8227-6aecfccc70fe/Library/Caches/com.apple.xbs/Sources/MetalPerformanceShadersGraph/mpsgraph/MetalPerformanceShadersGraph/Core/Files/MPSGraphUtilities.mm\":294:0)): error: 'anec.gain_offset_control' op result #0 must be 4D/5D memref of 16-bit float or 8-bit signed integer or 8-bit unsigned integer values, but got 'memref<1x32x1x1xi1>'\n",
      "loc(\"mps_select\"(\"(mpsFileLoc): /AppleInternal/Library/BuildRoots/0032d1ee-80fd-11ee-8227-6aecfccc70fe/Library/Caches/com.apple.xbs/Sources/MetalPerformanceShadersGraph/mpsgraph/MetalPerformanceShadersGraph/Core/Files/MPSGraphUtilities.mm\":294:0)): error: 'anec.gain_offset_control' op result #0 must be 4D/5D memref of 16-bit float or 8-bit signed integer or 8-bit unsigned integer values, but got 'memref<1x32x1x1xi1>'\n"
     ]
    },
    {
     "name": "stdout",
     "output_type": "stream",
     "text": [
      "5/5 [==============================] - 2s 88ms/step - loss: 0.2729 - auc: 0.8499\n"
     ]
    },
    {
     "name": "stderr",
     "output_type": "stream",
     "text": [
      "loc(\"mps_select\"(\"(mpsFileLoc): /AppleInternal/Library/BuildRoots/0032d1ee-80fd-11ee-8227-6aecfccc70fe/Library/Caches/com.apple.xbs/Sources/MetalPerformanceShadersGraph/mpsgraph/MetalPerformanceShadersGraph/Core/Files/MPSGraphUtilities.mm\":294:0)): error: 'anec.gain_offset_control' op result #0 must be 4D/5D memref of 16-bit float or 8-bit signed integer or 8-bit unsigned integer values, but got 'memref<1x4x1x1xi1>'\n",
      "loc(\"mps_select\"(\"(mpsFileLoc): /AppleInternal/Library/BuildRoots/0032d1ee-80fd-11ee-8227-6aecfccc70fe/Library/Caches/com.apple.xbs/Sources/MetalPerformanceShadersGraph/mpsgraph/MetalPerformanceShadersGraph/Core/Files/MPSGraphUtilities.mm\":294:0)): error: 'anec.gain_offset_control' op result #0 must be 4D/5D memref of 16-bit float or 8-bit signed integer or 8-bit unsigned integer values, but got 'memref<1x4x1x1xi1>'\n"
     ]
    }
   ],
   "source": [
    "model_result = model.fit(X_train_reshaped, y_train_reshaped, batch_size=32, epochs=50, validation_data=(X_val_reshaped, y_val_reshaped))\n",
    "loss, auc = model.evaluate(X_test, y_test)"
   ]
  },
  {
   "cell_type": "code",
   "execution_count": 81,
   "id": "f66292ba",
   "metadata": {},
   "outputs": [
    {
     "name": "stderr",
     "output_type": "stream",
     "text": [
      "2024-03-26 13:59:17.026156: I tensorflow/core/grappler/optimizers/custom_graph_optimizer_registry.cc:113] Plugin optimizer for device_type GPU is enabled.\n",
      "2024-03-26 13:59:17.075449: I tensorflow/core/grappler/optimizers/custom_graph_optimizer_registry.cc:113] Plugin optimizer for device_type GPU is enabled.\n"
     ]
    },
    {
     "name": "stdout",
     "output_type": "stream",
     "text": [
      "5/5 [==============================] - 1s 44ms/step\n"
     ]
    }
   ],
   "source": [
    "y_prob = model.predict(X_test)\n",
    "y_pred = np.where(y_prob > 0.5, 1, 0) # Adjust the threshold as needed\n",
    "accuracy = accuracy_score(y_test, y_pred)\n",
    "rmse = np.sqrt(mean_squared_error(y_test, y_pred))\n",
    "mape = np.mean(np.abs((y_test - y_pred) / y_test)) * 100\n",
    "\n",
    "conf_matrix = confusion_matrix(y_test, y_pred, labels=[0, 1])\n",
    "\n",
    "precision = precision_score(y_test, y_pred)\n",
    "recall = recall_score(y_test, y_pred)\n",
    "f1 = f1_score(y_test, y_pred)\n",
    "auc_roc = roc_auc_score(y_test, y_prob)\n",
    "fpr, tpr, thresholds = roc_curve(y_test, y_prob)"
   ]
  },
  {
   "cell_type": "code",
   "execution_count": 82,
   "id": "121fe424",
   "metadata": {},
   "outputs": [
    {
     "data": {
      "text/plain": [
       "0.5806451612903226"
      ]
     },
     "execution_count": 82,
     "metadata": {},
     "output_type": "execute_result"
    }
   ],
   "source": [
    "f1"
   ]
  },
  {
   "cell_type": "code",
   "execution_count": 83,
   "id": "02dfe331",
   "metadata": {},
   "outputs": [
    {
     "data": {
      "text/plain": [
       "0.8498789072036743"
      ]
     },
     "execution_count": 83,
     "metadata": {},
     "output_type": "execute_result"
    }
   ],
   "source": [
    "auc"
   ]
  },
  {
   "cell_type": "code",
   "execution_count": 84,
   "id": "b89e4935",
   "metadata": {},
   "outputs": [
    {
     "data": {
      "text/plain": [
       "0.2729400396347046"
      ]
     },
     "execution_count": 84,
     "metadata": {},
     "output_type": "execute_result"
    }
   ],
   "source": [
    "loss"
   ]
  },
  {
   "cell_type": "code",
   "execution_count": null,
   "id": "b62cf27a",
   "metadata": {},
   "outputs": [],
   "source": []
  }
 ],
 "metadata": {
  "kernelspec": {
   "display_name": "Python 3 (ipykernel)",
   "language": "python",
   "name": "python3"
  },
  "language_info": {
   "codemirror_mode": {
    "name": "ipython",
    "version": 3
   },
   "file_extension": ".py",
   "mimetype": "text/x-python",
   "name": "python",
   "nbconvert_exporter": "python",
   "pygments_lexer": "ipython3",
   "version": "3.10.5"
  }
 },
 "nbformat": 4,
 "nbformat_minor": 5
}
