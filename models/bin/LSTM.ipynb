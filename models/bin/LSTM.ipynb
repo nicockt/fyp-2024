{
 "cells": [
  {
   "cell_type": "code",
   "execution_count": 1,
   "id": "e0d606dd",
   "metadata": {},
   "outputs": [
    {
     "name": "stderr",
     "output_type": "stream",
     "text": [
      "2024-03-26 14:08:32.107317: I tensorflow/core/platform/cpu_feature_guard.cc:210] This TensorFlow binary is optimized to use available CPU instructions in performance-critical operations.\n",
      "To enable the following instructions: AVX2 FMA, in other operations, rebuild TensorFlow with the appropriate compiler flags.\n"
     ]
    }
   ],
   "source": [
    "import pandas as pd\n",
    "import numpy as np\n",
    "from numpy import array\n",
    "import shap\n",
    "import matplotlib.pyplot as plt\n",
    "from util_visualization import plot_feature_importances, plot_roc_curve\n",
    "from sklearn.model_selection import train_test_split\n",
    "from sklearn.metrics import mean_squared_error\n",
    "from sklearn.preprocessing import StandardScaler\n",
    "from sklearn.linear_model import LogisticRegression\n",
    "from sklearn.metrics import confusion_matrix, accuracy_score, mean_absolute_percentage_error, precision_score, recall_score, f1_score\n",
    "from sklearn.model_selection import GridSearchCV, cross_val_score\n",
    "from sklearn.metrics import roc_auc_score, roc_curve\n",
    "from pylab import rcParams\n",
    "from imblearn.over_sampling import SMOTE\n",
    "from sklearn.impute import SimpleImputer\n",
    "from imblearn.over_sampling import RandomOverSampler\n",
    "from imblearn.under_sampling import RandomUnderSampler\n",
    "import pickle\n",
    "import importlib\n",
    "import sys\n",
    "import joblib\n",
    "import warnings\n",
    "if not sys.warnoptions:\n",
    "    warnings.simplefilter(\"ignore\")\n",
    "import glob\n",
    "\n",
    "#LSTM\n",
    "import tensorflow as tf\n",
    "from tensorflow.keras.datasets import imdb\n",
    "from tensorflow.keras.models import Sequential\n",
    "from tensorflow.keras.layers import Dense\n",
    "from tensorflow.keras.layers import LSTM\n",
    "from tensorflow.keras.layers import Embedding\n",
    "from tensorflow.keras.preprocessing import sequence\n",
    "# fix random seed for reproducibility\n",
    "tf.random.set_seed(7)"
   ]
  },
  {
   "cell_type": "markdown",
   "id": "b24a71c2",
   "metadata": {},
   "source": [
    "# Import Data"
   ]
  },
  {
   "cell_type": "code",
   "execution_count": 2,
   "id": "1f12971b",
   "metadata": {},
   "outputs": [
    {
     "name": "stdout",
     "output_type": "stream",
     "text": [
      "28\n"
     ]
    }
   ],
   "source": [
    "#Import Dataset\n",
    "labeled_index = pd.read_csv(\"../data/labeled_data/quarterly_labeled_features_standardized.csv\")\n",
    "labeled_index.set_index(labeled_index['date'], inplace=True)\n",
    "quarters = np.sort(labeled_index.index.unique())\n",
    "\n",
    "#Features Columns\n",
    "features_columns = list(labeled_index.columns)\n",
    "columns_to_remove = ['index', 'crash_label', 'date', 'Quarter']\n",
    "features_columns = [column for column in features_columns if column not in columns_to_remove]\n",
    "print(len(features_columns))"
   ]
  },
  {
   "cell_type": "markdown",
   "id": "bb8cc9cf",
   "metadata": {},
   "source": [
    "# Build the model"
   ]
  },
  {
   "cell_type": "code",
   "execution_count": 12,
   "id": "3fdcb1f0",
   "metadata": {},
   "outputs": [],
   "source": [
    "def create_sequences(X_train_resampled):\n",
    "    x = int(len(X_train_resampled))\n",
    "    factors = []\n",
    "    \n",
    "    for i in range(1, x + 1):\n",
    "        if x % i == 0:\n",
    "            factors.append(i)\n",
    "    k = int(len(factors)/2) - 1\n",
    "    return factors[k], int(x/factors[k])\n",
    "\n",
    "X_train, X_temp, y_train, y_temp = train_test_split(labeled_index[features_columns], labeled_index['crash_label'], test_size=0.3)\n",
    "X_val, X_test, y_val, y_test = train_test_split(X_temp, y_temp, test_size=0.5)\n",
    "\n",
    "# Oversample the minority class (1) using SMOTE\n",
    "oversampler = SMOTE()\n",
    "X_train_resampled, y_train_resampled = oversampler.fit_resample(X_train, y_train)\n",
    "e = len(X_train_resampled)\n",
    "x, y = create_sequences(X_train_resampled)\n",
    "x1,y1 = create_sequences(X_test)\n",
    "X_train_resampled = X_train_resampled.values\n",
    "X_train_resampled = X_train_resampled.reshape(x, y, 28)\n",
    "\n",
    "X_test = X_test.values\n",
    "X_test = X_test.reshape(x1, y1, 28)\n",
    "\n",
    "y_train_resampled = y_train_resampled.values\n",
    "y_train_resampled = y_train_resampled.reshape(x, y, 1)\n",
    "\n",
    "y_test = y_test.values\n",
    "y_test = y_test.reshape(x1, y1, 1)"
   ]
  },
  {
   "cell_type": "code",
   "execution_count": 13,
   "id": "22025e6b",
   "metadata": {},
   "outputs": [],
   "source": [
    "model = Sequential()\n",
    "model.add(LSTM(units=128, return_sequences=True, input_shape=(X_train_resampled.shape[1], X_train_resampled.shape[2])))"
   ]
  },
  {
   "cell_type": "code",
   "execution_count": 14,
   "id": "e63f0682",
   "metadata": {},
   "outputs": [],
   "source": [
    "model.add(LSTM(units=64, return_sequences=True))\n",
    "model.add(LSTM(units=64, return_sequences=True))"
   ]
  },
  {
   "cell_type": "code",
   "execution_count": 15,
   "id": "7e22baeb",
   "metadata": {},
   "outputs": [],
   "source": [
    "model.add(Dense(units=1))\n",
    "model.compile(loss='mean_squared_error', optimizer='adam')"
   ]
  },
  {
   "cell_type": "code",
   "execution_count": 36,
   "id": "e0d37060",
   "metadata": {},
   "outputs": [
    {
     "data": {
      "text/html": [
       "<pre style=\"white-space:pre;overflow-x:auto;line-height:normal;font-family:Menlo,'DejaVu Sans Mono',consolas,'Courier New',monospace\"><span style=\"font-weight: bold\">Model: \"sequential_1\"</span>\n",
       "</pre>\n"
      ],
      "text/plain": [
       "\u001b[1mModel: \"sequential_1\"\u001b[0m\n"
      ]
     },
     "metadata": {},
     "output_type": "display_data"
    },
    {
     "data": {
      "text/html": [
       "<pre style=\"white-space:pre;overflow-x:auto;line-height:normal;font-family:Menlo,'DejaVu Sans Mono',consolas,'Courier New',monospace\">┏━━━━━━━━━━━━━━━━━━━━━━━━━━━━━━━━━┳━━━━━━━━━━━━━━━━━━━━━━━━┳━━━━━━━━━━━━━━━┓\n",
       "┃<span style=\"font-weight: bold\"> Layer (type)                    </span>┃<span style=\"font-weight: bold\"> Output Shape           </span>┃<span style=\"font-weight: bold\">       Param # </span>┃\n",
       "┡━━━━━━━━━━━━━━━━━━━━━━━━━━━━━━━━━╇━━━━━━━━━━━━━━━━━━━━━━━━╇━━━━━━━━━━━━━━━┩\n",
       "│ lstm_3 (<span style=\"color: #0087ff; text-decoration-color: #0087ff\">LSTM</span>)                   │ (<span style=\"color: #00d7ff; text-decoration-color: #00d7ff\">None</span>, <span style=\"color: #00af00; text-decoration-color: #00af00\">109</span>, <span style=\"color: #00af00; text-decoration-color: #00af00\">128</span>)       │        <span style=\"color: #00af00; text-decoration-color: #00af00\">80,384</span> │\n",
       "├─────────────────────────────────┼────────────────────────┼───────────────┤\n",
       "│ lstm_4 (<span style=\"color: #0087ff; text-decoration-color: #0087ff\">LSTM</span>)                   │ (<span style=\"color: #00d7ff; text-decoration-color: #00d7ff\">None</span>, <span style=\"color: #00af00; text-decoration-color: #00af00\">109</span>, <span style=\"color: #00af00; text-decoration-color: #00af00\">64</span>)        │        <span style=\"color: #00af00; text-decoration-color: #00af00\">49,408</span> │\n",
       "├─────────────────────────────────┼────────────────────────┼───────────────┤\n",
       "│ lstm_5 (<span style=\"color: #0087ff; text-decoration-color: #0087ff\">LSTM</span>)                   │ (<span style=\"color: #00d7ff; text-decoration-color: #00d7ff\">None</span>, <span style=\"color: #00af00; text-decoration-color: #00af00\">109</span>, <span style=\"color: #00af00; text-decoration-color: #00af00\">64</span>)        │        <span style=\"color: #00af00; text-decoration-color: #00af00\">33,024</span> │\n",
       "├─────────────────────────────────┼────────────────────────┼───────────────┤\n",
       "│ dense_1 (<span style=\"color: #0087ff; text-decoration-color: #0087ff\">Dense</span>)                 │ (<span style=\"color: #00d7ff; text-decoration-color: #00d7ff\">None</span>, <span style=\"color: #00af00; text-decoration-color: #00af00\">109</span>, <span style=\"color: #00af00; text-decoration-color: #00af00\">1</span>)         │            <span style=\"color: #00af00; text-decoration-color: #00af00\">65</span> │\n",
       "└─────────────────────────────────┴────────────────────────┴───────────────┘\n",
       "</pre>\n"
      ],
      "text/plain": [
       "┏━━━━━━━━━━━━━━━━━━━━━━━━━━━━━━━━━┳━━━━━━━━━━━━━━━━━━━━━━━━┳━━━━━━━━━━━━━━━┓\n",
       "┃\u001b[1m \u001b[0m\u001b[1mLayer (type)                   \u001b[0m\u001b[1m \u001b[0m┃\u001b[1m \u001b[0m\u001b[1mOutput Shape          \u001b[0m\u001b[1m \u001b[0m┃\u001b[1m \u001b[0m\u001b[1m      Param #\u001b[0m\u001b[1m \u001b[0m┃\n",
       "┡━━━━━━━━━━━━━━━━━━━━━━━━━━━━━━━━━╇━━━━━━━━━━━━━━━━━━━━━━━━╇━━━━━━━━━━━━━━━┩\n",
       "│ lstm_3 (\u001b[38;5;33mLSTM\u001b[0m)                   │ (\u001b[38;5;45mNone\u001b[0m, \u001b[38;5;34m109\u001b[0m, \u001b[38;5;34m128\u001b[0m)       │        \u001b[38;5;34m80,384\u001b[0m │\n",
       "├─────────────────────────────────┼────────────────────────┼───────────────┤\n",
       "│ lstm_4 (\u001b[38;5;33mLSTM\u001b[0m)                   │ (\u001b[38;5;45mNone\u001b[0m, \u001b[38;5;34m109\u001b[0m, \u001b[38;5;34m64\u001b[0m)        │        \u001b[38;5;34m49,408\u001b[0m │\n",
       "├─────────────────────────────────┼────────────────────────┼───────────────┤\n",
       "│ lstm_5 (\u001b[38;5;33mLSTM\u001b[0m)                   │ (\u001b[38;5;45mNone\u001b[0m, \u001b[38;5;34m109\u001b[0m, \u001b[38;5;34m64\u001b[0m)        │        \u001b[38;5;34m33,024\u001b[0m │\n",
       "├─────────────────────────────────┼────────────────────────┼───────────────┤\n",
       "│ dense_1 (\u001b[38;5;33mDense\u001b[0m)                 │ (\u001b[38;5;45mNone\u001b[0m, \u001b[38;5;34m109\u001b[0m, \u001b[38;5;34m1\u001b[0m)         │            \u001b[38;5;34m65\u001b[0m │\n",
       "└─────────────────────────────────┴────────────────────────┴───────────────┘\n"
      ]
     },
     "metadata": {},
     "output_type": "display_data"
    },
    {
     "data": {
      "text/html": [
       "<pre style=\"white-space:pre;overflow-x:auto;line-height:normal;font-family:Menlo,'DejaVu Sans Mono',consolas,'Courier New',monospace\"><span style=\"font-weight: bold\"> Total params: </span><span style=\"color: #00af00; text-decoration-color: #00af00\">488,645</span> (1.86 MB)\n",
       "</pre>\n"
      ],
      "text/plain": [
       "\u001b[1m Total params: \u001b[0m\u001b[38;5;34m488,645\u001b[0m (1.86 MB)\n"
      ]
     },
     "metadata": {},
     "output_type": "display_data"
    },
    {
     "data": {
      "text/html": [
       "<pre style=\"white-space:pre;overflow-x:auto;line-height:normal;font-family:Menlo,'DejaVu Sans Mono',consolas,'Courier New',monospace\"><span style=\"font-weight: bold\"> Trainable params: </span><span style=\"color: #00af00; text-decoration-color: #00af00\">162,881</span> (636.25 KB)\n",
       "</pre>\n"
      ],
      "text/plain": [
       "\u001b[1m Trainable params: \u001b[0m\u001b[38;5;34m162,881\u001b[0m (636.25 KB)\n"
      ]
     },
     "metadata": {},
     "output_type": "display_data"
    },
    {
     "data": {
      "text/html": [
       "<pre style=\"white-space:pre;overflow-x:auto;line-height:normal;font-family:Menlo,'DejaVu Sans Mono',consolas,'Courier New',monospace\"><span style=\"font-weight: bold\"> Non-trainable params: </span><span style=\"color: #00af00; text-decoration-color: #00af00\">0</span> (0.00 B)\n",
       "</pre>\n"
      ],
      "text/plain": [
       "\u001b[1m Non-trainable params: \u001b[0m\u001b[38;5;34m0\u001b[0m (0.00 B)\n"
      ]
     },
     "metadata": {},
     "output_type": "display_data"
    },
    {
     "data": {
      "text/html": [
       "<pre style=\"white-space:pre;overflow-x:auto;line-height:normal;font-family:Menlo,'DejaVu Sans Mono',consolas,'Courier New',monospace\"><span style=\"font-weight: bold\"> Optimizer params: </span><span style=\"color: #00af00; text-decoration-color: #00af00\">325,764</span> (1.24 MB)\n",
       "</pre>\n"
      ],
      "text/plain": [
       "\u001b[1m Optimizer params: \u001b[0m\u001b[38;5;34m325,764\u001b[0m (1.24 MB)\n"
      ]
     },
     "metadata": {},
     "output_type": "display_data"
    }
   ],
   "source": [
    "model.summary()"
   ]
  },
  {
   "cell_type": "code",
   "execution_count": 20,
   "id": "58812f9d",
   "metadata": {
    "scrolled": true
   },
   "outputs": [
    {
     "name": "stdout",
     "output_type": "stream",
     "text": [
      "Epoch 1/50\n",
      "1/1 - 0s - 170ms/step - loss: 0.0625\n",
      "Epoch 2/50\n",
      "1/1 - 0s - 85ms/step - loss: 0.0623\n",
      "Epoch 3/50\n",
      "1/1 - 0s - 87ms/step - loss: 0.0620\n",
      "Epoch 4/50\n",
      "1/1 - 0s - 81ms/step - loss: 0.0618\n",
      "Epoch 5/50\n",
      "1/1 - 0s - 76ms/step - loss: 0.0616\n",
      "Epoch 6/50\n",
      "1/1 - 0s - 76ms/step - loss: 0.0613\n",
      "Epoch 7/50\n",
      "1/1 - 0s - 77ms/step - loss: 0.0611\n",
      "Epoch 8/50\n",
      "1/1 - 0s - 78ms/step - loss: 0.0609\n",
      "Epoch 9/50\n",
      "1/1 - 0s - 85ms/step - loss: 0.0606\n",
      "Epoch 10/50\n",
      "1/1 - 0s - 77ms/step - loss: 0.0604\n",
      "Epoch 11/50\n",
      "1/1 - 0s - 74ms/step - loss: 0.0602\n",
      "Epoch 12/50\n",
      "1/1 - 0s - 75ms/step - loss: 0.0599\n",
      "Epoch 13/50\n",
      "1/1 - 0s - 72ms/step - loss: 0.0597\n",
      "Epoch 14/50\n",
      "1/1 - 0s - 75ms/step - loss: 0.0595\n",
      "Epoch 15/50\n",
      "1/1 - 0s - 73ms/step - loss: 0.0592\n",
      "Epoch 16/50\n",
      "1/1 - 0s - 75ms/step - loss: 0.0590\n",
      "Epoch 17/50\n",
      "1/1 - 0s - 75ms/step - loss: 0.0588\n",
      "Epoch 18/50\n",
      "1/1 - 0s - 72ms/step - loss: 0.0586\n",
      "Epoch 19/50\n",
      "1/1 - 0s - 77ms/step - loss: 0.0583\n",
      "Epoch 20/50\n",
      "1/1 - 0s - 74ms/step - loss: 0.0581\n",
      "Epoch 21/50\n",
      "1/1 - 0s - 74ms/step - loss: 0.0579\n",
      "Epoch 22/50\n",
      "1/1 - 0s - 75ms/step - loss: 0.0576\n",
      "Epoch 23/50\n",
      "1/1 - 0s - 75ms/step - loss: 0.0574\n",
      "Epoch 24/50\n",
      "1/1 - 0s - 77ms/step - loss: 0.0572\n",
      "Epoch 25/50\n",
      "1/1 - 0s - 74ms/step - loss: 0.0570\n",
      "Epoch 26/50\n",
      "1/1 - 0s - 80ms/step - loss: 0.0568\n",
      "Epoch 27/50\n",
      "1/1 - 0s - 78ms/step - loss: 0.0565\n",
      "Epoch 28/50\n",
      "1/1 - 0s - 72ms/step - loss: 0.0563\n",
      "Epoch 29/50\n",
      "1/1 - 0s - 72ms/step - loss: 0.0561\n",
      "Epoch 30/50\n",
      "1/1 - 0s - 72ms/step - loss: 0.0559\n",
      "Epoch 31/50\n",
      "1/1 - 0s - 77ms/step - loss: 0.0557\n",
      "Epoch 32/50\n",
      "1/1 - 0s - 77ms/step - loss: 0.0555\n",
      "Epoch 33/50\n",
      "1/1 - 0s - 104ms/step - loss: 0.0552\n",
      "Epoch 34/50\n",
      "1/1 - 0s - 74ms/step - loss: 0.0550\n",
      "Epoch 35/50\n",
      "1/1 - 0s - 72ms/step - loss: 0.0548\n",
      "Epoch 36/50\n",
      "1/1 - 0s - 74ms/step - loss: 0.0546\n",
      "Epoch 37/50\n",
      "1/1 - 0s - 73ms/step - loss: 0.0544\n",
      "Epoch 38/50\n",
      "1/1 - 0s - 74ms/step - loss: 0.0542\n",
      "Epoch 39/50\n",
      "1/1 - 0s - 75ms/step - loss: 0.0545\n",
      "Epoch 40/50\n",
      "1/1 - 0s - 74ms/step - loss: 0.0560\n",
      "Epoch 41/50\n",
      "1/1 - 0s - 76ms/step - loss: 0.0556\n",
      "Epoch 42/50\n",
      "1/1 - 0s - 70ms/step - loss: 0.0536\n",
      "Epoch 43/50\n",
      "1/1 - 0s - 73ms/step - loss: 0.0547\n",
      "Epoch 44/50\n",
      "1/1 - 0s - 73ms/step - loss: 0.0533\n",
      "Epoch 45/50\n",
      "1/1 - 0s - 74ms/step - loss: 0.0540\n",
      "Epoch 46/50\n",
      "1/1 - 0s - 73ms/step - loss: 0.0531\n",
      "Epoch 47/50\n",
      "1/1 - 0s - 75ms/step - loss: 0.0534\n",
      "Epoch 48/50\n",
      "1/1 - 0s - 72ms/step - loss: 0.0528\n",
      "Epoch 49/50\n",
      "1/1 - 0s - 72ms/step - loss: 0.0529\n",
      "Epoch 50/50\n",
      "1/1 - 0s - 73ms/step - loss: 0.0524\n",
      "\u001b[1m1/1\u001b[0m \u001b[32m━━━━━━━━━━━━━━━━━━━━\u001b[0m\u001b[37m\u001b[0m \u001b[1m0s\u001b[0m 32ms/step - loss: 0.1369\n"
     ]
    }
   ],
   "source": [
    "histroy = model.fit(X_train_resampled, y_train_resampled, epochs=50, batch_size=x, verbose=2)\n",
    "loss = model.evaluate(X_test, y_test)"
   ]
  },
  {
   "cell_type": "code",
   "execution_count": 26,
   "id": "d9a22e31",
   "metadata": {
    "scrolled": false
   },
   "outputs": [
    {
     "name": "stdout",
     "output_type": "stream",
     "text": [
      "Train Score: 0.05 MSE (0.23 RMSE)\n",
      "Test Score: 0.14 MSE (0.37 RMSE)\n"
     ]
    }
   ],
   "source": [
    "import math\n",
    "\n",
    "trainScore = model.evaluate(X_train_resampled, y_train_resampled, verbose=0)\n",
    "print('Train Score: %.2f MSE (%.2f RMSE)' % (trainScore, math.sqrt(trainScore)))\n",
    "testScore = model.evaluate(X_test, y_test, verbose=0)\n",
    "print('Test Score: %.2f MSE (%.2f RMSE)' % (testScore, math.sqrt(testScore)))"
   ]
  },
  {
   "cell_type": "code",
   "execution_count": 40,
   "id": "7399fae1",
   "metadata": {},
   "outputs": [],
   "source": [
    "X1_test = X_test.reshape(x1*y1, 28)\n",
    "y1_test = y_test.reshape(x1*y1, 1)"
   ]
  },
  {
   "cell_type": "code",
   "execution_count": 41,
   "id": "c014a7fd",
   "metadata": {},
   "outputs": [
    {
     "ename": "ValueError",
     "evalue": "Exception encountered when calling Sequential.call().\n\n\u001b[1mCannot take the length of shape with unknown rank.\u001b[0m\n\nArguments received by Sequential.call():\n  • inputs=tf.Tensor(shape=<unknown>, dtype=float32)\n  • training=False\n  • mask=None",
     "output_type": "error",
     "traceback": [
      "\u001b[0;31m---------------------------------------------------------------------------\u001b[0m",
      "\u001b[0;31mValueError\u001b[0m                                Traceback (most recent call last)",
      "Cell \u001b[0;32mIn[41], line 1\u001b[0m\n\u001b[0;32m----> 1\u001b[0m y_prob \u001b[38;5;241m=\u001b[39m model\u001b[38;5;241m.\u001b[39mpredict(X1_test)\n\u001b[1;32m      2\u001b[0m y_pred \u001b[38;5;241m=\u001b[39m np\u001b[38;5;241m.\u001b[39mwhere(y_prob \u001b[38;5;241m>\u001b[39m \u001b[38;5;241m0.5\u001b[39m, \u001b[38;5;241m1\u001b[39m, \u001b[38;5;241m0\u001b[39m) \u001b[38;5;66;03m# Adjust the threshold as needed\u001b[39;00m\n\u001b[1;32m      3\u001b[0m accuracy \u001b[38;5;241m=\u001b[39m accuracy_score(y1_test, y_pred)\n",
      "File \u001b[0;32m~/anaconda3/lib/python3.11/site-packages/keras/src/utils/traceback_utils.py:122\u001b[0m, in \u001b[0;36mfilter_traceback.<locals>.error_handler\u001b[0;34m(*args, **kwargs)\u001b[0m\n\u001b[1;32m    119\u001b[0m     filtered_tb \u001b[38;5;241m=\u001b[39m _process_traceback_frames(e\u001b[38;5;241m.\u001b[39m__traceback__)\n\u001b[1;32m    120\u001b[0m     \u001b[38;5;66;03m# To get the full stack trace, call:\u001b[39;00m\n\u001b[1;32m    121\u001b[0m     \u001b[38;5;66;03m# `keras.config.disable_traceback_filtering()`\u001b[39;00m\n\u001b[0;32m--> 122\u001b[0m     \u001b[38;5;28;01mraise\u001b[39;00m e\u001b[38;5;241m.\u001b[39mwith_traceback(filtered_tb) \u001b[38;5;28;01mfrom\u001b[39;00m \u001b[38;5;28;01mNone\u001b[39;00m\n\u001b[1;32m    123\u001b[0m \u001b[38;5;28;01mfinally\u001b[39;00m:\n\u001b[1;32m    124\u001b[0m     \u001b[38;5;28;01mdel\u001b[39;00m filtered_tb\n",
      "File \u001b[0;32m~/anaconda3/lib/python3.11/site-packages/keras/src/utils/traceback_utils.py:122\u001b[0m, in \u001b[0;36mfilter_traceback.<locals>.error_handler\u001b[0;34m(*args, **kwargs)\u001b[0m\n\u001b[1;32m    119\u001b[0m     filtered_tb \u001b[38;5;241m=\u001b[39m _process_traceback_frames(e\u001b[38;5;241m.\u001b[39m__traceback__)\n\u001b[1;32m    120\u001b[0m     \u001b[38;5;66;03m# To get the full stack trace, call:\u001b[39;00m\n\u001b[1;32m    121\u001b[0m     \u001b[38;5;66;03m# `keras.config.disable_traceback_filtering()`\u001b[39;00m\n\u001b[0;32m--> 122\u001b[0m     \u001b[38;5;28;01mraise\u001b[39;00m e\u001b[38;5;241m.\u001b[39mwith_traceback(filtered_tb) \u001b[38;5;28;01mfrom\u001b[39;00m \u001b[38;5;28;01mNone\u001b[39;00m\n\u001b[1;32m    123\u001b[0m \u001b[38;5;28;01mfinally\u001b[39;00m:\n\u001b[1;32m    124\u001b[0m     \u001b[38;5;28;01mdel\u001b[39;00m filtered_tb\n",
      "\u001b[0;31mValueError\u001b[0m: Exception encountered when calling Sequential.call().\n\n\u001b[1mCannot take the length of shape with unknown rank.\u001b[0m\n\nArguments received by Sequential.call():\n  • inputs=tf.Tensor(shape=<unknown>, dtype=float32)\n  • training=False\n  • mask=None"
     ]
    }
   ],
   "source": [
    "y_prob = model.predict(X1_test)\n",
    "y_pred = np.where(y_prob > 0.5, 1, 0) # Adjust the threshold as needed\n",
    "accuracy = accuracy_score(y1_test, y_pred)\n",
    "rmse = np.sqrt(mean_squared_error(y1_test, y_pred))\n",
    "mape = np.mean(np.abs((y1_test - y_pred) / y1_test)) * 100\n",
    "\n",
    "conf_matrix = confusion_matrix(y1_test, y_pred, labels=[0, 1])\n",
    "\n",
    "precision = precision_score(y1_test, y_pred)\n",
    "recall = recall_score(y1_test, y_pred)\n",
    "f1 = f1_score(y1_test, y_pred)\n",
    "auc_roc = roc_auc_score(y1_test, y_prob)\n",
    "fpr, tpr, thresholds = roc_curve(y1_test, y_prob)"
   ]
  },
  {
   "cell_type": "code",
   "execution_count": 32,
   "id": "a57ed929",
   "metadata": {},
   "outputs": [
    {
     "data": {
      "text/plain": [
       "(11, 12, 1)"
      ]
     },
     "execution_count": 32,
     "metadata": {},
     "output_type": "execute_result"
    }
   ],
   "source": [
    "y_pred.shape"
   ]
  },
  {
   "cell_type": "code",
   "execution_count": 45,
   "id": "77d1f6a9",
   "metadata": {},
   "outputs": [
    {
     "data": {
      "text/plain": [
       "(132, 1)"
      ]
     },
     "execution_count": 45,
     "metadata": {},
     "output_type": "execute_result"
    }
   ],
   "source": [
    "y1_test.shape"
   ]
  },
  {
   "cell_type": "code",
   "execution_count": null,
   "id": "db10bf2a",
   "metadata": {},
   "outputs": [],
   "source": []
  }
 ],
 "metadata": {
  "kernelspec": {
   "display_name": "Python 3 (ipykernel)",
   "language": "python",
   "name": "python3"
  },
  "language_info": {
   "codemirror_mode": {
    "name": "ipython",
    "version": 3
   },
   "file_extension": ".py",
   "mimetype": "text/x-python",
   "name": "python",
   "nbconvert_exporter": "python",
   "pygments_lexer": "ipython3",
   "version": "3.11.4"
  }
 },
 "nbformat": 4,
 "nbformat_minor": 5
}
