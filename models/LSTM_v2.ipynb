{
 "cells": [
  {
   "cell_type": "code",
   "execution_count": 211,
   "id": "fe0f1384",
   "metadata": {},
   "outputs": [],
   "source": [
    "import pandas as pd\n",
    "import numpy as np\n",
    "import matplotlib.pyplot as plt\n",
    "from util_visualization import plot_feature_importances, plot_roc_curve\n",
    "from sklearn.model_selection import TimeSeriesSplit\n",
    "from sklearn.metrics import mean_squared_error\n",
    "from sklearn.preprocessing import StandardScaler\n",
    "from sklearn.linear_model import LogisticRegression\n",
    "from sklearn.metrics import classification_report, confusion_matrix, accuracy_score, mean_absolute_percentage_error, precision_score, recall_score, f1_score\n",
    "from sklearn.model_selection import GridSearchCV, cross_val_score\n",
    "from sklearn.metrics import roc_auc_score, roc_curve\n",
    "from pylab import rcParams\n",
    "from imblearn.over_sampling import SMOTE\n",
    "from sklearn.impute import SimpleImputer\n",
    "from imblearn.over_sampling import RandomOverSampler\n",
    "from imblearn.under_sampling import RandomUnderSampler\n",
    "import pickle\n",
    "import importlib\n",
    "import sys\n",
    "import joblib\n",
    "import warnings\n",
    "if not sys.warnoptions:\n",
    "    warnings.simplefilter(\"ignore\")\n",
    "import glob\n",
    "import math\n",
    "\n",
    "#For NN\n",
    "from keras.models import Sequential\n",
    "from keras import backend as K\n",
    "import tensorflow_addons as tfa\n",
    "from keras.layers import Dense, LSTM, BatchNormalization, RepeatVector, TimeDistributed\n",
    "from keras.optimizers import Adam\n",
    "from keras.callbacks import ReduceLROnPlateau, EarlyStopping\n",
    "from keras.regularizers import l2\n",
    "from time import time\n",
    "from sklearn.preprocessing import LabelEncoder\n",
    "from keras.utils import to_categorical"
   ]
  },
  {
   "cell_type": "code",
   "execution_count": 188,
   "id": "708b7055",
   "metadata": {
    "scrolled": true
   },
   "outputs": [
    {
     "name": "stdout",
     "output_type": "stream",
     "text": [
      "['volatility', 'price_change', 'volume_change', '000001.SS', '^BSESN', '^BVSP', '^FCHI', '^FTLC', '^GDAXI', '^GSPC', '^HSI', '^N225', '^SSMI', 'Crude_Oil_Index_Excess_Return', 'Ted_Rate', 'Gold_Price', 'housing', 'reserve', '10YGov_BondYield', 'current_acct', 'FX_Rate', 'turnover', 'Population', 'npl', 'Recession_Indicators', 'inflation', 'Unemployment', 'GDP']\n"
     ]
    }
   ],
   "source": [
    "#Import Dataset\n",
    "labeled_index = pd.read_csv(\"../data/labeled_data/quarterly_labeled_features_standardized.csv\")\n",
    "labeled_index.set_index(labeled_index['date'], inplace=True)\n",
    "quarters = np.sort(labeled_index.index.unique())\n",
    "\n",
    "#Features Columns\n",
    "features_columns = list(labeled_index.columns)\n",
    "columns_to_remove = ['index', 'crash_label', 'date', 'Quarter']\n",
    "features_columns = [column for column in features_columns if column not in columns_to_remove]\n",
    "print(features_columns)"
   ]
  },
  {
   "cell_type": "markdown",
   "id": "ea5e8e89",
   "metadata": {},
   "source": [
    "## Split data"
   ]
  },
  {
   "cell_type": "code",
   "execution_count": 189,
   "id": "761fa1f7",
   "metadata": {},
   "outputs": [
    {
     "name": "stdout",
     "output_type": "stream",
     "text": [
      "(620, 28) (620,) (130, 28) (130,) (130, 28) (130,)\n"
     ]
    }
   ],
   "source": [
    "train_index = math.ceil(len(quarters) * .7)\n",
    "val_index = math.ceil(len(quarters) * .85)\n",
    "train_quarters, val_quarters, test_quarters = quarters[:train_index], quarters[train_index:val_index], quarters[val_index:]\n",
    "train = labeled_index.loc[train_quarters]\n",
    "val = labeled_index.loc[val_quarters]\n",
    "test = labeled_index.loc[test_quarters]\n",
    "X_train = train[features_columns]\n",
    "y_train = train['crash_label']\n",
    "X_val = val[features_columns]\n",
    "y_val = val['crash_label']\n",
    "X_test = test[features_columns]\n",
    "y_test = test['crash_label']\n",
    "\n",
    "print(X_train.shape, y_train.shape, X_val.shape, y_val.shape, X_test.shape, y_test.shape)"
   ]
  },
  {
   "cell_type": "markdown",
   "id": "e02f519c",
   "metadata": {},
   "source": [
    "## Oversampling"
   ]
  },
  {
   "cell_type": "code",
   "execution_count": 192,
   "id": "49c04161",
   "metadata": {},
   "outputs": [
    {
     "name": "stdout",
     "output_type": "stream",
     "text": [
      "(1074, 28) (1074,)\n"
     ]
    }
   ],
   "source": [
    "# Oversample the minority class (1) using SMOTE\n",
    "oversampler = SMOTE()\n",
    "X_train_resampled, y_train_resampled = oversampler.fit_resample(X_train, y_train)\n",
    "print(X_train_resampled.shape, y_train_resampled.shape)"
   ]
  },
  {
   "cell_type": "markdown",
   "id": "b135bd3c",
   "metadata": {},
   "source": [
    "## Reshape"
   ]
  },
  {
   "cell_type": "code",
   "execution_count": 193,
   "id": "ed2bd022",
   "metadata": {},
   "outputs": [],
   "source": [
    "\"\"\" Changes data to the format for LSTM training \n",
    "for sliding window approach \n",
    "Goal: capture temporal dependencies in the data \"\"\"\n",
    "# Prepare the list for the transformed data\n",
    "\n",
    "def lstm_transform(X_data, y_data, num_steps=5):\n",
    "    X, y = list(), list()\n",
    "    # Loop of the entire data set\n",
    "    for i in range(X_data.shape[0]):\n",
    "        # compute a new (sliding window) index\n",
    "        end_ix = i + num_steps\n",
    "        # if index is larger than the size of the dataset, we stop\n",
    "        if end_ix >= X_data.shape[0]:\n",
    "            break\n",
    "        # Get a sequence of data for x\n",
    "        seq_X = np.array(X_data)[i:end_ix]\n",
    "        # Get only the last element of the sequency for y\n",
    "        seq_y = np.array(y_data)[end_ix]\n",
    "        # Append the list with sequencies\n",
    "        X.append(seq_X)\n",
    "        y.append(seq_y)\n",
    "    # Make final arrays\n",
    "    x_transformed = np.array(X)\n",
    "    y_transformed = np.array(y)\n",
    "    return x_transformed, y_transformed"
   ]
  },
  {
   "cell_type": "code",
   "execution_count": 194,
   "id": "9cc182da",
   "metadata": {},
   "outputs": [],
   "source": [
    "X_train_reshaped, y_train_reshaped = lstm_transform(X_train_resampled, y_train_resampled)\n",
    "\n",
    "X_val_reshaped, y_val_reshaped = lstm_transform(X_val, y_val)\n",
    "\n",
    "X_test_reshaped, y_test_reshaped = lstm_transform(X_test, y_test)"
   ]
  },
  {
   "cell_type": "code",
   "execution_count": 195,
   "id": "71b4a3d4",
   "metadata": {
    "scrolled": true
   },
   "outputs": [
    {
     "name": "stdout",
     "output_type": "stream",
     "text": [
      "(1069, 5, 28) (1069,) (125, 5, 28) (125,) (125, 5, 28) (125,)\n"
     ]
    }
   ],
   "source": [
    "print(X_train_reshaped.shape, y_train_reshaped.shape, X_val_reshaped.shape, y_val_reshaped.shape, X_test_reshaped.shape, y_test_reshaped.shape)"
   ]
  },
  {
   "cell_type": "markdown",
   "id": "008cd6a5",
   "metadata": {},
   "source": [
    "## Modelling"
   ]
  },
  {
   "cell_type": "code",
   "execution_count": 219,
   "id": "21d6c95f",
   "metadata": {},
   "outputs": [],
   "source": [
    "# Many-to-One Training\n",
    "# X_train_reshaped[1]: number of time steps\n",
    "# X_train_reshaped[2]: number of features\n",
    "\n",
    "model = Sequential()\n",
    "model.add(LSTM(64, dropout=0.1, input_shape=(X_train_reshaped.shape[1],X_train_reshaped.shape[2])))\n",
    "# model.add(Dense(64, activation='relu'))\n",
    "model.add(Dense(1, activation='sigmoid'))\n",
    "optimizer = Adam(lr=0.001)\n",
    "model.compile(optimizer=optimizer, loss='binary_crossentropy', metrics=['AUC'])"
   ]
  },
  {
   "cell_type": "code",
   "execution_count": 220,
   "id": "195f855f",
   "metadata": {},
   "outputs": [
    {
     "name": "stdout",
     "output_type": "stream",
     "text": [
      "Model: \"sequential_16\"\n",
      "_________________________________________________________________\n",
      " Layer (type)                Output Shape              Param #   \n",
      "=================================================================\n",
      " lstm_16 (LSTM)              (None, 64)                23808     \n",
      "                                                                 \n",
      " dense_14 (Dense)            (None, 1)                 65        \n",
      "                                                                 \n",
      "=================================================================\n",
      "Total params: 23,873\n",
      "Trainable params: 23,873\n",
      "Non-trainable params: 0\n",
      "_________________________________________________________________\n"
     ]
    }
   ],
   "source": [
    "model.summary()"
   ]
  },
  {
   "cell_type": "code",
   "execution_count": 221,
   "id": "6caa9056",
   "metadata": {
    "scrolled": true
   },
   "outputs": [
    {
     "name": "stdout",
     "output_type": "stream",
     "text": [
      "Epoch 1/50\n"
     ]
    },
    {
     "name": "stderr",
     "output_type": "stream",
     "text": [
      "2024-03-27 01:06:31.263920: I tensorflow/core/grappler/optimizers/custom_graph_optimizer_registry.cc:113] Plugin optimizer for device_type GPU is enabled.\n",
      "2024-03-27 01:06:31.463738: I tensorflow/core/grappler/optimizers/custom_graph_optimizer_registry.cc:113] Plugin optimizer for device_type GPU is enabled.\n",
      "loc(\"mps_select\"(\"(mpsFileLoc): /AppleInternal/Library/BuildRoots/0032d1ee-80fd-11ee-8227-6aecfccc70fe/Library/Caches/com.apple.xbs/Sources/MetalPerformanceShadersGraph/mpsgraph/MetalPerformanceShadersGraph/Core/Files/MPSGraphUtilities.mm\":294:0)): error: 'anec.gain_offset_control' op result #0 must be 4D/5D memref of 16-bit float or 8-bit signed integer or 8-bit unsigned integer values, but got 'memref<1x32x1x1xi1>'\n",
      "loc(\"mps_select\"(\"(mpsFileLoc): /AppleInternal/Library/BuildRoots/0032d1ee-80fd-11ee-8227-6aecfccc70fe/Library/Caches/com.apple.xbs/Sources/MetalPerformanceShadersGraph/mpsgraph/MetalPerformanceShadersGraph/Core/Files/MPSGraphUtilities.mm\":294:0)): error: 'anec.gain_offset_control' op result #0 must be 4D/5D memref of 16-bit float or 8-bit signed integer or 8-bit unsigned integer values, but got 'memref<1x32x1x1xi1>'\n",
      "loc(\"mps_select\"(\"(mpsFileLoc): /AppleInternal/Library/BuildRoots/0032d1ee-80fd-11ee-8227-6aecfccc70fe/Library/Caches/com.apple.xbs/Sources/MetalPerformanceShadersGraph/mpsgraph/MetalPerformanceShadersGraph/Core/Files/MPSGraphUtilities.mm\":294:0)): error: 'anec.gain_offset_control' op result #0 must be 4D/5D memref of 16-bit float or 8-bit signed integer or 8-bit unsigned integer values, but got 'memref<1x32x1x1xi1>'\n",
      "loc(\"mps_select\"(\"(mpsFileLoc): /AppleInternal/Library/BuildRoots/0032d1ee-80fd-11ee-8227-6aecfccc70fe/Library/Caches/com.apple.xbs/Sources/MetalPerformanceShadersGraph/mpsgraph/MetalPerformanceShadersGraph/Core/Files/MPSGraphUtilities.mm\":294:0)): error: 'anec.gain_offset_control' op result #0 must be 4D/5D memref of 16-bit float or 8-bit signed integer or 8-bit unsigned integer values, but got 'memref<1x32x1x1xi1>'\n",
      "loc(\"mps_select\"(\"(mpsFileLoc): /AppleInternal/Library/BuildRoots/0032d1ee-80fd-11ee-8227-6aecfccc70fe/Library/Caches/com.apple.xbs/Sources/MetalPerformanceShadersGraph/mpsgraph/MetalPerformanceShadersGraph/Core/Files/MPSGraphUtilities.mm\":294:0)): error: 'anec.gain_offset_control' op result #0 must be 4D/5D memref of 16-bit float or 8-bit signed integer or 8-bit unsigned integer values, but got 'memref<1x32x1x1xi1>'\n",
      "2024-03-27 01:06:31.783212: I tensorflow/core/grappler/optimizers/custom_graph_optimizer_registry.cc:113] Plugin optimizer for device_type GPU is enabled.\n"
     ]
    },
    {
     "name": "stdout",
     "output_type": "stream",
     "text": [
      "34/34 [==============================] - ETA: 0s - loss: 0.5343 - auc: 0.8799"
     ]
    },
    {
     "name": "stderr",
     "output_type": "stream",
     "text": [
      "loc(\"mps_select\"(\"(mpsFileLoc): /AppleInternal/Library/BuildRoots/0032d1ee-80fd-11ee-8227-6aecfccc70fe/Library/Caches/com.apple.xbs/Sources/MetalPerformanceShadersGraph/mpsgraph/MetalPerformanceShadersGraph/Core/Files/MPSGraphUtilities.mm\":294:0)): error: 'anec.gain_offset_control' op result #0 must be 4D/5D memref of 16-bit float or 8-bit signed integer or 8-bit unsigned integer values, but got 'memref<1x13x1x1xi1>'\n",
      "loc(\"mps_select\"(\"(mpsFileLoc): /AppleInternal/Library/BuildRoots/0032d1ee-80fd-11ee-8227-6aecfccc70fe/Library/Caches/com.apple.xbs/Sources/MetalPerformanceShadersGraph/mpsgraph/MetalPerformanceShadersGraph/Core/Files/MPSGraphUtilities.mm\":294:0)): error: 'anec.gain_offset_control' op result #0 must be 4D/5D memref of 16-bit float or 8-bit signed integer or 8-bit unsigned integer values, but got 'memref<1x13x1x1xi1>'\n",
      "loc(\"mps_select\"(\"(mpsFileLoc): /AppleInternal/Library/BuildRoots/0032d1ee-80fd-11ee-8227-6aecfccc70fe/Library/Caches/com.apple.xbs/Sources/MetalPerformanceShadersGraph/mpsgraph/MetalPerformanceShadersGraph/Core/Files/MPSGraphUtilities.mm\":294:0)): error: 'anec.gain_offset_control' op result #0 must be 4D/5D memref of 16-bit float or 8-bit signed integer or 8-bit unsigned integer values, but got 'memref<1x13x1x1xi1>'\n",
      "loc(\"mps_select\"(\"(mpsFileLoc): /AppleInternal/Library/BuildRoots/0032d1ee-80fd-11ee-8227-6aecfccc70fe/Library/Caches/com.apple.xbs/Sources/MetalPerformanceShadersGraph/mpsgraph/MetalPerformanceShadersGraph/Core/Files/MPSGraphUtilities.mm\":294:0)): error: 'anec.gain_offset_control' op result #0 must be 4D/5D memref of 16-bit float or 8-bit signed integer or 8-bit unsigned integer values, but got 'memref<1x13x1x1xi1>'\n",
      "loc(\"mps_select\"(\"(mpsFileLoc): /AppleInternal/Library/BuildRoots/0032d1ee-80fd-11ee-8227-6aecfccc70fe/Library/Caches/com.apple.xbs/Sources/MetalPerformanceShadersGraph/mpsgraph/MetalPerformanceShadersGraph/Core/Files/MPSGraphUtilities.mm\":294:0)): error: 'anec.gain_offset_control' op result #0 must be 4D/5D memref of 16-bit float or 8-bit signed integer or 8-bit unsigned integer values, but got 'memref<1x13x1x1xi1>'\n",
      "2024-03-27 01:06:33.265084: I tensorflow/core/grappler/optimizers/custom_graph_optimizer_registry.cc:113] Plugin optimizer for device_type GPU is enabled.\n",
      "2024-03-27 01:06:33.336127: I tensorflow/core/grappler/optimizers/custom_graph_optimizer_registry.cc:113] Plugin optimizer for device_type GPU is enabled.\n",
      "loc(\"mps_select\"(\"(mpsFileLoc): /AppleInternal/Library/BuildRoots/0032d1ee-80fd-11ee-8227-6aecfccc70fe/Library/Caches/com.apple.xbs/Sources/MetalPerformanceShadersGraph/mpsgraph/MetalPerformanceShadersGraph/Core/Files/MPSGraphUtilities.mm\":294:0)): error: 'anec.gain_offset_control' op result #0 must be 4D/5D memref of 16-bit float or 8-bit signed integer or 8-bit unsigned integer values, but got 'memref<1x32x1x1xi1>'\n",
      "loc(\"mps_select\"(\"(mpsFileLoc): /AppleInternal/Library/BuildRoots/0032d1ee-80fd-11ee-8227-6aecfccc70fe/Library/Caches/com.apple.xbs/Sources/MetalPerformanceShadersGraph/mpsgraph/MetalPerformanceShadersGraph/Core/Files/MPSGraphUtilities.mm\":294:0)): error: 'anec.gain_offset_control' op result #0 must be 4D/5D memref of 16-bit float or 8-bit signed integer or 8-bit unsigned integer values, but got 'memref<1x32x1x1xi1>'\n"
     ]
    },
    {
     "name": "stdout",
     "output_type": "stream",
     "text": [
      "34/34 [==============================] - 4s 59ms/step - loss: 0.5343 - auc: 0.8799 - val_loss: 0.7887 - val_auc: 0.8218\n",
      "Epoch 2/50\n",
      " 8/34 [======>.......................] - ETA: 0s - loss: 0.3755 - auc: 0.9378"
     ]
    },
    {
     "name": "stderr",
     "output_type": "stream",
     "text": [
      "loc(\"mps_select\"(\"(mpsFileLoc): /AppleInternal/Library/BuildRoots/0032d1ee-80fd-11ee-8227-6aecfccc70fe/Library/Caches/com.apple.xbs/Sources/MetalPerformanceShadersGraph/mpsgraph/MetalPerformanceShadersGraph/Core/Files/MPSGraphUtilities.mm\":294:0)): error: 'anec.gain_offset_control' op result #0 must be 4D/5D memref of 16-bit float or 8-bit signed integer or 8-bit unsigned integer values, but got 'memref<1x29x1x1xi1>'\n",
      "loc(\"mps_select\"(\"(mpsFileLoc): /AppleInternal/Library/BuildRoots/0032d1ee-80fd-11ee-8227-6aecfccc70fe/Library/Caches/com.apple.xbs/Sources/MetalPerformanceShadersGraph/mpsgraph/MetalPerformanceShadersGraph/Core/Files/MPSGraphUtilities.mm\":294:0)): error: 'anec.gain_offset_control' op result #0 must be 4D/5D memref of 16-bit float or 8-bit signed integer or 8-bit unsigned integer values, but got 'memref<1x29x1x1xi1>'\n"
     ]
    },
    {
     "name": "stdout",
     "output_type": "stream",
     "text": [
      "34/34 [==============================] - 1s 21ms/step - loss: 0.3411 - auc: 0.9378 - val_loss: 0.5585 - val_auc: 0.7564\n",
      "Epoch 3/50\n",
      "34/34 [==============================] - 1s 22ms/step - loss: 0.2933 - auc: 0.9469 - val_loss: 0.4505 - val_auc: 0.7341\n",
      "Epoch 4/50\n",
      "34/34 [==============================] - 1s 21ms/step - loss: 0.2593 - auc: 0.9578 - val_loss: 0.4229 - val_auc: 0.7333\n",
      "Epoch 5/50\n",
      "34/34 [==============================] - 1s 21ms/step - loss: 0.2452 - auc: 0.9619 - val_loss: 0.4204 - val_auc: 0.7321\n",
      "Epoch 6/50\n",
      "34/34 [==============================] - 1s 20ms/step - loss: 0.2341 - auc: 0.9646 - val_loss: 0.4101 - val_auc: 0.7101\n",
      "Epoch 7/50\n",
      "34/34 [==============================] - 1s 26ms/step - loss: 0.2099 - auc: 0.9729 - val_loss: 0.4148 - val_auc: 0.6918\n",
      "Epoch 8/50\n",
      "34/34 [==============================] - 1s 19ms/step - loss: 0.1961 - auc: 0.9763 - val_loss: 0.3876 - val_auc: 0.6766\n",
      "Epoch 9/50\n",
      "34/34 [==============================] - 1s 17ms/step - loss: 0.1773 - auc: 0.9799 - val_loss: 0.4131 - val_auc: 0.6595\n",
      "Epoch 10/50\n",
      "34/34 [==============================] - 1s 22ms/step - loss: 0.1630 - auc: 0.9842 - val_loss: 0.4723 - val_auc: 0.6081\n",
      "Epoch 11/50\n",
      "34/34 [==============================] - 1s 18ms/step - loss: 0.1441 - auc: 0.9869 - val_loss: 0.4575 - val_auc: 0.6128\n",
      "Epoch 12/50\n",
      "34/34 [==============================] - 1s 22ms/step - loss: 0.1345 - auc: 0.9878 - val_loss: 0.5416 - val_auc: 0.5833\n",
      "Epoch 13/50\n",
      "34/34 [==============================] - 1s 22ms/step - loss: 0.1272 - auc: 0.9896 - val_loss: 0.5639 - val_auc: 0.5805\n",
      "Epoch 14/50\n",
      "34/34 [==============================] - 1s 22ms/step - loss: 0.1151 - auc: 0.9912 - val_loss: 0.5464 - val_auc: 0.5817\n",
      "Epoch 15/50\n",
      "34/34 [==============================] - 1s 20ms/step - loss: 0.1068 - auc: 0.9924 - val_loss: 0.5854 - val_auc: 0.5538\n",
      "Epoch 16/50\n",
      "34/34 [==============================] - 1s 19ms/step - loss: 0.1046 - auc: 0.9929 - val_loss: 0.6366 - val_auc: 0.5474\n",
      "Epoch 17/50\n",
      "34/34 [==============================] - 1s 19ms/step - loss: 0.0998 - auc: 0.9936 - val_loss: 0.6634 - val_auc: 0.5809\n",
      "Epoch 18/50\n",
      "34/34 [==============================] - 1s 18ms/step - loss: 0.0958 - auc: 0.9940 - val_loss: 0.7093 - val_auc: 0.5387\n",
      "Epoch 19/50\n",
      "34/34 [==============================] - 1s 19ms/step - loss: 0.0897 - auc: 0.9940 - val_loss: 0.7208 - val_auc: 0.5395\n",
      "Epoch 20/50\n",
      "34/34 [==============================] - 1s 20ms/step - loss: 0.0803 - auc: 0.9960 - val_loss: 0.6796 - val_auc: 0.5271\n",
      "Epoch 21/50\n",
      "34/34 [==============================] - 1s 19ms/step - loss: 0.0901 - auc: 0.9946 - val_loss: 0.8737 - val_auc: 0.5415\n",
      "Epoch 22/50\n",
      "34/34 [==============================] - 1s 19ms/step - loss: 0.0845 - auc: 0.9957 - val_loss: 0.7641 - val_auc: 0.5463\n",
      "Epoch 23/50\n",
      "34/34 [==============================] - 1s 19ms/step - loss: 0.0703 - auc: 0.9972 - val_loss: 0.8242 - val_auc: 0.5821\n",
      "Epoch 24/50\n",
      "34/34 [==============================] - 1s 19ms/step - loss: 0.0677 - auc: 0.9972 - val_loss: 0.8800 - val_auc: 0.5144\n",
      "Epoch 25/50\n",
      "34/34 [==============================] - 1s 19ms/step - loss: 0.0634 - auc: 0.9974 - val_loss: 0.9308 - val_auc: 0.5869\n",
      "Epoch 26/50\n",
      "34/34 [==============================] - 1s 19ms/step - loss: 0.0573 - auc: 0.9983 - val_loss: 0.9569 - val_auc: 0.5443\n",
      "Epoch 27/50\n",
      "34/34 [==============================] - 1s 24ms/step - loss: 0.0679 - auc: 0.9970 - val_loss: 0.8862 - val_auc: 0.5112\n",
      "Epoch 28/50\n",
      "34/34 [==============================] - 1s 20ms/step - loss: 0.0615 - auc: 0.9980 - val_loss: 0.9428 - val_auc: 0.5690\n",
      "Epoch 29/50\n",
      "34/34 [==============================] - 1s 19ms/step - loss: 0.0598 - auc: 0.9978 - val_loss: 0.8512 - val_auc: 0.5419\n",
      "Epoch 30/50\n",
      "34/34 [==============================] - 1s 22ms/step - loss: 0.0573 - auc: 0.9984 - val_loss: 1.0631 - val_auc: 0.5251\n",
      "Epoch 31/50\n",
      "34/34 [==============================] - 1s 19ms/step - loss: 0.0517 - auc: 0.9983 - val_loss: 1.0172 - val_auc: 0.5889\n",
      "Epoch 32/50\n",
      "34/34 [==============================] - 1s 18ms/step - loss: 0.0549 - auc: 0.9982 - val_loss: 1.0306 - val_auc: 0.5183\n",
      "Epoch 33/50\n",
      "34/34 [==============================] - 1s 22ms/step - loss: 0.0442 - auc: 0.9991 - val_loss: 1.0817 - val_auc: 0.5546\n",
      "Epoch 34/50\n",
      "34/34 [==============================] - 1s 23ms/step - loss: 0.0459 - auc: 0.9989 - val_loss: 0.9898 - val_auc: 0.5817\n",
      "Epoch 35/50\n",
      "34/34 [==============================] - 1s 23ms/step - loss: 0.0457 - auc: 0.9988 - val_loss: 1.0617 - val_auc: 0.5207\n",
      "Epoch 36/50\n",
      "34/34 [==============================] - 1s 19ms/step - loss: 0.0460 - auc: 0.9988 - val_loss: 1.1214 - val_auc: 0.6061\n",
      "Epoch 37/50\n",
      "34/34 [==============================] - 1s 18ms/step - loss: 0.0463 - auc: 0.9988 - val_loss: 1.1171 - val_auc: 0.5845\n",
      "Epoch 38/50\n",
      "34/34 [==============================] - 1s 25ms/step - loss: 0.0432 - auc: 0.9991 - val_loss: 1.0589 - val_auc: 0.5566\n",
      "Epoch 39/50\n",
      "34/34 [==============================] - 1s 25ms/step - loss: 0.0423 - auc: 0.9991 - val_loss: 1.0987 - val_auc: 0.5279\n",
      "Epoch 40/50\n",
      "34/34 [==============================] - 1s 22ms/step - loss: 0.0446 - auc: 0.9983 - val_loss: 1.2668 - val_auc: 0.5439\n",
      "Epoch 41/50\n",
      "34/34 [==============================] - 1s 21ms/step - loss: 0.0387 - auc: 0.9992 - val_loss: 1.1805 - val_auc: 0.5399\n",
      "Epoch 42/50\n",
      "34/34 [==============================] - 1s 23ms/step - loss: 0.0298 - auc: 0.9997 - val_loss: 1.1899 - val_auc: 0.5837\n",
      "Epoch 43/50\n",
      "34/34 [==============================] - 1s 21ms/step - loss: 0.0300 - auc: 0.9998 - val_loss: 1.1901 - val_auc: 0.5965\n",
      "Epoch 44/50\n",
      "34/34 [==============================] - 1s 18ms/step - loss: 0.0324 - auc: 0.9995 - val_loss: 1.4591 - val_auc: 0.6041\n",
      "Epoch 45/50\n",
      "34/34 [==============================] - 1s 18ms/step - loss: 0.0397 - auc: 0.9992 - val_loss: 1.1741 - val_auc: 0.5020\n",
      "Epoch 46/50\n",
      "34/34 [==============================] - 1s 21ms/step - loss: 0.0362 - auc: 0.9993 - val_loss: 1.0310 - val_auc: 0.5746\n",
      "Epoch 47/50\n",
      "34/34 [==============================] - 1s 21ms/step - loss: 0.0298 - auc: 0.9997 - val_loss: 1.2963 - val_auc: 0.5929\n",
      "Epoch 48/50\n",
      "34/34 [==============================] - 1s 22ms/step - loss: 0.0295 - auc: 0.9997 - val_loss: 1.1477 - val_auc: 0.5778\n",
      "Epoch 49/50\n",
      "34/34 [==============================] - 1s 19ms/step - loss: 0.0258 - auc: 0.9997 - val_loss: 1.0579 - val_auc: 0.5606\n",
      "Epoch 50/50\n",
      "34/34 [==============================] - 1s 18ms/step - loss: 0.0278 - auc: 0.9987 - val_loss: 1.1772 - val_auc: 0.5474\n",
      "4/4 [==============================] - 0s 12ms/step - loss: 0.9457 - auc: 0.9677\n"
     ]
    }
   ],
   "source": [
    "model_result = model.fit(X_train_reshaped, y_train_reshaped, batch_size=32, epochs=50, validation_data=(X_val_reshaped, y_val_reshaped))\n",
    "loss, auc = model.evaluate(X_test_reshaped, y_test_reshaped)"
   ]
  },
  {
   "cell_type": "code",
   "execution_count": 222,
   "id": "42eb9f4e",
   "metadata": {
    "scrolled": true
   },
   "outputs": [
    {
     "name": "stdout",
     "output_type": "stream",
     "text": [
      "\r",
      "1/4 [======>.......................] - ETA: 0s"
     ]
    },
    {
     "name": "stderr",
     "output_type": "stream",
     "text": [
      "2024-03-27 01:07:46.041260: I tensorflow/core/grappler/optimizers/custom_graph_optimizer_registry.cc:113] Plugin optimizer for device_type GPU is enabled.\n",
      "2024-03-27 01:07:46.084531: I tensorflow/core/grappler/optimizers/custom_graph_optimizer_registry.cc:113] Plugin optimizer for device_type GPU is enabled.\n"
     ]
    },
    {
     "name": "stdout",
     "output_type": "stream",
     "text": [
      "4/4 [==============================] - 0s 21ms/step\n"
     ]
    }
   ],
   "source": [
    "y_prob = model.predict(X_test_reshaped)\n",
    "y_pred = np.where(y_prob > 0.5, 1, 0) # Adjust the threshold as needed\n",
    "accuracy = accuracy_score(y_test_reshaped.flatten(), y_pred.flatten())\n",
    "rmse = np.sqrt(mean_squared_error(y_test_reshaped.flatten(), y_pred.flatten()))\n",
    "mape = np.mean(np.abs((y_test_reshaped.flatten() - y_pred.flatten()) / y_test_reshaped.flatten())) * 100\n",
    "\n",
    "conf_matrix = confusion_matrix(y_test_reshaped.flatten(), y_pred.flatten(), labels=[0, 1])\n",
    "\n",
    "precision = precision_score(y_test_reshaped.flatten(), y_pred.flatten())\n",
    "recall = recall_score(y_test_reshaped.flatten(), y_pred.flatten())\n",
    "f1 = f1_score(y_test_reshaped.flatten(), y_pred.flatten())\n",
    "fpr, tpr, thresholds = roc_curve(y_test_reshaped.flatten(), y_prob.flatten())"
   ]
  },
  {
   "cell_type": "markdown",
   "id": "b3f40a19",
   "metadata": {},
   "source": [
    "## Evaluation"
   ]
  },
  {
   "cell_type": "code",
   "execution_count": 226,
   "id": "46b34618",
   "metadata": {},
   "outputs": [
    {
     "data": {
      "text/plain": [
       "{'Train_Start': Timestamp('1998-03-31 00:00:00'),\n",
       " 'Train_End': Timestamp('2013-06-30 00:00:00'),\n",
       " 'Val_Start': Timestamp('2013-09-30 00:00:00'),\n",
       " 'Val_End': Timestamp('2016-09-30 00:00:00'),\n",
       " 'Test_Start': Timestamp('2016-12-31 00:00:00'),\n",
       " 'Test_End': Timestamp('2019-12-31 00:00:00'),\n",
       " 'Confusion_Matrix': array([[95, 29],\n",
       "        [ 0,  1]]),\n",
       " 'Precision': 0.03333333333333333,\n",
       " 'Recall': 1.0,\n",
       " 'F1': 0.06451612903225806,\n",
       " 'Accuracy': 0.768,\n",
       " 'RMSE': 0.48166378315169184,\n",
       " 'MAPE': nan,\n",
       " 'AUC-ROC': 0.9677419066429138,\n",
       " 'False Positive Rate': array([0.        , 0.00806452, 0.0483871 , 0.0483871 , 1.        ]),\n",
       " 'True Positive Rate': array([0., 0., 0., 1., 1.]),\n",
       " 'loss': 0.9457312226295471}"
      ]
     },
     "execution_count": 226,
     "metadata": {},
     "output_type": "execute_result"
    }
   ],
   "source": [
    "evaluation_result = {\n",
    "    'Train_Start': pd.to_datetime(train_quarters).min(),\n",
    "    'Train_End': pd.to_datetime(train_quarters).max(),\n",
    "    'Val_Start': pd.to_datetime(val_quarters).min(),\n",
    "    'Val_End': pd.to_datetime(val_quarters).max(),\n",
    "    'Test_Start': pd.to_datetime(test_quarters).min(),\n",
    "    'Test_End': pd.to_datetime(test_quarters).max(),\n",
    "    'Confusion_Matrix': conf_matrix, #[[TN, FP],[FN,TP]]\n",
    "    'Precision': precision, \n",
    "    'Recall': recall, \n",
    "    'F1': f1, \n",
    "    'Accuracy': accuracy, \n",
    "    'RMSE': rmse,\n",
    "    'MAPE': mape,\n",
    "    'AUC-ROC': auc,\n",
    "    'False Positive Rate': fpr,\n",
    "    'True Positive Rate': tpr,\n",
    "    'loss': loss\n",
    "    }\n",
    "evaluation_result"
   ]
  },
  {
   "cell_type": "markdown",
   "id": "eb1d04d1",
   "metadata": {},
   "source": [
    "TODO: https://stackoverflow.com/questions/77032200/how-can-i-correct-my-time-series-lstm-rnn-for-binary-classification-favoring-cla"
   ]
  },
  {
   "cell_type": "code",
   "execution_count": null,
   "id": "452706cf",
   "metadata": {},
   "outputs": [],
   "source": []
  }
 ],
 "metadata": {
  "kernelspec": {
   "display_name": "Python 3 (ipykernel)",
   "language": "python",
   "name": "python3"
  },
  "language_info": {
   "codemirror_mode": {
    "name": "ipython",
    "version": 3
   },
   "file_extension": ".py",
   "mimetype": "text/x-python",
   "name": "python",
   "nbconvert_exporter": "python",
   "pygments_lexer": "ipython3",
   "version": "3.10.5"
  }
 },
 "nbformat": 4,
 "nbformat_minor": 5
}
