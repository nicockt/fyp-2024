{
 "cells": [
  {
   "cell_type": "code",
   "execution_count": 283,
   "id": "fe0f1384",
   "metadata": {},
   "outputs": [],
   "source": [
    "import pandas as pd\n",
    "import numpy as np\n",
    "import matplotlib.pyplot as plt\n",
    "from util_visualization import plot_feature_importances, plot_roc_curve\n",
    "from sklearn.model_selection import TimeSeriesSplit\n",
    "from sklearn.metrics import mean_squared_error\n",
    "from sklearn.preprocessing import StandardScaler\n",
    "from sklearn.linear_model import LogisticRegression\n",
    "from sklearn.metrics import classification_report, confusion_matrix, accuracy_score, mean_absolute_percentage_error, precision_score, recall_score, f1_score\n",
    "from sklearn.model_selection import GridSearchCV, cross_val_score\n",
    "from sklearn.metrics import roc_auc_score, roc_curve\n",
    "from pylab import rcParams\n",
    "from imblearn.over_sampling import SMOTE\n",
    "from sklearn.impute import SimpleImputer\n",
    "from sklearn.utils.class_weight import compute_class_weight\n",
    "from sklearn.utils import class_weight\n",
    "\n",
    "from imblearn.over_sampling import RandomOverSampler\n",
    "from imblearn.under_sampling import RandomUnderSampler\n",
    "import pickle\n",
    "import importlib\n",
    "import sys\n",
    "import joblib\n",
    "import warnings\n",
    "if not sys.warnoptions:\n",
    "    warnings.simplefilter(\"ignore\")\n",
    "import glob\n",
    "import math\n",
    "\n",
    "#For NN\n",
    "from keras.models import Sequential\n",
    "from tensorflow import keras\n",
    "from keras import backend as K\n",
    "import tensorflow_addons as tfa\n",
    "from keras.layers import Dense, LSTM, BatchNormalization, RepeatVector, TimeDistributed, Dropout\n",
    "from keras.optimizers import Adam, RMSprop, Adagrad, Nadam\n",
    "from tensorflow.keras.wrappers.scikit_learn import KerasClassifier\n",
    "from keras.callbacks import ReduceLROnPlateau, EarlyStopping\n",
    "from keras.regularizers import l2\n",
    "from time import time\n",
    "from sklearn.preprocessing import LabelEncoder\n",
    "from keras.utils import to_categorical"
   ]
  },
  {
   "cell_type": "markdown",
   "id": "e7632960",
   "metadata": {},
   "source": [
    "## Import Data"
   ]
  },
  {
   "cell_type": "code",
   "execution_count": 266,
   "id": "708b7055",
   "metadata": {
    "scrolled": true
   },
   "outputs": [
    {
     "name": "stdout",
     "output_type": "stream",
     "text": [
      "['000001.SS', '^BSESN', '^BVSP', '^FCHI', '^FTLC', '^GDAXI', '^GSPC', '^HSI', '^N225', '^SSMI', 'volatility_lag1', 'volatility_lag2', 'price_change_lag1', 'price_change_lag2', 'volume_change_lag1', 'volume_change_lag2', 'Crude_Oil_Index_Excess_Return_lag1', 'Crude_Oil_Index_Excess_Return_lag2', 'Ted_Rate_lag1', 'Ted_Rate_lag2', 'Gold_Price_lag1', 'Gold_Price_lag2', 'housing_lag1', 'housing_lag2', 'reserve_lag1', 'reserve_lag2', '10YGov_BondYield_lag1', '10YGov_BondYield_lag2', 'current_acct_lag1', 'current_acct_lag2', 'FX_Rate_lag1', 'FX_Rate_lag2', 'turnover_lag1', 'turnover_lag2', 'Population_lag1', 'Population_lag2', 'npl_lag1', 'npl_lag2', 'Recession_Indicators_lag1', 'Recession_Indicators_lag2', 'inflation_lag1', 'inflation_lag2', 'Unemployment_lag1', 'Unemployment_lag2', 'GDP_lag1', 'GDP_lag2']\n"
     ]
    }
   ],
   "source": [
    "# Load the labeled index data from csv\n",
    "labeled_index = pd.read_csv(\"../data/labeled_data/lagged_labeled_data.csv\")\n",
    "labeled_index.set_index(labeled_index['date'], inplace=True)\n",
    "quarters = np.sort(labeled_index.index.unique())\n",
    "\n",
    "#Features Columns\n",
    "features_columns = list(labeled_index.columns)\n",
    "columns_to_remove = ['index', 'crash_label', 'date', 'Quarter']\n",
    "features_columns = [column for column in features_columns if column not in columns_to_remove]\n",
    "print(features_columns)"
   ]
  },
  {
   "cell_type": "code",
   "execution_count": 361,
   "id": "b2305155",
   "metadata": {},
   "outputs": [],
   "source": [
    "# Selected by eliminating 30% 0f features with lowest abs importance_coed in log regression \n",
    "features_columns =['000001.SS', '^BSESN', '^BVSP', '^FCHI', '^FTLC', '^GDAXI', '^GSPC', '^HSI', '^N225', '^SSMI',\n",
    " 'current_acct_lag2', 'npl_lag2', 'npl_lag1', 'Population_lag2',\n",
    "       'Recession_Indicators_lag1', 'Population_lag1', 'volatility_lag1',\n",
    "       'volatility_lag2', 'current_acct_lag1', 'turnover_lag1',\n",
    "       'volume_change_lag2', 'Recession_Indicators_lag2', 'turnover_lag2',\n",
    "       'Unemployment_lag2', '10YGov_BondYield_lag2',\n",
    "       '10YGov_BondYield_lag1', 'Unemployment_lag1', 'Ted_Rate_lag1',\n",
    "       'GDP_lag2', 'inflation_lag2', 'GDP_lag1',\n",
    "       'Crude_Oil_Index_Excess_Return_lag2',\n",
    "       'Crude_Oil_Index_Excess_Return_lag1', 'housing_lag2',\n",
    "       'price_change_lag1', 'inflation_lag1']"
   ]
  },
  {
   "cell_type": "markdown",
   "id": "ea5e8e89",
   "metadata": {},
   "source": [
    "## Split data"
   ]
  },
  {
   "cell_type": "code",
   "execution_count": 362,
   "id": "761fa1f7",
   "metadata": {},
   "outputs": [
    {
     "name": "stdout",
     "output_type": "stream",
     "text": [
      "(610, 36) (610,) (80, 36) (80,) (170, 36) (170,)\n"
     ]
    }
   ],
   "source": [
    "train_index = math.ceil(len(quarters) * .7)\n",
    "val_index = math.ceil(len(quarters) * .8)\n",
    "train_quarters, val_quarters, test_quarters = quarters[:train_index], quarters[train_index:val_index], quarters[val_index:]\n",
    "train = labeled_index.loc[train_quarters]\n",
    "val = labeled_index.loc[val_quarters]\n",
    "test = labeled_index.loc[test_quarters]\n",
    "X_train = train[features_columns]\n",
    "y_train = train['crash_label']\n",
    "X_val = val[features_columns]\n",
    "y_val = val['crash_label']\n",
    "X_test = test[features_columns]\n",
    "y_test = test['crash_label']\n",
    "\n",
    "print(X_train.shape, y_train.shape, X_val.shape, y_val.shape, X_test.shape, y_test.shape)"
   ]
  },
  {
   "cell_type": "markdown",
   "id": "e02f519c",
   "metadata": {},
   "source": [
    "## Oversampling"
   ]
  },
  {
   "cell_type": "code",
   "execution_count": 363,
   "id": "49c04161",
   "metadata": {},
   "outputs": [
    {
     "name": "stdout",
     "output_type": "stream",
     "text": [
      "(1060, 36) (1060,)\n"
     ]
    }
   ],
   "source": [
    "# Oversample the minority class (1) using SMOTE\n",
    "oversampler = SMOTE()\n",
    "X_train_resampled, y_train_resampled = oversampler.fit_resample(X_train, y_train)\n",
    "print(X_train_resampled.shape, y_train_resampled.shape)"
   ]
  },
  {
   "cell_type": "code",
   "execution_count": 364,
   "id": "2cef82ff",
   "metadata": {},
   "outputs": [
    {
     "name": "stdout",
     "output_type": "stream",
     "text": [
      "Oversampled crash percentage:  0.5\n"
     ]
    }
   ],
   "source": [
    "crash_count = y_train_resampled.value_counts()[1]\n",
    "crash_percen = crash_count / y_train_resampled.shape[0]\n",
    "print(\"Oversampled crash percentage: \", crash_percen)"
   ]
  },
  {
   "cell_type": "markdown",
   "id": "8d52de9f",
   "metadata": {},
   "source": [
    "## Reshape"
   ]
  },
  {
   "cell_type": "code",
   "execution_count": 365,
   "id": "ed2bd022",
   "metadata": {},
   "outputs": [],
   "source": [
    "\"\"\" Changes data to the format for LSTM training \n",
    "for sliding window approach \n",
    "Goal: capture temporal dependencies in the data \"\"\"\n",
    "# Prepare the list for the transformed data\n",
    "\n",
    "def lstm_transform(X_data, y_data, num_steps=5):\n",
    "    X, y = list(), list()\n",
    "    # Loop of the entire data set\n",
    "    for i in range(X_data.shape[0]):\n",
    "        # compute a new (sliding window) index\n",
    "        end_ix = i + num_steps\n",
    "        # if index is larger than the size of the dataset, we stop\n",
    "        if end_ix >= X_data.shape[0]:\n",
    "            break\n",
    "        # Get a sequence of data for x\n",
    "        seq_X = np.array(X_data)[i:end_ix]\n",
    "        # Get only the last element of the sequency for y\n",
    "        seq_y = np.array(y_data)[end_ix]\n",
    "        # Append the list with sequencies\n",
    "        X.append(seq_X)\n",
    "        y.append(seq_y)\n",
    "    # Make final arrays\n",
    "    x_transformed = np.array(X)\n",
    "    y_transformed = np.array(y)\n",
    "    return x_transformed, y_transformed"
   ]
  },
  {
   "cell_type": "code",
   "execution_count": 366,
   "id": "058fc984",
   "metadata": {},
   "outputs": [],
   "source": [
    "X_train_reshaped, y_train_reshaped = lstm_transform(X_train_resampled, y_train_resampled)\n",
    "\n",
    "X_val_reshaped, y_val_reshaped = lstm_transform(X_val, y_val)\n",
    "\n",
    "X_test_reshaped, y_test_reshaped = lstm_transform(X_test, y_test)"
   ]
  },
  {
   "cell_type": "code",
   "execution_count": 367,
   "id": "71b4a3d4",
   "metadata": {
    "scrolled": true
   },
   "outputs": [
    {
     "name": "stdout",
     "output_type": "stream",
     "text": [
      "(1055, 5, 36) (1055,) (75, 5, 36) (75,) (165, 5, 36) (165,)\n"
     ]
    }
   ],
   "source": [
    "print(X_train_reshaped.shape, y_train_reshaped.shape, X_val_reshaped.shape, y_val_reshaped.shape, X_test_reshaped.shape, y_test_reshaped.shape)"
   ]
  },
  {
   "cell_type": "markdown",
   "id": "b11e4d81",
   "metadata": {},
   "source": [
    "## Modelling"
   ]
  },
  {
   "cell_type": "code",
   "execution_count": 368,
   "id": "c2a75403",
   "metadata": {},
   "outputs": [],
   "source": [
    "metrics = [\n",
    "    keras.metrics.FalseNegatives(name=\"fn\"),\n",
    "    keras.metrics.FalsePositives(name=\"fp\"),\n",
    "    keras.metrics.TrueNegatives(name=\"tn\"),\n",
    "    keras.metrics.TruePositives(name=\"tp\"),\n",
    "    keras.metrics.Precision(name=\"precision\"),\n",
    "    keras.metrics.Recall(name=\"recall\"),\n",
    "]"
   ]
  },
  {
   "cell_type": "code",
   "execution_count": 435,
   "id": "21d6c95f",
   "metadata": {},
   "outputs": [],
   "source": [
    "# Many-to-One Training\n",
    "# X_train_reshaped[1]: number of time steps\n",
    "# X_train_reshaped[2]: number of features\n",
    "\n",
    "def create_model(optimizer='adam', learning_rate=0.001):\n",
    "    if optimizer == 'adam':\n",
    "        opt = Adam(learning_rate=learning_rate)\n",
    "    elif optimizer == 'rmsprop':\n",
    "        opt = RMSprop(learning_rate=learning_rate)\n",
    "    elif optimizer == 'adagrad':\n",
    "        opt = Adagrad(learning_rate=learning_rate)\n",
    "    elif optimizer == 'nadam':\n",
    "        opt = Nadam(learning_rate=learning_rate)\n",
    "    else:\n",
    "        raise ValueError('Invalid optimizer specified.')\n",
    "        \n",
    "    model = Sequential()\n",
    "    model.add(LSTM(32, dropout=0.3, return_sequences=True, input_shape=(X_train_reshaped.shape[1],X_train_reshaped.shape[2])))  \n",
    "    model.add(Dropout(0.3))\n",
    "    model.add(LSTM(8, dropout=0.3))\n",
    "    model.add(Dropout(0.3))\n",
    "    model.add(Dense(1, activation='sigmoid'))\n",
    "    optimizer = Adam(lr=learning_rate)\n",
    "    model.compile(optimizer=opt, loss='binary_crossentropy', metrics=metrics)\n",
    "    \n",
    "    return model"
   ]
  },
  {
   "cell_type": "code",
   "execution_count": 416,
   "id": "5eda59c7",
   "metadata": {
    "scrolled": true
   },
   "outputs": [],
   "source": [
    "# Hyperparam Tuning: optimizer, learning rate, batch size\n",
    "tscv = TimeSeriesSplit(n_splits=3)\n",
    "param_grid = {\n",
    "    'optimizer': ['adam', 'rmsprop', 'adagrad', 'nadam'],\n",
    "    'learning_rate': [0.001, 0.01, 0.1],\n",
    "    'batch_size': [32, 64, 128]\n",
    "}\n",
    "lstm_model = KerasClassifier(build_fn=create_model)\n",
    "grid_search = GridSearchCV(estimator=lstm_model, param_grid=param_grid, cv=tscv)\n",
    "grid_result = grid_search.fit(X_val_reshaped, y_val_reshaped)\n",
    "\n",
    "# Get the best hyperparameters\n",
    "best_learning_rate = grid_result.best_params_['learning_rate']\n",
    "best_batch_size = grid_result.best_params_['batch_size']\n",
    "best_optimizer = grid_result.best_params_['optimizer']\n",
    "\n",
    "print(\"Best Optimizer:\", best_optimizer)\n",
    "print(\"Best Learning Rate:\", best_learning_rate)\n",
    "print(\"Best Batch Size:\", best_batch_size)"
   ]
  },
  {
   "cell_type": "code",
   "execution_count": 436,
   "id": "195f855f",
   "metadata": {
    "scrolled": true
   },
   "outputs": [
    {
     "name": "stdout",
     "output_type": "stream",
     "text": [
      "Model: \"sequential_67\"\n",
      "_________________________________________________________________\n",
      " Layer (type)                Output Shape              Param #   \n",
      "=================================================================\n",
      " lstm_104 (LSTM)             (None, 5, 32)             8832      \n",
      "                                                                 \n",
      " dropout_57 (Dropout)        (None, 5, 32)             0         \n",
      "                                                                 \n",
      " lstm_105 (LSTM)             (None, 8)                 1312      \n",
      "                                                                 \n",
      " dropout_58 (Dropout)        (None, 8)                 0         \n",
      "                                                                 \n",
      " dense_65 (Dense)            (None, 1)                 9         \n",
      "                                                                 \n",
      "=================================================================\n",
      "Total params: 10,153\n",
      "Trainable params: 10,153\n",
      "Non-trainable params: 0\n",
      "_________________________________________________________________\n"
     ]
    }
   ],
   "source": [
    "model = create_model(best_optimizer, best_learning_rate)\n",
    "\n",
    "model.summary()"
   ]
  },
  {
   "cell_type": "code",
   "execution_count": 437,
   "id": "9b85f698",
   "metadata": {},
   "outputs": [
    {
     "name": "stdout",
     "output_type": "stream",
     "text": [
      "{0: 0.997164461247637, 1: 1.002851711026616}\n"
     ]
    }
   ],
   "source": [
    "class_weights = class_weight.compute_class_weight(class_weight='balanced',\n",
    "                classes=np.unique(y_train_reshaped), \n",
    "                y=y_train_reshaped)\n",
    "train_class_weights = dict(enumerate(class_weights))\n",
    "print(train_class_weights)"
   ]
  },
  {
   "cell_type": "code",
   "execution_count": 438,
   "id": "c236babd",
   "metadata": {},
   "outputs": [],
   "source": [
    "train_class_weights = {0: 0.5, 1: 3}"
   ]
  },
  {
   "cell_type": "code",
   "execution_count": 439,
   "id": "6caa9056",
   "metadata": {
    "scrolled": true
   },
   "outputs": [
    {
     "name": "stdout",
     "output_type": "stream",
     "text": [
      "Epoch 1/50\n"
     ]
    },
    {
     "name": "stderr",
     "output_type": "stream",
     "text": [
      "2024-04-07 15:13:45.361233: I tensorflow/core/grappler/optimizers/custom_graph_optimizer_registry.cc:113] Plugin optimizer for device_type GPU is enabled.\n",
      "2024-04-07 15:13:45.892036: I tensorflow/core/grappler/optimizers/custom_graph_optimizer_registry.cc:113] Plugin optimizer for device_type GPU is enabled.\n",
      "2024-04-07 15:13:46.323408: I tensorflow/core/grappler/optimizers/custom_graph_optimizer_registry.cc:113] Plugin optimizer for device_type GPU is enabled.\n",
      "loc(\"mps_select\"(\"(mpsFileLoc): /AppleInternal/Library/BuildRoots/0032d1ee-80fd-11ee-8227-6aecfccc70fe/Library/Caches/com.apple.xbs/Sources/MetalPerformanceShadersGraph/mpsgraph/MetalPerformanceShadersGraph/Core/Files/MPSGraphUtilities.mm\":294:0)): error: 'anec.gain_offset_control' op result #0 must be 4D/5D memref of 16-bit float or 8-bit signed integer or 8-bit unsigned integer values, but got 'memref<1x32x1x1xi1>'\n",
      "loc(\"mps_select\"(\"(mpsFileLoc): /AppleInternal/Library/BuildRoots/0032d1ee-80fd-11ee-8227-6aecfccc70fe/Library/Caches/com.apple.xbs/Sources/MetalPerformanceShadersGraph/mpsgraph/MetalPerformanceShadersGraph/Core/Files/MPSGraphUtilities.mm\":294:0)): error: 'anec.gain_offset_control' op result #0 must be 4D/5D memref of 16-bit float or 8-bit signed integer or 8-bit unsigned integer values, but got 'memref<1x32x1x1xi1>'\n",
      "loc(\"mps_select\"(\"(mpsFileLoc): /AppleInternal/Library/BuildRoots/0032d1ee-80fd-11ee-8227-6aecfccc70fe/Library/Caches/com.apple.xbs/Sources/MetalPerformanceShadersGraph/mpsgraph/MetalPerformanceShadersGraph/Core/Files/MPSGraphUtilities.mm\":294:0)): error: 'anec.gain_offset_control' op result #0 must be 4D/5D memref of 16-bit float or 8-bit signed integer or 8-bit unsigned integer values, but got 'memref<1x32x1x1xi1>'\n",
      "loc(\"mps_select\"(\"(mpsFileLoc): /AppleInternal/Library/BuildRoots/0032d1ee-80fd-11ee-8227-6aecfccc70fe/Library/Caches/com.apple.xbs/Sources/MetalPerformanceShadersGraph/mpsgraph/MetalPerformanceShadersGraph/Core/Files/MPSGraphUtilities.mm\":294:0)): error: 'anec.gain_offset_control' op result #0 must be 4D/5D memref of 16-bit float or 8-bit signed integer or 8-bit unsigned integer values, but got 'memref<1x32x1x1xi1>'\n",
      "loc(\"mps_select\"(\"(mpsFileLoc): /AppleInternal/Library/BuildRoots/0032d1ee-80fd-11ee-8227-6aecfccc70fe/Library/Caches/com.apple.xbs/Sources/MetalPerformanceShadersGraph/mpsgraph/MetalPerformanceShadersGraph/Core/Files/MPSGraphUtilities.mm\":294:0)): error: 'anec.gain_offset_control' op result #0 must be 4D/5D memref of 16-bit float or 8-bit signed integer or 8-bit unsigned integer values, but got 'memref<1x32x1x1xi1>'\n",
      "2024-04-07 15:13:47.597760: I tensorflow/core/grappler/optimizers/custom_graph_optimizer_registry.cc:113] Plugin optimizer for device_type GPU is enabled.\n",
      "2024-04-07 15:13:48.369431: I tensorflow/core/grappler/optimizers/custom_graph_optimizer_registry.cc:113] Plugin optimizer for device_type GPU is enabled.\n"
     ]
    },
    {
     "name": "stdout",
     "output_type": "stream",
     "text": [
      "31/33 [===========================>..] - ETA: 0s - loss: 1.0292 - fn: 110.0000 - fp: 354.0000 - tn: 308.0000 - tp: 385.0000 - precision: 0.5210 - recall: 0.7778"
     ]
    },
    {
     "name": "stderr",
     "output_type": "stream",
     "text": [
      "loc(\"mps_select\"(\"(mpsFileLoc): /AppleInternal/Library/BuildRoots/0032d1ee-80fd-11ee-8227-6aecfccc70fe/Library/Caches/com.apple.xbs/Sources/MetalPerformanceShadersGraph/mpsgraph/MetalPerformanceShadersGraph/Core/Files/MPSGraphUtilities.mm\":294:0)): error: 'anec.gain_offset_control' op result #0 must be 4D/5D memref of 16-bit float or 8-bit signed integer or 8-bit unsigned integer values, but got 'memref<1x31x1x1xi1>'\n",
      "loc(\"mps_select\"(\"(mpsFileLoc): /AppleInternal/Library/BuildRoots/0032d1ee-80fd-11ee-8227-6aecfccc70fe/Library/Caches/com.apple.xbs/Sources/MetalPerformanceShadersGraph/mpsgraph/MetalPerformanceShadersGraph/Core/Files/MPSGraphUtilities.mm\":294:0)): error: 'anec.gain_offset_control' op result #0 must be 4D/5D memref of 16-bit float or 8-bit signed integer or 8-bit unsigned integer values, but got 'memref<1x31x1x1xi1>'\n",
      "loc(\"mps_select\"(\"(mpsFileLoc): /AppleInternal/Library/BuildRoots/0032d1ee-80fd-11ee-8227-6aecfccc70fe/Library/Caches/com.apple.xbs/Sources/MetalPerformanceShadersGraph/mpsgraph/MetalPerformanceShadersGraph/Core/Files/MPSGraphUtilities.mm\":294:0)): error: 'anec.gain_offset_control' op result #0 must be 4D/5D memref of 16-bit float or 8-bit signed integer or 8-bit unsigned integer values, but got 'memref<1x31x1x1xi1>'\n",
      "loc(\"mps_select\"(\"(mpsFileLoc): /AppleInternal/Library/BuildRoots/0032d1ee-80fd-11ee-8227-6aecfccc70fe/Library/Caches/com.apple.xbs/Sources/MetalPerformanceShadersGraph/mpsgraph/MetalPerformanceShadersGraph/Core/Files/MPSGraphUtilities.mm\":294:0)): error: 'anec.gain_offset_control' op result #0 must be 4D/5D memref of 16-bit float or 8-bit signed integer or 8-bit unsigned integer values, but got 'memref<1x31x1x1xi1>'\n",
      "loc(\"mps_select\"(\"(mpsFileLoc): /AppleInternal/Library/BuildRoots/0032d1ee-80fd-11ee-8227-6aecfccc70fe/Library/Caches/com.apple.xbs/Sources/MetalPerformanceShadersGraph/mpsgraph/MetalPerformanceShadersGraph/Core/Files/MPSGraphUtilities.mm\":294:0)): error: 'anec.gain_offset_control' op result #0 must be 4D/5D memref of 16-bit float or 8-bit signed integer or 8-bit unsigned integer values, but got 'memref<1x31x1x1xi1>'\n"
     ]
    },
    {
     "name": "stdout",
     "output_type": "stream",
     "text": [
      "\b\b\b\b\b\b\b\b\b\b\b\b\b\b\b\b\b\b\b\b\b\b\b\b\b\b\b\b\b\b\b\b\b\b\b\b\b\b\b\b\b\b\b\b\b\b\b\b\b\b\b\b\b\b\b\b\b\b\b\b\b\b\b\b\b\b\b\b\b\b\b\b\b\b\b\b\b\b\b\b\b\b\b\b\b\b\b\b\b\b\b\b\b\b\b\b\b\b\b\b\b\b\b\b\b\b\b\b\b\b\b\b\b\b\b\b\b\b\b\b\b\b\b\b\b\b\b\b\b\b\b\b\b\b\b\b\b\b\b\b\b\b\b\b\b\b\b\b\b\b\b\b\b\b\b\b\b\b\b\b\r",
      "33/33 [==============================] - ETA: 0s - loss: 1.0140 - fn: 110.0000 - fp: 378.0000 - tn: 314.0000 - tp: 418.0000 - precision: 0.5251 - recall: 0.7917"
     ]
    },
    {
     "name": "stderr",
     "output_type": "stream",
     "text": [
      "2024-04-07 15:13:54.722761: I tensorflow/core/grappler/optimizers/custom_graph_optimizer_registry.cc:113] Plugin optimizer for device_type GPU is enabled.\n",
      "2024-04-07 15:13:54.886464: I tensorflow/core/grappler/optimizers/custom_graph_optimizer_registry.cc:113] Plugin optimizer for device_type GPU is enabled.\n",
      "2024-04-07 15:13:55.253879: I tensorflow/core/grappler/optimizers/custom_graph_optimizer_registry.cc:113] Plugin optimizer for device_type GPU is enabled.\n",
      "loc(\"mps_select\"(\"(mpsFileLoc): /AppleInternal/Library/BuildRoots/0032d1ee-80fd-11ee-8227-6aecfccc70fe/Library/Caches/com.apple.xbs/Sources/MetalPerformanceShadersGraph/mpsgraph/MetalPerformanceShadersGraph/Core/Files/MPSGraphUtilities.mm\":294:0)): error: 'anec.gain_offset_control' op result #0 must be 4D/5D memref of 16-bit float or 8-bit signed integer or 8-bit unsigned integer values, but got 'memref<1x32x1x1xi1>'\n",
      "loc(\"mps_select\"(\"(mpsFileLoc): /AppleInternal/Library/BuildRoots/0032d1ee-80fd-11ee-8227-6aecfccc70fe/Library/Caches/com.apple.xbs/Sources/MetalPerformanceShadersGraph/mpsgraph/MetalPerformanceShadersGraph/Core/Files/MPSGraphUtilities.mm\":294:0)): error: 'anec.gain_offset_control' op result #0 must be 4D/5D memref of 16-bit float or 8-bit signed integer or 8-bit unsigned integer values, but got 'memref<1x32x1x1xi1>'\n",
      "loc(\"mps_select\"(\"(mpsFileLoc): /AppleInternal/Library/BuildRoots/0032d1ee-80fd-11ee-8227-6aecfccc70fe/Library/Caches/com.apple.xbs/Sources/MetalPerformanceShadersGraph/mpsgraph/MetalPerformanceShadersGraph/Core/Files/MPSGraphUtilities.mm\":294:0)): error: 'anec.gain_offset_control' op result #0 must be 4D/5D memref of 16-bit float or 8-bit signed integer or 8-bit unsigned integer values, but got 'memref<1x11x1x1xi1>'\n",
      "loc(\"mps_select\"(\"(mpsFileLoc): /AppleInternal/Library/BuildRoots/0032d1ee-80fd-11ee-8227-6aecfccc70fe/Library/Caches/com.apple.xbs/Sources/MetalPerformanceShadersGraph/mpsgraph/MetalPerformanceShadersGraph/Core/Files/MPSGraphUtilities.mm\":294:0)): error: 'anec.gain_offset_control' op result #0 must be 4D/5D memref of 16-bit float or 8-bit signed integer or 8-bit unsigned integer values, but got 'memref<1x11x1x1xi1>'\n"
     ]
    },
    {
     "name": "stdout",
     "output_type": "stream",
     "text": [
      "33/33 [==============================] - 13s 248ms/step - loss: 1.0140 - fn: 110.0000 - fp: 378.0000 - tn: 314.0000 - tp: 418.0000 - precision: 0.5251 - recall: 0.7917 - val_loss: 0.8410 - val_fn: 0.0000e+00 - val_fp: 64.0000 - val_tn: 1.0000 - val_tp: 10.0000 - val_precision: 0.1351 - val_recall: 1.0000\n",
      "Epoch 2/50\n",
      "33/33 [==============================] - 2s 48ms/step - loss: 0.6250 - fn: 6.0000 - fp: 417.0000 - tn: 112.0000 - tp: 520.0000 - precision: 0.5550 - recall: 0.9886 - val_loss: 1.0370 - val_fn: 0.0000e+00 - val_fp: 62.0000 - val_tn: 3.0000 - val_tp: 10.0000 - val_precision: 0.1389 - val_recall: 1.0000\n",
      "Epoch 3/50\n",
      "33/33 [==============================] - 1s 41ms/step - loss: 0.5289 - fn: 5.0000 - fp: 394.0000 - tn: 135.0000 - tp: 521.0000 - precision: 0.5694 - recall: 0.9905 - val_loss: 0.9950 - val_fn: 0.0000e+00 - val_fp: 57.0000 - val_tn: 8.0000 - val_tp: 10.0000 - val_precision: 0.1493 - val_recall: 1.0000\n",
      "Epoch 4/50\n",
      "33/33 [==============================] - 1s 40ms/step - loss: 0.4819 - fn: 5.0000 - fp: 336.0000 - tn: 193.0000 - tp: 521.0000 - precision: 0.6079 - recall: 0.9905 - val_loss: 0.9050 - val_fn: 0.0000e+00 - val_fp: 54.0000 - val_tn: 11.0000 - val_tp: 10.0000 - val_precision: 0.1562 - val_recall: 1.0000\n",
      "Epoch 5/50\n",
      "33/33 [==============================] - 1s 38ms/step - loss: 0.4541 - fn: 8.0000 - fp: 301.0000 - tn: 228.0000 - tp: 518.0000 - precision: 0.6325 - recall: 0.9848 - val_loss: 0.8330 - val_fn: 2.0000 - val_fp: 50.0000 - val_tn: 15.0000 - val_tp: 8.0000 - val_precision: 0.1379 - val_recall: 0.8000\n",
      "Epoch 6/50\n",
      "33/33 [==============================] - 1s 36ms/step - loss: 0.4182 - fn: 9.0000 - fp: 252.0000 - tn: 277.0000 - tp: 517.0000 - precision: 0.6723 - recall: 0.9829 - val_loss: 0.7836 - val_fn: 3.0000 - val_fp: 44.0000 - val_tn: 21.0000 - val_tp: 7.0000 - val_precision: 0.1373 - val_recall: 0.7000\n",
      "Epoch 7/50\n",
      "33/33 [==============================] - 1s 41ms/step - loss: 0.3927 - fn: 14.0000 - fp: 229.0000 - tn: 300.0000 - tp: 512.0000 - precision: 0.6910 - recall: 0.9734 - val_loss: 0.7693 - val_fn: 3.0000 - val_fp: 41.0000 - val_tn: 24.0000 - val_tp: 7.0000 - val_precision: 0.1458 - val_recall: 0.7000\n",
      "Epoch 8/50\n",
      "33/33 [==============================] - 1s 40ms/step - loss: 0.3706 - fn: 16.0000 - fp: 208.0000 - tn: 321.0000 - tp: 510.0000 - precision: 0.7103 - recall: 0.9696 - val_loss: 0.7449 - val_fn: 3.0000 - val_fp: 37.0000 - val_tn: 28.0000 - val_tp: 7.0000 - val_precision: 0.1591 - val_recall: 0.7000\n",
      "Epoch 9/50\n",
      "33/33 [==============================] - 1s 35ms/step - loss: 0.3517 - fn: 13.0000 - fp: 190.0000 - tn: 339.0000 - tp: 513.0000 - precision: 0.7297 - recall: 0.9753 - val_loss: 0.7203 - val_fn: 2.0000 - val_fp: 36.0000 - val_tn: 29.0000 - val_tp: 8.0000 - val_precision: 0.1818 - val_recall: 0.8000\n",
      "Epoch 10/50\n",
      "33/33 [==============================] - 1s 45ms/step - loss: 0.3291 - fn: 12.0000 - fp: 184.0000 - tn: 345.0000 - tp: 514.0000 - precision: 0.7364 - recall: 0.9772 - val_loss: 0.6726 - val_fn: 2.0000 - val_fp: 28.0000 - val_tn: 37.0000 - val_tp: 8.0000 - val_precision: 0.2222 - val_recall: 0.8000\n",
      "Epoch 11/50\n",
      "33/33 [==============================] - 1s 32ms/step - loss: 0.3240 - fn: 16.0000 - fp: 173.0000 - tn: 356.0000 - tp: 510.0000 - precision: 0.7467 - recall: 0.9696 - val_loss: 0.7139 - val_fn: 2.0000 - val_fp: 30.0000 - val_tn: 35.0000 - val_tp: 8.0000 - val_precision: 0.2105 - val_recall: 0.8000\n",
      "Epoch 12/50\n",
      "33/33 [==============================] - 1s 36ms/step - loss: 0.3277 - fn: 21.0000 - fp: 153.0000 - tn: 376.0000 - tp: 505.0000 - precision: 0.7675 - recall: 0.9601 - val_loss: 0.6918 - val_fn: 2.0000 - val_fp: 28.0000 - val_tn: 37.0000 - val_tp: 8.0000 - val_precision: 0.2222 - val_recall: 0.8000\n",
      "Epoch 13/50\n",
      "33/33 [==============================] - 1s 31ms/step - loss: 0.3082 - fn: 15.0000 - fp: 157.0000 - tn: 372.0000 - tp: 511.0000 - precision: 0.7650 - recall: 0.9715 - val_loss: 0.6966 - val_fn: 2.0000 - val_fp: 26.0000 - val_tn: 39.0000 - val_tp: 8.0000 - val_precision: 0.2353 - val_recall: 0.8000\n",
      "Epoch 14/50\n",
      "33/33 [==============================] - 1s 31ms/step - loss: 0.2994 - fn: 18.0000 - fp: 133.0000 - tn: 396.0000 - tp: 508.0000 - precision: 0.7925 - recall: 0.9658 - val_loss: 0.6378 - val_fn: 2.0000 - val_fp: 24.0000 - val_tn: 41.0000 - val_tp: 8.0000 - val_precision: 0.2500 - val_recall: 0.8000\n",
      "Epoch 15/50\n",
      "33/33 [==============================] - 1s 31ms/step - loss: 0.2776 - fn: 15.0000 - fp: 142.0000 - tn: 387.0000 - tp: 511.0000 - precision: 0.7825 - recall: 0.9715 - val_loss: 0.6568 - val_fn: 2.0000 - val_fp: 27.0000 - val_tn: 38.0000 - val_tp: 8.0000 - val_precision: 0.2286 - val_recall: 0.8000\n",
      "Epoch 16/50\n",
      "33/33 [==============================] - 1s 31ms/step - loss: 0.2655 - fn: 14.0000 - fp: 128.0000 - tn: 401.0000 - tp: 512.0000 - precision: 0.8000 - recall: 0.9734 - val_loss: 0.6727 - val_fn: 3.0000 - val_fp: 29.0000 - val_tn: 36.0000 - val_tp: 7.0000 - val_precision: 0.1944 - val_recall: 0.7000\n",
      "Epoch 17/50\n",
      "33/33 [==============================] - 1s 31ms/step - loss: 0.2566 - fn: 18.0000 - fp: 110.0000 - tn: 419.0000 - tp: 508.0000 - precision: 0.8220 - recall: 0.9658 - val_loss: 0.6912 - val_fn: 3.0000 - val_fp: 29.0000 - val_tn: 36.0000 - val_tp: 7.0000 - val_precision: 0.1944 - val_recall: 0.7000\n",
      "Epoch 18/50\n",
      "33/33 [==============================] - 1s 30ms/step - loss: 0.2456 - fn: 15.0000 - fp: 116.0000 - tn: 413.0000 - tp: 511.0000 - precision: 0.8150 - recall: 0.9715 - val_loss: 0.6698 - val_fn: 3.0000 - val_fp: 27.0000 - val_tn: 38.0000 - val_tp: 7.0000 - val_precision: 0.2059 - val_recall: 0.7000\n",
      "Epoch 19/50\n",
      "33/33 [==============================] - 1s 34ms/step - loss: 0.2392 - fn: 12.0000 - fp: 106.0000 - tn: 423.0000 - tp: 514.0000 - precision: 0.8290 - recall: 0.9772 - val_loss: 0.7159 - val_fn: 3.0000 - val_fp: 27.0000 - val_tn: 38.0000 - val_tp: 7.0000 - val_precision: 0.2059 - val_recall: 0.7000\n",
      "Epoch 20/50\n",
      "33/33 [==============================] - 1s 33ms/step - loss: 0.2481 - fn: 15.0000 - fp: 129.0000 - tn: 400.0000 - tp: 511.0000 - precision: 0.7984 - recall: 0.9715 - val_loss: 0.6247 - val_fn: 4.0000 - val_fp: 24.0000 - val_tn: 41.0000 - val_tp: 6.0000 - val_precision: 0.2000 - val_recall: 0.6000\n",
      "Epoch 21/50\n",
      "33/33 [==============================] - 1s 32ms/step - loss: 0.2581 - fn: 20.0000 - fp: 104.0000 - tn: 425.0000 - tp: 506.0000 - precision: 0.8295 - recall: 0.9620 - val_loss: 0.7194 - val_fn: 3.0000 - val_fp: 28.0000 - val_tn: 37.0000 - val_tp: 7.0000 - val_precision: 0.2000 - val_recall: 0.7000\n",
      "Epoch 22/50\n",
      "33/33 [==============================] - 1s 30ms/step - loss: 0.2336 - fn: 14.0000 - fp: 103.0000 - tn: 426.0000 - tp: 512.0000 - precision: 0.8325 - recall: 0.9734 - val_loss: 0.7210 - val_fn: 2.0000 - val_fp: 27.0000 - val_tn: 38.0000 - val_tp: 8.0000 - val_precision: 0.2286 - val_recall: 0.8000\n",
      "Epoch 23/50\n",
      "33/33 [==============================] - 1s 29ms/step - loss: 0.2309 - fn: 13.0000 - fp: 107.0000 - tn: 422.0000 - tp: 513.0000 - precision: 0.8274 - recall: 0.9753 - val_loss: 0.5864 - val_fn: 3.0000 - val_fp: 20.0000 - val_tn: 45.0000 - val_tp: 7.0000 - val_precision: 0.2593 - val_recall: 0.7000\n",
      "Epoch 24/50\n",
      "33/33 [==============================] - 1s 30ms/step - loss: 0.2200 - fn: 15.0000 - fp: 91.0000 - tn: 438.0000 - tp: 511.0000 - precision: 0.8488 - recall: 0.9715 - val_loss: 0.6975 - val_fn: 2.0000 - val_fp: 27.0000 - val_tn: 38.0000 - val_tp: 8.0000 - val_precision: 0.2286 - val_recall: 0.8000\n",
      "Epoch 25/50\n",
      "33/33 [==============================] - 1s 29ms/step - loss: 0.2250 - fn: 12.0000 - fp: 109.0000 - tn: 420.0000 - tp: 514.0000 - precision: 0.8250 - recall: 0.9772 - val_loss: 0.6528 - val_fn: 1.0000 - val_fp: 25.0000 - val_tn: 40.0000 - val_tp: 9.0000 - val_precision: 0.2647 - val_recall: 0.9000\n",
      "Epoch 26/50\n",
      "33/33 [==============================] - 1s 30ms/step - loss: 0.2206 - fn: 13.0000 - fp: 100.0000 - tn: 429.0000 - tp: 513.0000 - precision: 0.8369 - recall: 0.9753 - val_loss: 0.5557 - val_fn: 2.0000 - val_fp: 19.0000 - val_tn: 46.0000 - val_tp: 8.0000 - val_precision: 0.2963 - val_recall: 0.8000\n",
      "Epoch 27/50\n"
     ]
    },
    {
     "name": "stdout",
     "output_type": "stream",
     "text": [
      "33/33 [==============================] - 1s 29ms/step - loss: 0.2062 - fn: 12.0000 - fp: 95.0000 - tn: 434.0000 - tp: 514.0000 - precision: 0.8440 - recall: 0.9772 - val_loss: 0.5140 - val_fn: 4.0000 - val_fp: 14.0000 - val_tn: 51.0000 - val_tp: 6.0000 - val_precision: 0.3000 - val_recall: 0.6000\n",
      "Epoch 28/50\n",
      "33/33 [==============================] - 1s 30ms/step - loss: 0.2010 - fn: 13.0000 - fp: 83.0000 - tn: 446.0000 - tp: 513.0000 - precision: 0.8607 - recall: 0.9753 - val_loss: 0.5794 - val_fn: 3.0000 - val_fp: 18.0000 - val_tn: 47.0000 - val_tp: 7.0000 - val_precision: 0.2800 - val_recall: 0.7000\n",
      "Epoch 29/50\n",
      "33/33 [==============================] - 1s 32ms/step - loss: 0.1937 - fn: 13.0000 - fp: 84.0000 - tn: 445.0000 - tp: 513.0000 - precision: 0.8593 - recall: 0.9753 - val_loss: 0.7304 - val_fn: 3.0000 - val_fp: 27.0000 - val_tn: 38.0000 - val_tp: 7.0000 - val_precision: 0.2059 - val_recall: 0.7000\n",
      "Epoch 30/50\n",
      "33/33 [==============================] - 1s 32ms/step - loss: 0.2068 - fn: 13.0000 - fp: 93.0000 - tn: 436.0000 - tp: 513.0000 - precision: 0.8465 - recall: 0.9753 - val_loss: 0.6622 - val_fn: 3.0000 - val_fp: 21.0000 - val_tn: 44.0000 - val_tp: 7.0000 - val_precision: 0.2500 - val_recall: 0.7000\n",
      "Epoch 31/50\n",
      "33/33 [==============================] - 1s 30ms/step - loss: 0.1924 - fn: 11.0000 - fp: 89.0000 - tn: 440.0000 - tp: 515.0000 - precision: 0.8526 - recall: 0.9791 - val_loss: 0.7550 - val_fn: 3.0000 - val_fp: 26.0000 - val_tn: 39.0000 - val_tp: 7.0000 - val_precision: 0.2121 - val_recall: 0.7000\n",
      "Epoch 32/50\n",
      "33/33 [==============================] - 1s 31ms/step - loss: 0.1823 - fn: 12.0000 - fp: 80.0000 - tn: 449.0000 - tp: 514.0000 - precision: 0.8653 - recall: 0.9772 - val_loss: 0.7480 - val_fn: 2.0000 - val_fp: 26.0000 - val_tn: 39.0000 - val_tp: 8.0000 - val_precision: 0.2353 - val_recall: 0.8000\n",
      "Epoch 33/50\n",
      "33/33 [==============================] - 1s 30ms/step - loss: 0.1788 - fn: 12.0000 - fp: 90.0000 - tn: 439.0000 - tp: 514.0000 - precision: 0.8510 - recall: 0.9772 - val_loss: 0.6545 - val_fn: 4.0000 - val_fp: 19.0000 - val_tn: 46.0000 - val_tp: 6.0000 - val_precision: 0.2400 - val_recall: 0.6000\n",
      "Epoch 34/50\n",
      "33/33 [==============================] - 1s 38ms/step - loss: 0.1779 - fn: 10.0000 - fp: 79.0000 - tn: 450.0000 - tp: 516.0000 - precision: 0.8672 - recall: 0.9810 - val_loss: 0.6682 - val_fn: 4.0000 - val_fp: 21.0000 - val_tn: 44.0000 - val_tp: 6.0000 - val_precision: 0.2222 - val_recall: 0.6000\n",
      "Epoch 35/50\n",
      "33/33 [==============================] - 1s 38ms/step - loss: 0.1738 - fn: 8.0000 - fp: 81.0000 - tn: 448.0000 - tp: 518.0000 - precision: 0.8648 - recall: 0.9848 - val_loss: 0.7296 - val_fn: 2.0000 - val_fp: 22.0000 - val_tn: 43.0000 - val_tp: 8.0000 - val_precision: 0.2667 - val_recall: 0.8000\n",
      "Epoch 36/50\n",
      "33/33 [==============================] - 1s 35ms/step - loss: 0.1727 - fn: 9.0000 - fp: 78.0000 - tn: 451.0000 - tp: 517.0000 - precision: 0.8689 - recall: 0.9829 - val_loss: 0.6766 - val_fn: 3.0000 - val_fp: 23.0000 - val_tn: 42.0000 - val_tp: 7.0000 - val_precision: 0.2333 - val_recall: 0.7000\n",
      "Epoch 37/50\n",
      "33/33 [==============================] - 1s 32ms/step - loss: 0.1855 - fn: 9.0000 - fp: 85.0000 - tn: 444.0000 - tp: 517.0000 - precision: 0.8588 - recall: 0.9829 - val_loss: 0.6209 - val_fn: 3.0000 - val_fp: 18.0000 - val_tn: 47.0000 - val_tp: 7.0000 - val_precision: 0.2800 - val_recall: 0.7000\n",
      "Epoch 38/50\n",
      "33/33 [==============================] - 1s 30ms/step - loss: 0.2034 - fn: 12.0000 - fp: 79.0000 - tn: 450.0000 - tp: 514.0000 - precision: 0.8668 - recall: 0.9772 - val_loss: 0.7884 - val_fn: 2.0000 - val_fp: 28.0000 - val_tn: 37.0000 - val_tp: 8.0000 - val_precision: 0.2222 - val_recall: 0.8000\n",
      "Epoch 39/50\n",
      "33/33 [==============================] - 1s 33ms/step - loss: 0.1619 - fn: 11.0000 - fp: 73.0000 - tn: 456.0000 - tp: 515.0000 - precision: 0.8759 - recall: 0.9791 - val_loss: 0.7315 - val_fn: 2.0000 - val_fp: 23.0000 - val_tn: 42.0000 - val_tp: 8.0000 - val_precision: 0.2581 - val_recall: 0.8000\n",
      "Epoch 40/50\n",
      "33/33 [==============================] - 1s 30ms/step - loss: 0.1486 - fn: 5.0000 - fp: 72.0000 - tn: 457.0000 - tp: 521.0000 - precision: 0.8786 - recall: 0.9905 - val_loss: 0.6570 - val_fn: 2.0000 - val_fp: 23.0000 - val_tn: 42.0000 - val_tp: 8.0000 - val_precision: 0.2581 - val_recall: 0.8000\n",
      "Epoch 41/50\n",
      "33/33 [==============================] - 1s 30ms/step - loss: 0.1573 - fn: 8.0000 - fp: 75.0000 - tn: 454.0000 - tp: 518.0000 - precision: 0.8735 - recall: 0.9848 - val_loss: 0.6064 - val_fn: 2.0000 - val_fp: 24.0000 - val_tn: 41.0000 - val_tp: 8.0000 - val_precision: 0.2500 - val_recall: 0.8000\n",
      "Epoch 42/50\n",
      "33/33 [==============================] - 1s 30ms/step - loss: 0.1503 - fn: 10.0000 - fp: 55.0000 - tn: 474.0000 - tp: 516.0000 - precision: 0.9037 - recall: 0.9810 - val_loss: 0.7167 - val_fn: 2.0000 - val_fp: 23.0000 - val_tn: 42.0000 - val_tp: 8.0000 - val_precision: 0.2581 - val_recall: 0.8000\n",
      "Epoch 43/50\n",
      "33/33 [==============================] - 1s 31ms/step - loss: 0.1477 - fn: 9.0000 - fp: 63.0000 - tn: 466.0000 - tp: 517.0000 - precision: 0.8914 - recall: 0.9829 - val_loss: 0.6224 - val_fn: 3.0000 - val_fp: 20.0000 - val_tn: 45.0000 - val_tp: 7.0000 - val_precision: 0.2593 - val_recall: 0.7000\n",
      "Epoch 44/50\n",
      "33/33 [==============================] - 1s 30ms/step - loss: 0.1706 - fn: 12.0000 - fp: 71.0000 - tn: 458.0000 - tp: 514.0000 - precision: 0.8786 - recall: 0.9772 - val_loss: 0.9276 - val_fn: 3.0000 - val_fp: 30.0000 - val_tn: 35.0000 - val_tp: 7.0000 - val_precision: 0.1892 - val_recall: 0.7000\n",
      "Epoch 45/50\n",
      "33/33 [==============================] - 1s 29ms/step - loss: 0.1709 - fn: 10.0000 - fp: 79.0000 - tn: 450.0000 - tp: 516.0000 - precision: 0.8672 - recall: 0.9810 - val_loss: 0.6937 - val_fn: 3.0000 - val_fp: 21.0000 - val_tn: 44.0000 - val_tp: 7.0000 - val_precision: 0.2500 - val_recall: 0.7000\n",
      "Epoch 46/50\n",
      "33/33 [==============================] - 1s 29ms/step - loss: 0.1348 - fn: 6.0000 - fp: 59.0000 - tn: 470.0000 - tp: 520.0000 - precision: 0.8981 - recall: 0.9886 - val_loss: 0.7696 - val_fn: 3.0000 - val_fp: 22.0000 - val_tn: 43.0000 - val_tp: 7.0000 - val_precision: 0.2414 - val_recall: 0.7000\n",
      "Epoch 47/50\n",
      "33/33 [==============================] - 1s 29ms/step - loss: 0.1435 - fn: 7.0000 - fp: 68.0000 - tn: 461.0000 - tp: 519.0000 - precision: 0.8842 - recall: 0.9867 - val_loss: 0.7193 - val_fn: 3.0000 - val_fp: 21.0000 - val_tn: 44.0000 - val_tp: 7.0000 - val_precision: 0.2500 - val_recall: 0.7000\n",
      "Epoch 48/50\n",
      "33/33 [==============================] - 1s 29ms/step - loss: 0.1551 - fn: 6.0000 - fp: 70.0000 - tn: 459.0000 - tp: 520.0000 - precision: 0.8814 - recall: 0.9886 - val_loss: 0.6874 - val_fn: 3.0000 - val_fp: 21.0000 - val_tn: 44.0000 - val_tp: 7.0000 - val_precision: 0.2500 - val_recall: 0.7000\n",
      "Epoch 49/50\n",
      "33/33 [==============================] - 1s 29ms/step - loss: 0.1469 - fn: 7.0000 - fp: 54.0000 - tn: 475.0000 - tp: 519.0000 - precision: 0.9058 - recall: 0.9867 - val_loss: 0.7903 - val_fn: 3.0000 - val_fp: 23.0000 - val_tn: 42.0000 - val_tp: 7.0000 - val_precision: 0.2333 - val_recall: 0.7000\n",
      "Epoch 50/50\n",
      "33/33 [==============================] - 1s 31ms/step - loss: 0.1362 - fn: 5.0000 - fp: 58.0000 - tn: 471.0000 - tp: 521.0000 - precision: 0.8998 - recall: 0.9905 - val_loss: 0.7651 - val_fn: 3.0000 - val_fp: 22.0000 - val_tn: 43.0000 - val_tp: 7.0000 - val_precision: 0.2414 - val_recall: 0.7000\n"
     ]
    }
   ],
   "source": [
    "model_result = model.fit(X_train_reshaped, y_train_reshaped, batch_size=best_batch_size, epochs=50, validation_data=(X_val_reshaped, y_val_reshaped),class_weight=train_class_weights)"
   ]
  },
  {
   "cell_type": "code",
   "execution_count": 440,
   "id": "bd5eab7b",
   "metadata": {},
   "outputs": [
    {
     "data": {
      "image/png": "[encoded data removed]",
      "text/plain": [
       "<Figure size 432x288 with 1 Axes>"
      ]
     },
     "metadata": {
      "needs_background": "light"
     },
     "output_type": "display_data"
    }
   ],
   "source": [
    "# Overfitting\n",
    "plt.plot(model_result.history['loss'])\n",
    "plt.plot(model_result.history['val_loss'])\n",
    "plt.ylabel('loss')\n",
    "plt.xlabel('epoch')\n",
    "plt.legend(['train', 'validation'], loc='upper right')\n",
    "plt.show()"
   ]
  },
  {
   "cell_type": "code",
   "execution_count": 441,
   "id": "5df86ecd",
   "metadata": {},
   "outputs": [
    {
     "name": "stdout",
     "output_type": "stream",
     "text": [
      "4/6 [===================>..........] - ETA: 0s - loss: 0.6152 - fn: 1.0000 - fp: 29.0000 - tn: 97.0000 - tp: 1.0000 - precision: 0.0333 - recall: 0.5000            "
     ]
    },
    {
     "name": "stderr",
     "output_type": "stream",
     "text": [
      "loc(\"mps_select\"(\"(mpsFileLoc): /AppleInternal/Library/BuildRoots/0032d1ee-80fd-11ee-8227-6aecfccc70fe/Library/Caches/com.apple.xbs/Sources/MetalPerformanceShadersGraph/mpsgraph/MetalPerformanceShadersGraph/Core/Files/MPSGraphUtilities.mm\":294:0)): error: 'anec.gain_offset_control' op result #0 must be 4D/5D memref of 16-bit float or 8-bit signed integer or 8-bit unsigned integer values, but got 'memref<1x5x1x1xi1>'\n",
      "loc(\"mps_select\"(\"(mpsFileLoc): /AppleInternal/Library/BuildRoots/0032d1ee-80fd-11ee-8227-6aecfccc70fe/Library/Caches/com.apple.xbs/Sources/MetalPerformanceShadersGraph/mpsgraph/MetalPerformanceShadersGraph/Core/Files/MPSGraphUtilities.mm\":294:0)): error: 'anec.gain_offset_control' op result #0 must be 4D/5D memref of 16-bit float or 8-bit signed integer or 8-bit unsigned integer values, but got 'memref<1x5x1x1xi1>'\n"
     ]
    },
    {
     "name": "stdout",
     "output_type": "stream",
     "text": [
      "6/6 [==============================] - 1s 139ms/step - loss: 0.5689 - fn: 1.0000 - fp: 35.0000 - tn: 128.0000 - tp: 1.0000 - precision: 0.0278 - recall: 0.5000\n"
     ]
    },
    {
     "data": {
      "text/plain": [
       "[0.5689142346382141, 1.0, 35.0, 128.0, 1.0, 0.02777777798473835, 0.5]"
      ]
     },
     "execution_count": 441,
     "metadata": {},
     "output_type": "execute_result"
    }
   ],
   "source": [
    "results = model.evaluate(X_test_reshaped, y_test_reshaped)\n",
    "results"
   ]
  },
  {
   "cell_type": "code",
   "execution_count": 442,
   "id": "42eb9f4e",
   "metadata": {
    "scrolled": true
   },
   "outputs": [
    {
     "name": "stderr",
     "output_type": "stream",
     "text": [
      "2024-04-07 15:14:51.308504: I tensorflow/core/grappler/optimizers/custom_graph_optimizer_registry.cc:113] Plugin optimizer for device_type GPU is enabled.\n",
      "2024-04-07 15:14:51.371683: I tensorflow/core/grappler/optimizers/custom_graph_optimizer_registry.cc:113] Plugin optimizer for device_type GPU is enabled.\n",
      "2024-04-07 15:14:51.657767: I tensorflow/core/grappler/optimizers/custom_graph_optimizer_registry.cc:113] Plugin optimizer for device_type GPU is enabled.\n"
     ]
    },
    {
     "name": "stdout",
     "output_type": "stream",
     "text": [
      "6/6 [==============================] - 1s 59ms/step\n"
     ]
    }
   ],
   "source": [
    "y_prob = model.predict(X_test_reshaped)\n",
    "y_pred = np.where(y_prob > 0.5, 1, 0) # Adjust the threshold as needed\n",
    "accuracy = accuracy_score(y_test_reshaped.flatten(), y_pred.flatten())\n",
    "rmse = np.sqrt(mean_squared_error(y_test_reshaped.flatten(), y_pred.flatten()))\n",
    "mape = np.mean(np.abs((y_test_reshaped.flatten() - y_pred.flatten()) / y_test_reshaped.flatten())) * 100\n",
    "\n",
    "conf_matrix = confusion_matrix(y_test_reshaped.flatten(), y_pred.flatten(), labels=[0, 1])\n",
    "\n",
    "precision = precision_score(y_test_reshaped.flatten(), y_pred.flatten())\n",
    "recall = recall_score(y_test_reshaped.flatten(), y_pred.flatten())\n",
    "f1 = f1_score(y_test_reshaped.flatten(), y_pred.flatten())\n",
    "fpr, tpr, thresholds = roc_curve(y_test_reshaped.flatten(), y_prob.flatten())\n",
    "auc_roc = roc_auc_score(y_test_reshaped.flatten(), y_prob)"
   ]
  },
  {
   "cell_type": "markdown",
   "id": "cf922ccf",
   "metadata": {},
   "source": [
    "## Evaluation"
   ]
  },
  {
   "cell_type": "code",
   "execution_count": 443,
   "id": "75d9bc13",
   "metadata": {},
   "outputs": [
    {
     "data": {
      "text/plain": [
       "{'Train_Start': Timestamp('1998-09-30 00:00:00'),\n",
       " 'Train_End': Timestamp('2013-09-30 00:00:00'),\n",
       " 'Val_Start': Timestamp('2013-12-31 00:00:00'),\n",
       " 'Val_End': Timestamp('2015-09-30 00:00:00'),\n",
       " 'Test_Start': Timestamp('2015-12-31 00:00:00'),\n",
       " 'Test_End': Timestamp('2019-12-31 00:00:00'),\n",
       " 'Confusion_Matrix': array([[128,  35],\n",
       "        [  1,   1]]),\n",
       " 'Precision': 0.027777777777777776,\n",
       " 'Recall': 0.5,\n",
       " 'F1': 0.05263157894736842,\n",
       " 'Accuracy': 0.7818181818181819,\n",
       " 'RMSE': 0.46709936649691375,\n",
       " 'MAPE': nan,\n",
       " 'AUC-ROC': 0.5306748466257669,\n",
       " 'False Positive Rate': array([0.        , 0.00613497, 0.1595092 , 0.1595092 , 0.7791411 ,\n",
       "        0.7791411 , 1.        ]),\n",
       " 'True Positive Rate': array([0. , 0. , 0. , 0.5, 0.5, 1. , 1. ])}"
      ]
     },
     "execution_count": 443,
     "metadata": {},
     "output_type": "execute_result"
    }
   ],
   "source": [
    "evaluation_result = {\n",
    "    'Train_Start': pd.to_datetime(train_quarters).min(),\n",
    "    'Train_End': pd.to_datetime(train_quarters).max(),\n",
    "    'Val_Start': pd.to_datetime(val_quarters).min(),\n",
    "    'Val_End': pd.to_datetime(val_quarters).max(),\n",
    "    'Test_Start': pd.to_datetime(test_quarters).min(),\n",
    "    'Test_End': pd.to_datetime(test_quarters).max(),\n",
    "    'Confusion_Matrix': conf_matrix, #[[TN, FP],[FN,TP]]\n",
    "    'Precision': precision, \n",
    "    'Recall': recall, \n",
    "    'F1': f1, \n",
    "    'Accuracy': accuracy, \n",
    "    'RMSE': rmse,\n",
    "    'MAPE': mape,\n",
    "    'AUC-ROC': auc_roc,\n",
    "    'False Positive Rate': fpr,\n",
    "    'True Positive Rate': tpr\n",
    "    }\n",
    "evaluation_result"
   ]
  },
  {
   "cell_type": "code",
   "execution_count": 444,
   "id": "b2071dd0",
   "metadata": {},
   "outputs": [
    {
     "data": {
      "text/html": [
       "<div>\n",
       "<style scoped>\n",
       "    .dataframe tbody tr th:only-of-type {\n",
       "        vertical-align: middle;\n",
       "    }\n",
       "\n",
       "    .dataframe tbody tr th {\n",
       "        vertical-align: top;\n",
       "    }\n",
       "\n",
       "    .dataframe thead th {\n",
       "        text-align: right;\n",
       "    }\n",
       "</style>\n",
       "<table border=\"1\" class=\"dataframe\">\n",
       "  <thead>\n",
       "    <tr style=\"text-align: right;\">\n",
       "      <th></th>\n",
       "      <th>Train_Start</th>\n",
       "      <th>Train_End</th>\n",
       "      <th>Val_Start</th>\n",
       "      <th>Val_End</th>\n",
       "      <th>Test_Start</th>\n",
       "      <th>Test_End</th>\n",
       "      <th>Confusion_Matrix</th>\n",
       "      <th>Precision</th>\n",
       "      <th>Recall</th>\n",
       "      <th>F1</th>\n",
       "      <th>Accuracy</th>\n",
       "      <th>RMSE</th>\n",
       "      <th>MAPE</th>\n",
       "      <th>AUC-ROC</th>\n",
       "      <th>False Positive Rate</th>\n",
       "      <th>True Positive Rate</th>\n",
       "    </tr>\n",
       "  </thead>\n",
       "  <tbody>\n",
       "    <tr>\n",
       "      <th>0</th>\n",
       "      <td>1998-09-30</td>\n",
       "      <td>2013-09-30</td>\n",
       "      <td>2013-12-31</td>\n",
       "      <td>2015-09-30</td>\n",
       "      <td>2015-12-31</td>\n",
       "      <td>2019-12-31</td>\n",
       "      <td>[[128, 35], [1, 1]]</td>\n",
       "      <td>0.027778</td>\n",
       "      <td>0.5</td>\n",
       "      <td>0.052632</td>\n",
       "      <td>0.781818</td>\n",
       "      <td>0.467099</td>\n",
       "      <td>NaN</td>\n",
       "      <td>0.530675</td>\n",
       "      <td>[0.0, 0.006134969325153374, 0.1595092024539877...</td>\n",
       "      <td>[0.0, 0.0, 0.0, 0.5, 0.5, 1.0, 1.0]</td>\n",
       "    </tr>\n",
       "  </tbody>\n",
       "</table>\n",
       "</div>"
      ],
      "text/plain": [
       "  Train_Start  Train_End  Val_Start    Val_End Test_Start   Test_End  \\\n",
       "0  1998-09-30 2013-09-30 2013-12-31 2015-09-30 2015-12-31 2019-12-31   \n",
       "\n",
       "      Confusion_Matrix  Precision  Recall        F1  Accuracy      RMSE  MAPE  \\\n",
       "0  [[128, 35], [1, 1]]   0.027778     0.5  0.052632  0.781818  0.467099   NaN   \n",
       "\n",
       "    AUC-ROC                                False Positive Rate  \\\n",
       "0  0.530675  [0.0, 0.006134969325153374, 0.1595092024539877...   \n",
       "\n",
       "                    True Positive Rate  \n",
       "0  [0.0, 0.0, 0.0, 0.5, 0.5, 1.0, 1.0]  "
      ]
     },
     "execution_count": 444,
     "metadata": {},
     "output_type": "execute_result"
    }
   ],
   "source": [
    "evaluation = []\n",
    "evaluation.append(evaluation_result)\n",
    "evaluation_df = pd.DataFrame(evaluation)\n",
    "evaluation_df.to_csv('./evaluation_result/' + f\"evaluation_Log_Regression_features.csv\", index=False)\n",
    "evaluation_df"
   ]
  },
  {
   "cell_type": "code",
   "execution_count": null,
   "id": "a68de453",
   "metadata": {},
   "outputs": [],
   "source": []
  }
 ],
 "metadata": {
  "kernelspec": {
   "display_name": "Python 3 (ipykernel)",
   "language": "python",
   "name": "python3"
  },
  "language_info": {
   "codemirror_mode": {
    "name": "ipython",
    "version": 3
   },
   "file_extension": ".py",
   "mimetype": "text/x-python",
   "name": "python",
   "nbconvert_exporter": "python",
   "pygments_lexer": "ipython3",
   "version": "3.10.5"
  }
 },
 "nbformat": 4,
 "nbformat_minor": 5
}
