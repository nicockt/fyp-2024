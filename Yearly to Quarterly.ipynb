{
 "cells": [
  {
   "cell_type": "code",
   "execution_count": 23,
   "id": "4fa8cc69",
   "metadata": {},
   "outputs": [],
   "source": [
    "import pandas as pd\n",
    "\n",
    "def annual_to_quarterly_percentage_change_series(annual_percentage_changes):\n",
    "\n",
    "    quarterly_percentage_changes = (1 + annual_percentage_changes/100) ** (1/4) - 1\n",
    "\n",
    "    return quarterly_percentage_changes"
   ]
  },
  {
   "cell_type": "code",
   "execution_count": 35,
   "id": "3f0a4633",
   "metadata": {},
   "outputs": [],
   "source": [
    "import pandas as pd\n",
    "\n",
    "country = ['US','UK','HK','Japan','China','Switzerland','India','Germany','France','Brazil']\n",
    "\n",
    "directory = \"./data/Features_Micro/\"\n",
    "\n",
    "for i in range(len(Country)):\n",
    "    file_path = os.path.join(directory, f\"reserve_{country[i]}.csv\")\n",
    "    \n",
    "    df = pd.read_csv(file_path)\n",
    "    \n",
    "    df['YOY (%)'] = annual_to_quarterly_percentage_change_series(df['YOY (%)'])\n",
    "\n",
    "    df['Date'] = pd.to_datetime(df['Date'])\n",
    "\n",
    "    df.set_index('Date', inplace=True)\n",
    "\n",
    "    df_quarterly = df.resample('Q').ffill()\n",
    "\n",
    "    df_quarterly_interpolated = df_quarterly.interpolate(method='linear')\n",
    "\n",
    "    df_quarterly_interpolated.reset_index(inplace=True)\n",
    "\n",
    "    df_quarterly_interpolated['Quarter'] = df_quarterly_interpolated['Date'].dt.to_period('Q').astype(str)\n",
    "    df_quarterly_interpolated['Quarter'] = df_quarterly_interpolated['Quarter'].apply(lambda x: x[4:] + ' ' + x[:-2])\n",
    "\n",
    "    df_quarterly_interpolated.rename(columns={'YOY (%)': 'Percentage Change'}, inplace=True)\n",
    "\n",
    "    df_quarterly_interpolated = df_quarterly_interpolated[['Quarter', 'Percentage Change', 'index']]\n",
    "\n",
    "    df_quarterly_interpolated.to_csv(file_path, index=False)"
   ]
  },
  {
   "cell_type": "code",
   "execution_count": 21,
   "id": "0eb3cc1c",
   "metadata": {},
   "outputs": [
    {
     "name": "stdout",
     "output_type": "stream",
     "text": [
      "./data/Features_Micro/GDP_/GDP_US.csv\n",
      "./data/Features_Micro/GDP_/GDP_UK.csv\n",
      "./data/Features_Micro/GDP_/GDP_HK.csv\n",
      "./data/Features_Micro/GDP_/GDP_Japan.csv\n",
      "./data/Features_Micro/GDP_/GDP_China.csv\n",
      "./data/Features_Micro/GDP_/GDP_Switzerland.csv\n",
      "./data/Features_Micro/GDP_/GDP_India.csv\n",
      "./data/Features_Micro/GDP_/GDP_Germany.csv\n",
      "./data/Features_Micro/GDP_/GDP_France.csv\n",
      "./data/Features_Micro/GDP_/GDP_Brazil.csv\n"
     ]
    }
   ],
   "source": [
    "import pandas as pd\n",
    "\n",
    "country = ['US','UK','HK','Japan','China','Switzerland','India','Germany','France','Brazil']\n",
    "\n",
    "directory = \"./data/Features_Micro/\"\n",
    "\n",
    "for i in range(len(Country)):\n",
    "    file_path = os.path.join(directory, f\"current_acct_{country[i]}.csv\")\n",
    "    \n",
    "    df = pd.read_csv(file_path)\n",
    "    \n",
    "    df.rename(columns={'Percentage Change': 'Value'}, inplace=True)\n",
    "    \n",
    "    df['Percentage Change'] = df.pct_change(2)\n",
    "\n",
    "    df_quarterly_interpolated.to_csv(file_path, index=False)"
   ]
  },
  {
   "cell_type": "code",
   "execution_count": null,
   "id": "7fb7e616",
   "metadata": {},
   "outputs": [],
   "source": []
  }
 ],
 "metadata": {
  "kernelspec": {
   "display_name": "Python 3 (ipykernel)",
   "language": "python",
   "name": "python3"
  },
  "language_info": {
   "codemirror_mode": {
    "name": "ipython",
    "version": 3
   },
   "file_extension": ".py",
   "mimetype": "text/x-python",
   "name": "python",
   "nbconvert_exporter": "python",
   "pygments_lexer": "ipython3",
   "version": "3.11.4"
  }
 },
 "nbformat": 4,
 "nbformat_minor": 5
}
