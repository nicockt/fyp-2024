{
 "cells": [
  {
   "cell_type": "code",
   "execution_count": 11,
   "id": "f65cc283",
   "metadata": {},
   "outputs": [
    {
     "name": "stdout",
     "output_type": "stream",
     "text": [
      "Requirement already satisfied: imbalanced-learn in /Users/elroylo/anaconda3/lib/python3.11/site-packages (0.11.0)\n",
      "Requirement already satisfied: numpy>=1.17.3 in /Users/elroylo/anaconda3/lib/python3.11/site-packages (from imbalanced-learn) (1.24.3)\n",
      "Requirement already satisfied: scipy>=1.5.0 in /Users/elroylo/anaconda3/lib/python3.11/site-packages (from imbalanced-learn) (1.10.1)\n",
      "Requirement already satisfied: scikit-learn>=1.0.2 in /Users/elroylo/anaconda3/lib/python3.11/site-packages (from imbalanced-learn) (1.3.2)\n",
      "Requirement already satisfied: joblib>=1.1.1 in /Users/elroylo/anaconda3/lib/python3.11/site-packages (from imbalanced-learn) (1.2.0)\n",
      "Requirement already satisfied: threadpoolctl>=2.0.0 in /Users/elroylo/anaconda3/lib/python3.11/site-packages (from imbalanced-learn) (2.2.0)\n",
      "Note: you may need to restart the kernel to use updated packages.\n"
     ]
    }
   ],
   "source": [
    "pip install imbalanced-learn"
   ]
  },
  {
   "cell_type": "code",
   "execution_count": 1,
   "id": "3d9b0ff9",
   "metadata": {},
   "outputs": [],
   "source": [
    "import pandas as pd\n",
    "import numpy as np\n",
    "import matplotlib.pyplot as plt\n",
    "from matplotlib import gridspec\n",
    "from sklearn.model_selection import train_test_split\n",
    "from sklearn.preprocessing import StandardScaler\n",
    "from sklearn.linear_model import LogisticRegression\n",
    "from sklearn.metrics import classification_report, confusion_matrix, accuracy_score\n",
    "from sklearn.model_selection import GridSearchCV, cross_val_score\n",
    "from sklearn.metrics import roc_auc_score, roc_curve\n",
    "from pylab import rcParams\n",
    "from imblearn.over_sampling import SMOTE, ADASYN\n",
    "from sklearn.impute import SimpleImputer\n",
    "from imblearn.combine import SMOTETomek\n",
    "from imblearn.over_sampling import RandomOverSampler\n",
    "from imblearn.under_sampling import RandomUnderSampler\n",
    "import pickle\n",
    "import importlib\n",
    "import sys\n",
    "import warnings\n",
    "if not sys.warnoptions:\n",
    "    warnings.simplefilter(\"ignore\")\n",
    "from sklearn.feature_selection import SelectKBest, chi2\n",
    "from sklearn.preprocessing import MinMaxScaler\n",
    "from imblearn.over_sampling import SMOTE"
   ]
  },
  {
   "cell_type": "code",
   "execution_count": 2,
   "id": "8e1c1d8e",
   "metadata": {},
   "outputs": [],
   "source": [
    "# Load the labeled index data from csv\n",
    "labeled_index_df = pd.read_csv(\"./data/merge_file.csv\")"
   ]
  },
  {
   "cell_type": "markdown",
   "id": "9b6b1c57",
   "metadata": {},
   "source": [
    "## Build the model"
   ]
  },
  {
   "cell_type": "code",
   "execution_count": 3,
   "id": "0f55bd83",
   "metadata": {},
   "outputs": [
    {
     "name": "stdout",
     "output_type": "stream",
     "text": [
      "['price_change', 'volume_change', 'volatility', '1m_crash_label', 'Total_Equity_Risk_Premium_US', 'Population_US', 'Unemployment_US', 'Inflation_Rate_US', 'housing_US', 'Long-Term_Government_Bond Yields_US', 'turnover_US', 'Recession_Indicators_US', 'GDP_US', 'Recession_Indicators_UK', 'FX_Rate_UK', 'GDP_UK', 'housing_UK', 'Long-Term_Government_Bond Yields_UK', 'turnover_UK', 'Inflation_Rate_UK', 'Unemployment_UK', 'Total_Equity_Risk_Premium_UK', 'Population_UK', 'Unemployment_HK', 'Total_Equity_Risk_Premium_HK', 'Population_HK', 'Recession_Indicators_HK', 'FX_Rate_HK', 'GDP_HK', 'housing_HK', 'Long-Term_Government_Bond Yields_HK', 'turnover_HK', 'Inflation_Rate_HK', 'FX_Rate_Japan', 'Inflation_Rate_Japan', 'Recession_Indicators_Japan', 'Unemployment_Japan', 'Total_Equity_Risk_Premium_Japan', 'turnover_Japan', 'GDP_Japan', 'housing_Japan', 'Population_Japan', 'Long-Term_Government_Bond Yields_Japan', 'Long-Term_Government_Bond Yields_China', 'Population_China', 'housing_China', 'GDP_China', 'turnover_China', 'Total_Equity_Risk_Premium_China', 'Unemployment_China', 'Recession_Indicators_China', 'Inflation_Rate_China', 'FX_Rate_China', 'Population_Switzerland', 'housing_Switzerland', 'Total_Equity_Risk_Premium_Switzerland', 'Recession_Indicators_Switzerland', 'Long-Term_Government_Bond Yields_Switzerland', 'turnover_Switzerland', 'Unemployment_Switzerland', 'GDP_Switzerland', 'FX_Rate_Switzerland', 'Inflation_Rate_Switzerland', 'Recession_Indicators_India', 'FX_Rate_India', 'Inflation_Rate_India', 'Total_Equity_Risk_Premium_India', 'Unemployment_India', 'turnover_India', 'Long-Term_Government_Bond Yields_India', 'GDP_India', 'Population_India', 'housing_India', 'Inflation_Rate_Germany', 'turnover_Germany', 'GDP_Germany', 'Recession_Indicators_Germany', 'Total_Equity_Risk_Premium_Germany', 'FX_Rate_Germany', 'Population_Germany', 'Long-Term_Government_Bond Yields_Germany', 'Unemployment_Germany', 'housing_Germany', 'Population_France', 'housing_France', 'Long-Term_Government_Bond Yields_France', 'turnover_France', 'Unemployment_France', 'Total_Equity_Risk_Premium_France', 'Recession_Indicators_France', 'FX_Rate_France', 'Inflation_Rate_France', 'GDP_France', 'GDP_Brazil', 'Inflation_Rate_Brazil', 'Recession_Indicators_Brazil', 'FX_Rate_Brazil', 'Unemployment_Brazil', 'Total_Equity_Risk_Premium_Brazil', 'turnover_Brazil', 'Population_Brazil', 'housing_Brazil', 'Crude_Oil_Index_Excess_Return_All', 'TEDRATE_All', 'Goldprice_Monthly', '10-Year_Treasury_Constant_Maturity_Rate_All', 'Federal_Funds_Effective_Rate_All_x', 'Federal_Funds_Effective_Rate_All_y']\n"
     ]
    }
   ],
   "source": [
    "# Set up datasets\n",
    "exclude_col = ['Date_modified','index','price','volume','date','1m_crash_label','3m_crash_label','crash_label','6m_crash_label', 'Date_y', 'Date_x']\n",
    "X = labeled_index_df.drop(exclude_col, axis=1)\n",
    "y = labeled_index_df['1m_crash_label']\n",
    "\n",
    "feature_names = list(X.columns)\n",
    "print(feature_names)\n",
    "# Determine non-numeric attribute names\n",
    "for feature in feature_names:\n",
    "    X[feature] = X[feature].astype('float64')"
   ]
  },
  {
   "cell_type": "code",
   "execution_count": 4,
   "id": "0df865da",
   "metadata": {},
   "outputs": [],
   "source": [
    "# Handle extreme value\n",
    "X[~np.isfinite(X)] = np.finfo(np.float64).max\n",
    "X = np.clip(X, -1e6, 1e6) \n",
    "\n",
    "# Handle NaN\n",
    "imputer = SimpleImputer(strategy='mean')\n",
    "X = imputer.fit_transform(X)"
   ]
  },
  {
   "cell_type": "code",
   "execution_count": 5,
   "id": "c3ec7aab",
   "metadata": {},
   "outputs": [],
   "source": [
    "# Split the training and testing data\n",
    "X_train, X_test, y_train, y_test = train_test_split(X, y, test_size=0.2, random_state=0)"
   ]
  },
  {
   "cell_type": "code",
   "execution_count": 6,
   "id": "b6f9efb0",
   "metadata": {},
   "outputs": [],
   "source": [
    "# Oversample the minority class (1) using SMOTE\n",
    "oversampler = SMOTE(sampling_strategy=0.5, random_state=42)\n",
    "X_train_oversampled, y_train_oversampled = oversampler.fit_resample(X_train, y_train)\n",
    "\n",
    "# Undersample the majority class (0) using RandomUnderSampler\n",
    "undersampler = RandomUnderSampler(sampling_strategy=1.0, random_state=42)\n",
    "X_train_resampled, y_train_resampled = undersampler.fit_resample(X_train_oversampled, y_train_oversampled)"
   ]
  },
  {
   "cell_type": "code",
   "execution_count": 7,
   "id": "336ca963",
   "metadata": {},
   "outputs": [
    {
     "name": "stdout",
     "output_type": "stream",
     "text": [
      "Fitting 5 folds for each of 20 candidates, totalling 100 fits\n",
      "[CV] END ....................C=0.001, penalty=l1, solver=sag; total time=   2.5s\n",
      "[CV] END ....................C=0.001, penalty=l1, solver=sag; total time=   2.0s\n",
      "[CV] END ....................C=0.001, penalty=l1, solver=sag; total time=   0.9s\n",
      "[CV] END ....................C=0.001, penalty=l1, solver=sag; total time=   1.1s\n",
      "[CV] END ....................C=0.001, penalty=l1, solver=sag; total time=   1.3s\n",
      "[CV] END ...................C=0.001, penalty=l1, solver=saga; total time= 1.3min\n",
      "[CV] END ...................C=0.001, penalty=l1, solver=saga; total time= 1.0min\n",
      "[CV] END ...................C=0.001, penalty=l1, solver=saga; total time= 1.1min\n",
      "[CV] END ...................C=0.001, penalty=l1, solver=saga; total time=  59.8s\n",
      "[CV] END ...................C=0.001, penalty=l1, solver=saga; total time=  56.5s\n",
      "[CV] END ....................C=0.001, penalty=l2, solver=sag; total time=  23.1s\n",
      "[CV] END ....................C=0.001, penalty=l2, solver=sag; total time=  30.0s\n",
      "[CV] END ....................C=0.001, penalty=l2, solver=sag; total time=  29.7s\n",
      "[CV] END ....................C=0.001, penalty=l2, solver=sag; total time=  31.6s\n",
      "[CV] END ....................C=0.001, penalty=l2, solver=sag; total time=  27.3s\n",
      "[CV] END ...................C=0.001, penalty=l2, solver=saga; total time=  41.2s\n",
      "[CV] END ...................C=0.001, penalty=l2, solver=saga; total time=  37.3s\n",
      "[CV] END ...................C=0.001, penalty=l2, solver=saga; total time=  35.9s\n",
      "[CV] END ...................C=0.001, penalty=l2, solver=saga; total time=  33.7s\n",
      "[CV] END ...................C=0.001, penalty=l2, solver=saga; total time=  36.0s\n",
      "[CV] END .....................C=0.01, penalty=l1, solver=sag; total time=   0.8s\n",
      "[CV] END .....................C=0.01, penalty=l1, solver=sag; total time=   0.9s\n",
      "[CV] END .....................C=0.01, penalty=l1, solver=sag; total time=   0.8s\n",
      "[CV] END .....................C=0.01, penalty=l1, solver=sag; total time=   0.7s\n",
      "[CV] END .....................C=0.01, penalty=l1, solver=sag; total time=   0.7s\n",
      "[CV] END ....................C=0.01, penalty=l1, solver=saga; total time= 4.0min\n",
      "[CV] END ....................C=0.01, penalty=l1, solver=saga; total time= 4.2min\n",
      "[CV] END ....................C=0.01, penalty=l1, solver=saga; total time= 4.2min\n",
      "[CV] END ....................C=0.01, penalty=l1, solver=saga; total time= 4.1min\n",
      "[CV] END ....................C=0.01, penalty=l1, solver=saga; total time= 3.7min\n",
      "[CV] END .....................C=0.01, penalty=l2, solver=sag; total time= 1.6min\n",
      "[CV] END .....................C=0.01, penalty=l2, solver=sag; total time= 1.4min\n",
      "[CV] END .....................C=0.01, penalty=l2, solver=sag; total time= 1.7min\n",
      "[CV] END .....................C=0.01, penalty=l2, solver=sag; total time= 1.6min\n",
      "[CV] END .....................C=0.01, penalty=l2, solver=sag; total time= 1.8min\n",
      "[CV] END ....................C=0.01, penalty=l2, solver=saga; total time= 2.1min\n",
      "[CV] END ....................C=0.01, penalty=l2, solver=saga; total time= 2.2min\n",
      "[CV] END ....................C=0.01, penalty=l2, solver=saga; total time= 2.1min\n",
      "[CV] END ....................C=0.01, penalty=l2, solver=saga; total time= 1.9min\n",
      "[CV] END ....................C=0.01, penalty=l2, solver=saga; total time= 1.8min\n",
      "[CV] END ......................C=0.1, penalty=l1, solver=sag; total time=   3.3s\n",
      "[CV] END ......................C=0.1, penalty=l1, solver=sag; total time=   1.0s\n",
      "[CV] END ......................C=0.1, penalty=l1, solver=sag; total time=   0.8s\n",
      "[CV] END ......................C=0.1, penalty=l1, solver=sag; total time=   0.8s\n",
      "[CV] END ......................C=0.1, penalty=l1, solver=sag; total time=   0.7s\n",
      "[CV] END .....................C=0.1, penalty=l1, solver=saga; total time= 4.1min\n",
      "[CV] END .....................C=0.1, penalty=l1, solver=saga; total time= 4.1min\n",
      "[CV] END .....................C=0.1, penalty=l1, solver=saga; total time= 4.2min\n",
      "[CV] END .....................C=0.1, penalty=l1, solver=saga; total time= 4.3min\n",
      "[CV] END .....................C=0.1, penalty=l1, solver=saga; total time= 4.2min\n",
      "[CV] END ......................C=0.1, penalty=l2, solver=sag; total time= 3.7min\n",
      "[CV] END ......................C=0.1, penalty=l2, solver=sag; total time= 3.9min\n",
      "[CV] END ......................C=0.1, penalty=l2, solver=sag; total time= 3.5min\n",
      "[CV] END ......................C=0.1, penalty=l2, solver=sag; total time= 3.5min\n",
      "[CV] END ......................C=0.1, penalty=l2, solver=sag; total time= 3.5min\n",
      "[CV] END .....................C=0.1, penalty=l2, solver=saga; total time= 3.7min\n",
      "[CV] END .....................C=0.1, penalty=l2, solver=saga; total time= 3.8min\n",
      "[CV] END .....................C=0.1, penalty=l2, solver=saga; total time= 3.8min\n",
      "[CV] END .....................C=0.1, penalty=l2, solver=saga; total time= 3.8min\n",
      "[CV] END .....................C=0.1, penalty=l2, solver=saga; total time= 3.7min\n",
      "[CV] END ........................C=1, penalty=l1, solver=sag; total time=   2.0s\n",
      "[CV] END ........................C=1, penalty=l1, solver=sag; total time=   1.4s\n",
      "[CV] END ........................C=1, penalty=l1, solver=sag; total time=   1.1s\n",
      "[CV] END ........................C=1, penalty=l1, solver=sag; total time=   0.8s\n",
      "[CV] END ........................C=1, penalty=l1, solver=sag; total time=   0.8s\n",
      "[CV] END .......................C=1, penalty=l1, solver=saga; total time= 4.1min\n",
      "[CV] END .......................C=1, penalty=l1, solver=saga; total time= 4.1min\n",
      "[CV] END .......................C=1, penalty=l1, solver=saga; total time= 4.1min\n",
      "[CV] END .......................C=1, penalty=l1, solver=saga; total time= 4.1min\n",
      "[CV] END .......................C=1, penalty=l1, solver=saga; total time= 4.2min\n",
      "[CV] END ........................C=1, penalty=l2, solver=sag; total time= 2.8min\n",
      "[CV] END ........................C=1, penalty=l2, solver=sag; total time= 2.4min\n",
      "[CV] END ........................C=1, penalty=l2, solver=sag; total time= 2.6min\n",
      "[CV] END ........................C=1, penalty=l2, solver=sag; total time= 2.4min\n",
      "[CV] END ........................C=1, penalty=l2, solver=sag; total time= 1.8min\n",
      "[CV] END .......................C=1, penalty=l2, solver=saga; total time= 3.8min\n",
      "[CV] END .......................C=1, penalty=l2, solver=saga; total time= 3.9min\n",
      "[CV] END .......................C=1, penalty=l2, solver=saga; total time= 3.7min\n",
      "[CV] END .......................C=1, penalty=l2, solver=saga; total time= 3.7min\n",
      "[CV] END .......................C=1, penalty=l2, solver=saga; total time= 3.9min\n",
      "[CV] END .......................C=10, penalty=l1, solver=sag; total time=   7.7s\n",
      "[CV] END .......................C=10, penalty=l1, solver=sag; total time=   1.0s\n",
      "[CV] END .......................C=10, penalty=l1, solver=sag; total time=   0.9s\n",
      "[CV] END .......................C=10, penalty=l1, solver=sag; total time=   1.1s\n",
      "[CV] END .......................C=10, penalty=l1, solver=sag; total time=   0.9s\n",
      "[CV] END ......................C=10, penalty=l1, solver=saga; total time= 4.3min\n",
      "[CV] END ......................C=10, penalty=l1, solver=saga; total time= 4.4min\n",
      "[CV] END ......................C=10, penalty=l1, solver=saga; total time= 4.3min\n",
      "[CV] END ......................C=10, penalty=l1, solver=saga; total time= 4.4min\n",
      "[CV] END ......................C=10, penalty=l1, solver=saga; total time= 4.5min\n",
      "[CV] END .......................C=10, penalty=l2, solver=sag; total time= 3.7min\n",
      "[CV] END .......................C=10, penalty=l2, solver=sag; total time= 3.8min\n",
      "[CV] END .......................C=10, penalty=l2, solver=sag; total time= 3.8min\n",
      "[CV] END .......................C=10, penalty=l2, solver=sag; total time= 3.6min\n",
      "[CV] END .......................C=10, penalty=l2, solver=sag; total time= 3.6min\n",
      "[CV] END ......................C=10, penalty=l2, solver=saga; total time= 3.8min\n",
      "[CV] END ......................C=10, penalty=l2, solver=saga; total time= 3.8min\n",
      "[CV] END ......................C=10, penalty=l2, solver=saga; total time= 3.8min\n",
      "[CV] END ......................C=10, penalty=l2, solver=saga; total time= 3.8min\n",
      "[CV] END ......................C=10, penalty=l2, solver=saga; total time= 3.7min\n",
      "Best Score: 1.0\n",
      "Grid search completed successfully.\n"
     ]
    }
   ],
   "source": [
    "scaler = StandardScaler()\n",
    "X_train_scaled = scaler.fit_transform(X_train_resampled)\n",
    "\n",
    "param_grid = {\n",
    "    \"penalty\": ['l1','l2'],\n",
    "    'C': [0.0001,0.001,0.01, 0.1, 1, 10],\n",
    "    'solver': ['sag', 'saga']\n",
    "}\n",
    "\n",
    "grid_search = GridSearchCV(LogisticRegression(), param_grid, cv=5,verbose=2)\n",
    "\n",
    "try:\n",
    "    grid_search.fit(X_train_scaled, y_train_resampled)\n",
    "    best_params = grid_search.best_params_\n",
    "    best_score = grid_search.best_score_\n",
    "    print(f\"Best Score: {best_score}\")\n",
    "    print(\"Grid search completed successfully.\")\n",
    "except Exception as e:\n",
    "    print(\"Error occurred during grid search:\")\n",
    "    print(e)"
   ]
  },
  {
   "cell_type": "code",
   "execution_count": 8,
   "id": "dcf2503f",
   "metadata": {
    "scrolled": true
   },
   "outputs": [
    {
     "data": {
      "text/html": [
       "<style>#sk-container-id-1 {color: black;}#sk-container-id-1 pre{padding: 0;}#sk-container-id-1 div.sk-toggleable {background-color: white;}#sk-container-id-1 label.sk-toggleable__label {cursor: pointer;display: block;width: 100%;margin-bottom: 0;padding: 0.3em;box-sizing: border-box;text-align: center;}#sk-container-id-1 label.sk-toggleable__label-arrow:before {content: \"▸\";float: left;margin-right: 0.25em;color: #696969;}#sk-container-id-1 label.sk-toggleable__label-arrow:hover:before {color: black;}#sk-container-id-1 div.sk-estimator:hover label.sk-toggleable__label-arrow:before {color: black;}#sk-container-id-1 div.sk-toggleable__content {max-height: 0;max-width: 0;overflow: hidden;text-align: left;background-color: #f0f8ff;}#sk-container-id-1 div.sk-toggleable__content pre {margin: 0.2em;color: black;border-radius: 0.25em;background-color: #f0f8ff;}#sk-container-id-1 input.sk-toggleable__control:checked~div.sk-toggleable__content {max-height: 200px;max-width: 100%;overflow: auto;}#sk-container-id-1 input.sk-toggleable__control:checked~label.sk-toggleable__label-arrow:before {content: \"▾\";}#sk-container-id-1 div.sk-estimator input.sk-toggleable__control:checked~label.sk-toggleable__label {background-color: #d4ebff;}#sk-container-id-1 div.sk-label input.sk-toggleable__control:checked~label.sk-toggleable__label {background-color: #d4ebff;}#sk-container-id-1 input.sk-hidden--visually {border: 0;clip: rect(1px 1px 1px 1px);clip: rect(1px, 1px, 1px, 1px);height: 1px;margin: -1px;overflow: hidden;padding: 0;position: absolute;width: 1px;}#sk-container-id-1 div.sk-estimator {font-family: monospace;background-color: #f0f8ff;border: 1px dotted black;border-radius: 0.25em;box-sizing: border-box;margin-bottom: 0.5em;}#sk-container-id-1 div.sk-estimator:hover {background-color: #d4ebff;}#sk-container-id-1 div.sk-parallel-item::after {content: \"\";width: 100%;border-bottom: 1px solid gray;flex-grow: 1;}#sk-container-id-1 div.sk-label:hover label.sk-toggleable__label {background-color: #d4ebff;}#sk-container-id-1 div.sk-serial::before {content: \"\";position: absolute;border-left: 1px solid gray;box-sizing: border-box;top: 0;bottom: 0;left: 50%;z-index: 0;}#sk-container-id-1 div.sk-serial {display: flex;flex-direction: column;align-items: center;background-color: white;padding-right: 0.2em;padding-left: 0.2em;position: relative;}#sk-container-id-1 div.sk-item {position: relative;z-index: 1;}#sk-container-id-1 div.sk-parallel {display: flex;align-items: stretch;justify-content: center;background-color: white;position: relative;}#sk-container-id-1 div.sk-item::before, #sk-container-id-1 div.sk-parallel-item::before {content: \"\";position: absolute;border-left: 1px solid gray;box-sizing: border-box;top: 0;bottom: 0;left: 50%;z-index: -1;}#sk-container-id-1 div.sk-parallel-item {display: flex;flex-direction: column;z-index: 1;position: relative;background-color: white;}#sk-container-id-1 div.sk-parallel-item:first-child::after {align-self: flex-end;width: 50%;}#sk-container-id-1 div.sk-parallel-item:last-child::after {align-self: flex-start;width: 50%;}#sk-container-id-1 div.sk-parallel-item:only-child::after {width: 0;}#sk-container-id-1 div.sk-dashed-wrapped {border: 1px dashed gray;margin: 0 0.4em 0.5em 0.4em;box-sizing: border-box;padding-bottom: 0.4em;background-color: white;}#sk-container-id-1 div.sk-label label {font-family: monospace;font-weight: bold;display: inline-block;line-height: 1.2em;}#sk-container-id-1 div.sk-label-container {text-align: center;}#sk-container-id-1 div.sk-container {/* jupyter's `normalize.less` sets `[hidden] { display: none; }` but bootstrap.min.css set `[hidden] { display: none !important; }` so we also need the `!important` here to be able to override the default hidden behavior on the sphinx rendered scikit-learn.org. See: https://github.com/scikit-learn/scikit-learn/issues/21755 */display: inline-block !important;position: relative;}#sk-container-id-1 div.sk-text-repr-fallback {display: none;}</style><div id=\"sk-container-id-1\" class=\"sk-top-container\"><div class=\"sk-text-repr-fallback\"><pre>LogisticRegression(C=0.001, solver=&#x27;saga&#x27;)</pre><b>In a Jupyter environment, please rerun this cell to show the HTML representation or trust the notebook. <br />On GitHub, the HTML representation is unable to render, please try loading this page with nbviewer.org.</b></div><div class=\"sk-container\" hidden><div class=\"sk-item\"><div class=\"sk-estimator sk-toggleable\"><input class=\"sk-toggleable__control sk-hidden--visually\" id=\"sk-estimator-id-1\" type=\"checkbox\" checked><label for=\"sk-estimator-id-1\" class=\"sk-toggleable__label sk-toggleable__label-arrow\">LogisticRegression</label><div class=\"sk-toggleable__content\"><pre>LogisticRegression(C=0.001, solver=&#x27;saga&#x27;)</pre></div></div></div></div></div>"
      ],
      "text/plain": [
       "LogisticRegression(C=0.001, solver='saga')"
      ]
     },
     "execution_count": 8,
     "metadata": {},
     "output_type": "execute_result"
    }
   ],
   "source": [
    "# Train the model\n",
    "model = LogisticRegression(C=best_params['C'], solver=best_params['solver'])\n",
    "model.fit(X_train_scaled, y_train_resampled)"
   ]
  },
  {
   "cell_type": "markdown",
   "id": "18063ac8",
   "metadata": {},
   "source": [
    "## Model Evaluation \n",
    "- Precision: number of True Positives / (number of True Positives + number of False Positives)\n",
    "- Recall: number of True Positives / (number of True Positives + number of False Negatives)\n",
    "- F1 score: A weighted average of precision and recall, F1 = 2*((precision*recall)/(precision+recall))"
   ]
  },
  {
   "cell_type": "code",
   "execution_count": 9,
   "id": "127f1639",
   "metadata": {
    "scrolled": true
   },
   "outputs": [
    {
     "name": "stdout",
     "output_type": "stream",
     "text": [
      "Accuracy: 0.5909984369525296\n",
      "Confusion Matrix:\n",
      "[[235222 164330]\n",
      " [   260   2607]]\n",
      "\n",
      "Classification Report:\n",
      "              precision    recall  f1-score   support\n",
      "\n",
      "         0.0       1.00      0.59      0.74    399552\n",
      "         1.0       0.02      0.91      0.03      2867\n",
      "\n",
      "    accuracy                           0.59    402419\n",
      "   macro avg       0.51      0.75      0.39    402419\n",
      "weighted avg       0.99      0.59      0.74    402419\n",
      "\n"
     ]
    }
   ],
   "source": [
    "# Evaluate the model\n",
    "y_pred = model.predict(X_test)\n",
    "\n",
    "accuracy = accuracy_score(y_test, y_pred)\n",
    "print(f\"Accuracy: {accuracy}\")\n",
    "print(\"Confusion Matrix:\")\n",
    "print(confusion_matrix(y_test, y_pred))\n",
    "print(\"\\nClassification Report:\")\n",
    "print(classification_report(y_test, y_pred))"
   ]
  },
  {
   "cell_type": "markdown",
   "id": "f31108a2",
   "metadata": {},
   "source": [
    "Problem: low recall and f1 score for crash label 1"
   ]
  },
  {
   "cell_type": "markdown",
   "id": "d19aadfc",
   "metadata": {},
   "source": [
    "## Feature Importance"
   ]
  },
  {
   "cell_type": "code",
   "execution_count": 10,
   "id": "abb33faf",
   "metadata": {},
   "outputs": [
    {
     "name": "stdout",
     "output_type": "stream",
     "text": [
      "Feature: price_change, Importance: -0.06640279952486337\n",
      "Feature: volume_change, Importance: 0.01739631638660989\n",
      "Feature: volatility, Importance: -0.0032150842771522773\n",
      "Feature: 1m_crash_label, Importance: 5.5337297893208515\n",
      "Feature: Total_Equity_Risk_Premium_US, Importance: -0.054852748692079366\n",
      "Feature: Population_US, Importance: -0.03928420741885061\n",
      "Feature: Unemployment_US, Importance: 0.06774175362502936\n",
      "Feature: Inflation_Rate_US, Importance: -0.012716452849194749\n",
      "Feature: housing_US, Importance: 0.0\n",
      "Feature: Long-Term_Government_Bond Yields_US, Importance: -0.016783164034999905\n",
      "Feature: turnover_US, Importance: 0.0\n",
      "Feature: Recession_Indicators_US, Importance: 0.0\n",
      "Feature: GDP_US, Importance: -0.09868071660506166\n",
      "Feature: Recession_Indicators_UK, Importance: 0.0\n",
      "Feature: FX_Rate_UK, Importance: -0.020747511871036548\n",
      "Feature: GDP_UK, Importance: -0.033535179544897535\n",
      "Feature: housing_UK, Importance: 0.0\n",
      "Feature: Long-Term_Government_Bond Yields_UK, Importance: -0.059993558508085645\n",
      "Feature: turnover_UK, Importance: 0.0\n",
      "Feature: Inflation_Rate_UK, Importance: 0.06392437332386705\n",
      "Feature: Unemployment_UK, Importance: 0.0011411087729585108\n",
      "Feature: Total_Equity_Risk_Premium_UK, Importance: 0.0031946325927492488\n",
      "Feature: Population_UK, Importance: -0.08014865214394824\n",
      "Feature: Unemployment_HK, Importance: -0.028084460194508745\n",
      "Feature: Total_Equity_Risk_Premium_HK, Importance: 0.00018622634895712494\n",
      "Feature: Population_HK, Importance: -0.04109839621649184\n",
      "Feature: Recession_Indicators_HK, Importance: 0.0\n",
      "Feature: FX_Rate_HK, Importance: -0.013705644989449834\n",
      "Feature: GDP_HK, Importance: -0.05523347012552963\n",
      "Feature: housing_HK, Importance: 0.0\n",
      "Feature: Long-Term_Government_Bond Yields_HK, Importance: -0.033191715890322326\n",
      "Feature: turnover_HK, Importance: 0.0\n",
      "Feature: Inflation_Rate_HK, Importance: 0.03221721497098673\n",
      "Feature: FX_Rate_Japan, Importance: 0.08592832475084178\n",
      "Feature: Inflation_Rate_Japan, Importance: 0.10641231072105012\n",
      "Feature: Recession_Indicators_Japan, Importance: 0.0\n",
      "Feature: Unemployment_Japan, Importance: -0.030729482112163597\n",
      "Feature: Total_Equity_Risk_Premium_Japan, Importance: 0.014981176959414868\n",
      "Feature: turnover_Japan, Importance: 0.0\n",
      "Feature: GDP_Japan, Importance: 0.02409987859952321\n",
      "Feature: housing_Japan, Importance: 0.0\n",
      "Feature: Population_Japan, Importance: -0.07870196341759848\n",
      "Feature: Long-Term_Government_Bond Yields_Japan, Importance: -0.01069725733327646\n",
      "Feature: Long-Term_Government_Bond Yields_China, Importance: -0.008294544250992356\n",
      "Feature: Population_China, Importance: -0.04687894954673186\n",
      "Feature: housing_China, Importance: 0.0\n",
      "Feature: GDP_China, Importance: -0.045801809197437905\n",
      "Feature: turnover_China, Importance: 0.0\n",
      "Feature: Total_Equity_Risk_Premium_China, Importance: -0.0023055169461252602\n",
      "Feature: Unemployment_China, Importance: -0.008587986662059448\n",
      "Feature: Recession_Indicators_China, Importance: 0.0\n",
      "Feature: Inflation_Rate_China, Importance: -0.04132323951357282\n",
      "Feature: FX_Rate_China, Importance: -0.12333030760708272\n",
      "Feature: Population_Switzerland, Importance: -0.07639060702848359\n",
      "Feature: housing_Switzerland, Importance: 0.0\n",
      "Feature: Total_Equity_Risk_Premium_Switzerland, Importance: -0.00909757944796206\n",
      "Feature: Recession_Indicators_Switzerland, Importance: 0.0\n",
      "Feature: Long-Term_Government_Bond Yields_Switzerland, Importance: 0.024950723765632524\n",
      "Feature: turnover_Switzerland, Importance: 0.0\n",
      "Feature: Unemployment_Switzerland, Importance: -0.01066645544337753\n",
      "Feature: GDP_Switzerland, Importance: -0.02282866304702465\n",
      "Feature: FX_Rate_Switzerland, Importance: -0.13258453812582735\n",
      "Feature: Inflation_Rate_Switzerland, Importance: -0.01282962673768334\n",
      "Feature: Recession_Indicators_India, Importance: 0.0\n",
      "Feature: FX_Rate_India, Importance: 0.04163094920269502\n",
      "Feature: Inflation_Rate_India, Importance: -0.030555016408646645\n",
      "Feature: Total_Equity_Risk_Premium_India, Importance: -0.010228087132039314\n",
      "Feature: Unemployment_India, Importance: -0.012691536893653913\n",
      "Feature: turnover_India, Importance: 0.0\n",
      "Feature: Long-Term_Government_Bond Yields_India, Importance: 0.013543265530576278\n",
      "Feature: GDP_India, Importance: -0.032008079349459165\n",
      "Feature: Population_India, Importance: -0.060922229718994914\n",
      "Feature: housing_India, Importance: 0.0\n",
      "Feature: Inflation_Rate_Germany, Importance: -0.02153772061200727\n",
      "Feature: turnover_Germany, Importance: 0.0\n",
      "Feature: GDP_Germany, Importance: -0.0474800372176346\n",
      "Feature: Recession_Indicators_Germany, Importance: 0.0\n",
      "Feature: Total_Equity_Risk_Premium_Germany, Importance: -0.05318788372526431\n",
      "Feature: FX_Rate_Germany, Importance: -0.12493819625312666\n",
      "Feature: Population_Germany, Importance: -0.03290695133963179\n",
      "Feature: Long-Term_Government_Bond Yields_Germany, Importance: -0.023275785904688283\n",
      "Feature: Unemployment_Germany, Importance: 0.06357307840138156\n",
      "Feature: housing_Germany, Importance: 0.0\n",
      "Feature: Population_France, Importance: -0.07987094239940777\n",
      "Feature: housing_France, Importance: 0.0\n",
      "Feature: Long-Term_Government_Bond Yields_France, Importance: -0.01978797974684914\n",
      "Feature: turnover_France, Importance: 0.0\n",
      "Feature: Unemployment_France, Importance: -0.0009225021670042877\n",
      "Feature: Total_Equity_Risk_Premium_France, Importance: -0.0053418509836270925\n",
      "Feature: Recession_Indicators_France, Importance: 0.0\n",
      "Feature: FX_Rate_France, Importance: -0.0652542880539375\n",
      "Feature: Inflation_Rate_France, Importance: -0.04564092624069976\n",
      "Feature: GDP_France, Importance: -0.01526670647402684\n",
      "Feature: GDP_Brazil, Importance: 0.10027275601027455\n",
      "Feature: Inflation_Rate_Brazil, Importance: -0.10497153587010656\n",
      "Feature: Recession_Indicators_Brazil, Importance: 0.0\n",
      "Feature: FX_Rate_Brazil, Importance: 0.01682127399922796\n",
      "Feature: Unemployment_Brazil, Importance: -0.0191693874381701\n",
      "Feature: Total_Equity_Risk_Premium_Brazil, Importance: 0.00783375248319482\n",
      "Feature: turnover_Brazil, Importance: 0.0\n",
      "Feature: Population_Brazil, Importance: 0.009787155527298854\n",
      "Feature: housing_Brazil, Importance: 0.0\n",
      "Feature: Crude_Oil_Index_Excess_Return_All, Importance: 0.0\n",
      "Feature: TEDRATE_All, Importance: 0.0\n",
      "Feature: Goldprice_Monthly, Importance: 0.0\n",
      "Feature: 10-Year_Treasury_Constant_Maturity_Rate_All, Importance: -0.23868730225606952\n",
      "Feature: Federal_Funds_Effective_Rate_All_x, Importance: 0.0\n",
      "Feature: Federal_Funds_Effective_Rate_All_y, Importance: 0.0\n"
     ]
    },
    {
     "data": {
      "image/png": "[encoded data removed]",
      "text/plain": [
       "<Figure size 800x600 with 1 Axes>"
      ]
     },
     "metadata": {},
     "output_type": "display_data"
    }
   ],
   "source": [
    "feature_importance = model.coef_[0]\n",
    "for name, importance in zip(feature_names, feature_importance):\n",
    "    print(f\"Feature: {name}, Importance: {importance}\")\n",
    "\n",
    "plt.figure(figsize=(8, 6))\n",
    "plt.bar(feature_names, feature_importance)\n",
    "plt.title('Feature Importances in Logistic Regression Model')\n",
    "plt.xlabel('Features')\n",
    "plt.ylabel('Importance')\n",
    "plt.show()"
   ]
  },
  {
   "cell_type": "markdown",
   "id": "b0aaf12e",
   "metadata": {},
   "source": [
    "## K-fold Validation"
   ]
  },
  {
   "cell_type": "code",
   "execution_count": 11,
   "id": "c5da1a64",
   "metadata": {},
   "outputs": [
    {
     "name": "stdout",
     "output_type": "stream",
     "text": [
      "Cross-validation scores: [0.94117589 0.97157199 0.98994086 0.96679588 0.97079653 0.96486738\n",
      " 0.98683458 0.97381827 0.99279356 0.97122395]\n",
      "Average cross-validation score: 0.97\n"
     ]
    }
   ],
   "source": [
    "# Perform 10-fold cross-validation\n",
    "scores = cross_val_score(model, X, y, cv=10)\n",
    "\n",
    "# Print the cross-validation scores\n",
    "print(\"Cross-validation scores: {}\".format(scores))\n",
    "print(\"Average cross-validation score: {:.2f}\".format(scores.mean()))"
   ]
  },
  {
   "cell_type": "markdown",
   "id": "60595505",
   "metadata": {},
   "source": [
    "## Prediction Result"
   ]
  },
  {
   "cell_type": "code",
   "execution_count": 12,
   "id": "3a2eea70",
   "metadata": {},
   "outputs": [
    {
     "name": "stdout",
     "output_type": "stream",
     "text": [
      "Crash Probability: 0.4132294815797949\n"
     ]
    }
   ],
   "source": [
    "y_prob = model.predict_proba(X_test)\n",
    "crash_prob = y_prob[:, 1]\n",
    "print(f\"Crash Probability: {crash_prob.mean()}\")"
   ]
  },
  {
   "cell_type": "markdown",
   "id": "122734b4",
   "metadata": {},
   "source": [
    "## AUC-ROC"
   ]
  },
  {
   "cell_type": "code",
   "execution_count": 13,
   "id": "402603a7",
   "metadata": {
    "scrolled": true
   },
   "outputs": [
    {
     "name": "stdout",
     "output_type": "stream",
     "text": [
      "AUC-ROC Score: 0.8236980065388617\n"
     ]
    },
    {
     "data": {
      "image/png": "[encoded data removed]",
      "text/plain": [
       "<Figure size 640x480 with 1 Axes>"
      ]
     },
     "metadata": {},
     "output_type": "display_data"
    }
   ],
   "source": [
    "auc_roc = roc_auc_score(y_test, y_prob[:, 1])\n",
    "\n",
    "print(\"AUC-ROC Score:\", auc_roc)\n",
    "\n",
    "fpr, tpr, thresholds = roc_curve(y_test, y_prob[:, -1])\n",
    "plt.plot(fpr, tpr, label='ROC curve (area = %0.2f)' % auc_roc)\n",
    "plt.plot([0, 1], [0, 1], 'k--')  # Diagonal line\n",
    "plt.xlabel('False Positive Rate')\n",
    "plt.ylabel('True Positive Rate')\n",
    "plt.title('Receiver Operating Characteristic (ROC) Curve')\n",
    "plt.legend(loc=\"lower right\")\n",
    "plt.show()"
   ]
  },
  {
   "cell_type": "code",
   "execution_count": null,
   "id": "75f20196",
   "metadata": {},
   "outputs": [],
   "source": []
  }
 ],
 "metadata": {
  "kernelspec": {
   "display_name": "Python 3 (ipykernel)",
   "language": "python",
   "name": "python3"
  },
  "language_info": {
   "codemirror_mode": {
    "name": "ipython",
    "version": 3
   },
   "file_extension": ".py",
   "mimetype": "text/x-python",
   "name": "python",
   "nbconvert_exporter": "python",
   "pygments_lexer": "ipython3",
   "version": "3.11.4"
  }
 },
 "nbformat": 4,
 "nbformat_minor": 5
}
