{
 "cells": [
  {
   "cell_type": "code",
   "execution_count": 11,
   "id": "f65cc283",
   "metadata": {},
   "outputs": [
    {
     "name": "stdout",
     "output_type": "stream",
     "text": [
      "Requirement already satisfied: imbalanced-learn in /Users/elroylo/anaconda3/lib/python3.11/site-packages (0.11.0)\n",
      "Requirement already satisfied: numpy>=1.17.3 in /Users/elroylo/anaconda3/lib/python3.11/site-packages (from imbalanced-learn) (1.24.3)\n",
      "Requirement already satisfied: scipy>=1.5.0 in /Users/elroylo/anaconda3/lib/python3.11/site-packages (from imbalanced-learn) (1.10.1)\n",
      "Requirement already satisfied: scikit-learn>=1.0.2 in /Users/elroylo/anaconda3/lib/python3.11/site-packages (from imbalanced-learn) (1.3.2)\n",
      "Requirement already satisfied: joblib>=1.1.1 in /Users/elroylo/anaconda3/lib/python3.11/site-packages (from imbalanced-learn) (1.2.0)\n",
      "Requirement already satisfied: threadpoolctl>=2.0.0 in /Users/elroylo/anaconda3/lib/python3.11/site-packages (from imbalanced-learn) (2.2.0)\n",
      "Note: you may need to restart the kernel to use updated packages.\n"
     ]
    }
   ],
   "source": [
    "pip install imbalanced-learn"
   ]
  },
  {
   "cell_type": "code",
   "execution_count": 33,
   "id": "3d9b0ff9",
   "metadata": {},
   "outputs": [],
   "source": [
    "import pandas as pd\n",
    "import numpy as np\n",
    "import matplotlib.pyplot as plt\n",
    "from matplotlib import gridspec\n",
    "from sklearn.model_selection import train_test_split\n",
    "from sklearn.preprocessing import StandardScaler\n",
    "from sklearn.linear_model import LogisticRegression\n",
    "from sklearn.metrics import classification_report, confusion_matrix, accuracy_score\n",
    "from sklearn.model_selection import GridSearchCV, cross_val_score\n",
    "from sklearn.metrics import roc_auc_score, roc_curve\n",
    "from pylab import rcParams\n",
    "from imblearn.over_sampling import SMOTE, ADASYN\n",
    "from sklearn.impute import SimpleImputer\n",
    "from imblearn.combine import SMOTETomek\n",
    "from imblearn.over_sampling import RandomOverSampler\n",
    "from imblearn.under_sampling import RandomUnderSampler\n",
    "import pickle\n",
    "import importlib\n",
    "import sys\n",
    "import warnings\n",
    "if not sys.warnoptions:\n",
    "    warnings.simplefilter(\"ignore\")\n",
    "from sklearn.feature_selection import SelectKBest, chi2\n",
    "from sklearn.preprocessing import MinMaxScaler\n",
    "from imblearn.over_sampling import SMOTE"
   ]
  },
  {
   "cell_type": "code",
   "execution_count": 2,
   "id": "8e1c1d8e",
   "metadata": {},
   "outputs": [],
   "source": [
    "# Load the labeled index data from csv\n",
    "labeled_index_df = pd.read_csv(\"./data/merge_file.csv\")"
   ]
  },
  {
   "cell_type": "markdown",
   "id": "9b6b1c57",
   "metadata": {},
   "source": [
    "## Build the model"
   ]
  },
  {
   "cell_type": "code",
   "execution_count": 28,
   "id": "0f55bd83",
   "metadata": {},
   "outputs": [
    {
     "name": "stdout",
     "output_type": "stream",
     "text": [
      "['price_change', 'volume_change', 'volatility', '1m_crash_label', 'Total_Equity_Risk_Premium_US', 'Population_US', 'Unemployment_US', 'Inflation_Rate_US', 'housing_US', 'Long-Term_Government_Bond Yields_US', 'turnover_US', 'Recession_Indicators_US', 'GDP_US', 'Recession_Indicators_UK', 'FX_Rate_UK', 'GDP_UK', 'housing_UK', 'Long-Term_Government_Bond Yields_UK', 'turnover_UK', 'Inflation_Rate_UK', 'Unemployment_UK', 'Total_Equity_Risk_Premium_UK', 'Population_UK', 'Unemployment_HK', 'Total_Equity_Risk_Premium_HK', 'Population_HK', 'Recession_Indicators_HK', 'FX_Rate_HK', 'GDP_HK', 'housing_HK', 'Long-Term_Government_Bond Yields_HK', 'turnover_HK', 'Inflation_Rate_HK', 'FX_Rate_Japan', 'Inflation_Rate_Japan', 'Recession_Indicators_Japan', 'Unemployment_Japan', 'Total_Equity_Risk_Premium_Japan', 'turnover_Japan', 'GDP_Japan', 'housing_Japan', 'Population_Japan', 'Long-Term_Government_Bond Yields_Japan', 'Long-Term_Government_Bond Yields_China', 'Population_China', 'housing_China', 'GDP_China', 'turnover_China', 'Total_Equity_Risk_Premium_China', 'Unemployment_China', 'Recession_Indicators_China', 'Inflation_Rate_China', 'FX_Rate_China', 'Population_Switzerland', 'housing_Switzerland', 'Total_Equity_Risk_Premium_Switzerland', 'Recession_Indicators_Switzerland', 'Long-Term_Government_Bond Yields_Switzerland', 'turnover_Switzerland', 'Unemployment_Switzerland', 'GDP_Switzerland', 'FX_Rate_Switzerland', 'Inflation_Rate_Switzerland', 'Recession_Indicators_India', 'FX_Rate_India', 'Inflation_Rate_India', 'Total_Equity_Risk_Premium_India', 'Unemployment_India', 'turnover_India', 'Long-Term_Government_Bond Yields_India', 'GDP_India', 'Population_India', 'housing_India', 'Inflation_Rate_Germany', 'turnover_Germany', 'GDP_Germany', 'Recession_Indicators_Germany', 'Total_Equity_Risk_Premium_Germany', 'FX_Rate_Germany', 'Population_Germany', 'Long-Term_Government_Bond Yields_Germany', 'Unemployment_Germany', 'housing_Germany', 'Population_France', 'housing_France', 'Long-Term_Government_Bond Yields_France', 'turnover_France', 'Unemployment_France', 'Total_Equity_Risk_Premium_France', 'Recession_Indicators_France', 'FX_Rate_France', 'Inflation_Rate_France', 'GDP_France', 'GDP_Brazil', 'Inflation_Rate_Brazil', 'Recession_Indicators_Brazil', 'FX_Rate_Brazil', 'Unemployment_Brazil', 'Total_Equity_Risk_Premium_Brazil', 'turnover_Brazil', 'Population_Brazil', 'housing_Brazil', 'Crude_Oil_Index_Excess_Return_All', 'TEDRATE_All', 'Goldprice_Monthly', '10-Year_Treasury_Constant_Maturity_Rate_All', 'Federal_Funds_Effective_Rate_All_x', 'Federal_Funds_Effective_Rate_All_y']\n"
     ]
    }
   ],
   "source": [
    "# Set up datasets\n",
    "exclude_col = ['Date_modified','index','price','volume','date','3m_crash_label','crash_label','6m_crash_label', 'Date_y', 'Date_x']\n",
    "X = labeled_index_df.drop(exclude_col, axis=1)\n",
    "y = labeled_index_df['1m_crash_label']\n",
    "\n",
    "feature_names = list(X.columns)\n",
    "print(feature_names)\n",
    "# Determine non-numeric attribute names\n",
    "for feature in feature_names:\n",
    "    X[feature] = X[feature].astype('float64')"
   ]
  },
  {
   "cell_type": "code",
   "execution_count": 29,
   "id": "0df865da",
   "metadata": {},
   "outputs": [],
   "source": [
    "# Handle extreme value\n",
    "X[~np.isfinite(X)] = np.finfo(np.float64).max\n",
    "X = np.clip(X, -1e6, 1e6) \n",
    "\n",
    "# Handle NaN\n",
    "imputer = SimpleImputer(strategy='mean')\n",
    "X = imputer.fit_transform(X)"
   ]
  },
  {
   "cell_type": "code",
   "execution_count": 37,
   "id": "c3ec7aab",
   "metadata": {},
   "outputs": [],
   "source": [
    "# Split the training and testing data\n",
    "X_train, X_test, y_train, y_test = train_test_split(X, y, test_size=0.2, random_state=0)"
   ]
  },
  {
   "cell_type": "code",
   "execution_count": 38,
   "id": "b6f9efb0",
   "metadata": {},
   "outputs": [],
   "source": [
    "under_sampler = RandomUnderSampler(sampling_strategy='auto')  # or other values\n",
    "over_sampler = RandomOverSampler(sampling_strategy='auto')  # or other values\n",
    "\n",
    "X_train_resampled, y_train_resampled = under_sampler.fit_resample(X_train, y_train)\n",
    "X_train_resampled, y_train_resampled = under_sampler.fit_resample(X_train, y_train)"
   ]
  },
  {
   "cell_type": "code",
   "execution_count": 39,
   "id": "336ca963",
   "metadata": {},
   "outputs": [
    {
     "name": "stdout",
     "output_type": "stream",
     "text": [
      "Fitting 5 folds for each of 16 candidates, totalling 80 fits\n",
      "[CV] END .....................C=0.01, penalty=l1, solver=sag; total time=   3.1s\n",
      "[CV] END .....................C=0.01, penalty=l1, solver=sag; total time=   2.9s\n",
      "[CV] END .....................C=0.01, penalty=l1, solver=sag; total time=   0.7s\n",
      "[CV] END .....................C=0.01, penalty=l1, solver=sag; total time=   0.7s\n",
      "[CV] END .....................C=0.01, penalty=l1, solver=sag; total time=   0.7s\n",
      "[CV] END ....................C=0.01, penalty=l1, solver=saga; total time= 5.5min\n",
      "[CV] END ....................C=0.01, penalty=l1, solver=saga; total time=  28.6s\n",
      "[CV] END ....................C=0.01, penalty=l1, solver=saga; total time= 4.5min\n",
      "[CV] END ....................C=0.01, penalty=l1, solver=saga; total time= 4.6min\n",
      "[CV] END ....................C=0.01, penalty=l1, solver=saga; total time= 4.6min\n",
      "[CV] END .....................C=0.01, penalty=l2, solver=sag; total time= 4.1min\n",
      "[CV] END .....................C=0.01, penalty=l2, solver=sag; total time= 4.3min\n",
      "[CV] END .....................C=0.01, penalty=l2, solver=sag; total time= 4.2min\n",
      "[CV] END .....................C=0.01, penalty=l2, solver=sag; total time= 3.8min\n",
      "[CV] END .....................C=0.01, penalty=l2, solver=sag; total time= 3.7min\n",
      "[CV] END ....................C=0.01, penalty=l2, solver=saga; total time= 3.9min\n",
      "[CV] END ....................C=0.01, penalty=l2, solver=saga; total time= 3.8min\n",
      "[CV] END ....................C=0.01, penalty=l2, solver=saga; total time= 3.9min\n",
      "[CV] END ....................C=0.01, penalty=l2, solver=saga; total time= 4.0min\n",
      "[CV] END ....................C=0.01, penalty=l2, solver=saga; total time= 3.9min\n",
      "[CV] END ......................C=0.1, penalty=l1, solver=sag; total time=   8.0s\n",
      "[CV] END ......................C=0.1, penalty=l1, solver=sag; total time=   1.1s\n",
      "[CV] END ......................C=0.1, penalty=l1, solver=sag; total time=   1.7s\n",
      "[CV] END ......................C=0.1, penalty=l1, solver=sag; total time=   1.5s\n",
      "[CV] END ......................C=0.1, penalty=l1, solver=sag; total time=   1.1s\n",
      "[CV] END .....................C=0.1, penalty=l1, solver=saga; total time= 4.3min\n",
      "[CV] END .....................C=0.1, penalty=l1, solver=saga; total time= 4.2min\n",
      "[CV] END .....................C=0.1, penalty=l1, solver=saga; total time= 4.3min\n",
      "[CV] END .....................C=0.1, penalty=l1, solver=saga; total time= 4.3min\n",
      "[CV] END .....................C=0.1, penalty=l1, solver=saga; total time= 4.3min\n",
      "[CV] END ......................C=0.1, penalty=l2, solver=sag; total time= 3.6min\n",
      "[CV] END ......................C=0.1, penalty=l2, solver=sag; total time= 3.7min\n",
      "[CV] END ......................C=0.1, penalty=l2, solver=sag; total time= 3.8min\n",
      "[CV] END ......................C=0.1, penalty=l2, solver=sag; total time= 4.2min\n",
      "[CV] END ......................C=0.1, penalty=l2, solver=sag; total time= 3.7min\n",
      "[CV] END .....................C=0.1, penalty=l2, solver=saga; total time= 3.8min\n",
      "[CV] END .....................C=0.1, penalty=l2, solver=saga; total time= 5.0min\n",
      "[CV] END .....................C=0.1, penalty=l2, solver=saga; total time= 4.2min\n",
      "[CV] END .....................C=0.1, penalty=l2, solver=saga; total time= 3.9min\n",
      "[CV] END .....................C=0.1, penalty=l2, solver=saga; total time= 3.8min\n",
      "[CV] END ........................C=1, penalty=l1, solver=sag; total time=   8.8s\n",
      "[CV] END ........................C=1, penalty=l1, solver=sag; total time=   1.9s\n",
      "[CV] END ........................C=1, penalty=l1, solver=sag; total time=   1.5s\n",
      "[CV] END ........................C=1, penalty=l1, solver=sag; total time=   1.1s\n",
      "[CV] END ........................C=1, penalty=l1, solver=sag; total time=   1.0s\n",
      "[CV] END .......................C=1, penalty=l1, solver=saga; total time= 4.2min\n",
      "[CV] END .......................C=1, penalty=l1, solver=saga; total time= 4.3min\n",
      "[CV] END .......................C=1, penalty=l1, solver=saga; total time= 4.3min\n",
      "[CV] END .......................C=1, penalty=l1, solver=saga; total time= 4.3min\n",
      "[CV] END .......................C=1, penalty=l1, solver=saga; total time= 4.2min\n",
      "[CV] END ........................C=1, penalty=l2, solver=sag; total time= 3.5min\n",
      "[CV] END ........................C=1, penalty=l2, solver=sag; total time= 3.7min\n",
      "[CV] END ........................C=1, penalty=l2, solver=sag; total time= 3.8min\n",
      "[CV] END ........................C=1, penalty=l2, solver=sag; total time= 3.8min\n",
      "[CV] END ........................C=1, penalty=l2, solver=sag; total time= 3.7min\n",
      "[CV] END .......................C=1, penalty=l2, solver=saga; total time= 3.7min\n",
      "[CV] END .......................C=1, penalty=l2, solver=saga; total time= 4.9min\n",
      "[CV] END .......................C=1, penalty=l2, solver=saga; total time= 3.8min\n",
      "[CV] END .......................C=1, penalty=l2, solver=saga; total time= 3.8min\n",
      "[CV] END .......................C=1, penalty=l2, solver=saga; total time= 3.8min\n",
      "[CV] END .......................C=10, penalty=l1, solver=sag; total time=   8.3s\n",
      "[CV] END .......................C=10, penalty=l1, solver=sag; total time=   1.2s\n",
      "[CV] END .......................C=10, penalty=l1, solver=sag; total time=   1.0s\n",
      "[CV] END .......................C=10, penalty=l1, solver=sag; total time=   1.2s\n",
      "[CV] END .......................C=10, penalty=l1, solver=sag; total time=   0.9s\n",
      "[CV] END ......................C=10, penalty=l1, solver=saga; total time= 4.5min\n",
      "[CV] END ......................C=10, penalty=l1, solver=saga; total time= 4.4min\n",
      "[CV] END ......................C=10, penalty=l1, solver=saga; total time= 4.4min\n",
      "[CV] END ......................C=10, penalty=l1, solver=saga; total time= 4.4min\n",
      "[CV] END ......................C=10, penalty=l1, solver=saga; total time= 4.4min\n",
      "[CV] END .......................C=10, penalty=l2, solver=sag; total time= 3.5min\n",
      "[CV] END .......................C=10, penalty=l2, solver=sag; total time= 3.6min\n",
      "[CV] END .......................C=10, penalty=l2, solver=sag; total time= 3.6min\n",
      "[CV] END .......................C=10, penalty=l2, solver=sag; total time= 3.6min\n",
      "[CV] END .......................C=10, penalty=l2, solver=sag; total time= 3.8min\n",
      "[CV] END ......................C=10, penalty=l2, solver=saga; total time= 4.8min\n",
      "[CV] END ......................C=10, penalty=l2, solver=saga; total time= 3.8min\n",
      "[CV] END ......................C=10, penalty=l2, solver=saga; total time= 3.8min\n",
      "[CV] END ......................C=10, penalty=l2, solver=saga; total time= 3.8min\n",
      "[CV] END ......................C=10, penalty=l2, solver=saga; total time= 3.8min\n",
      "Grid search completed successfully.\n"
     ]
    }
   ],
   "source": [
    "scaler = StandardScaler()\n",
    "X_train_scaled = scaler.fit_transform(X_train)\n",
    "\n",
    "param_grid = {\n",
    "    \"penalty\": ['l1','l2'],\n",
    "    'C': [0.01, 0.1, 1, 10,],\n",
    "    'solver': ['sag', 'saga']\n",
    "}\n",
    "\n",
    "grid_search = GridSearchCV(LogisticRegression(), param_grid, cv=5,verbose=2)\n",
    "\n",
    "try:\n",
    "    grid_search.fit(X_train_scaled, y_train)\n",
    "    best_params = grid_search.best_params_\n",
    "    print(\"Grid search completed successfully.\")\n",
    "except Exception as e:\n",
    "    print(\"Error occurred during grid search:\")\n",
    "    print(e)"
   ]
  },
  {
   "cell_type": "code",
   "execution_count": 40,
   "id": "dcf2503f",
   "metadata": {
    "scrolled": true
   },
   "outputs": [
    {
     "data": {
      "text/html": [
       "<style>#sk-container-id-1 {color: black;}#sk-container-id-1 pre{padding: 0;}#sk-container-id-1 div.sk-toggleable {background-color: white;}#sk-container-id-1 label.sk-toggleable__label {cursor: pointer;display: block;width: 100%;margin-bottom: 0;padding: 0.3em;box-sizing: border-box;text-align: center;}#sk-container-id-1 label.sk-toggleable__label-arrow:before {content: \"▸\";float: left;margin-right: 0.25em;color: #696969;}#sk-container-id-1 label.sk-toggleable__label-arrow:hover:before {color: black;}#sk-container-id-1 div.sk-estimator:hover label.sk-toggleable__label-arrow:before {color: black;}#sk-container-id-1 div.sk-toggleable__content {max-height: 0;max-width: 0;overflow: hidden;text-align: left;background-color: #f0f8ff;}#sk-container-id-1 div.sk-toggleable__content pre {margin: 0.2em;color: black;border-radius: 0.25em;background-color: #f0f8ff;}#sk-container-id-1 input.sk-toggleable__control:checked~div.sk-toggleable__content {max-height: 200px;max-width: 100%;overflow: auto;}#sk-container-id-1 input.sk-toggleable__control:checked~label.sk-toggleable__label-arrow:before {content: \"▾\";}#sk-container-id-1 div.sk-estimator input.sk-toggleable__control:checked~label.sk-toggleable__label {background-color: #d4ebff;}#sk-container-id-1 div.sk-label input.sk-toggleable__control:checked~label.sk-toggleable__label {background-color: #d4ebff;}#sk-container-id-1 input.sk-hidden--visually {border: 0;clip: rect(1px 1px 1px 1px);clip: rect(1px, 1px, 1px, 1px);height: 1px;margin: -1px;overflow: hidden;padding: 0;position: absolute;width: 1px;}#sk-container-id-1 div.sk-estimator {font-family: monospace;background-color: #f0f8ff;border: 1px dotted black;border-radius: 0.25em;box-sizing: border-box;margin-bottom: 0.5em;}#sk-container-id-1 div.sk-estimator:hover {background-color: #d4ebff;}#sk-container-id-1 div.sk-parallel-item::after {content: \"\";width: 100%;border-bottom: 1px solid gray;flex-grow: 1;}#sk-container-id-1 div.sk-label:hover label.sk-toggleable__label {background-color: #d4ebff;}#sk-container-id-1 div.sk-serial::before {content: \"\";position: absolute;border-left: 1px solid gray;box-sizing: border-box;top: 0;bottom: 0;left: 50%;z-index: 0;}#sk-container-id-1 div.sk-serial {display: flex;flex-direction: column;align-items: center;background-color: white;padding-right: 0.2em;padding-left: 0.2em;position: relative;}#sk-container-id-1 div.sk-item {position: relative;z-index: 1;}#sk-container-id-1 div.sk-parallel {display: flex;align-items: stretch;justify-content: center;background-color: white;position: relative;}#sk-container-id-1 div.sk-item::before, #sk-container-id-1 div.sk-parallel-item::before {content: \"\";position: absolute;border-left: 1px solid gray;box-sizing: border-box;top: 0;bottom: 0;left: 50%;z-index: -1;}#sk-container-id-1 div.sk-parallel-item {display: flex;flex-direction: column;z-index: 1;position: relative;background-color: white;}#sk-container-id-1 div.sk-parallel-item:first-child::after {align-self: flex-end;width: 50%;}#sk-container-id-1 div.sk-parallel-item:last-child::after {align-self: flex-start;width: 50%;}#sk-container-id-1 div.sk-parallel-item:only-child::after {width: 0;}#sk-container-id-1 div.sk-dashed-wrapped {border: 1px dashed gray;margin: 0 0.4em 0.5em 0.4em;box-sizing: border-box;padding-bottom: 0.4em;background-color: white;}#sk-container-id-1 div.sk-label label {font-family: monospace;font-weight: bold;display: inline-block;line-height: 1.2em;}#sk-container-id-1 div.sk-label-container {text-align: center;}#sk-container-id-1 div.sk-container {/* jupyter's `normalize.less` sets `[hidden] { display: none; }` but bootstrap.min.css set `[hidden] { display: none !important; }` so we also need the `!important` here to be able to override the default hidden behavior on the sphinx rendered scikit-learn.org. See: https://github.com/scikit-learn/scikit-learn/issues/21755 */display: inline-block !important;position: relative;}#sk-container-id-1 div.sk-text-repr-fallback {display: none;}</style><div id=\"sk-container-id-1\" class=\"sk-top-container\"><div class=\"sk-text-repr-fallback\"><pre>LogisticRegression(C=0.01, solver=&#x27;saga&#x27;)</pre><b>In a Jupyter environment, please rerun this cell to show the HTML representation or trust the notebook. <br />On GitHub, the HTML representation is unable to render, please try loading this page with nbviewer.org.</b></div><div class=\"sk-container\" hidden><div class=\"sk-item\"><div class=\"sk-estimator sk-toggleable\"><input class=\"sk-toggleable__control sk-hidden--visually\" id=\"sk-estimator-id-1\" type=\"checkbox\" checked><label for=\"sk-estimator-id-1\" class=\"sk-toggleable__label sk-toggleable__label-arrow\">LogisticRegression</label><div class=\"sk-toggleable__content\"><pre>LogisticRegression(C=0.01, solver=&#x27;saga&#x27;)</pre></div></div></div></div></div>"
      ],
      "text/plain": [
       "LogisticRegression(C=0.01, solver='saga')"
      ]
     },
     "execution_count": 40,
     "metadata": {},
     "output_type": "execute_result"
    }
   ],
   "source": [
    "# Train the model\n",
    "model = LogisticRegression(C=best_params['C'], solver=best_params['solver'])\n",
    "model.fit(X_train, y_train)"
   ]
  },
  {
   "cell_type": "markdown",
   "id": "18063ac8",
   "metadata": {},
   "source": [
    "## Model Evaluation \n",
    "- Precision: number of True Positives / (number of True Positives + number of False Positives)\n",
    "- Recall: number of True Positives / (number of True Positives + number of False Negatives)\n",
    "- F1 score: A weighted average of precision and recall, F1 = 2*((precision*recall)/(precision+recall))"
   ]
  },
  {
   "cell_type": "code",
   "execution_count": 41,
   "id": "127f1639",
   "metadata": {
    "scrolled": true
   },
   "outputs": [
    {
     "name": "stdout",
     "output_type": "stream",
     "text": [
      "Accuracy: 0.9780900007206419\n",
      "Confusion Matrix:\n",
      "[[393585   5967]\n",
      " [  2850     17]]\n",
      "\n",
      "Classification Report:\n",
      "              precision    recall  f1-score   support\n",
      "\n",
      "         0.0       0.99      0.99      0.99    399552\n",
      "         1.0       0.00      0.01      0.00      2867\n",
      "\n",
      "    accuracy                           0.98    402419\n",
      "   macro avg       0.50      0.50      0.50    402419\n",
      "weighted avg       0.99      0.98      0.98    402419\n",
      "\n"
     ]
    }
   ],
   "source": [
    "# Evaluate the model\n",
    "y_pred = model.predict(X_test)\n",
    "\n",
    "accuracy = accuracy_score(y_test, y_pred)\n",
    "print(f\"Accuracy: {accuracy}\")\n",
    "print(\"Confusion Matrix:\")\n",
    "print(confusion_matrix(y_test, y_pred))\n",
    "print(\"\\nClassification Report:\")\n",
    "print(classification_report(y_test, y_pred))"
   ]
  },
  {
   "cell_type": "markdown",
   "id": "f31108a2",
   "metadata": {},
   "source": [
    "Problem: low recall and f1 score for crash label 1"
   ]
  },
  {
   "cell_type": "markdown",
   "id": "d19aadfc",
   "metadata": {},
   "source": [
    "## Feature Importance"
   ]
  },
  {
   "cell_type": "code",
   "execution_count": 42,
   "id": "abb33faf",
   "metadata": {},
   "outputs": [
    {
     "name": "stdout",
     "output_type": "stream",
     "text": [
      "Feature: price_change, Importance: -3.446109484767526e-08\n",
      "Feature: volume_change, Importance: -1.9238665412798914e-06\n",
      "Feature: volatility, Importance: -0.007585365393975439\n",
      "Feature: 1m_crash_label, Importance: 2.013018120235028e-06\n",
      "Feature: Total_Equity_Risk_Premium_US, Importance: -1.1541878438342965e-06\n",
      "Feature: Population_US, Importance: -1.9035436298513173e-06\n",
      "Feature: Unemployment_US, Importance: 2.6497267232129927e-06\n",
      "Feature: Inflation_Rate_US, Importance: -0.0007084146589793809\n",
      "Feature: housing_US, Importance: 0.0\n",
      "Feature: Long-Term_Government_Bond Yields_US, Importance: -4.685478773409249e-05\n",
      "Feature: turnover_US, Importance: 0.0\n",
      "Feature: Recession_Indicators_US, Importance: 0.0\n",
      "Feature: GDP_US, Importance: -1.299158584901345e-05\n",
      "Feature: Recession_Indicators_UK, Importance: 0.0\n",
      "Feature: FX_Rate_UK, Importance: -5.55140390718398e-07\n",
      "Feature: GDP_UK, Importance: -5.442889133762424e-06\n",
      "Feature: housing_UK, Importance: 0.0\n",
      "Feature: Long-Term_Government_Bond Yields_UK, Importance: -7.486963537320201e-05\n",
      "Feature: turnover_UK, Importance: 0.0\n",
      "Feature: Inflation_Rate_UK, Importance: -0.00020380912699832215\n",
      "Feature: Unemployment_UK, Importance: 2.1211902521139813e-06\n",
      "Feature: Total_Equity_Risk_Premium_UK, Importance: -1.2475198977668843e-06\n",
      "Feature: Population_UK, Importance: -3.872478379870032e-07\n",
      "Feature: Unemployment_HK, Importance: -2.118047291469233e-07\n",
      "Feature: Total_Equity_Risk_Premium_HK, Importance: 3.945358040781621e-08\n",
      "Feature: Population_HK, Importance: -1.340952927045441e-07\n",
      "Feature: Recession_Indicators_HK, Importance: 0.0\n",
      "Feature: FX_Rate_HK, Importance: 1.1738866666853906e-07\n",
      "Feature: GDP_HK, Importance: -2.165890061413649e-06\n",
      "Feature: housing_HK, Importance: 0.0\n",
      "Feature: Long-Term_Government_Bond Yields_HK, Importance: -3.878247115803461e-06\n",
      "Feature: turnover_HK, Importance: 0.0\n",
      "Feature: Inflation_Rate_HK, Importance: -4.155988480010509e-05\n",
      "Feature: FX_Rate_Japan, Importance: 6.22193166704523e-06\n",
      "Feature: Inflation_Rate_Japan, Importance: -2.475020793320397e-05\n",
      "Feature: Recession_Indicators_Japan, Importance: 0.0\n",
      "Feature: Unemployment_Japan, Importance: -6.237860912794979e-09\n",
      "Feature: Total_Equity_Risk_Premium_Japan, Importance: -3.014600173088483e-08\n",
      "Feature: turnover_Japan, Importance: 0.0\n",
      "Feature: GDP_Japan, Importance: -5.924182271219017e-06\n",
      "Feature: housing_Japan, Importance: 0.0\n",
      "Feature: Population_Japan, Importance: -3.826274257795956e-07\n",
      "Feature: Long-Term_Government_Bond Yields_Japan, Importance: -6.872338591517404e-06\n",
      "Feature: Long-Term_Government_Bond Yields_China, Importance: -1.1433584423205782e-05\n",
      "Feature: Population_China, Importance: -2.2257456007548761e-07\n",
      "Feature: housing_China, Importance: 0.0\n",
      "Feature: GDP_China, Importance: -4.560056399776911e-06\n",
      "Feature: turnover_China, Importance: 0.0\n",
      "Feature: Total_Equity_Risk_Premium_China, Importance: 1.6060755250337661e-07\n",
      "Feature: Unemployment_China, Importance: -7.277273927920213e-07\n",
      "Feature: Recession_Indicators_China, Importance: 0.0\n",
      "Feature: Inflation_Rate_China, Importance: -0.0002880686562678795\n",
      "Feature: FX_Rate_China, Importance: 2.881217147699094e-07\n",
      "Feature: Population_Switzerland, Importance: -3.287862172794452e-07\n",
      "Feature: housing_Switzerland, Importance: 0.0\n",
      "Feature: Total_Equity_Risk_Premium_Switzerland, Importance: -4.1106656125453934e-07\n",
      "Feature: Recession_Indicators_Switzerland, Importance: 0.0\n",
      "Feature: Long-Term_Government_Bond Yields_Switzerland, Importance: 0.00016352234794795876\n",
      "Feature: turnover_Switzerland, Importance: 0.0\n",
      "Feature: Unemployment_Switzerland, Importance: -2.225645842833209e-06\n",
      "Feature: GDP_Switzerland, Importance: -1.1294465080913278e-06\n",
      "Feature: FX_Rate_Switzerland, Importance: 3.1802145815272593e-06\n",
      "Feature: Inflation_Rate_Switzerland, Importance: -5.632123989845471e-05\n",
      "Feature: Recession_Indicators_India, Importance: 0.0\n",
      "Feature: FX_Rate_India, Importance: -5.034581384512754e-06\n",
      "Feature: Inflation_Rate_India, Importance: -1.4767280309289395e-05\n",
      "Feature: Total_Equity_Risk_Premium_India, Importance: -5.575833710220556e-07\n",
      "Feature: Unemployment_India, Importance: -1.7131973585348744e-08\n",
      "Feature: turnover_India, Importance: 0.0\n",
      "Feature: Long-Term_Government_Bond Yields_India, Importance: -1.2890252366852387e-07\n",
      "Feature: GDP_India, Importance: -7.530227186009352e-07\n",
      "Feature: Population_India, Importance: -1.625140295377151e-07\n",
      "Feature: housing_India, Importance: 0.0\n",
      "Feature: Inflation_Rate_Germany, Importance: -0.0002923952671759517\n",
      "Feature: turnover_Germany, Importance: 0.0\n",
      "Feature: GDP_Germany, Importance: -1.9739755234314573e-06\n",
      "Feature: Recession_Indicators_Germany, Importance: 0.0\n",
      "Feature: Total_Equity_Risk_Premium_Germany, Importance: -5.370101447549619e-07\n",
      "Feature: FX_Rate_Germany, Importance: 4.2924266770765467e-07\n",
      "Feature: Population_Germany, Importance: -1.3329874711023233e-07\n",
      "Feature: Long-Term_Government_Bond Yields_Germany, Importance: -1.981335024329466e-05\n",
      "Feature: Unemployment_Germany, Importance: -2.894527400272214e-07\n",
      "Feature: housing_Germany, Importance: 0.0\n",
      "Feature: Population_France, Importance: -2.4879222598554165e-07\n",
      "Feature: housing_France, Importance: 0.0\n",
      "Feature: Long-Term_Government_Bond Yields_France, Importance: -0.00020038908501718815\n",
      "Feature: turnover_France, Importance: 0.0\n",
      "Feature: Unemployment_France, Importance: -1.9164765766231723e-08\n",
      "Feature: Total_Equity_Risk_Premium_France, Importance: -7.374852466521953e-07\n",
      "Feature: Recession_Indicators_France, Importance: 0.0\n",
      "Feature: FX_Rate_France, Importance: -1.126736532812995e-07\n",
      "Feature: Inflation_Rate_France, Importance: -0.00032323356356629164\n",
      "Feature: GDP_France, Importance: -1.4542219405153303e-06\n",
      "Feature: GDP_Brazil, Importance: 5.539823711510565e-07\n",
      "Feature: Inflation_Rate_Brazil, Importance: -5.083929435070535e-05\n",
      "Feature: Recession_Indicators_Brazil, Importance: 0.0\n",
      "Feature: FX_Rate_Brazil, Importance: 4.115718116589962e-07\n",
      "Feature: Unemployment_Brazil, Importance: -1.735766184019454e-07\n",
      "Feature: Total_Equity_Risk_Premium_Brazil, Importance: -3.0524705359417876e-08\n",
      "Feature: turnover_Brazil, Importance: 0.0\n",
      "Feature: Population_Brazil, Importance: -9.98004629376213e-09\n",
      "Feature: housing_Brazil, Importance: 0.0\n",
      "Feature: Crude_Oil_Index_Excess_Return_All, Importance: 0.0\n",
      "Feature: TEDRATE_All, Importance: 0.0\n",
      "Feature: Goldprice_Monthly, Importance: 0.0\n",
      "Feature: 10-Year_Treasury_Constant_Maturity_Rate_All, Importance: -0.00017133190245827577\n",
      "Feature: Federal_Funds_Effective_Rate_All_x, Importance: 0.0\n",
      "Feature: Federal_Funds_Effective_Rate_All_y, Importance: 0.0\n"
     ]
    },
    {
     "data": {
      "image/png": "[encoded data removed]",
      "text/plain": [
       "<Figure size 800x600 with 1 Axes>"
      ]
     },
     "metadata": {},
     "output_type": "display_data"
    }
   ],
   "source": [
    "feature_importance = model.coef_[0]\n",
    "for name, importance in zip(feature_names, feature_importance):\n",
    "    print(f\"Feature: {name}, Importance: {importance}\")\n",
    "\n",
    "plt.figure(figsize=(8, 6))\n",
    "plt.bar(feature_names, feature_importance)\n",
    "plt.title('Feature Importances in Logistic Regression Model')\n",
    "plt.xlabel('Features')\n",
    "plt.ylabel('Importance')\n",
    "plt.show()"
   ]
  },
  {
   "cell_type": "markdown",
   "id": "b0aaf12e",
   "metadata": {},
   "source": [
    "## K-fold Validation"
   ]
  },
  {
   "cell_type": "code",
   "execution_count": 43,
   "id": "c5da1a64",
   "metadata": {},
   "outputs": [
    {
     "name": "stdout",
     "output_type": "stream",
     "text": [
      "Cross-validation scores: [0.94117589 0.97157199 0.98994086 0.96679588 0.97079653 0.96486738\n",
      " 0.98683458 0.97381827 0.99279356 0.97122395]\n",
      "Average cross-validation score: 0.97\n"
     ]
    }
   ],
   "source": [
    "# Perform 10-fold cross-validation\n",
    "scores = cross_val_score(model, X, y, cv=10)\n",
    "\n",
    "# Print the cross-validation scores\n",
    "print(\"Cross-validation scores: {}\".format(scores))\n",
    "print(\"Average cross-validation score: {:.2f}\".format(scores.mean()))"
   ]
  },
  {
   "cell_type": "markdown",
   "id": "60595505",
   "metadata": {},
   "source": [
    "## Prediction Result"
   ]
  },
  {
   "cell_type": "code",
   "execution_count": 44,
   "id": "3a2eea70",
   "metadata": {},
   "outputs": [
    {
     "name": "stdout",
     "output_type": "stream",
     "text": [
      "Crash Probability: 0.15794714959576628\n"
     ]
    }
   ],
   "source": [
    "y_prob = model.predict_proba(X_test)\n",
    "crash_prob = y_prob[:, 1]\n",
    "print(f\"Crash Probability: {crash_prob.mean()}\")"
   ]
  },
  {
   "cell_type": "markdown",
   "id": "122734b4",
   "metadata": {},
   "source": [
    "## AUC-ROC"
   ]
  },
  {
   "cell_type": "code",
   "execution_count": 45,
   "id": "402603a7",
   "metadata": {},
   "outputs": [
    {
     "name": "stdout",
     "output_type": "stream",
     "text": [
      "AUC-ROC Score: 0.4157478646750562\n"
     ]
    },
    {
     "data": {
      "image/png": "[encoded data removed]",
      "text/plain": [
       "<Figure size 640x480 with 1 Axes>"
      ]
     },
     "metadata": {},
     "output_type": "display_data"
    }
   ],
   "source": [
    "auc_roc = roc_auc_score(y_test, y_prob[:, 1])\n",
    "\n",
    "print(\"AUC-ROC Score:\", auc_roc)\n",
    "\n",
    "fpr, tpr, thresholds = roc_curve(y_test, y_prob[:, -1])\n",
    "plt.plot(fpr, tpr, label='ROC curve (area = %0.2f)' % auc_roc)\n",
    "plt.plot([0, 1], [0, 1], 'k--')  # Diagonal line\n",
    "plt.xlabel('False Positive Rate')\n",
    "plt.ylabel('True Positive Rate')\n",
    "plt.title('Receiver Operating Characteristic (ROC) Curve')\n",
    "plt.legend(loc=\"lower right\")\n",
    "plt.show()"
   ]
  },
  {
   "cell_type": "code",
   "execution_count": null,
   "id": "75f20196",
   "metadata": {},
   "outputs": [],
   "source": []
  }
 ],
 "metadata": {
  "kernelspec": {
   "display_name": "Python 3 (ipykernel)",
   "language": "python",
   "name": "python3"
  },
  "language_info": {
   "codemirror_mode": {
    "name": "ipython",
    "version": 3
   },
   "file_extension": ".py",
   "mimetype": "text/x-python",
   "name": "python",
   "nbconvert_exporter": "python",
   "pygments_lexer": "ipython3",
   "version": "3.11.4"
  }
 },
 "nbformat": 4,
 "nbformat_minor": 5
}
